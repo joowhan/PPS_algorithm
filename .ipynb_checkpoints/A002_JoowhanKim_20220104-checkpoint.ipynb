{
 "cells": [
  {
   "cell_type": "code",
   "execution_count": 11,
   "id": "c520f743",
   "metadata": {},
   "outputs": [],
   "source": [
    "class Solution(object):\n",
    "    def generate(self, numRows):\n",
    "        res = [[1] * i for i in range(1, numRows + 1)]\n",
    "\n",
    "        for r in range(2, len(res)):\n",
    "            for c in range(1, len(res[r]) - 1):\n",
    "                res[r][c] = res[r - 1][c - 1] + res[r - 1][c]\n",
    "                \n",
    "        return res"
   ]
  },
  {
   "cell_type": "code",
   "execution_count": 12,
   "id": "680b826c",
   "metadata": {},
   "outputs": [
    {
     "data": {
      "text/plain": [
       "[[1], [1, 1], [1, 2, 1], [1, 3, 3, 1], [1, 4, 6, 4, 1]]"
      ]
     },
     "execution_count": 12,
     "metadata": {},
     "output_type": "execute_result"
    }
   ],
   "source": [
    "a = Solution()\n",
    "a.generate(5)"
   ]
  }
 ],
 "metadata": {
  "kernelspec": {
   "display_name": "Python 3",
   "language": "python",
   "name": "python3"
  },
  "language_info": {
   "codemirror_mode": {
    "name": "ipython",
    "version": 3
   },
   "file_extension": ".py",
   "mimetype": "text/x-python",
   "name": "python",
   "nbconvert_exporter": "python",
   "pygments_lexer": "ipython3",
   "version": "3.9.2"
  }
 },
 "nbformat": 4,
 "nbformat_minor": 5
}
