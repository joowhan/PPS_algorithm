{
 "cells": [
  {
   "cell_type": "code",
   "execution_count": 12,
   "id": "9deb5910",
   "metadata": {},
   "outputs": [
    {
     "name": "stdout",
     "output_type": "stream",
     "text": [
      "3 2 1\n"
     ]
    }
   ],
   "source": [
    "a = list(map(int, input().split()))\n",
    "#a = (map(int, input().split()))\n"
   ]
  },
  {
   "cell_type": "code",
   "execution_count": 13,
   "id": "d96916d0",
   "metadata": {},
   "outputs": [],
   "source": [
    "is_sorted = sorted(a) == a"
   ]
  },
  {
   "cell_type": "code",
   "execution_count": 14,
   "id": "48acc690",
   "metadata": {},
   "outputs": [],
   "source": [
    "is_sorted_re = sorted(a, reverse =True) == a"
   ]
  },
  {
   "cell_type": "code",
   "execution_count": 15,
   "id": "57d340d4",
   "metadata": {},
   "outputs": [
    {
     "name": "stdout",
     "output_type": "stream",
     "text": [
      "decending\n"
     ]
    }
   ],
   "source": [
    "if is_sorted:\n",
    "    print(\"ascending\")\n",
    "elif is_sorted_re:\n",
    "    print(\"descending\")\n",
    "else:\n",
    "    print(\"mixed\")"
   ]
  },
  {
   "cell_type": "code",
   "execution_count": 7,
   "id": "3a80c1b2",
   "metadata": {},
   "outputs": [
    {
     "name": "stdout",
     "output_type": "stream",
     "text": [
      "hello\n"
     ]
    }
   ],
   "source": [
    "print(\"hello\")"
   ]
  },
  {
   "cell_type": "code",
   "execution_count": null,
   "id": "3e3c0c36",
   "metadata": {},
   "outputs": [],
   "source": []
  }
 ],
 "metadata": {
  "kernelspec": {
   "display_name": "Python 3",
   "language": "python",
   "name": "python3"
  },
  "language_info": {
   "codemirror_mode": {
    "name": "ipython",
    "version": 3
   },
   "file_extension": ".py",
   "mimetype": "text/x-python",
   "name": "python",
   "nbconvert_exporter": "python",
   "pygments_lexer": "ipython3",
   "version": "3.9.2"
  }
 },
 "nbformat": 4,
 "nbformat_minor": 5
}
