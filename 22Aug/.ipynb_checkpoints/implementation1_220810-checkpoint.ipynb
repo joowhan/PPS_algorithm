{
 "cells": [
  {
   "cell_type": "code",
   "execution_count": 22,
   "id": "9210af59-4e82-4716-bf10-967400c5f437",
   "metadata": {},
   "outputs": [
    {
     "name": "stdin",
     "output_type": "stream",
     "text": [
      " e5\n"
     ]
    }
   ],
   "source": [
    "location = list(input())\n",
    "location[0] = ord(location[0])-96\n",
    "location[1] = int(location[1])"
   ]
  },
  {
   "cell_type": "code",
   "execution_count": 23,
   "id": "560d45b7-c57b-4154-8781-e62d764417ed",
   "metadata": {},
   "outputs": [],
   "source": [
    "move = [(-2,-1),(-2,1),(2,-1),(2,1),(-1,-2),(1,-2),(-1,2),(1,2)]"
   ]
  },
  {
   "cell_type": "code",
   "execution_count": 24,
   "id": "c581597d-dfbd-425a-b12e-80cb53a191eb",
   "metadata": {},
   "outputs": [],
   "source": [
    "count =0\n",
    "for xy in move:\n",
    "    x = xy[0]+location[0]\n",
    "    y = xy[1]+location[1]\n",
    "    if 0<x<9 and 0<y<9:\n",
    "        count +=1"
   ]
  },
  {
   "cell_type": "code",
   "execution_count": 25,
   "id": "c3902670-733e-4985-bd8e-7444230b0382",
   "metadata": {},
   "outputs": [
    {
     "data": {
      "text/plain": [
       "8"
      ]
     },
     "execution_count": 25,
     "metadata": {},
     "output_type": "execute_result"
    }
   ],
   "source": [
    "count"
   ]
  }
 ],
 "metadata": {
  "kernelspec": {
   "display_name": "Python 3",
   "language": "python",
   "name": "python3"
  },
  "language_info": {
   "codemirror_mode": {
    "name": "ipython",
    "version": 3
   },
   "file_extension": ".py",
   "mimetype": "text/x-python",
   "name": "python",
   "nbconvert_exporter": "python",
   "pygments_lexer": "ipython3",
   "version": "3.9.2"
  }
 },
 "nbformat": 4,
 "nbformat_minor": 5
}
