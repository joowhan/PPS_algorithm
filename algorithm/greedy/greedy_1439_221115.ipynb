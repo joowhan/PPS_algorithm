{
 "cells": [
  {
   "cell_type": "markdown",
   "id": "e5e35790-695a-4775-a253-38614bcd12b9",
   "metadata": {},
   "source": [
    "https://www.acmicpc.net/problem/1439"
   ]
  },
  {
   "cell_type": "markdown",
   "id": "222cbc5b-a318-4114-8b15-1518bdd0dcee",
   "metadata": {},
   "source": [
    "다솜이는 0과 1로만 이루어진 문자열 S를 가지고 있다. 다솜이는 이 문자열 S에 있는 모든 숫자를 전부 같게 만들려고 한다. 다솜이가 할 수 있는 행동은 S에서 연속된 하나 이상의 숫자를 잡고 모두 뒤집는 것이다. <br>\n",
    "뒤집는 것은 1을 0으로, 0을 1로 바꾸는 것을 의미한다.\n",
    "\n",
    "예를 들어 S=0001100 일 때,\n",
    "\n",
    "전체를 뒤집으면 1110011이 된다.<br>\n",
    "4번째 문자부터 5번째 문자까지 뒤집으면 1111111이 되어서 2번 만에 모두 같은 숫자로 만들 수 있다.<br>\n",
    "하지만, 처음부터 4번째 문자부터 5번째 문자까지 문자를 뒤집으면 한 번에 0000000이 되어서 1번 만에 모두 같은 숫자로 만들 수 있다.<br>\n",
    "\n",
    "문자열 S가 주어졌을 때, 다솜이가 해야하는 행동의 최소 횟수를 출력하시오."
   ]
  },
  {
   "cell_type": "code",
   "execution_count": 28,
   "id": "52426b60-2882-4219-a24f-a790c57cd26c",
   "metadata": {},
   "outputs": [
    {
     "name": "stdin",
     "output_type": "stream",
     "text": [
      " 11001100110011000001\n"
     ]
    }
   ],
   "source": [
    "s = list(map(int, input()))"
   ]
  },
  {
   "cell_type": "code",
   "execution_count": 44,
   "id": "359918b7-64c8-4f06-92ce-a51f97c0bd64",
   "metadata": {},
   "outputs": [
    {
     "name": "stdout",
     "output_type": "stream",
     "text": [
      "4\n"
     ]
    }
   ],
   "source": [
    "zero = 0\n",
    "one = 0\n",
    "flag = 0\n",
    "count = 0\n",
    "for i in range(1,len(s)):\n",
    "    if s[i] == 0:\n",
    "        if s[i-1] !=0:\n",
    "            one +=1\n",
    "    if s[i] == 1:\n",
    "        if s[i-1] != 1:\n",
    "            zero +=1\n",
    "print(min(zero, one))"
   ]
  },
  {
   "cell_type": "code",
   "execution_count": 45,
   "id": "68af55a6-27c2-44a7-810e-eac8349d8680",
   "metadata": {},
   "outputs": [
    {
     "data": {
      "text/plain": [
       "4"
      ]
     },
     "execution_count": 45,
     "metadata": {},
     "output_type": "execute_result"
    }
   ],
   "source": [
    "one"
   ]
  },
  {
   "cell_type": "code",
   "execution_count": null,
   "id": "68a0ec14-d8ae-46ab-8929-2111e3ca8f20",
   "metadata": {},
   "outputs": [
    {
     "name": "stdin",
     "output_type": "stream",
     "text": [
      " 11001100110011000001\n"
     ]
    },
    {
     "name": "stdout",
     "output_type": "stream",
     "text": [
      "4\n"
     ]
    }
   ],
   "source": [
    "s = list(map(int, input()))\n",
    "zero = 0\n",
    "one = 0\n",
    "if s[0] == 1:\n",
    "    zero = 1\n",
    "else:\n",
    "    one = 1\n",
    "for i in range(len(s)-1):\n",
    "    if s[i] !=s[i+1]:\n",
    "        if s[i+1] == 0:\n",
    "            one +=1\n",
    "        if s[i+1] == 1:\n",
    "            zero +=1\n",
    "print(min(zero, one))"
   ]
  },
  {
   "cell_type": "code",
   "execution_count": null,
   "id": "16fd8331-5e21-4da2-8f9b-b58ae01c6ff4",
   "metadata": {},
   "outputs": [],
   "source": []
  }
 ],
 "metadata": {
  "kernelspec": {
   "display_name": "Python 3",
   "language": "python",
   "name": "python3"
  },
  "language_info": {
   "codemirror_mode": {
    "name": "ipython",
    "version": 3
   },
   "file_extension": ".py",
   "mimetype": "text/x-python",
   "name": "python",
   "nbconvert_exporter": "python",
   "pygments_lexer": "ipython3",
   "version": "3.9.2"
  }
 },
 "nbformat": 4,
 "nbformat_minor": 5
}
