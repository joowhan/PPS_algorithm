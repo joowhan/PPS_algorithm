{
 "cells": [
  {
   "cell_type": "code",
   "execution_count": 2,
   "id": "fab40391-5d81-43f4-b075-1294a438f687",
   "metadata": {},
   "outputs": [
    {
     "name": "stdin",
     "output_type": "stream",
     "text": [
      " 4 2\n",
      " 1924\n"
     ]
    }
   ],
   "source": [
    "n,k = map(int, input().split())\n",
    "num = list(map(int, input()))"
   ]
  },
  {
   "cell_type": "code",
   "execution_count": null,
   "id": "d6a5f06b-665b-45f7-88c2-f9f5e7daa5c4",
   "metadata": {},
   "outputs": [],
   "source": [
    "# k는 자리수를 의미한다. 최선의 선택을 해야 한다. _ _ _ _\n",
    "# 숫자 하나씩 보면서 최대 숫자를 찾는다. 남은 자리 숫자를 전부 채울 수 있으면 대체, 그렇지 않다면 다음 자리 수에 집어넣는다. -> 뒤에 자리수가 충분히 남았다면 소용없다."
   ]
  },
  {
   "cell_type": "code",
   "execution_count": 4,
   "id": "0bad1059-865e-45ac-855e-74554b3d3058",
   "metadata": {},
   "outputs": [],
   "source": [
    "# result = []\n",
    "# result.append(num[0])\n",
    "# for i in range(1,n):\n",
    "#     j=0\n",
    "#     while True:\n",
    "#         if num[i] > result[j] and len(num[i+1:]):\n",
    "#             result[j] = num[i]\n",
    "#             break\n",
    "#         else:\n",
    "#             j++"
   ]
  },
  {
   "cell_type": "code",
   "execution_count": 7,
   "id": "0a1bf89a-9403-4b2b-924e-f31991c61081",
   "metadata": {},
   "outputs": [],
   "source": [
    "res = [0]*(k)"
   ]
  },
  {
   "cell_type": "code",
   "execution_count": 10,
   "id": "06f18417-4e87-47ae-bfc7-10ea91d4323a",
   "metadata": {},
   "outputs": [],
   "source": [
    "for i in range(n):\n",
    "    for j in range(k):\n",
    "        if num[i]>res[j] and len(num[i:]) >=j:\n",
    "            res[j] = num[i]\n",
    "            break"
   ]
  },
  {
   "cell_type": "code",
   "execution_count": 11,
   "id": "47a0afe0-5272-45ba-8579-e33014ded997",
   "metadata": {},
   "outputs": [
    {
     "data": {
      "text/plain": [
       "[9, 2]"
      ]
     },
     "execution_count": 11,
     "metadata": {},
     "output_type": "execute_result"
    }
   ],
   "source": [
    "res"
   ]
  },
  {
   "cell_type": "code",
   "execution_count": null,
   "id": "881a5cd4-d801-4a33-ad67-bd18bacbe184",
   "metadata": {},
   "outputs": [],
   "source": []
  }
 ],
 "metadata": {
  "kernelspec": {
   "display_name": "Python 3",
   "language": "python",
   "name": "python3"
  },
  "language_info": {
   "codemirror_mode": {
    "name": "ipython",
    "version": 3
   },
   "file_extension": ".py",
   "mimetype": "text/x-python",
   "name": "python",
   "nbconvert_exporter": "python",
   "pygments_lexer": "ipython3",
   "version": "3.9.2"
  }
 },
 "nbformat": 4,
 "nbformat_minor": 5
}
