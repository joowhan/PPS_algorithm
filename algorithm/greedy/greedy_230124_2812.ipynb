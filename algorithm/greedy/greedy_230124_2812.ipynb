{
 "cells": [
  {
   "cell_type": "code",
   "execution_count": null,
   "id": "d6a5f06b-665b-45f7-88c2-f9f5e7daa5c4",
   "metadata": {},
   "outputs": [],
   "source": [
    "# k는 자리수를 의미한다. 최선의 선택을 해야 한다. _ _ _ _\n",
    "# 숫자 하나씩 보면서 최대 숫자를 찾는다. 남은 자리 숫자를 전부 채울 수 있으면 대체, 그렇지 않다면 다음 자리 수에 집어넣는다. -> 뒤에 자리수가 충분히 남았다면 소용없다."
   ]
  },
  {
   "cell_type": "code",
   "execution_count": 40,
   "id": "fab40391-5d81-43f4-b075-1294a438f687",
   "metadata": {},
   "outputs": [
    {
     "name": "stdin",
     "output_type": "stream",
     "text": [
      " 7 3\n",
      " 1231234\n"
     ]
    }
   ],
   "source": [
    "n,k = map(int, input().split())\n",
    "num = list(map(int, input()))"
   ]
  },
  {
   "cell_type": "code",
   "execution_count": 45,
   "id": "06f18417-4e87-47ae-bfc7-10ea91d4323a",
   "metadata": {},
   "outputs": [
    {
     "name": "stdout",
     "output_type": "stream",
     "text": [
      "3234\n"
     ]
    }
   ],
   "source": [
    "res = [0]*(n-k)\n",
    "for i in range(n):\n",
    "    for j in range(n-k):\n",
    "        if num[i]>res[j] and len(num[i:]) > (len(res)-1-j):\n",
    "            res[j] = num[i]\n",
    "            break\n",
    "print(int(''.join(str(n) for n in res)))"
   ]
  },
  {
   "cell_type": "code",
   "execution_count": 42,
   "id": "47a0afe0-5272-45ba-8579-e33014ded997",
   "metadata": {},
   "outputs": [
    {
     "data": {
      "text/plain": [
       "[3, 2, 3, 4]"
      ]
     },
     "execution_count": 42,
     "metadata": {},
     "output_type": "execute_result"
    }
   ],
   "source": [
    "res"
   ]
  },
  {
   "cell_type": "code",
   "execution_count": null,
   "id": "881a5cd4-d801-4a33-ad67-bd18bacbe184",
   "metadata": {},
   "outputs": [],
   "source": []
  }
 ],
 "metadata": {
  "kernelspec": {
   "display_name": "Python 3",
   "language": "python",
   "name": "python3"
  },
  "language_info": {
   "codemirror_mode": {
    "name": "ipython",
    "version": 3
   },
   "file_extension": ".py",
   "mimetype": "text/x-python",
   "name": "python",
   "nbconvert_exporter": "python",
   "pygments_lexer": "ipython3",
   "version": "3.9.2"
  }
 },
 "nbformat": 4,
 "nbformat_minor": 5
}
