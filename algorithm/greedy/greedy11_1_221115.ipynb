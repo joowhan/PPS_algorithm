{
 "cells": [
  {
   "cell_type": "code",
   "execution_count": 32,
   "id": "74b5682c-a786-4555-9aae-5afe48cdac96",
   "metadata": {},
   "outputs": [
    {
     "name": "stdin",
     "output_type": "stream",
     "text": [
      " 6\n",
      " 1 2 2 2 3 3\n"
     ]
    }
   ],
   "source": [
    "n = int(input())\n",
    "lis = list(map(int, input().split()))"
   ]
  },
  {
   "cell_type": "code",
   "execution_count": 33,
   "id": "78ea69e9-c92a-4405-9f1d-fd23be3200bc",
   "metadata": {},
   "outputs": [],
   "source": [
    "# lis.sort(reverse=True)\n",
    "greedy = sorted(lis, reverse=True)"
   ]
  },
  {
   "cell_type": "code",
   "execution_count": 34,
   "id": "f1dd7ab4-6f2b-40e7-a0d5-4cfa7bb3a473",
   "metadata": {},
   "outputs": [],
   "source": [
    "g = 0\n",
    "result = 0\n",
    "while g<len(greedy):\n",
    "    degree = greedy[g]\n",
    "    g +=degree\n",
    "    result +=1"
   ]
  },
  {
   "cell_type": "code",
   "execution_count": 35,
   "id": "5ba59321-cf6c-4078-b730-cd5ffcfa2392",
   "metadata": {},
   "outputs": [
    {
     "data": {
      "text/plain": [
       "3"
      ]
     },
     "execution_count": 35,
     "metadata": {},
     "output_type": "execute_result"
    }
   ],
   "source": [
    "result"
   ]
  },
  {
   "cell_type": "code",
   "execution_count": 36,
   "id": "84cde894-3996-49a1-a744-5f14eadcbd34",
   "metadata": {},
   "outputs": [
    {
     "name": "stdout",
     "output_type": "stream",
     "text": [
      "3\n"
     ]
    }
   ],
   "source": [
    "# Another Trial\n",
    "greedy = sorted(lis)\n",
    "party = 0\n",
    "result = 0\n",
    "for member in greedy:\n",
    "    party +=1\n",
    "    if party >=member:\n",
    "        party = 0\n",
    "        result +=1\n",
    "print(result)"
   ]
  },
  {
   "cell_type": "code",
   "execution_count": null,
   "id": "52773fe1-64b6-441b-b406-22b31ce06931",
   "metadata": {},
   "outputs": [],
   "source": []
  }
 ],
 "metadata": {
  "kernelspec": {
   "display_name": "Python 3",
   "language": "python",
   "name": "python3"
  },
  "language_info": {
   "codemirror_mode": {
    "name": "ipython",
    "version": 3
   },
   "file_extension": ".py",
   "mimetype": "text/x-python",
   "name": "python",
   "nbconvert_exporter": "python",
   "pygments_lexer": "ipython3",
   "version": "3.9.2"
  }
 },
 "nbformat": 4,
 "nbformat_minor": 5
}
