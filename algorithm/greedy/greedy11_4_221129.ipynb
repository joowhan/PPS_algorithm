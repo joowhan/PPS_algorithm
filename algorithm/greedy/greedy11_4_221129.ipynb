{
 "cells": [
  {
   "cell_type": "code",
   "execution_count": 1,
   "id": "dc9facba-1141-4e10-b7b3-8e5b7a46341f",
   "metadata": {},
   "outputs": [
    {
     "name": "stdin",
     "output_type": "stream",
     "text": [
      " 5\n",
      " 3 2 1 1 9\n"
     ]
    }
   ],
   "source": [
    "n = int(input())\n",
    "lis = list(map(int, input().split()))"
   ]
  },
  {
   "cell_type": "code",
   "execution_count": 6,
   "id": "7af6040a-c9ef-40bf-8034-7aadaf8c1527",
   "metadata": {},
   "outputs": [],
   "source": [
    "# 그리디로 풀어야 한다. \n",
    "'''\n",
    "숫자가 들어오면 어떤 조합으로든 그 숫자를 만들 수 있어야 한다. 무조건 더하기여야 한다. 어떻게 할 것인가?\n",
    "다 더한 값에서 빼면서 가는 방법 16-9 = 7, 16-3 =13 16-2 = 14, 16-1 = 15\n",
    "그 순간의 최선의 선택을 찾아야 한다. 그 순간\n",
    "\n",
    "'''\n",
    "lis.sort()\n",
    "result = [0]*sum(lis)\n",
    "for num in range(1, sum(lis)):\n",
    "    temp = num\n",
    "    \n",
    "        \n",
    "        "
   ]
  },
  {
   "cell_type": "code",
   "execution_count": 7,
   "id": "e3e4d1f0-f348-414a-a50e-082ca271c9c6",
   "metadata": {},
   "outputs": [
    {
     "data": {
      "text/plain": [
       "[1, 1, 2, 3, 9]"
      ]
     },
     "execution_count": 7,
     "metadata": {},
     "output_type": "execute_result"
    }
   ],
   "source": [
    "result"
   ]
  },
  {
   "cell_type": "code",
   "execution_count": null,
   "id": "ba5ea888-c417-454c-9df1-790fd8cf9d3f",
   "metadata": {},
   "outputs": [],
   "source": []
  }
 ],
 "metadata": {
  "kernelspec": {
   "display_name": "Python 3",
   "language": "python",
   "name": "python3"
  },
  "language_info": {
   "codemirror_mode": {
    "name": "ipython",
    "version": 3
   },
   "file_extension": ".py",
   "mimetype": "text/x-python",
   "name": "python",
   "nbconvert_exporter": "python",
   "pygments_lexer": "ipython3",
   "version": "3.9.2"
  }
 },
 "nbformat": 4,
 "nbformat_minor": 5
}
