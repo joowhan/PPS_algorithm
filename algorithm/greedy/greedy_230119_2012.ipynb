{
 "cells": [
  {
   "cell_type": "markdown",
   "id": "453df3db-f95f-4600-a219-9134fc6aeb84",
   "metadata": {},
   "source": [
    "https://www.acmicpc.net/problem/2012"
   ]
  },
  {
   "cell_type": "markdown",
   "id": "715ab37c-c558-414c-84e6-c6c18f68096a",
   "metadata": {},
   "source": [
    "2007년 KOI에 N명의 학생들이 참가하였다. 경시일 전날인 예비소집일에, 모든 학생들은 자신이 N명 중에서 몇 등을 할 것인지 예상 등수를 적어서 제출하도록 하였다. <br>\n",
    "\n",
    "KOI 담당조교로 참가한 김진영 조교는 실수로 모든 학생의 프로그램을 날려 버렸다. 1등부터 N등까지 동석차 없이 등수를 매겨야 하는 김 조교는, 어쩔 수 없이 각 사람이 제출한 예상 등수를 바탕으로 임의로 등수를 매기기로 했다.<br>\n",
    "\n",
    "자신의 등수를 A등으로 예상하였는데 실제 등수가 B등이 될 경우, 이 사람의 불만도는 A와 B의 차이 (|A - B|)로 수치화할 수 있다. 당신은 N명의 사람들의 불만도의 총 합을 최소로 하면서, 학생들의 등수를 매기려고 한다.<br>\n",
    "\n",
    "각 사람의 예상 등수가 주어졌을 때, 김 조교를 도와 이러한 불만도의 합을 최소로 하는 프로그램을 작성하시오.<br>"
   ]
  },
  {
   "cell_type": "code",
   "execution_count": 2,
   "id": "0d774605-cc76-4c17-8a4c-f89d494aeb9f",
   "metadata": {},
   "outputs": [],
   "source": [
    "# 1 1, 2,3,5\n",
    "#12315: 111\n",
    "# 원래 자리에 집어넣는다\n",
    "#112355\n",
    "#113255= 1+2+1\n",
    "#123155 = 3+1\n",
    "#112355 = 4"
   ]
  },
  {
   "cell_type": "code",
   "execution_count": 8,
   "id": "004954fa-5a78-4731-87ca-f923f6099047",
   "metadata": {},
   "outputs": [
    {
     "name": "stdin",
     "output_type": "stream",
     "text": [
      " 5\n",
      " 1\n",
      " 5\n",
      " 3\n",
      " 1\n",
      " 2\n"
     ]
    }
   ],
   "source": [
    "n = int(input())\n",
    "lis = [0]*(n+1)\n",
    "rest = []\n",
    "for i in range(1,n+1):\n",
    "    num = int(input())\n",
    "    if lis[num] == 0:\n",
    "        lis[num] = num\n",
    "    else:\n",
    "        rest.append(num)\n",
    "rest.sort()\n",
    "result=0\n",
    "for i in range(1,n+1):\n",
    "    if lis[i] ==0:\n",
    "        result += abs(i-rest[0])\n",
    "        rest.pop(0)"
   ]
  },
  {
   "cell_type": "code",
   "execution_count": 9,
   "id": "99b217bc-9df2-491d-aeb8-2a9294f7f97c",
   "metadata": {},
   "outputs": [
    {
     "data": {
      "text/plain": [
       "3"
      ]
     },
     "execution_count": 9,
     "metadata": {},
     "output_type": "execute_result"
    }
   ],
   "source": [
    "result"
   ]
  },
  {
   "cell_type": "code",
   "execution_count": 13,
   "id": "9209daa3-1120-4015-9268-8a408bc90567",
   "metadata": {},
   "outputs": [
    {
     "name": "stdin",
     "output_type": "stream",
     "text": [
      " 1\n",
      " 5\n",
      " 3\n",
      " 1\n",
      " 2\n"
     ]
    }
   ],
   "source": [
    "grade=[]\n",
    "answer=0\n",
    "for i in range(n):\n",
    "    grade.append(int(input()))\n",
    "grade.sort()\n",
    "for i in range(n):\n",
    "    answer += abs(i+1-grade[i])"
   ]
  },
  {
   "cell_type": "code",
   "execution_count": 14,
   "id": "60968b11-7e8d-42d8-b5f3-b97cc0b94a8a",
   "metadata": {},
   "outputs": [
    {
     "data": {
      "text/plain": [
       "3"
      ]
     },
     "execution_count": 14,
     "metadata": {},
     "output_type": "execute_result"
    }
   ],
   "source": [
    "answer"
   ]
  },
  {
   "cell_type": "code",
   "execution_count": null,
   "id": "84c08987-f07b-4501-8265-b8d6827d31ed",
   "metadata": {},
   "outputs": [],
   "source": []
  }
 ],
 "metadata": {
  "kernelspec": {
   "display_name": "Python 3",
   "language": "python",
   "name": "python3"
  },
  "language_info": {
   "codemirror_mode": {
    "name": "ipython",
    "version": 3
   },
   "file_extension": ".py",
   "mimetype": "text/x-python",
   "name": "python",
   "nbconvert_exporter": "python",
   "pygments_lexer": "ipython3",
   "version": "3.9.2"
  }
 },
 "nbformat": 4,
 "nbformat_minor": 5
}
