{
 "cells": [
  {
   "cell_type": "markdown",
   "id": "90d50b15-0546-46da-ade4-32d0d96733c9",
   "metadata": {},
   "source": [
    "https://www.acmicpc.net/problem/1092"
   ]
  },
  {
   "cell_type": "markdown",
   "id": "84d20d96-b0c7-46c6-955e-f49e5f2feb1c",
   "metadata": {},
   "source": [
    "지민이는 항구에서 일한다. 그리고 화물을 배에 실어야 한다. 모든 화물은 박스에 안에 넣어져 있다. 항구에는 크레인이 N대 있고, 1분에 박스를 하나씩 배에 실을 수 있다. 모든 크레인은 동시에 움직인다.\n",
    "\n",
    "각 크레인은 무게 제한이 있다. 이 무게 제한보다 무거운 박스는 크레인으로 움직일 수 없다. 모든 박스를 배로 옮기는데 드는 시간의 최솟값을 구하는 프로그램을 작성하시오."
   ]
  },
  {
   "cell_type": "code",
   "execution_count": 8,
   "id": "467d399a-4c18-471d-a578-7c982e88d6fa",
   "metadata": {},
   "outputs": [],
   "source": [
    "#크래인 N대 모두 동시에 움직이고 1분에 1개씩 가능 "
   ]
  },
  {
   "cell_type": "code",
   "execution_count": 27,
   "id": "07cac6b4-7bf0-44a6-9df4-372d37680dc6",
   "metadata": {},
   "outputs": [
    {
     "name": "stdin",
     "output_type": "stream",
     "text": [
      " 10\n",
      " 11 17 5 2 20 7 5 5 20 7\n",
      " 5\n",
      " 18 18 15 15 17\n"
     ]
    }
   ],
   "source": [
    "n = int(input())\n",
    "limit=list(map(int, input().split()))\n",
    "m = int(input())\n",
    "weight=list(map(int, input().split()))"
   ]
  },
  {
   "cell_type": "code",
   "execution_count": 60,
   "id": "5b80a738-5979-4565-b7e5-00b4c9327699",
   "metadata": {},
   "outputs": [
    {
     "name": "stdout",
     "output_type": "stream",
     "text": [
      "0 0\n",
      "1 1\n",
      "2 2\n",
      "3 3\n",
      "0 3\n",
      "1 4\n"
     ]
    }
   ],
   "source": [
    "#Failed Code\n",
    "import sys\n",
    "limit.sort(reverse=True)\n",
    "weight.sort(reverse=True)\n",
    "result = [[] for _ in range(n)]\n",
    "j=0\n",
    "if max(limit) < max(weight):\n",
    "    print(-1)\n",
    "    sys.exit()\n",
    "i=0\n",
    "while i<len(weight):\n",
    "# for i in range(len(weight)):\n",
    "    if j==n:\n",
    "        j=0\n",
    "    #print(j,i)\n",
    "    if limit[j] >=weight[i]:\n",
    "        result[j].append(weight[i])\n",
    "        j +=1\n",
    "        i+=1\n",
    "    else:\n",
    "        j = 0\n",
    "        #i -= 1"
   ]
  },
  {
   "cell_type": "code",
   "execution_count": 61,
   "id": "9d8ce5fd-722a-4719-86dc-89814157c418",
   "metadata": {},
   "outputs": [
    {
     "name": "stdout",
     "output_type": "stream",
     "text": [
      "2\n"
     ]
    }
   ],
   "source": [
    "result.sort(key=len)\n",
    "print(len(result[-1]))"
   ]
  },
  {
   "cell_type": "code",
   "execution_count": 62,
   "id": "db53f60d-e9fb-4ea3-99b3-99685117572c",
   "metadata": {},
   "outputs": [
    {
     "data": {
      "text/plain": [
       "[20, 20, 17, 11, 7, 7, 5, 5, 5, 2]"
      ]
     },
     "execution_count": 62,
     "metadata": {},
     "output_type": "execute_result"
    }
   ],
   "source": [
    "limit"
   ]
  },
  {
   "cell_type": "code",
   "execution_count": 63,
   "id": "6c72ef55-baa5-4564-bbd4-8dcbf4f88a02",
   "metadata": {},
   "outputs": [
    {
     "data": {
      "text/plain": [
       "[18, 18, 17, 15, 15]"
      ]
     },
     "execution_count": 63,
     "metadata": {},
     "output_type": "execute_result"
    }
   ],
   "source": [
    "weight"
   ]
  },
  {
   "cell_type": "code",
   "execution_count": 64,
   "id": "33f329e8-a9b3-4c98-a8ae-ea5ae303f19d",
   "metadata": {},
   "outputs": [
    {
     "data": {
      "text/plain": [
       "[[], [], [], [], [], [], [], [17], [18, 15], [18, 15]]"
      ]
     },
     "execution_count": 64,
     "metadata": {},
     "output_type": "execute_result"
    }
   ],
   "source": [
    "result"
   ]
  },
  {
   "cell_type": "code",
   "execution_count": null,
   "id": "fb095200-abae-49c0-a713-c6dab3e118c3",
   "metadata": {},
   "outputs": [],
   "source": []
  }
 ],
 "metadata": {
  "kernelspec": {
   "display_name": "Python 3",
   "language": "python",
   "name": "python3"
  },
  "language_info": {
   "codemirror_mode": {
    "name": "ipython",
    "version": 3
   },
   "file_extension": ".py",
   "mimetype": "text/x-python",
   "name": "python",
   "nbconvert_exporter": "python",
   "pygments_lexer": "ipython3",
   "version": "3.9.2"
  }
 },
 "nbformat": 4,
 "nbformat_minor": 5
}
