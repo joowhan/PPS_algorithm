{
 "cells": [
  {
   "cell_type": "markdown",
   "id": "5114e7a2-d471-458f-ac05-f133a27878d8",
   "metadata": {},
   "source": [
    "https://www.acmicpc.net/problem/18310"
   ]
  },
  {
   "cell_type": "markdown",
   "id": "dfcc935e-8a1a-4a78-9db6-1715d3eea57a",
   "metadata": {},
   "source": [
    "일직선 상의 마을에 여러 채의 집이 위치해 있다. 이중에서 특정 위치의 집에 특별히 한 개의 안테나를 설치하기로 결정했다. <br>\n",
    "효율성을 위해 안테나로부터 모든 집까지의 거리의 총 합이 최소가 되도록 설치하려고 한다. 이 때 안테나는 집이 위치한 곳에만 설치할 수 있고, 논리적으로 동일한 위치에 여러 개의 집이 존재하는 것이 가능하다.<br>\n",
    "\n",
    "집들의 위치 값이 주어질 때, 안테나를 설치할 위치를 선택하는 프로그램을 작성하시오.\n",
    "\n",
    "예를 들어 N=4이고, 각 위치가 1, 5, 7, 9일 때를 가정하자.\n",
    "\n",
    "\n",
    "\n",
    "이 경우 5의 위치에 설치했을 때, 안테나로부터 모든 집까지의 거리의 총 합이 (4+0+2+4)=10으로, 최소가 된다."
   ]
  },
  {
   "cell_type": "code",
   "execution_count": 2,
   "id": "8e3df443-a4ba-4bc3-8547-c12f4e25f9ac",
   "metadata": {},
   "outputs": [
    {
     "name": "stdin",
     "output_type": "stream",
     "text": [
      " 5\n",
      " 5 1 7 9 10\n"
     ]
    }
   ],
   "source": [
    "n = int(input())\n",
    "home = list(map(int, input().split()))"
   ]
  },
  {
   "cell_type": "code",
   "execution_count": 15,
   "id": "d93a40b7-9730-46a7-9b8b-4d8f918f1358",
   "metadata": {},
   "outputs": [],
   "source": [
    "home.sort()"
   ]
  },
  {
   "cell_type": "code",
   "execution_count": 17,
   "id": "ba8f2d6b-cc60-4574-acb3-956bac33901e",
   "metadata": {},
   "outputs": [
    {
     "data": {
      "text/plain": [
       "7"
      ]
     },
     "execution_count": 17,
     "metadata": {},
     "output_type": "execute_result"
    }
   ],
   "source": [
    "home[int((n-1)/2)]"
   ]
  },
  {
   "cell_type": "code",
   "execution_count": 7,
   "id": "a7b163c8-faa2-4908-9924-bed665855a39",
   "metadata": {},
   "outputs": [
    {
     "name": "stdout",
     "output_type": "stream",
     "text": [
      "5\n"
     ]
    }
   ],
   "source": [
    "if len(home)%2 == 0:\n",
    "    ind = int(len(home)/2)-1\n",
    "else:\n",
    "    ind = int(len(home)/2)-1\n",
    "print(home[ind])"
   ]
  },
  {
   "cell_type": "code",
   "execution_count": 6,
   "id": "1b27d990-5b54-4c43-a6dc-3e67a05e1722",
   "metadata": {},
   "outputs": [
    {
     "data": {
      "text/plain": [
       "2"
      ]
     },
     "execution_count": 6,
     "metadata": {},
     "output_type": "execute_result"
    }
   ],
   "source": [
    "int(len(home)/2)"
   ]
  },
  {
   "cell_type": "code",
   "execution_count": 13,
   "id": "2d53ca41-f785-41da-b324-93b891b588b2",
   "metadata": {},
   "outputs": [
    {
     "name": "stdout",
     "output_type": "stream",
     "text": [
      "1 27\n",
      "5 15\n",
      "7 13\n",
      "7\n"
     ]
    }
   ],
   "source": [
    "temp = 0\n",
    "minimum = 200000\n",
    "result =0\n",
    "for i in range(len(home)):\n",
    "    temp = 0\n",
    "    for j in range(len(home)):\n",
    "        temp += abs(home[i]-home[j])\n",
    "    if temp <= minimum:\n",
    "        minimum = temp\n",
    "        result = home[i]\n",
    "        #print(result, minimum)\n",
    "print(result)"
   ]
  },
  {
   "cell_type": "code",
   "execution_count": null,
   "id": "7fff5de6-6f7f-4c28-b727-1afe5fe26b8b",
   "metadata": {},
   "outputs": [],
   "source": [
    "1 5 7 9 10"
   ]
  },
  {
   "cell_type": "code",
   "execution_count": null,
   "id": "4caef8bb-ecff-400c-9670-d108df45280a",
   "metadata": {},
   "outputs": [],
   "source": []
  }
 ],
 "metadata": {
  "kernelspec": {
   "display_name": "Python 3",
   "language": "python",
   "name": "python3"
  },
  "language_info": {
   "codemirror_mode": {
    "name": "ipython",
    "version": 3
   },
   "file_extension": ".py",
   "mimetype": "text/x-python",
   "name": "python",
   "nbconvert_exporter": "python",
   "pygments_lexer": "ipython3",
   "version": "3.9.2"
  }
 },
 "nbformat": 4,
 "nbformat_minor": 5
}
