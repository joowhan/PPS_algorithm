{
 "cells": [
  {
   "cell_type": "code",
   "execution_count": 4,
   "id": "8e3df443-a4ba-4bc3-8547-c12f4e25f9ac",
   "metadata": {},
   "outputs": [
    {
     "name": "stdin",
     "output_type": "stream",
     "text": [
      " 4\n",
      " 5 1 7 9\n"
     ]
    }
   ],
   "source": [
    "n = int(input())\n",
    "home = list(map(int, input().split()))"
   ]
  },
  {
   "cell_type": "code",
   "execution_count": 5,
   "id": "d93a40b7-9730-46a7-9b8b-4d8f918f1358",
   "metadata": {},
   "outputs": [],
   "source": [
    "home.sort()"
   ]
  },
  {
   "cell_type": "code",
   "execution_count": 8,
   "id": "ba8f2d6b-cc60-4574-acb3-956bac33901e",
   "metadata": {},
   "outputs": [
    {
     "data": {
      "text/plain": [
       "5"
      ]
     },
     "execution_count": 8,
     "metadata": {},
     "output_type": "execute_result"
    }
   ],
   "source": [
    "home[int(len(home)/2)-1]"
   ]
  },
  {
   "cell_type": "code",
   "execution_count": null,
   "id": "a7b163c8-faa2-4908-9924-bed665855a39",
   "metadata": {},
   "outputs": [],
   "source": []
  }
 ],
 "metadata": {
  "kernelspec": {
   "display_name": "Python 3",
   "language": "python",
   "name": "python3"
  },
  "language_info": {
   "codemirror_mode": {
    "name": "ipython",
    "version": 3
   },
   "file_extension": ".py",
   "mimetype": "text/x-python",
   "name": "python",
   "nbconvert_exporter": "python",
   "pygments_lexer": "ipython3",
   "version": "3.9.2"
  }
 },
 "nbformat": 4,
 "nbformat_minor": 5
}
