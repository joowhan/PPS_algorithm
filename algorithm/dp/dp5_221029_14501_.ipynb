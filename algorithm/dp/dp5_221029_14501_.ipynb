{
 "cells": [
  {
   "cell_type": "code",
   "execution_count": 11,
   "id": "2bc0d397-c747-4775-9d93-c8d68b59c270",
   "metadata": {},
   "outputs": [
    {
     "name": "stdin",
     "output_type": "stream",
     "text": [
      " 10\n"
     ]
    }
   ],
   "source": [
    "n = int(input())"
   ]
  },
  {
   "cell_type": "code",
   "execution_count": 24,
   "id": "770e15f0-881c-42d7-9525-b100e0cebfad",
   "metadata": {},
   "outputs": [
    {
     "name": "stdin",
     "output_type": "stream",
     "text": [
      " 5 50\n",
      " 4 40\n",
      " 3 30\n",
      " 2 20\n",
      " 1 10\n",
      " 1 10\n",
      " 2 20\n",
      " 3 30\n",
      " 4 40\n",
      " 5 50\n"
     ]
    }
   ],
   "source": [
    "t = [0]*n\n",
    "p = [0]*n\n",
    "for i in range(n):\n",
    "    t[i], p[i] = map(int, input().split())"
   ]
  },
  {
   "cell_type": "code",
   "execution_count": 34,
   "id": "bfeda12e-2b3f-426f-8fad-9dab3f24dd49",
   "metadata": {},
   "outputs": [
    {
     "name": "stdout",
     "output_type": "stream",
     "text": [
      "80\n",
      "70\n",
      "60\n",
      "50\n",
      "40\n",
      "30\n",
      "20\n",
      "30\n",
      "0\n",
      "0\n",
      "80\n"
     ]
    }
   ],
   "source": [
    "maxPrice = 0\n",
    "for i in range(len(t)):\n",
    "    stp = i\n",
    "    price = 0\n",
    "    while stp < n:\n",
    "        if stp + t[stp] > n :\n",
    "            break\n",
    "        price += p[stp]\n",
    "        stp  += t[stp]\n",
    "        #print(stp, t[stp], price)\n",
    "    if price > maxPrice:\n",
    "        maxPrice = price\n",
    "    print(price)\n",
    "print(maxPrice)"
   ]
  },
  {
   "cell_type": "code",
   "execution_count": 31,
   "id": "aec01698-faa1-4bbb-bc96-7af27dd2cefb",
   "metadata": {},
   "outputs": [
    {
     "data": {
      "text/plain": [
       "[5, 4, 3, 2, 1, 1, 2, 3, 4, 5]"
      ]
     },
     "execution_count": 31,
     "metadata": {},
     "output_type": "execute_result"
    }
   ],
   "source": [
    "t"
   ]
  },
  {
   "cell_type": "code",
   "execution_count": 32,
   "id": "14d76511-07e4-4e63-a538-d3c20d1f853d",
   "metadata": {},
   "outputs": [
    {
     "data": {
      "text/plain": [
       "[50, 40, 30, 20, 10, 10, 20, 30, 40, 50]"
      ]
     },
     "execution_count": 32,
     "metadata": {},
     "output_type": "execute_result"
    }
   ],
   "source": [
    "p"
   ]
  },
  {
   "cell_type": "code",
   "execution_count": null,
   "id": "7e7d15fe-b341-4cef-8ecb-ad77459b719d",
   "metadata": {},
   "outputs": [],
   "source": []
  }
 ],
 "metadata": {
  "kernelspec": {
   "display_name": "Python 3",
   "language": "python",
   "name": "python3"
  },
  "language_info": {
   "codemirror_mode": {
    "name": "ipython",
    "version": 3
   },
   "file_extension": ".py",
   "mimetype": "text/x-python",
   "name": "python",
   "nbconvert_exporter": "python",
   "pygments_lexer": "ipython3",
   "version": "3.9.2"
  }
 },
 "nbformat": 4,
 "nbformat_minor": 5
}
