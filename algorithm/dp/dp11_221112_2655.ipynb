{
 "cells": [
  {
   "cell_type": "markdown",
   "id": "d5c99677-7cde-49ba-8b2e-800239e22384",
   "metadata": {},
   "source": [
    "https://www.acmicpc.net/problem/2655"
   ]
  },
  {
   "cell_type": "markdown",
   "id": "75e30b20-4fc5-4e24-ad2d-6ab48f76c04e",
   "metadata": {},
   "source": [
    "밑면이 정사각형인 직육면체 벽돌들을 사용하여 탑을 쌓고자 한다. 탑은 벽돌을 한 개씩 아래에서 위로 쌓으면서 만들어 간다. 아래의 조건을 만족하면서 가장 높은 탑을 쌓을 수 있는 프로그램을 작성하시오.\n",
    "\n",
    "1. 벽돌은 회전시킬 수 없다. 즉, 옆면을 밑면으로 사용할 수 없다.\n",
    "1. 밑면의 넓이가 같은 벽돌은 없으며, 또한 무게가 같은 벽돌도 없다.\n",
    "1. 벽돌들의 높이는 같을 수도 있다.\n",
    "1. 탑을 쌓을 때 밑면이 좁은 벽돌 위에 밑면이 넓은 벽돌은 놓을 수 없다.\n",
    "1. 무게가 무거운 벽돌을 무게가 가벼운 벽돌 위에 놓을 수 없다."
   ]
  },
  {
   "cell_type": "code",
   "execution_count": 1,
   "id": "615b3cfb-55bd-4820-b26b-e5697ae9296e",
   "metadata": {},
   "outputs": [
    {
     "name": "stdin",
     "output_type": "stream",
     "text": [
      " 5\n"
     ]
    }
   ],
   "source": [
    "n = int(input())\n",
    "for i in range(n)\n"
   ]
  },
  {
   "cell_type": "code",
   "execution_count": null,
   "id": "7bd1ab32-9b6a-4723-809d-6ec3abd2d32e",
   "metadata": {},
   "outputs": [],
   "source": []
  }
 ],
 "metadata": {
  "kernelspec": {
   "display_name": "Python 3",
   "language": "python",
   "name": "python3"
  },
  "language_info": {
   "codemirror_mode": {
    "name": "ipython",
    "version": 3
   },
   "file_extension": ".py",
   "mimetype": "text/x-python",
   "name": "python",
   "nbconvert_exporter": "python",
   "pygments_lexer": "ipython3",
   "version": "3.9.2"
  }
 },
 "nbformat": 4,
 "nbformat_minor": 5
}
