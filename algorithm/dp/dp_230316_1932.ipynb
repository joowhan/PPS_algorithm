{
 "cells": [
  {
   "cell_type": "markdown",
   "id": "6ff6b216-8d98-4c0f-ba74-d6d9c53ccea4",
   "metadata": {},
   "source": [
    "https://www.acmicpc.net/problem/1932"
   ]
  },
  {
   "cell_type": "markdown",
   "id": "000fd05e-acb9-4698-8a33-5d4f13b964f2",
   "metadata": {},
   "source": [
    "\n",
    "위 그림은 크기가 5인 정수 삼각형의 한 모습이다.<br>\n",
    "\n",
    "맨 위층 7부터 시작해서 아래에 있는 수 중 하나를 선택하여 아래층으로 내려올 때, 이제까지 선택된 수의 합이 최대가 되는 경로를 구하는 프로그램을 작성하라.<br> 아래층에 있는 수는 현재 층에서 선택된 수의 대각선 왼쪽 또는 대각선 오른쪽에 있는 것 중에서만 선택할 수 있다.\n",
    "\n",
    "삼각형의 크기는 1 이상 500 이하이다. 삼각형을 이루고 있는 각 수는 모두 정수이며, 범위는 0 이상 9999 이하이다"
   ]
  },
  {
   "cell_type": "code",
   "execution_count": 3,
   "id": "7930f3e5-7cce-4071-8925-53cb169eafed",
   "metadata": {},
   "outputs": [
    {
     "name": "stdin",
     "output_type": "stream",
     "text": [
      " 5\n"
     ]
    }
   ],
   "source": [
    "h = int(input())"
   ]
  },
  {
   "cell_type": "code",
   "execution_count": 4,
   "id": "9cc55ba4-affe-486f-a1bf-df3839fdb45b",
   "metadata": {},
   "outputs": [
    {
     "name": "stdin",
     "output_type": "stream",
     "text": [
      " 7\n",
      " 3 8\n",
      " 8 1 0\n",
      " 2 7 4 4\n",
      " 4 5 2 6 5\n"
     ]
    }
   ],
   "source": [
    "graph = []\n",
    "for i in range(h):\n",
    "    graph.append(list(map(int, input().split())))"
   ]
  },
  {
   "cell_type": "code",
   "execution_count": 5,
   "id": "bf22c0ef-63ac-44af-9526-9a6b3d1107d9",
   "metadata": {},
   "outputs": [
    {
     "data": {
      "text/plain": [
       "[[7], [3, 8], [8, 1, 0], [2, 7, 4, 4], [4, 5, 2, 6, 5]]"
      ]
     },
     "execution_count": 5,
     "metadata": {},
     "output_type": "execute_result"
    }
   ],
   "source": [
    "graph"
   ]
  },
  {
   "cell_type": "code",
   "execution_count": 6,
   "id": "977ed16b-111f-4733-b3d6-c8ca59c8aed7",
   "metadata": {},
   "outputs": [],
   "source": [
    "# 그래프 크기와 같은 그래프를 만든다. 이떄 다 0으로 값이 채워져 있어야 한다.\n",
    "# 맨 밑에는 해당 값들로 채워진다. \n",
    "# 층을 높이면서 왼쪽과 오른쪽 중에서 최대값을 가진다. \n",
    "res = [[0]*i for i in range(1,h+1)]"
   ]
  },
  {
   "cell_type": "code",
   "execution_count": 13,
   "id": "f546408f-5c09-4ceb-8083-b632d5289296",
   "metadata": {},
   "outputs": [
    {
     "name": "stdout",
     "output_type": "stream",
     "text": [
      "3\n",
      "2\n",
      "1\n",
      "0\n"
     ]
    }
   ],
   "source": [
    "for i in range(len(res[-1])):\n",
    "    res[-1][i] = graph[-1][i]\n",
    "for i in range(h-2,-1,-1):\n",
    "    for j in range(len(graph[i])):\n",
    "        res[i]"
   ]
  },
  {
   "cell_type": "code",
   "execution_count": 9,
   "id": "89b685af-de26-4619-991c-69062cd16889",
   "metadata": {},
   "outputs": [
    {
     "data": {
      "text/plain": [
       "[[0], [0, 0], [0, 0, 0], [0, 0, 0, 0], [4, 5, 2, 6, 5]]"
      ]
     },
     "execution_count": 9,
     "metadata": {},
     "output_type": "execute_result"
    }
   ],
   "source": []
  },
  {
   "cell_type": "code",
   "execution_count": null,
   "id": "365f37a9-2bc8-4304-8cd4-abe1f04b0305",
   "metadata": {},
   "outputs": [],
   "source": []
  }
 ],
 "metadata": {
  "kernelspec": {
   "display_name": "Python 3",
   "language": "python",
   "name": "python3"
  },
  "language_info": {
   "codemirror_mode": {
    "name": "ipython",
    "version": 3
   },
   "file_extension": ".py",
   "mimetype": "text/x-python",
   "name": "python",
   "nbconvert_exporter": "python",
   "pygments_lexer": "ipython3",
   "version": "3.9.2"
  }
 },
 "nbformat": 4,
 "nbformat_minor": 5
}
