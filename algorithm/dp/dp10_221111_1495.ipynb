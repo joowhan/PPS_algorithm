{
 "cells": [
  {
   "cell_type": "markdown",
   "metadata": {},
   "source": [
    "Day Of Mourning의 기타리스트 강토는 다가오는 공연에서 연주할 N개의 곡을 연주하고 있다. 지금까지 공연과는 다른 공연을 보여주기 위해서 이번 공연에서는 매번 곡이 시작하기 전에 볼륨을 바꾸고 연주하려고 한다.\n",
    "\n",
    "먼저, 공연이 시작하기 전에 각각의 곡이 시작하기 전에 바꿀 수 있는 볼륨의 리스트를 만들었다. 이 리스트를 V라고 했을 때, V[i]는 i번째 곡을 연주하기 전에 바꿀 수 있는 볼륨을 의미한다.<br> \n",
    "항상 리스트에 적힌 차이로만 볼륨을 바꿀 수 있다. 즉, 현재 볼륨이 P이고 지금 i번째 곡을 연주하기 전이라면, i번 곡은 P+V[i]나 P-V[i] 로 연주해야 한다. <br> \n",
    "하지만, 0보다 작은 값으로 볼륨을 바꾸거나, M보다 큰 값으로 볼륨을 바꿀 수 없다.<br> \n",
    "\n",
    "곡의 개수 N과 시작 볼륨 S, 그리고 M이 주어졌을 때, 마지막 곡을 연주할 수 있는 볼륨 중 최댓값을 구하는 프로그램을 작성하시오. 모든 곡은 리스트에 적힌 순서대로 연주해야 한다."
   ]
  },
  {
   "cell_type": "code",
   "execution_count": null,
   "metadata": {},
   "outputs": [],
   "source": [
    "'''\n",
    "- 볼륨의 리스트는 V, V[i]는 i번째 곡을 연주하기 전에 바꿀 수 있는 볼륨 [2]는 2번쨰 곡을 연주하기 전 바꿀 수 있는 볼륨 현재가 P라면 p +/-v[i]로 바꿀 수 있다.\n",
    "- 0보다 작거나, M보다 커서는 안된다. \n",
    "- N개의 노래가 있다. for i in range(N): 시작은 S 최대값인 M\n",
    "- 두번째는 V list가 주어진다. \n",
    "N=3, S=5, M =10\n",
    "V = 5 3 7\n",
    "각 사건에 대해 기록을 해야 한다. 그 순간의 기록, max로 판단한다. 값에서 더하고 뺀 값 기록\n",
    "1개만 있을 때\n",
    "더했을 때 안크면 더하고 뺐을 때 안작으면 뺀다. \n",
    "그 다음 비교를 해본다. 그 전까지의 값에 더하는 게 좋은지 빼는게 좋은지. 그러나 이 순간의 선택이 최선은 아닐 것\n",
    "5+5가 남고 5-5는 그래도 어딘가 있어야 하는데\n",
    "\n",
    "'''"
   ]
  },
  {
   "cell_type": "code",
   "execution_count": 8,
   "metadata": {},
   "outputs": [
    {
     "name": "stdin",
     "output_type": "stream",
     "text": [
      " 14 40 243\n",
      " 74 39 127 95 63 140 99 96 154 18 137 162 14 88\n"
     ]
    }
   ],
   "source": [
    "#failed\n",
    "n,s,m = map(int, input().split())\n",
    "v = list(map(int, input().split()))\n",
    "dp = [0]*(n+1)\n",
    "add = 0\n",
    "sub = 0\n",
    "dp[0] = s\n",
    "for i in range(1, n+1):\n",
    "    if v[i-1]+dp[i-1]>m and dp[i-1] -v[i-1] <0:\n",
    "        add = -1\n",
    "        sub = -1\n",
    "    elif v[i-1]+dp[i-1]>m:\n",
    "        add = dp[i-1]-v[i-1]\n",
    "    elif dp[i-1] -v[i-1] <0:\n",
    "        sub = dp[i-1]+v[i-1]\n",
    "    else:\n",
    "        add = dp[i-1] + v[i-1]\n",
    "        sub = dp[i-1] - v[i-1]\n",
    "    dp[i] = max(add, sub)"
   ]
  },
  {
   "cell_type": "code",
   "execution_count": 9,
   "metadata": {},
   "outputs": [
    {
     "data": {
      "text/plain": [
       "[40, 114, 153, 75, 170, 233, 107, 206, 110, -1, 17, 154, -1, 13, 101]"
      ]
     },
     "execution_count": 9,
     "metadata": {},
     "output_type": "execute_result"
    }
   ],
   "source": [
    "dp"
   ]
  },
  {
   "cell_type": "markdown",
   "metadata": {},
   "source": [
    "### Solution"
   ]
  },
  {
   "cell_type": "code",
   "execution_count": null,
   "metadata": {},
   "outputs": [],
   "source": []
  }
 ],
 "metadata": {
  "kernelspec": {
   "display_name": "Python 3",
   "language": "python",
   "name": "python3"
  },
  "language_info": {
   "codemirror_mode": {
    "name": "ipython",
    "version": 3
   },
   "file_extension": ".py",
   "mimetype": "text/x-python",
   "name": "python",
   "nbconvert_exporter": "python",
   "pygments_lexer": "ipython3",
   "version": "3.8.5"
  }
 },
 "nbformat": 4,
 "nbformat_minor": 4
}
