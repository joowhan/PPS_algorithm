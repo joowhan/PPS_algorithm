{
 "cells": [
  {
   "cell_type": "markdown",
   "metadata": {},
   "source": [
    "LCS(Longest Common Subsequence, 최장 공통 부분 수열)문제는 두 수열이 주어졌을 때, 모두의 부분 수열이 되는 수열 중 가장 긴 것을 찾는 문제이다.\n",
    "\n",
    "예를 들어, ACAYKP와 CAPCAK의 LCS는 ACAK가 된다."
   ]
  },
  {
   "cell_type": "code",
   "execution_count": 5,
   "metadata": {},
   "outputs": [
    {
     "name": "stdin",
     "output_type": "stream",
     "text": [
      " ACAYKP\n",
      " CAPCAK\n"
     ]
    }
   ],
   "source": [
    "a = list(input())\n",
    "b = list(input())"
   ]
  },
  {
   "cell_type": "code",
   "execution_count": 17,
   "metadata": {},
   "outputs": [],
   "source": [
    "#ACAYKP\n",
    "#CAPCAK\n",
    "#ACAK\n",
    "dp =[[0]*(len(b)+1) for _ in range(len(a)+1)]\n",
    "for i in range(1, len(a)+1):\n",
    "    for j in range(1, len(b)+1):\n",
    "        if a[i-1] == b[j-1]:\n",
    "            dp[i][j] = dp[i-1][j-1] +1\n",
    "        else:\n",
    "            dp[i][j] = max(dp[i][j-1], dp[i-1][j])"
   ]
  },
  {
   "cell_type": "code",
   "execution_count": 18,
   "metadata": {},
   "outputs": [
    {
     "data": {
      "text/plain": [
       "4"
      ]
     },
     "execution_count": 18,
     "metadata": {},
     "output_type": "execute_result"
    }
   ],
   "source": [
    "dp[len(b)][len(a)]"
   ]
  },
  {
   "cell_type": "code",
   "execution_count": null,
   "metadata": {},
   "outputs": [],
   "source": []
  }
 ],
 "metadata": {
  "kernelspec": {
   "display_name": "Python 3",
   "language": "python",
   "name": "python3"
  },
  "language_info": {
   "codemirror_mode": {
    "name": "ipython",
    "version": 3
   },
   "file_extension": ".py",
   "mimetype": "text/x-python",
   "name": "python",
   "nbconvert_exporter": "python",
   "pygments_lexer": "ipython3",
   "version": "3.8.5"
  }
 },
 "nbformat": 4,
 "nbformat_minor": 4
}
