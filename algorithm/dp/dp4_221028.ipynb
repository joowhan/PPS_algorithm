{
 "cells": [
  {
   "cell_type": "code",
   "execution_count": 2,
   "id": "8e5c7773-a424-4f68-8522-d73427f34055",
   "metadata": {},
   "outputs": [
    {
     "name": "stdin",
     "output_type": "stream",
     "text": [
      " 2 15\n"
     ]
    }
   ],
   "source": [
    "n,m = map(int, input().split())"
   ]
  },
  {
   "cell_type": "code",
   "execution_count": 3,
   "id": "805457f9-5439-4351-a713-6ae79fed883e",
   "metadata": {},
   "outputs": [],
   "source": [
    "arr = [0]*m"
   ]
  },
  {
   "cell_type": "code",
   "execution_count": null,
   "id": "e7d2b378-d258-4bea-8453-4e95a6d18594",
   "metadata": {},
   "outputs": [],
   "source": []
  }
 ],
 "metadata": {
  "kernelspec": {
   "display_name": "Python 3",
   "language": "python",
   "name": "python3"
  },
  "language_info": {
   "codemirror_mode": {
    "name": "ipython",
    "version": 3
   },
   "file_extension": ".py",
   "mimetype": "text/x-python",
   "name": "python",
   "nbconvert_exporter": "python",
   "pygments_lexer": "ipython3",
   "version": "3.9.2"
  }
 },
 "nbformat": 4,
 "nbformat_minor": 5
}
