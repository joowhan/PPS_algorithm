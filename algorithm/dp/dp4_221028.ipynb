{
 "cells": [
  {
   "cell_type": "code",
   "execution_count": 2,
   "id": "8e5c7773-a424-4f68-8522-d73427f34055",
   "metadata": {},
   "outputs": [
    {
     "name": "stdin",
     "output_type": "stream",
     "text": [
      " 2 15\n"
     ]
    }
   ],
   "source": [
    "n,m = map(int, input().split())"
   ]
  },
  {
   "cell_type": "code",
   "execution_count": 13,
   "id": "805457f9-5439-4351-a713-6ae79fed883e",
   "metadata": {},
   "outputs": [
    {
     "name": "stdin",
     "output_type": "stream",
     "text": [
      " 2\n",
      " 3\n"
     ]
    }
   ],
   "source": [
    "dpList = [10001]*(m+1)\n",
    "dpList[0] = 0\n",
    "arr = []\n",
    "arr = [int(input()) for i in range(n)]\n",
    "for i in range(n):\n",
    "    for j in range(arr[i], m+1):\n",
    "        dpList[j] = min(dpList[j], dpList[j- arr[i]] +1)"
   ]
  },
  {
   "cell_type": "code",
   "execution_count": 15,
   "id": "e7d2b378-d258-4bea-8453-4e95a6d18594",
   "metadata": {},
   "outputs": [
    {
     "data": {
      "text/plain": [
       "5"
      ]
     },
     "execution_count": 15,
     "metadata": {},
     "output_type": "execute_result"
    }
   ],
   "source": [
    "dpList[15]"
   ]
  },
  {
   "cell_type": "code",
   "execution_count": null,
   "id": "b6f9b529-0061-4b6a-9d1d-8707c2369bc8",
   "metadata": {},
   "outputs": [],
   "source": []
  }
 ],
 "metadata": {
  "kernelspec": {
   "display_name": "Python 3",
   "language": "python",
   "name": "python3"
  },
  "language_info": {
   "codemirror_mode": {
    "name": "ipython",
    "version": 3
   },
   "file_extension": ".py",
   "mimetype": "text/x-python",
   "name": "python",
   "nbconvert_exporter": "python",
   "pygments_lexer": "ipython3",
   "version": "3.9.2"
  }
 },
 "nbformat": 4,
 "nbformat_minor": 5
}
