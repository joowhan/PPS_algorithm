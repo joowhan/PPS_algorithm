{
 "cells": [
  {
   "cell_type": "code",
   "execution_count": 1,
   "id": "b14d3435-30fa-4d1d-8a7d-f2dc2a7b6fa0",
   "metadata": {},
   "outputs": [
    {
     "name": "stdin",
     "output_type": "stream",
     "text": [
      " 4\n",
      " 1 3 1 5\n"
     ]
    }
   ],
   "source": [
    "#dp..?\n",
    "N = int(input())\n",
    "warehouse = list(map(int, input().split()))"
   ]
  },
  {
   "cell_type": "code",
   "execution_count": 3,
   "id": "3c11f6ea-34d8-40c0-813c-ac70f9bf6e8a",
   "metadata": {},
   "outputs": [],
   "source": [
    "attack = [0]*N\n",
    "\n",
    "for i in range(2,N):\n",
    "    \n",
    "    if attack[i-1] ==0 and attack[i-2]==0:\n",
    "        if attack[i-1]>attack[i-2]:\n",
    "            \n",
    "    if attack[i-1] != 0:\n",
    "        continue\n",
    "    elif attack[i-2] "
   ]
  },
  {
   "cell_type": "code",
   "execution_count": null,
   "id": "cfa7b4ff-62a1-4e10-9005-2f39ca6a9c93",
   "metadata": {},
   "outputs": [],
   "source": []
  }
 ],
 "metadata": {
  "kernelspec": {
   "display_name": "Python 3",
   "language": "python",
   "name": "python3"
  },
  "language_info": {
   "codemirror_mode": {
    "name": "ipython",
    "version": 3
   },
   "file_extension": ".py",
   "mimetype": "text/x-python",
   "name": "python",
   "nbconvert_exporter": "python",
   "pygments_lexer": "ipython3",
   "version": "3.9.2"
  }
 },
 "nbformat": 4,
 "nbformat_minor": 5
}
