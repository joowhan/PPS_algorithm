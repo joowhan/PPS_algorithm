{
 "cells": [
  {
   "cell_type": "code",
   "execution_count": null,
   "id": "981364b0-bd1b-4f0d-a710-95371e1b9288",
   "metadata": {},
   "outputs": [],
   "source": [
    "n = int(input())\n"
   ]
  }
 ],
 "metadata": {
  "kernelspec": {
   "display_name": "Python 3",
   "language": "python",
   "name": "python3"
  },
  "language_info": {
   "codemirror_mode": {
    "name": "ipython",
    "version": 3
   },
   "file_extension": ".py",
   "mimetype": "text/x-python",
   "name": "python",
   "nbconvert_exporter": "python",
   "pygments_lexer": "ipython3",
   "version": "3.9.2"
  }
 },
 "nbformat": 4,
 "nbformat_minor": 5
}
