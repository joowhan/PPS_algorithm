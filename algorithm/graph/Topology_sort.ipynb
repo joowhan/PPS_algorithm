{
 "cells": [
  {
   "cell_type": "code",
   "execution_count": 2,
   "id": "6cf84ad8-fbc6-425d-9db4-aa0f0e13f5a0",
   "metadata": {},
   "outputs": [],
   "source": [
    "from collections import deque"
   ]
  },
  {
   "cell_type": "code",
   "execution_count": 18,
   "id": "d7651230-2920-4421-8924-9d85b402bba8",
   "metadata": {},
   "outputs": [
    {
     "name": "stdin",
     "output_type": "stream",
     "text": [
      " 7 8\n",
      " 1 2\n",
      " 1 5\n",
      " 2 3\n",
      " 2 6\n",
      " 3 4\n",
      " 4 7\n",
      " 5 6\n",
      " 6 4\n"
     ]
    }
   ],
   "source": [
    "v,e = map(int, input().split())\n",
    "indegree = [0]*(v+1)\n",
    "graph = [[] for _ in range(v+1)]\n",
    "for _ in range(e):\n",
    "    a,b = map(int, input().split())\n",
    "    graph[a].append(b)\n",
    "    indegree[b] +=1\n"
   ]
  },
  {
   "cell_type": "code",
   "execution_count": 19,
   "id": "39569b25-6171-475a-805d-3c4a4a8ef1d9",
   "metadata": {},
   "outputs": [],
   "source": [
    "def topology_sort():\n",
    "    result=[]\n",
    "    q = deque()\n",
    "    for i in range(1,v+1):\n",
    "        if indegree[i] ==0:\n",
    "            q.append(i)\n",
    "    while q:\n",
    "        now = q.popleft()\n",
    "        result.append(now)\n",
    "        for i in graph[now]:\n",
    "            indegree[i] -=1\n",
    "            if indegree[i] == 0:\n",
    "                q.append(i)\n",
    "    for i in result:\n",
    "        print(i, end= ' ')"
   ]
  },
  {
   "cell_type": "code",
   "execution_count": 20,
   "id": "53f5e631-8156-4966-b5d2-32e8d984f914",
   "metadata": {},
   "outputs": [
    {
     "name": "stdout",
     "output_type": "stream",
     "text": [
      "1 2 5 3 6 4 7 "
     ]
    }
   ],
   "source": [
    "for i in result:\n",
    "    print(i, end= ' ')\n",
    "topology_sort()"
   ]
  },
  {
   "cell_type": "code",
   "execution_count": null,
   "id": "cfe28452-b4be-4149-a5f9-3fcdfb8ddfbe",
   "metadata": {},
   "outputs": [],
   "source": []
  },
  {
   "cell_type": "code",
   "execution_count": null,
   "id": "179e7b84-0f35-446b-9d84-de5c2ff7964c",
   "metadata": {},
   "outputs": [],
   "source": []
  }
 ],
 "metadata": {
  "kernelspec": {
   "display_name": "Python 3",
   "language": "python",
   "name": "python3"
  },
  "language_info": {
   "codemirror_mode": {
    "name": "ipython",
    "version": 3
   },
   "file_extension": ".py",
   "mimetype": "text/x-python",
   "name": "python",
   "nbconvert_exporter": "python",
   "pygments_lexer": "ipython3",
   "version": "3.9.2"
  }
 },
 "nbformat": 4,
 "nbformat_minor": 5
}
