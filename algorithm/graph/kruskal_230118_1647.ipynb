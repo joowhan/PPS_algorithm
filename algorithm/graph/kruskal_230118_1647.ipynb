{
 "cells": [
  {
   "cell_type": "markdown",
   "id": "e9f3dc1c-4741-4d6a-8f5b-c906c66045c5",
   "metadata": {},
   "source": [
    "https://www.acmicpc.net/problem/1647"
   ]
  },
  {
   "cell_type": "markdown",
   "id": "66700220-a1d7-435d-81da-1e0527b322ba",
   "metadata": {},
   "source": [
    "동물원에서 막 탈출한 원숭이 한 마리가 세상구경을 하고 있다. 그러다가 평화로운 마을에 가게 되었는데, 그곳에서는 알 수 없는 일이 벌어지고 있었다.<br>\n",
    "\n",
    "마을은 N개의 집과 그 집들을 연결하는 M개의 길로 이루어져 있다. 길은 어느 방향으로든지 다닐 수 있는 편리한 길이다. 그리고 각 길마다 길을 유지하는데 드는 유지비가 있다.<br>\n",
    "\n",
    "마을의 이장은 마을을 두 개의 분리된 마을로 분할할 계획을 가지고 있다. 마을이 너무 커서 혼자서는 관리할 수 없기 때문이다. 마을을 분할할 때는 각 분리된 마을 안에 집들이 서로 연결되도록 분할해야 한다.<br>\n",
    "각 분리된 마을 안에 있는 임의의 두 집 사이에 경로가 항상 존재해야 한다는 뜻이다. 마을에는 집이 하나 이상 있어야 한다.<br>\n",
    "\n",
    "그렇게 마을의 이장은 계획을 세우다가 마을 안에 길이 너무 많다는 생각을 하게 되었다. 일단 분리된 두 마을 사이에 있는 길들은 필요가 없으므로 없앨 수 있다. <br>\n",
    "그리고 각 분리된 마을 안에서도 임의의 두 집 사이에 경로가 항상 존재하게 하면서 길을 더 없앨 수 있다. <br>\n",
    "마을의 이장은 위 조건을 만족하도록 길들을 모두 없애고 나머지 길의 유지비의 합을 최소로 하고 싶다.<br>\n",
    "이것을 구하는 프로그램을 작성하시오."
   ]
  },
  {
   "cell_type": "code",
   "execution_count": 52,
   "id": "1b025d9d-b686-40ac-b088-082f9ded8c17",
   "metadata": {},
   "outputs": [],
   "source": [
    "#크루스칼 알고리즘은 최소 산장 트리를 구하는 것이다. \n",
    "#사이클이 만들어지지 않으면서 계속 제일 최소 값을 가지는 길을 찾아서 뽑으면 된다. "
   ]
  },
  {
   "cell_type": "code",
   "execution_count": 60,
   "id": "afd2bff1-76b5-452e-9e6e-3e193c9180bf",
   "metadata": {},
   "outputs": [],
   "source": [
    "def find_parent(parent, x):\n",
    "    if parent[x] !=x:\n",
    "        parent[x] = find_parent(parent, parent[x])\n",
    "    return parent[x]\n",
    "\n",
    "def union(parent, a, b):\n",
    "    x = find_parent(parent, a)\n",
    "    y = find_parent(parent, b)\n",
    "    if x<y:\n",
    "        parent[y] = x\n",
    "    else:\n",
    "        parent[x] = y"
   ]
  },
  {
   "cell_type": "code",
   "execution_count": 54,
   "id": "820fbc27-402f-49ff-a2c7-f12bfec1b62e",
   "metadata": {},
   "outputs": [
    {
     "name": "stdin",
     "output_type": "stream",
     "text": [
      " 7 12\n",
      " 1 2 3\n",
      " 1 3 2\n",
      " 3 2 1\n",
      " 2 5 2\n",
      " 3 4 4\n",
      " 7 3 6\n",
      " 5 1 5\n",
      " 1 6 2\n",
      " 6 4 1\n",
      " 6 5 3\n",
      " 4 5 3\n",
      " 6 7 4\n"
     ]
    }
   ],
   "source": [
    "n,m = map(int, input().split())\n",
    "parent = []\n",
    "parent = [0]*(n+1)\n",
    "graph=[]\n",
    "for _ in range(m):\n",
    "    cost, a, b = map(int, input().split())\n",
    "    graph.append((cost, a,b))"
   ]
  },
  {
   "cell_type": "code",
   "execution_count": 61,
   "id": "97907053-5e98-4939-a3b5-6a23020a589c",
   "metadata": {},
   "outputs": [],
   "source": [
    "graph.sort()"
   ]
  },
  {
   "cell_type": "code",
   "execution_count": 62,
   "id": "8b32249e-b27e-4bbd-9941-c81d5b2f6b5f",
   "metadata": {},
   "outputs": [
    {
     "data": {
      "text/plain": [
       "[(1, 2, 3),\n",
       " (1, 3, 2),\n",
       " (1, 6, 2),\n",
       " (2, 5, 2),\n",
       " (3, 2, 1),\n",
       " (3, 4, 4),\n",
       " (4, 5, 3),\n",
       " (5, 1, 5),\n",
       " (6, 4, 1),\n",
       " (6, 5, 3),\n",
       " (6, 7, 4),\n",
       " (7, 3, 6)]"
      ]
     },
     "execution_count": 62,
     "metadata": {},
     "output_type": "execute_result"
    }
   ],
   "source": [
    "graph"
   ]
  },
  {
   "cell_type": "code",
   "execution_count": 63,
   "id": "4d98ce59-d659-403b-bca1-930b61c38d40",
   "metadata": {},
   "outputs": [
    {
     "name": "stdout",
     "output_type": "stream",
     "text": [
      "13\n"
     ]
    }
   ],
   "source": [
    "result = 0\n",
    "last = 0\n",
    "for i in range(1,n+1):\n",
    "    parent[i] = i\n",
    "\n",
    "for node in graph:\n",
    "    cost, a, b = node\n",
    "    if find_parent(parent, a) != find_parent(parent, b):\n",
    "        union(parent, a, b)\n",
    "        result+=cost\n",
    "        last= cost\n",
    "print(result-last)"
   ]
  },
  {
   "cell_type": "code",
   "execution_count": 58,
   "id": "7f9538af-0de9-40dc-b1b4-03fe94d014b0",
   "metadata": {},
   "outputs": [
    {
     "data": {
      "text/plain": [
       "19"
      ]
     },
     "execution_count": 58,
     "metadata": {},
     "output_type": "execute_result"
    }
   ],
   "source": [
    "result"
   ]
  },
  {
   "cell_type": "code",
   "execution_count": 59,
   "id": "000cb20c-7a40-458f-85aa-9559dcf4a4d6",
   "metadata": {},
   "outputs": [
    {
     "data": {
      "text/plain": [
       "6"
      ]
     },
     "execution_count": 59,
     "metadata": {},
     "output_type": "execute_result"
    }
   ],
   "source": [
    "last"
   ]
  },
  {
   "cell_type": "code",
   "execution_count": null,
   "id": "12117cc6-1e17-40af-8c1e-1086afaaf21a",
   "metadata": {},
   "outputs": [],
   "source": []
  }
 ],
 "metadata": {
  "kernelspec": {
   "display_name": "Python 3",
   "language": "python",
   "name": "python3"
  },
  "language_info": {
   "codemirror_mode": {
    "name": "ipython",
    "version": 3
   },
   "file_extension": ".py",
   "mimetype": "text/x-python",
   "name": "python",
   "nbconvert_exporter": "python",
   "pygments_lexer": "ipython3",
   "version": "3.9.2"
  }
 },
 "nbformat": 4,
 "nbformat_minor": 5
}
