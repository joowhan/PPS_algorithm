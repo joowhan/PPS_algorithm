{
 "cells": [
  {
   "cell_type": "code",
   "execution_count": 6,
   "id": "1dad68b5-994b-4ad4-9f59-cde0a8a40919",
   "metadata": {},
   "outputs": [],
   "source": [
    "def find_parent(parent, x):\n",
    "    if parent[x] !=x:\n",
    "        parent[x] = find_parent(parent, parent[x])\n",
    "    return parent[x]"
   ]
  },
  {
   "cell_type": "code",
   "execution_count": 7,
   "id": "35758bc0-8d3a-4df5-9d18-acb16c5867cb",
   "metadata": {},
   "outputs": [],
   "source": [
    "def union(parent, a, b):\n",
    "    x = find_parent(parent, a)\n",
    "    y = find_parent(parent, b)\n",
    "    if x<y:\n",
    "        parent[y] = x\n",
    "    else:\n",
    "        parent[x] = y"
   ]
  },
  {
   "cell_type": "code",
   "execution_count": 12,
   "id": "93a24076-5266-4a54-996a-92939d5c23a4",
   "metadata": {},
   "outputs": [
    {
     "name": "stdin",
     "output_type": "stream",
     "text": [
      " 7 8\n",
      " 0 1 3\n",
      " 1 1 7\n",
      " 0 7 6\n",
      " 1 7 1\n",
      " 0 3 7\n",
      " 0 4 2\n",
      " 0 1 1\n",
      " 1 1 1\n"
     ]
    }
   ],
   "source": [
    "n,m = map(int, input().split())\n",
    "parent=[0]*(n+1)\n",
    "for i in range(n+1):\n",
    "    parent[i] = i\n",
    "result = []\n",
    "for i in range(m):\n",
    "    cmd, a, b = map(int, input().split())\n",
    "    if cmd == 0:\n",
    "        union(parent, a,b)\n",
    "    else:\n",
    "        if find_parent(parent, a) != find_parent(parent, b):\n",
    "            #print(\"NO\")\n",
    "            result.append(\"NO\")\n",
    "        else:\n",
    "            result.append(\"YES\")"
   ]
  },
  {
   "cell_type": "code",
   "execution_count": 15,
   "id": "9845005e-5b84-4ffd-b20b-5ebcf69935c6",
   "metadata": {},
   "outputs": [
    {
     "name": "stdout",
     "output_type": "stream",
     "text": [
      "NO\n",
      "NO\n",
      "YES\n"
     ]
    }
   ],
   "source": [
    "for i in result:\n",
    "    print(i)"
   ]
  },
  {
   "cell_type": "code",
   "execution_count": null,
   "id": "efbe5b42-a9dc-4f30-8cc7-33368dfc4d70",
   "metadata": {},
   "outputs": [],
   "source": []
  }
 ],
 "metadata": {
  "kernelspec": {
   "display_name": "Python 3",
   "language": "python",
   "name": "python3"
  },
  "language_info": {
   "codemirror_mode": {
    "name": "ipython",
    "version": 3
   },
   "file_extension": ".py",
   "mimetype": "text/x-python",
   "name": "python",
   "nbconvert_exporter": "python",
   "pygments_lexer": "ipython3",
   "version": "3.9.2"
  }
 },
 "nbformat": 4,
 "nbformat_minor": 5
}
