{
 "cells": [
  {
   "cell_type": "markdown",
   "id": "9a4213d2-b17b-487f-a92a-a85477b6b738",
   "metadata": {},
   "source": [
    "https://www.acmicpc.net/problem/1302"
   ]
  },
  {
   "cell_type": "markdown",
   "id": "26e6af5d-323b-4bec-a4a1-f77785a3b18e",
   "metadata": {},
   "source": [
    "김형택은 탑문고의 직원이다. 김형택은 계산대에서 계산을 하는 직원이다. 김형택은 그날 근무가 끝난 후에, 오늘 판매한 책의 제목을 보면서 가장 많이 팔린 책의 제목을 칠판에 써놓는 일도 같이 하고 있다.\n",
    "\n",
    "오늘 하루 동안 팔린 책의 제목이 입력으로 들어왔을 때, 가장 많이 팔린 책의 제목을 출력하는 프로그램을 작성하시오."
   ]
  },
  {
   "cell_type": "markdown",
   "id": "06f68995-6188-41db-9f21-ec0a919a3945",
   "metadata": {},
   "source": [
    "5 <br>\n",
    "top<br>\n",
    "top<br>\n",
    "top<br>\n",
    "top<br>\n",
    "kimtop<br>"
   ]
  },
  {
   "cell_type": "code",
   "execution_count": 43,
   "id": "031f3b9c-d124-4000-90f0-876a022899f6",
   "metadata": {},
   "outputs": [
    {
     "name": "stdin",
     "output_type": "stream",
     "text": [
      " 8\n",
      " icecream\n",
      " peanuts\n",
      " peanuts\n",
      " chocolate\n",
      " candy\n",
      " chocolate\n",
      " icecream\n",
      " apple\n"
     ]
    }
   ],
   "source": [
    "n = int(input())\n",
    "dic = {}\n",
    "for i in range(n):\n",
    "    book = input()\n",
    "    if book in dic:\n",
    "        dic[book] +=1\n",
    "    else:\n",
    "        dic[book] = 1"
   ]
  },
  {
   "cell_type": "code",
   "execution_count": 44,
   "id": "fa95b2e7-7733-4098-917e-1ad50b8ddbdb",
   "metadata": {},
   "outputs": [],
   "source": [
    "res = sorted(dic.items(), key = lambda x:x[1], reverse = True)"
   ]
  },
  {
   "cell_type": "code",
   "execution_count": 45,
   "id": "90a0d947-a5e9-4730-af93-6e2e103864b7",
   "metadata": {},
   "outputs": [],
   "source": [
    "lis=[]\n",
    "for i in range(len(res)):\n",
    "    if res[i][1] < res[0][1]:\n",
    "        break\n",
    "    else:\n",
    "        lis.append(res[i][0])"
   ]
  },
  {
   "cell_type": "code",
   "execution_count": 46,
   "id": "279a4219-7e3c-426a-8205-4db1f96eb6bd",
   "metadata": {},
   "outputs": [
    {
     "data": {
      "text/plain": [
       "5"
      ]
     },
     "execution_count": 46,
     "metadata": {},
     "output_type": "execute_result"
    }
   ],
   "source": [
    "len(res)"
   ]
  },
  {
   "cell_type": "code",
   "execution_count": 47,
   "id": "76a41433-9786-456a-b8e6-d87f7ac4f3d9",
   "metadata": {},
   "outputs": [],
   "source": [
    "lis.sort()"
   ]
  },
  {
   "cell_type": "code",
   "execution_count": 48,
   "id": "9922a77d-eab1-4321-9609-5d2030719bd5",
   "metadata": {},
   "outputs": [
    {
     "data": {
      "text/plain": [
       "'chocolate'"
      ]
     },
     "execution_count": 48,
     "metadata": {},
     "output_type": "execute_result"
    }
   ],
   "source": [
    "lis[0]"
   ]
  },
  {
   "cell_type": "code",
   "execution_count": 50,
   "id": "36feacd3-86b2-4b88-958d-6dc7907f7ad5",
   "metadata": {},
   "outputs": [
    {
     "data": {
      "text/plain": [
       "[('icecream', 2), ('peanuts', 2), ('chocolate', 2), ('candy', 1), ('apple', 1)]"
      ]
     },
     "execution_count": 50,
     "metadata": {},
     "output_type": "execute_result"
    }
   ],
   "source": [
    "dic"
   ]
  },
  {
   "cell_type": "code",
   "execution_count": null,
   "id": "c97f4030-ad56-4cd7-8944-99f3fce7fd1e",
   "metadata": {},
   "outputs": [],
   "source": []
  }
 ],
 "metadata": {
  "kernelspec": {
   "display_name": "Python 3",
   "language": "python",
   "name": "python3"
  },
  "language_info": {
   "codemirror_mode": {
    "name": "ipython",
    "version": 3
   },
   "file_extension": ".py",
   "mimetype": "text/x-python",
   "name": "python",
   "nbconvert_exporter": "python",
   "pygments_lexer": "ipython3",
   "version": "3.9.2"
  }
 },
 "nbformat": 4,
 "nbformat_minor": 5
}
