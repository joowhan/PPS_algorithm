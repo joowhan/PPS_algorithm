{
 "cells": [
  {
   "cell_type": "code",
   "execution_count": 2,
   "id": "29decc2d-18ea-406a-b668-ff3187dc6dee",
   "metadata": {},
   "outputs": [
    {
     "name": "stdin",
     "output_type": "stream",
     "text": [
      " 4 6\n"
     ]
    }
   ],
   "source": [
    "n,m = map(int, input().split())"
   ]
  },
  {
   "cell_type": "code",
   "execution_count": 5,
   "id": "4d935f7d-0767-44ad-850c-db52c05299a9",
   "metadata": {},
   "outputs": [
    {
     "name": "stdin",
     "output_type": "stream",
     "text": [
      " 19 15 10 17\n"
     ]
    }
   ],
   "source": [
    "ricecake = list(map(int,input().split()))"
   ]
  },
  {
   "cell_type": "code",
   "execution_count": 16,
   "id": "72caaa79-82ab-4041-bd31-adbe9afc815f",
   "metadata": {},
   "outputs": [],
   "source": [
    "start = 0\n",
    "end = max(ricecake)\n",
    "result = 0\n",
    "\n",
    "while start <= end:\n",
    "    temp = 0\n",
    "    mid = (start+end)//2\n",
    "    for cake in ricecake:\n",
    "        if cake>=mid:\n",
    "            temp += cake - mid\n",
    "    if temp < m:\n",
    "        end = mid -1\n",
    "    else:\n",
    "        result  = mid\n",
    "        start = mid +1"
   ]
  },
  {
   "cell_type": "code",
   "execution_count": 17,
   "id": "83b5097b-8a11-4452-992e-7c4993473b87",
   "metadata": {},
   "outputs": [
    {
     "data": {
      "text/plain": [
       "15"
      ]
     },
     "execution_count": 17,
     "metadata": {},
     "output_type": "execute_result"
    }
   ],
   "source": [
    "result"
   ]
  },
  {
   "cell_type": "code",
   "execution_count": 15,
   "id": "41499f1b-9d70-4350-850b-89d64c2d18a8",
   "metadata": {},
   "outputs": [
    {
     "data": {
      "text/plain": [
       "[19, 15, 10, 17]"
      ]
     },
     "execution_count": 15,
     "metadata": {},
     "output_type": "execute_result"
    }
   ],
   "source": []
  },
  {
   "cell_type": "code",
   "execution_count": null,
   "id": "c0b76093-16d2-4d1f-8a49-e8ad4e7fdef0",
   "metadata": {},
   "outputs": [],
   "source": []
  }
 ],
 "metadata": {
  "kernelspec": {
   "display_name": "Python 3",
   "language": "python",
   "name": "python3"
  },
  "language_info": {
   "codemirror_mode": {
    "name": "ipython",
    "version": 3
   },
   "file_extension": ".py",
   "mimetype": "text/x-python",
   "name": "python",
   "nbconvert_exporter": "python",
   "pygments_lexer": "ipython3",
   "version": "3.9.2"
  }
 },
 "nbformat": 4,
 "nbformat_minor": 5
}
