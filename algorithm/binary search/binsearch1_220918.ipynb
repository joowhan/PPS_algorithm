{
 "cells": [
  {
   "cell_type": "markdown",
   "id": "08b31629-f41a-4456-b358-27c6ea644557",
   "metadata": {},
   "source": [
    "## 이진 탐색은 외워야 한다."
   ]
  },
  {
   "cell_type": "code",
   "execution_count": 2,
   "id": "18fd0b9e-9dc5-449c-a5e3-dfbeaa6076d1",
   "metadata": {},
   "outputs": [],
   "source": [
    "def binary_search(array, target, start, end):\n",
    "    if start > end:\n",
    "        return None;\n",
    "    mid = (start+end)//2\n",
    "    if array[mid] == target:\n",
    "        return mid\n",
    "    elif array[mid] > target:\n",
    "        return binary_search(array, target, start, mid-1)\n",
    "    else:\n",
    "        return binary_search(array, target, mid+1, end)"
   ]
  },
  {
   "cell_type": "code",
   "execution_count": 3,
   "id": "97962169-f7e4-4abd-b083-d343f9b31662",
   "metadata": {},
   "outputs": [
    {
     "name": "stdin",
     "output_type": "stream",
     "text": [
      " 5\n",
      " 8 3 7 9 2\n",
      " 3\n",
      " 5 7 9\n"
     ]
    }
   ],
   "source": [
    "n = int(input())\n",
    "dongbin = list(map(int, input().split()))\n",
    "m = int(input())\n",
    "customer = list(map(int, input().split()))\n",
    "dongbin.sort()"
   ]
  },
  {
   "cell_type": "code",
   "execution_count": 4,
   "id": "57ba8d13-d504-4441-ada9-2b23869caa80",
   "metadata": {},
   "outputs": [
    {
     "data": {
      "text/plain": [
       "[2, 3, 7, 8, 9]"
      ]
     },
     "execution_count": 4,
     "metadata": {},
     "output_type": "execute_result"
    }
   ],
   "source": [
    "dongbin"
   ]
  },
  {
   "cell_type": "code",
   "execution_count": 5,
   "id": "38ba45b1-8969-42dd-a07f-3e64d76fcd40",
   "metadata": {},
   "outputs": [],
   "source": [
    "def binary_search(array, target, start, end):\n",
    "    if start>end:\n",
    "        return False\n",
    "    mid = (start+end)//2\n",
    "    if array[mid]==target:\n",
    "        return mid\n",
    "    elif array[mid]>target:\n",
    "        return binary_search(array,target,start, mid-1)\n",
    "    else:\n",
    "        return binary_search(array,target, mid+1, end)"
   ]
  },
  {
   "cell_type": "code",
   "execution_count": 6,
   "id": "c4883b84-2203-4875-b366-d49a8f526a7a",
   "metadata": {},
   "outputs": [
    {
     "name": "stdout",
     "output_type": "stream",
     "text": [
      "no yes yes "
     ]
    }
   ],
   "source": [
    "for i in range(m):\n",
    "    if binary_search(dongbin, customer[i], 0, n-1):\n",
    "        print(\"yes\", end=' ')\n",
    "    else:\n",
    "        print(\"no\", end=' ')"
   ]
  },
  {
   "cell_type": "code",
   "execution_count": null,
   "id": "2b4fc292-b302-4886-9920-26e05696304b",
   "metadata": {},
   "outputs": [],
   "source": []
  }
 ],
 "metadata": {
  "kernelspec": {
   "display_name": "Python 3",
   "language": "python",
   "name": "python3"
  },
  "language_info": {
   "codemirror_mode": {
    "name": "ipython",
    "version": 3
   },
   "file_extension": ".py",
   "mimetype": "text/x-python",
   "name": "python",
   "nbconvert_exporter": "python",
   "pygments_lexer": "ipython3",
   "version": "3.9.2"
  }
 },
 "nbformat": 4,
 "nbformat_minor": 5
}
