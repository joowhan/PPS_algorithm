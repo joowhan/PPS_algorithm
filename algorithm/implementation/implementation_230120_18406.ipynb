{
 "cells": [
  {
   "cell_type": "markdown",
   "id": "f7ada28c-be55-4832-9582-1736333e738d",
   "metadata": {},
   "source": [
    "https://www.acmicpc.net/problem/18406"
   ]
  },
  {
   "cell_type": "markdown",
   "id": "b65068a2-8612-46cb-b70d-876d6cce95db",
   "metadata": {},
   "source": [
    "어떤 게임의 아웃복서 캐릭터에게는 럭키 스트레이트라는 기술이 존재한다. 이 기술은 매우 강력한 대신에 항상 사용할 수는 없으며, 현재 게임 내에서 점수가 특정 조건을 만족할 때만 사용할 수 있다. <br>\n",
    "\n",
    "특정 조건이란 현재 캐릭터의 점수를 N이라고 할 때 점수 N을 자릿수를 기준으로 반으로 나누어 왼쪽 부분의 각 자릿수의 합과 오른쪽 부분의 각 자릿수의 합을 더한 값이 동일한 상황을 의미한다.<br>\n",
    "예를 들어 현재 점수가 123,402라면 왼쪽 부분의 각 자릿수의 합은 1+2+3, 오른쪽 부분의 각 자릿수의 합은 4+0+2이므로 두 합이 6으로 동일하여 럭키 스트레이트를 사용할 수 있다.<br>\n",
    "\n",
    "현재 점수 N이 주어졌을 때, 럭키 스트레이트를 사용할 수 있는 상태인지 아닌지를 알려주는 프로그램을 작성하시오. <br>\n",
    "럭키 스트레이트를 사용할 수 있다면 \"LUCKY\"를, 사용할 수 없다면 \"READY\"라는 단어를 출력한다. 또한 점수 N의 자릿수는 항상 짝수 형태로만 주어진다. <br>\n",
    "예를 들어 자릿수가 5인 12,345와 같은 수는 입력으로 들어오지 않는다.<br>"
   ]
  },
  {
   "cell_type": "code",
   "execution_count": 1,
   "id": "0667011f-9393-4d30-af57-b3d335cdbeba",
   "metadata": {},
   "outputs": [
    {
     "name": "stdin",
     "output_type": "stream",
     "text": [
      " 123402\n"
     ]
    }
   ],
   "source": [
    "num = list(map(int, input()))"
   ]
  },
  {
   "cell_type": "code",
   "execution_count": 6,
   "id": "8112152b-4216-43d9-8584-832ba3ac5952",
   "metadata": {},
   "outputs": [
    {
     "name": "stdout",
     "output_type": "stream",
     "text": [
      "LUCKY\n"
     ]
    }
   ],
   "source": [
    "median = len(num)//2\n",
    "left = sum(num[:median])\n",
    "right = sum(num[median:])\n",
    "if left == right:\n",
    "    print(\"LUCKY\")\n",
    "else:\n",
    "    print(\"READY\")"
   ]
  }
 ],
 "metadata": {
  "kernelspec": {
   "display_name": "Python 3",
   "language": "python",
   "name": "python3"
  },
  "language_info": {
   "codemirror_mode": {
    "name": "ipython",
    "version": 3
   },
   "file_extension": ".py",
   "mimetype": "text/x-python",
   "name": "python",
   "nbconvert_exporter": "python",
   "pygments_lexer": "ipython3",
   "version": "3.9.2"
  }
 },
 "nbformat": 4,
 "nbformat_minor": 5
}
