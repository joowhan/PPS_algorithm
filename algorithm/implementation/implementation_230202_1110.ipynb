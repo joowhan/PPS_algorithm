{
 "cells": [
  {
   "cell_type": "code",
   "execution_count": 1,
   "metadata": {},
   "outputs": [
    {
     "name": "stdin",
     "output_type": "stream",
     "text": [
      " 26\n"
     ]
    },
    {
     "name": "stdout",
     "output_type": "stream",
     "text": [
      "4\n"
     ]
    }
   ],
   "source": [
    "# Q2 Answer template\n",
    "\n",
    "N = input()\n",
    "\n",
    "count = 0\n",
    "if len(N)<2:\n",
    "    N = '0'+N\n",
    "origin = N\n",
    "modified = origin\n",
    "while True:\n",
    "    count +=1\n",
    "    if len(modified)<2:\n",
    "        modified = '0'+modified\n",
    "    a = str(int(modified[0])+int(modified[1]))\n",
    "    modified = modified[-1]+str(a[-1])\n",
    "    if modified == origin:\n",
    "        break\n",
    "\n",
    "print(count)"
   ]
  },
  {
   "cell_type": "code",
   "execution_count": null,
   "metadata": {},
   "outputs": [],
   "source": []
  }
 ],
 "metadata": {
  "kernelspec": {
   "display_name": "Python 3",
   "language": "python",
   "name": "python3"
  },
  "language_info": {
   "codemirror_mode": {
    "name": "ipython",
    "version": 3
   },
   "file_extension": ".py",
   "mimetype": "text/x-python",
   "name": "python",
   "nbconvert_exporter": "python",
   "pygments_lexer": "ipython3",
   "version": "3.8.5"
  }
 },
 "nbformat": 4,
 "nbformat_minor": 4
}
