{
 "cells": [
  {
   "cell_type": "code",
   "execution_count": 1,
   "id": "5335bb00-e32e-410c-a178-cdc41974d0a0",
   "metadata": {},
   "outputs": [
    {
     "name": "stdin",
     "output_type": "stream",
     "text": [
      " K1KA5CB7\n"
     ]
    }
   ],
   "source": [
    "lis = list(input())"
   ]
  },
  {
   "cell_type": "code",
   "execution_count": 7,
   "id": "7e9898b7-7b42-4d05-9d81-0e5b4e0616a3",
   "metadata": {},
   "outputs": [
    {
     "data": {
      "text/plain": [
       "'ABCKK13'"
      ]
     },
     "execution_count": 7,
     "metadata": {},
     "output_type": "execute_result"
    }
   ],
   "source": [
    "num = 0\n",
    "result=[]\n",
    "for i in range(len(lis)):\n",
    "    if lis[i].isdigit():\n",
    "        num += int(lis[i])\n",
    "    else:\n",
    "        result.append(lis[i])\n",
    "result.sort()\n",
    "result.append(str(num))\n",
    "''.join(result)"
   ]
  },
  {
   "cell_type": "code",
   "execution_count": null,
   "id": "4d63bd99-ff23-4c05-8b83-2616c21b4c8f",
   "metadata": {},
   "outputs": [],
   "source": []
  }
 ],
 "metadata": {
  "kernelspec": {
   "display_name": "Python 3",
   "language": "python",
   "name": "python3"
  },
  "language_info": {
   "codemirror_mode": {
    "name": "ipython",
    "version": 3
   },
   "file_extension": ".py",
   "mimetype": "text/x-python",
   "name": "python",
   "nbconvert_exporter": "python",
   "pygments_lexer": "ipython3",
   "version": "3.9.2"
  }
 },
 "nbformat": 4,
 "nbformat_minor": 5
}
