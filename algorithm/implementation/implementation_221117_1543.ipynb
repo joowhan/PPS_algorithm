{
 "cells": [
  {
   "cell_type": "markdown",
   "id": "c4eef255-8b62-434a-a16b-453f935d757d",
   "metadata": {},
   "source": [
    "https://www.acmicpc.net/problem/1543"
   ]
  },
  {
   "cell_type": "markdown",
   "id": "b123aba3-f920-4da2-ae4c-90f0afdf5bb1",
   "metadata": {},
   "source": [
    "세준이는 영어로만 이루어진 어떤 문서를 검색하는 함수를 만들려고 한다. 이 함수는 어떤 단어가 총 몇 번 등장하는지 세려고 한다. 그러나, 세준이의 함수는 중복되어 세는 것은 빼고 세야 한다.<br>\n",
    "예를 들어, 문서가 abababa이고, 그리고 찾으려는 단어가 ababa라면, 세준이의 이 함수는 이 단어를 0번부터 찾을 수 있고, 2번부터도 찾을 수 있다. 그러나 동시에 셀 수는 없다.\n",
    "\n",
    "세준이는 문서와 검색하려는 단어가 주어졌을 때, 그 단어가 최대 몇 번 중복되지 않게 등장하는지 구하는 프로그램을 작성하시오."
   ]
  },
  {
   "cell_type": "code",
   "execution_count": 9,
   "id": "98ed05d4-63b6-4a2f-8ca9-0c97514f4142",
   "metadata": {},
   "outputs": [
    {
     "name": "stdin",
     "output_type": "stream",
     "text": [
      " a a a a a a\n",
      " a a\n"
     ]
    }
   ],
   "source": [
    "doc = input()\n",
    "word = input()"
   ]
  },
  {
   "cell_type": "code",
   "execution_count": 10,
   "id": "b79ee94f-8f2b-4bca-8a04-9361c9a51cbc",
   "metadata": {},
   "outputs": [],
   "source": [
    "length = len(word)"
   ]
  },
  {
   "cell_type": "code",
   "execution_count": 12,
   "id": "28ee83d4-1a3b-4b24-9950-8e57a33bf792",
   "metadata": {},
   "outputs": [
    {
     "name": "stdout",
     "output_type": "stream",
     "text": [
      "1\n"
     ]
    }
   ],
   "source": [
    "count = 0\n",
    "while i <= (len(doc)-length):\n",
    "    if word == doc[i:length+i]:\n",
    "        count +=1\n",
    "        i += length\n",
    "    else:\n",
    "        i +=1\n",
    "print(count)"
   ]
  },
  {
   "cell_type": "code",
   "execution_count": null,
   "id": "392c02f5-7b10-490d-81f1-b3422c34fe0f",
   "metadata": {},
   "outputs": [],
   "source": []
  }
 ],
 "metadata": {
  "kernelspec": {
   "display_name": "Python 3",
   "language": "python",
   "name": "python3"
  },
  "language_info": {
   "codemirror_mode": {
    "name": "ipython",
    "version": 3
   },
   "file_extension": ".py",
   "mimetype": "text/x-python",
   "name": "python",
   "nbconvert_exporter": "python",
   "pygments_lexer": "ipython3",
   "version": "3.9.2"
  }
 },
 "nbformat": 4,
 "nbformat_minor": 5
}
