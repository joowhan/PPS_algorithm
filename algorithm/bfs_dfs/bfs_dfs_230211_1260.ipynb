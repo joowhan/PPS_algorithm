{
 "cells": [
  {
   "cell_type": "markdown",
   "id": "e398d61e-1e1e-451c-8e70-516f14bb4fbc",
   "metadata": {},
   "source": [
    "https://www.acmicpc.net/problem/1260"
   ]
  },
  {
   "cell_type": "markdown",
   "id": "a221bf36-c67a-438e-80d2-adbbab084819",
   "metadata": {},
   "source": [
    "그래프를 DFS로 탐색한 결과와 BFS로 탐색한 결과를 출력하는 프로그램을 작성하시오. <br>\n",
    "단, 방문할 수 있는 정점이 여러 개인 경우에는 정점 번호가 작은 것을 먼저 방문하고, 더 이상 방문할 수 있는 점이 없는 경우 종료한다. 정점 번호는 1번부터 N번까지이다."
   ]
  },
  {
   "cell_type": "code",
   "execution_count": 17,
   "id": "5dd70b8d-05ee-4e93-9101-fc64acb6f14c",
   "metadata": {},
   "outputs": [],
   "source": [
    "import sys\n",
    "sys.setrecursionlimit(10000)\n",
    "def dfs(start, visited, graph):\n",
    "    visited[start] = True\n",
    "    print(start, end=' ')\n",
    "    for i in graph[start]:\n",
    "        if not visited[i]:\n",
    "            visited[i] = True\n",
    "            dfs(i, visited, graph)"
   ]
  },
  {
   "cell_type": "code",
   "execution_count": null,
   "id": "3a43d32d-f78e-4e9c-9a5a-2db874d82544",
   "metadata": {},
   "outputs": [],
   "source": [
    "from collections import deque\n",
    "\n",
    "def bfs(start, visited, graph):"
   ]
  },
  {
   "cell_type": "code",
   "execution_count": 3,
   "id": "a88cb780-ed95-4ba0-8419-34ef13823257",
   "metadata": {},
   "outputs": [
    {
     "name": "stdin",
     "output_type": "stream",
     "text": [
      " 4 5 1\n",
      " 1 2\n",
      " 1 3\n",
      " 1 4\n",
      " 2 4\n",
      " 3 4\n"
     ]
    }
   ],
   "source": [
    "n,m,v = map(int, input().split())\n",
    "graph=[[] for _ in range(n+1)]\n",
    "for i in range(n+1):\n",
    "    a,b = map(int, input().split())\n",
    "    graph[a].append(b)"
   ]
  },
  {
   "cell_type": "code",
   "execution_count": 11,
   "id": "4453a0ec-4fb0-4c01-a3bc-9b9ca515def5",
   "metadata": {},
   "outputs": [
    {
     "name": "stdout",
     "output_type": "stream",
     "text": [
      "1 2 4 3 "
     ]
    }
   ],
   "source": [
    "visited = [False]*(n+1)\n",
    "dfs(v,visited,graph)\n",
    "visited = [False]*(n+1)\n",
    "bfs(v, visited, graph)"
   ]
  },
  {
   "cell_type": "code",
   "execution_count": 6,
   "id": "cdcf6899-cc4c-4043-b7ef-70e3d11cf68d",
   "metadata": {},
   "outputs": [
    {
     "data": {
      "text/plain": [
       "[False, False, False, False, False]"
      ]
     },
     "execution_count": 6,
     "metadata": {},
     "output_type": "execute_result"
    }
   ],
   "source": [
    "visited"
   ]
  },
  {
   "cell_type": "code",
   "execution_count": 7,
   "id": "7f4edc73-570d-4ab6-8ce4-deeeff29767b",
   "metadata": {},
   "outputs": [
    {
     "data": {
      "text/plain": [
       "[[], [2, 3, 4], [4], [4], []]"
      ]
     },
     "execution_count": 7,
     "metadata": {},
     "output_type": "execute_result"
    }
   ],
   "source": [
    "graph"
   ]
  },
  {
   "cell_type": "code",
   "execution_count": null,
   "id": "1eb7802d-efb4-445a-ad26-f5b64f463492",
   "metadata": {},
   "outputs": [],
   "source": []
  }
 ],
 "metadata": {
  "kernelspec": {
   "display_name": "Python 3",
   "language": "python",
   "name": "python3"
  },
  "language_info": {
   "codemirror_mode": {
    "name": "ipython",
    "version": 3
   },
   "file_extension": ".py",
   "mimetype": "text/x-python",
   "name": "python",
   "nbconvert_exporter": "python",
   "pygments_lexer": "ipython3",
   "version": "3.9.2"
  }
 },
 "nbformat": 4,
 "nbformat_minor": 5
}
