{
 "cells": [
  {
   "cell_type": "markdown",
   "id": "58adba40-7408-45b8-bd94-a8465615994b",
   "metadata": {},
   "source": [
    "https://www.acmicpc.net/problem/1240"
   ]
  },
  {
   "cell_type": "markdown",
   "id": "bf2bd291-48d6-47ee-bacc-aef4439e49f6",
   "metadata": {},
   "source": [
    "N(2≤N≤1,000)개의 노드로 이루어진 트리가 주어지고 M(M≤1,000)개의 두 노드 쌍을 입력받을 때 두 노드 사이의 거리를 출력하라."
   ]
  },
  {
   "cell_type": "code",
   "execution_count": 11,
   "id": "6cda1b6d-caf6-4282-b320-3e61b905b0e5",
   "metadata": {},
   "outputs": [
    {
     "name": "stdin",
     "output_type": "stream",
     "text": [
      " 4 2\n",
      " 2 1 2\n",
      " 4 3 2\n",
      " 1 4 3\n"
     ]
    }
   ],
   "source": [
    "n,m = map(int, input().split())\n",
    "graph = [[] for _ in range(n+1)]\n",
    "for i in range(n-1):\n",
    "    a,b,c = map(int, input().split())\n",
    "    graph[a].append((b,c))\n",
    "    graph[b].append((a,c))"
   ]
  },
  {
   "cell_type": "code",
   "execution_count": 33,
   "id": "033ba65b-42af-4418-97e4-d52831e665a8",
   "metadata": {},
   "outputs": [],
   "source": [
    "#dfs 혹은 floyd로 풀 수 있을 거 같다.\n",
    "visited = [False]*(n+1)\n",
    "def dfs(node, dist, end):\n",
    "    distance = 0\n",
    "    if visited[node] ==True or visited[node] == end:\n",
    "        return dist\n",
    "    if visited[node] == False:\n",
    "        visited[node] = True\n",
    "        for linked in graph[node]:\n",
    "            distance += dfs(linked[0], linked[1], end)\n",
    "            print(\"curr: \",linked[0], \" cost: \", linked[1],distance)\n",
    "    return dist"
   ]
  },
  {
   "cell_type": "code",
   "execution_count": 34,
   "id": "bae6f6d9-8646-41ed-b55d-a382057ccf0d",
   "metadata": {},
   "outputs": [
    {
     "data": {
      "text/plain": [
       "[[], [(2, 2), (4, 3)], [(1, 2)], [(4, 2)], [(3, 2), (1, 3)]]"
      ]
     },
     "execution_count": 34,
     "metadata": {},
     "output_type": "execute_result"
    }
   ],
   "source": [
    "graph"
   ]
  },
  {
   "cell_type": "code",
   "execution_count": 35,
   "id": "52992045-2479-4e7c-8c35-dccdc02525de",
   "metadata": {},
   "outputs": [
    {
     "name": "stdin",
     "output_type": "stream",
     "text": [
      " 1 2\n"
     ]
    },
    {
     "name": "stdout",
     "output_type": "stream",
     "text": [
      "curr:  1  cost:  2 2\n",
      "curr:  2  cost:  2 2\n",
      "curr:  4  cost:  2 2\n",
      "curr:  3  cost:  2 2\n",
      "curr:  1  cost:  3 5\n",
      "curr:  4  cost:  3 5\n",
      "0\n"
     ]
    },
    {
     "name": "stdin",
     "output_type": "stream",
     "text": [
      " 3 2\n"
     ]
    },
    {
     "name": "stdout",
     "output_type": "stream",
     "text": [
      "0\n"
     ]
    }
   ],
   "source": [
    "for i in range(m):\n",
    "    start, end = map(int, input().split())\n",
    "    result = dfs(start, 0, end)\n",
    "    print(result)"
   ]
  },
  {
   "cell_type": "code",
   "execution_count": null,
   "id": "e73c9833-ef70-41a3-9b55-8e619bb9de16",
   "metadata": {},
   "outputs": [],
   "source": [
    "#1에서 2로 가는 경로 기록한다.\n",
    "\n",
    "\n",
    "\n"
   ]
  }
 ],
 "metadata": {
  "kernelspec": {
   "display_name": "Python 3",
   "language": "python",
   "name": "python3"
  },
  "language_info": {
   "codemirror_mode": {
    "name": "ipython",
    "version": 3
   },
   "file_extension": ".py",
   "mimetype": "text/x-python",
   "name": "python",
   "nbconvert_exporter": "python",
   "pygments_lexer": "ipython3",
   "version": "3.9.2"
  }
 },
 "nbformat": 4,
 "nbformat_minor": 5
}
