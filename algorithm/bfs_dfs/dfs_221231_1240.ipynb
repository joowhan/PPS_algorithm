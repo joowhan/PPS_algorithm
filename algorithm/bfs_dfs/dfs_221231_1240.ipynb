{
 "cells": [
  {
   "cell_type": "markdown",
   "id": "58adba40-7408-45b8-bd94-a8465615994b",
   "metadata": {},
   "source": [
    "https://www.acmicpc.net/problem/1240"
   ]
  },
  {
   "cell_type": "markdown",
   "id": "bf2bd291-48d6-47ee-bacc-aef4439e49f6",
   "metadata": {},
   "source": [
    "N(2≤N≤1,000)개의 노드로 이루어진 트리가 주어지고 M(M≤1,000)개의 두 노드 쌍을 입력받을 때 두 노드 사이의 거리를 출력하라."
   ]
  },
  {
   "cell_type": "code",
   "execution_count": null,
   "id": "6cda1b6d-caf6-4282-b320-3e61b905b0e5",
   "metadata": {},
   "outputs": [],
   "source": []
  }
 ],
 "metadata": {
  "kernelspec": {
   "display_name": "Python 3",
   "language": "python",
   "name": "python3"
  },
  "language_info": {
   "codemirror_mode": {
    "name": "ipython",
    "version": 3
   },
   "file_extension": ".py",
   "mimetype": "text/x-python",
   "name": "python",
   "nbconvert_exporter": "python",
   "pygments_lexer": "ipython3",
   "version": "3.9.2"
  }
 },
 "nbformat": 4,
 "nbformat_minor": 5
}
