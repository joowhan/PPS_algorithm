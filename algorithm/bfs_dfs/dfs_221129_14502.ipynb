{
 "cells": [
  {
   "cell_type": "markdown",
   "metadata": {},
   "source": [
    "https://www.acmicpc.net/problem/14502"
   ]
  },
  {
   "cell_type": "markdown",
   "metadata": {},
   "source": [
    "인체에 치명적인 바이러스를 연구하던 연구소에서 바이러스가 유출되었다. 다행히 바이러스는 아직 퍼지지 않았고, 바이러스의 확산을 막기 위해서 연구소에 벽을 세우려고 한다.\n",
    "\n",
    "연구소는 크기가 N×M인 직사각형으로 나타낼 수 있으며, 직사각형은 1×1 크기의 정사각형으로 나누어져 있다. 연구소는 빈 칸, 벽으로 이루어져 있으며, 벽은 칸 하나를 가득 차지한다. \n",
    "\n",
    "일부 칸은 바이러스가 존재하며, 이 바이러스는 상하좌우로 인접한 빈 칸으로 모두 퍼져나갈 수 있다. 새로 세울 수 있는 벽의 개수는 3개이며, 꼭 3개를 세워야 한다.\n",
    "\n",
    "예를 들어, 아래와 같이 연구소가 생긴 경우를 살펴보자.\n",
    "\n",
    "벽을 3개 세운 뒤, 바이러스가 퍼질 수 없는 곳을 안전 영역이라고 한다. 위의 지도에서 안전 영역의 크기는 27이다.\n",
    "\n",
    "연구소의 지도가 주어졌을 때 얻을 수 있는 안전 영역 크기의 최댓값을 구하는 프로그램을 작성하시오."
   ]
  },
  {
   "cell_type": "markdown",
   "metadata": {},
   "source": [
    "2 0 0 0 1 1 0\\\n",
    "0 0 1 0 1 2 0\\\n",
    "0 1 1 0 1 0 0\\\n",
    "0 1 0 0 0 0 0\\\n",
    "0 0 0 0 0 1 1\\\n",
    "0 1 0 0 0 0 0\\\n",
    "0 1 0 0 0 0 0"
   ]
  },
  {
   "cell_type": "code",
   "execution_count": 2,
   "metadata": {},
   "outputs": [
    {
     "name": "stdin",
     "output_type": "stream",
     "text": [
      " 7 7\n"
     ]
    }
   ],
   "source": [
    "row, col = map(int, input().split())"
   ]
  },
  {
   "cell_type": "code",
   "execution_count": 4,
   "metadata": {},
   "outputs": [
    {
     "name": "stdin",
     "output_type": "stream",
     "text": [
      " 2 0 0 0 1 1 0\n",
      " 0 0 1 0 1 2 0\n",
      " 0 1 1 0 1 0 0\n",
      " 0 1 0 0 0 0 0\n",
      " 0 0 0 0 0 1 1\n",
      " 0 1 0 0 0 0 0\n",
      " 0 1 0 0 0 0 0\n"
     ]
    }
   ],
   "source": [
    "graph = []\n",
    "for i in range(row)):\n",
    "    graph.append(list(map(int, input().split())))"
   ]
  },
  {
   "cell_type": "code",
   "execution_count": 5,
   "metadata": {},
   "outputs": [
    {
     "data": {
      "text/plain": [
       "[[2, 0, 0, 0, 1, 1, 0],\n",
       " [0, 0, 1, 0, 1, 2, 0],\n",
       " [0, 1, 1, 0, 1, 0, 0],\n",
       " [0, 1, 0, 0, 0, 0, 0],\n",
       " [0, 0, 0, 0, 0, 1, 1],\n",
       " [0, 1, 0, 0, 0, 0, 0],\n",
       " [0, 1, 0, 0, 0, 0, 0]]"
      ]
     },
     "execution_count": 5,
     "metadata": {},
     "output_type": "execute_result"
    }
   ],
   "source": [
    "graph"
   ]
  },
  {
   "cell_type": "code",
   "execution_count": null,
   "metadata": {},
   "outputs": [],
   "source": []
  }
 ],
 "metadata": {
  "kernelspec": {
   "display_name": "Python 3",
   "language": "python",
   "name": "python3"
  },
  "language_info": {
   "codemirror_mode": {
    "name": "ipython",
    "version": 3
   },
   "file_extension": ".py",
   "mimetype": "text/x-python",
   "name": "python",
   "nbconvert_exporter": "python",
   "pygments_lexer": "ipython3",
   "version": "3.8.5"
  }
 },
 "nbformat": 4,
 "nbformat_minor": 5
}
