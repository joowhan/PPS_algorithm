{
 "cells": [
  {
   "cell_type": "markdown",
   "id": "356fe2c4-b1d0-44df-a876-67c18dc22b20",
   "metadata": {},
   "source": [
    "### 음료수 얼려 먹기\n",
    "#### **다시 풀어보기**"
   ]
  },
  {
   "cell_type": "code",
   "execution_count": null,
   "id": "f596bf73-f3f5-491b-a8f8-b6f8bf4ab7ce",
   "metadata": {},
   "outputs": [],
   "source": [
    "#dfs\n",
    "def dfs(graph, start, visited):\n",
    "    visited[v] = True\n",
    "    print(v, end=' ')\n",
    "    for i in graph[v]:\n",
    "        if not visited[i]:\n",
    "            dfs(graph,i,visited)"
   ]
  },
  {
   "cell_type": "code",
   "execution_count": 4,
   "id": "b9feb576-3ead-4030-a7ee-4a1359bb7ef9",
   "metadata": {},
   "outputs": [],
   "source": [
    "visited = [False]*9\n",
    "graph = [\n",
    "    [],\n",
    "    [2,3,8],\n",
    "]\n",
    "dfs(graph,1,visited)"
   ]
  },
  {
   "cell_type": "code",
   "execution_count": 2,
   "id": "5ac8d5c4-899a-4972-8fa3-d8f08b563ee2",
   "metadata": {},
   "outputs": [],
   "source": [
    "from collections import deque\n",
    "def bfs(graph, start, visited):\n",
    "    queue = deque([start])\n",
    "    visited[start] = True\n",
    "    while queue:\n",
    "        v = queue.popleft()\n",
    "        print(v, end=' ')\n",
    "        for i in graph[v]:\n",
    "            if not visited[i]:\n",
    "                queue.append(i)\n",
    "                visited[i] = True"
   ]
  },
  {
   "cell_type": "code",
   "execution_count": 10,
   "id": "4721c579-556d-41c4-b84f-6d23f4183bd5",
   "metadata": {},
   "outputs": [
    {
     "name": "stdin",
     "output_type": "stream",
     "text": [
      " 3 3\n",
      " 0 0 1\n",
      " 0 1 0\n",
      " 1 0 1\n"
     ]
    }
   ],
   "source": [
    "## Solution\n",
    "n,m = map(int, input().split())\n",
    "graph=[list(map(int, input().split())) for i in range(n)]\n",
    "def dfs(x,y):\n",
    "    if x<=-1 or x>=n or y<=-1 or y>=m:\n",
    "        return False\n",
    "    if graph[x][y] == 0:\n",
    "        graph[x][y] = 1\n",
    "        dfs(x-1,y)\n",
    "        dfs(x+1,y)\n",
    "        dfs(x,y-1)\n",
    "        dfs(x,y+1)\n",
    "        return True\n",
    "    return False"
   ]
  },
  {
   "cell_type": "code",
   "execution_count": 11,
   "id": "669ab8da-e63e-4ac9-8b41-7e7a65c04409",
   "metadata": {},
   "outputs": [
    {
     "name": "stdout",
     "output_type": "stream",
     "text": [
      "3\n"
     ]
    }
   ],
   "source": [
    "result = 0\n",
    "for i in range(n):\n",
    "    for j in range(m):\n",
    "        if dfs(i,j) == True:\n",
    "            result+=1\n",
    "print(result)"
   ]
  },
  {
   "cell_type": "code",
   "execution_count": 9,
   "id": "58dc844f-1b75-4060-a1fc-ec67c0dcde53",
   "metadata": {},
   "outputs": [
    {
     "data": {
      "text/plain": [
       "[[1], [10], [101]]"
      ]
     },
     "execution_count": 9,
     "metadata": {},
     "output_type": "execute_result"
    }
   ],
   "source": [
    "graph"
   ]
  },
  {
   "cell_type": "code",
   "execution_count": null,
   "id": "5847ac6b-4b16-478f-9f7f-303685c4a4f1",
   "metadata": {},
   "outputs": [],
   "source": []
  }
 ],
 "metadata": {
  "kernelspec": {
   "display_name": "Python 3",
   "language": "python",
   "name": "python3"
  },
  "language_info": {
   "codemirror_mode": {
    "name": "ipython",
    "version": 3
   },
   "file_extension": ".py",
   "mimetype": "text/x-python",
   "name": "python",
   "nbconvert_exporter": "python",
   "pygments_lexer": "ipython3",
   "version": "3.9.2"
  }
 },
 "nbformat": 4,
 "nbformat_minor": 5
}
