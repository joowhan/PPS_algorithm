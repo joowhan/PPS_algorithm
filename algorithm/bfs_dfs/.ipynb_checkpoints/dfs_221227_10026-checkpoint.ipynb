{
 "cells": [
  {
   "cell_type": "markdown",
   "id": "c00b0d1d-584a-4062-ac6a-f7b48a349634",
   "metadata": {},
   "source": [
    "https://www.acmicpc.net/problem/10026"
   ]
  },
  {
   "cell_type": "markdown",
   "id": "e2d57835-c430-470f-b898-5f0c8c87618b",
   "metadata": {},
   "source": [
    "적록색약은 빨간색과 초록색의 차이를 거의 느끼지 못한다. 따라서, 적록색약인 사람이 보는 그림은 아닌 사람이 보는 그림과는 좀 다를 수 있다.\n",
    "\n",
    "크기가 N×N인 그리드의 각 칸에 R(빨강), G(초록), B(파랑) 중 하나를 색칠한 그림이 있다. 그림은 몇 개의 구역으로 나뉘어져 있는데, 구역은 같은 색으로 이루어져 있다.<br> \n",
    "또, 같은 색상이 상하좌우로 인접해 있는 경우에 두 글자는 같은 구역에 속한다. (색상의 차이를 거의 느끼지 못하는 경우도 같은 색상이라 한다)"
   ]
  },
  {
   "cell_type": "code",
   "execution_count": 2,
   "id": "b805f5ef-e469-4725-b0b3-3922c06d1941",
   "metadata": {},
   "outputs": [
    {
     "name": "stdin",
     "output_type": "stream",
     "text": [
      " 5\n",
      " RRRBB\n",
      " GGBBB\n",
      " BBBRR\n",
      " BBRRR\n",
      " RRRRR\n"
     ]
    }
   ],
   "source": [
    "'''\n",
    "RRRBB\n",
    "GGBBB\n",
    "BBBRR\n",
    "BBRRR\n",
    "RRRRR\n",
    "'''\n",
    "import sys\n",
    "sys.setrecursionlimit(int(1e5))\n",
    "size = int(input())\n",
    "img = [list(input()) for _ in range(size)]"
   ]
  },
  {
   "cell_type": "code",
   "execution_count": 3,
   "id": "8bf58697-1990-4fd4-9ded-04e9b87f001d",
   "metadata": {},
   "outputs": [],
   "source": [
    "# 구역을 파악해야 한다. DFS\n",
    "# 첫번째는 R와 G를 구분해서 구역을 탐색한다.\n",
    "# 두번째는 구분하지 않고 탐색한다.\n",
    "def dfs(x, y, temp,tag):\n",
    "    if x <0 or x>=size or y<0 or y>=size or temp[x][y] =='O':\n",
    "        return False\n",
    "    elif temp[x][y] == tag:\n",
    "        temp[x][y] = 'O'\n",
    "        dfs(x-1,y,temp,tag)#left\n",
    "        dfs(x+1,y,temp,tag)\n",
    "        dfs(x,y-1,temp,tag)\n",
    "        dfs(x,y+1,temp,tag)\n",
    "        return True\n",
    "    return False"
   ]
  },
  {
   "cell_type": "code",
   "execution_count": 4,
   "id": "cecb24b2-58be-448c-89bd-6d7f94c15134",
   "metadata": {},
   "outputs": [],
   "source": [
    "import copy\n",
    "temp = copy.deepcopy(img)"
   ]
  },
  {
   "cell_type": "code",
   "execution_count": 5,
   "id": "24940c8e-eda3-4788-b232-9be614e572e3",
   "metadata": {},
   "outputs": [],
   "source": [
    "count=0\n",
    "for i in range(size):\n",
    "    for j in range(size):\n",
    "        col = dfs(i,j,temp,temp[i][j])\n",
    "        if col:\n",
    "            count +=1\n",
    "            "
   ]
  },
  {
   "cell_type": "code",
   "execution_count": 6,
   "id": "ef338a0d-46d8-4566-93cb-16c4f2ceeea2",
   "metadata": {},
   "outputs": [],
   "source": [
    "count2 = 0\n",
    "for i in range(size):\n",
    "    for j in range(size):\n",
    "        if img[i][j] == 'G':\n",
    "            img[i][j] = 'R'\n",
    "            \n",
    "for i in range(size):\n",
    "    for j in range(size):\n",
    "        col = dfs(i,j,img,img[i][j])\n",
    "        if col:\n",
    "            count2 +=1"
   ]
  },
  {
   "cell_type": "code",
   "execution_count": 7,
   "id": "e60defe5-d9f0-456a-b00d-5972ad75beea",
   "metadata": {},
   "outputs": [
    {
     "name": "stdout",
     "output_type": "stream",
     "text": [
      "4 3\n"
     ]
    }
   ],
   "source": [
    "print(count, count2)"
   ]
  },
  {
   "cell_type": "code",
   "execution_count": null,
   "id": "474e1b72-20a0-4c71-839b-c6b9fe15d4cd",
   "metadata": {},
   "outputs": [],
   "source": []
  }
 ],
 "metadata": {
  "kernelspec": {
   "display_name": "Python 3",
   "language": "python",
   "name": "python3"
  },
  "language_info": {
   "codemirror_mode": {
    "name": "ipython",
    "version": 3
   },
   "file_extension": ".py",
   "mimetype": "text/x-python",
   "name": "python",
   "nbconvert_exporter": "python",
   "pygments_lexer": "ipython3",
   "version": "3.9.2"
  }
 },
 "nbformat": 4,
 "nbformat_minor": 5
}
