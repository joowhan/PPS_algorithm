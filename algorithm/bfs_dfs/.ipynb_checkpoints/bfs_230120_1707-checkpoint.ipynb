{
 "cells": [
  {
   "cell_type": "markdown",
   "id": "d162f281-9f7b-424f-b079-1a9d80b7d089",
   "metadata": {},
   "source": [
    "https://www.acmicpc.net/problem/1707"
   ]
  },
  {
   "cell_type": "markdown",
   "id": "1418b6e7-0f61-49b7-a246-2b4141b5deb8",
   "metadata": {},
   "source": [
    "그래프의 정점의 집합을 둘로 분할하여, 각 집합에 속한 정점끼리는 서로 인접하지 않도록 분할할 수 있을 때, 그러한 그래프를 특별히 이분 그래프 (Bipartite Graph) 라 부른다.\n",
    "\n",
    "그래프가 입력으로 주어졌을 때, 이 그래프가 이분 그래프인지 아닌지 판별하는 프로그램을 작성하시오."
   ]
  },
  {
   "cell_type": "code",
   "execution_count": 2,
   "id": "f970000d-dc64-43b3-9b77-5095fb469147",
   "metadata": {},
   "outputs": [],
   "source": [
    "from collections import deque"
   ]
  },
  {
   "cell_type": "code",
   "execution_count": 11,
   "id": "83437bd0-5df8-46c1-9599-e3cbb3dd0fa8",
   "metadata": {},
   "outputs": [],
   "source": [
    "#이분 그래프의 특징\n",
    "# 루트를 정하고 루트에서 방문하는 노드들은 다른 집합으로 판단\n",
    "def bfs(graph, start, visited):\n",
    "    # 시작 노드를 큐에 넣기\n",
    "    q = deque([start])\n",
    "    visited[start] = True\n",
    "    while q:\n",
    "        v = q.popleft()\n",
    "        print(v, end= ' ')\n",
    "        for i in range(len(graph[v])):\n",
    "            if visited[i] == False:\n",
    "                q.append(i)\n",
    "                visited[i] = True\n"
   ]
  },
  {
   "cell_type": "code",
   "execution_count": 6,
   "id": "e3cfb33b-b889-4f5c-9408-8ee5ee03e70b",
   "metadata": {},
   "outputs": [],
   "source": [
    "case = int(input())\n",
    "for _ in range(case):\n",
    "    graph=[]\n",
    "    visited = []\n",
    "    e,v= map(int, input().split())\n",
    "    visited = [False]*v\n",
    "    graph = [[] for _ in range(v+1)]\n",
    "    for i in range(e):\n",
    "        u,v = map(int, input().split())\n",
    "        graph[u].append(v)\n",
    "        graph[v].append(u)\n",
    "    bfs(graph, 1, visited)\n",
    "    "
   ]
  },
  {
   "cell_type": "code",
   "execution_count": 14,
   "id": "bd55aac7-e22e-463a-ac1b-0f0eb177a6a7",
   "metadata": {},
   "outputs": [],
   "source": [
    "graph = [[] for i in range(3)] "
   ]
  },
  {
   "cell_type": "code",
   "execution_count": 15,
   "id": "ecee4a6d-7a69-4ca1-972e-11a72634970e",
   "metadata": {},
   "outputs": [
    {
     "data": {
      "text/plain": [
       "[[], [], []]"
      ]
     },
     "execution_count": 15,
     "metadata": {},
     "output_type": "execute_result"
    }
   ],
   "source": [
    "graph"
   ]
  },
  {
   "cell_type": "code",
   "execution_count": null,
   "id": "e7a7df7f-1374-4944-b2da-382210f431a5",
   "metadata": {},
   "outputs": [],
   "source": []
  }
 ],
 "metadata": {
  "kernelspec": {
   "display_name": "Python 3",
   "language": "python",
   "name": "python3"
  },
  "language_info": {
   "codemirror_mode": {
    "name": "ipython",
    "version": 3
   },
   "file_extension": ".py",
   "mimetype": "text/x-python",
   "name": "python",
   "nbconvert_exporter": "python",
   "pygments_lexer": "ipython3",
   "version": "3.9.2"
  }
 },
 "nbformat": 4,
 "nbformat_minor": 5
}
