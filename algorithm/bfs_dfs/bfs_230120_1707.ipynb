{
 "cells": [
  {
   "cell_type": "markdown",
   "id": "d162f281-9f7b-424f-b079-1a9d80b7d089",
   "metadata": {},
   "source": [
    "https://www.acmicpc.net/problem/1707"
   ]
  },
  {
   "cell_type": "markdown",
   "id": "1418b6e7-0f61-49b7-a246-2b4141b5deb8",
   "metadata": {},
   "source": [
    "그래프의 정점의 집합을 둘로 분할하여, 각 집합에 속한 정점끼리는 서로 인접하지 않도록 분할할 수 있을 때, 그러한 그래프를 특별히 이분 그래프 (Bipartite Graph) 라 부른다.\n",
    "\n",
    "그래프가 입력으로 주어졌을 때, 이 그래프가 이분 그래프인지 아닌지 판별하는 프로그램을 작성하시오."
   ]
  },
  {
   "cell_type": "code",
   "execution_count": 2,
   "id": "f970000d-dc64-43b3-9b77-5095fb469147",
   "metadata": {},
   "outputs": [],
   "source": [
    "from collections import deque"
   ]
  },
  {
   "cell_type": "code",
   "execution_count": 61,
   "id": "83437bd0-5df8-46c1-9599-e3cbb3dd0fa8",
   "metadata": {},
   "outputs": [],
   "source": [
    "#이분 그래프의 특징\n",
    "# 루트를 정하고 루트에서 방문하는 노드들은 다른 집합으로 판단\n",
    "def bfs(graph, start, visited):\n",
    "    # 시작 노드를 큐에 넣기\n",
    "    q = deque([start])\n",
    "    visited[start] = 0\n",
    "    while q:\n",
    "        curr = q.popleft()        \n",
    "        for i in graph[curr]:\n",
    "            if visited[i] == -1:\n",
    "                q.append(i)\n",
    "                visited[i] = (visited[curr]+1)%2"
   ]
  },
  {
   "cell_type": "code",
   "execution_count": 62,
   "id": "ee58b56f-6efc-48e4-9486-0c21d8e59691",
   "metadata": {},
   "outputs": [],
   "source": [
    "def is_bipartite():\n",
    "    for nodes in range(1,v+1):\n",
    "        for node in graph[nodes]:\n",
    "            if visited[node] == visited[nodes]:\n",
    "                return False\n",
    "    return True"
   ]
  },
  {
   "cell_type": "code",
   "execution_count": 63,
   "id": "e3cfb33b-b889-4f5c-9408-8ee5ee03e70b",
   "metadata": {},
   "outputs": [
    {
     "name": "stdin",
     "output_type": "stream",
     "text": [
      " 1\n",
      " 3 2\n",
      " 1 3\n",
      " 2 3\n"
     ]
    },
    {
     "name": "stdout",
     "output_type": "stream",
     "text": [
      "YES\n"
     ]
    }
   ],
   "source": [
    "case = int(input())\n",
    "for _ in range(case):\n",
    "    v,e= map(int, input().split())\n",
    "    visited = [-1]*(v+1)\n",
    "    graph = [[] for _ in range(v+1)]\n",
    "    for i in range(e):\n",
    "        u,k = map(int, input().split())\n",
    "        graph[u].append(k)\n",
    "        graph[k].append(u)\n",
    "    bfs(graph, 1, visited)\n",
    "    for x in range(1,v+1):\n",
    "        if visited[x] == -1:\n",
    "            bfs(graph, x, visited)\n",
    "    if is_bipartite(): print(\"YES\")\n",
    "    else: print(\"NO\")"
   ]
  },
  {
   "cell_type": "code",
   "execution_count": 34,
   "id": "e7a7df7f-1374-4944-b2da-382210f431a5",
   "metadata": {},
   "outputs": [
    {
     "data": {
      "text/plain": [
       "[False, True, True, True]"
      ]
     },
     "execution_count": 34,
     "metadata": {},
     "output_type": "execute_result"
    }
   ],
   "source": [
    "visited"
   ]
  },
  {
   "cell_type": "code",
   "execution_count": 53,
   "id": "75b7cb3d-764c-442a-9da9-39e6bd5bcda6",
   "metadata": {},
   "outputs": [
    {
     "data": {
      "text/plain": [
       "[-1, 0, 0, 1]"
      ]
     },
     "execution_count": 53,
     "metadata": {},
     "output_type": "execute_result"
    }
   ],
   "source": [
    "visited"
   ]
  },
  {
   "cell_type": "code",
   "execution_count": 54,
   "id": "c87c7a58-9ce1-4900-9e67-a70b3b6ec0be",
   "metadata": {},
   "outputs": [
    {
     "data": {
      "text/plain": [
       "[[], [3], [3], [1, 2]]"
      ]
     },
     "execution_count": 54,
     "metadata": {},
     "output_type": "execute_result"
    }
   ],
   "source": [
    "graph"
   ]
  },
  {
   "cell_type": "code",
   "execution_count": null,
   "id": "76b4b7b9-0325-4817-bb06-a63b7e6d9a61",
   "metadata": {},
   "outputs": [],
   "source": []
  }
 ],
 "metadata": {
  "kernelspec": {
   "display_name": "Python 3",
   "language": "python",
   "name": "python3"
  },
  "language_info": {
   "codemirror_mode": {
    "name": "ipython",
    "version": 3
   },
   "file_extension": ".py",
   "mimetype": "text/x-python",
   "name": "python",
   "nbconvert_exporter": "python",
   "pygments_lexer": "ipython3",
   "version": "3.9.2"
  }
 },
 "nbformat": 4,
 "nbformat_minor": 5
}
