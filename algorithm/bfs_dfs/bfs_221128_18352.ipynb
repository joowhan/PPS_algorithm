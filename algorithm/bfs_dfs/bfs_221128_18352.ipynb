{
 "cells": [
  {
   "cell_type": "markdown",
   "id": "872b3ade-cdc2-4a16-b635-0b3373a481a4",
   "metadata": {},
   "source": [
    "https://www.acmicpc.net/problem/18352"
   ]
  },
  {
   "cell_type": "markdown",
   "id": "ac87d311-e303-4592-960c-a6da0132bf56",
   "metadata": {},
   "source": [
    "어떤 나라에는 1번부터 N번까지의 도시와 M개의 단방향 도로가 존재한다. 모든 도로의 거리는 1이다.\n",
    "\n",
    "이 때 특정한 도시 X로부터 출발하여 도달할 수 있는 모든 도시 중에서, 최단 거리가 정확히 K인 모든 도시들의 번호를 출력하는 프로그램을 작성하시오. <br>\n",
    "또한 출발 도시 X에서 출발 도시 X로 가는 최단 거리는 항상 0이라고 가정한다.\n",
    "\n",
    "예를 들어 N=4, K=2, X=1일 때 다음과 같이 그래프가 구성되어 있다고 가정하자.\n",
    "\n",
    "이 때 1번 도시에서 출발하여 도달할 수 있는 도시 중에서, 최단 거리가 2인 도시는 4번 도시 뿐이다.  2번과 3번 도시의 경우, 최단 거리가 1이기 때문에 출력하지 않는다.\n",
    "\n",
    "입력\n",
    "첫째 줄에 도시의 개수 N, 도로의 개수 M, 거리 정보 K, 출발 도시의 번호 X가 주어진다. (2 ≤ N ≤ 300,000, 1 ≤ M ≤ 1,000,000, 1 ≤ K ≤ 300,000, 1 ≤ X ≤ N) 둘째 줄부터 M개의 줄에 걸쳐서 두 개의 자연수 A, B가 공백을 기준으로 구분되어 주어진다. 이는 A번 도시에서 B번 도시로 이동하는 단방향 도로가 존재한다는 의미다. (1 ≤ A, B ≤ N) 단, A와 B는 서로 다른 자연수이다."
   ]
  },
  {
   "cell_type": "code",
   "execution_count": 3,
   "id": "bdf2b29e-df5e-4046-bf71-4308ec8d7cfe",
   "metadata": {},
   "outputs": [
    {
     "name": "stdin",
     "output_type": "stream",
     "text": [
      " 4 4 1 1\n"
     ]
    }
   ],
   "source": [
    "n,m,k,x = map(int, input().split())"
   ]
  },
  {
   "cell_type": "code",
   "execution_count": 4,
   "id": "fde95e78-5aef-4012-b370-068d9273c911",
   "metadata": {},
   "outputs": [
    {
     "name": "stdin",
     "output_type": "stream",
     "text": [
      " 1 2\n",
      " 1 3\n",
      " 2 3\n",
      " 2 4\n"
     ]
    }
   ],
   "source": [
    "graph = [[] for _ in range(n+1)]\n",
    "for _ in range(m):\n",
    "    a,b = map(int, input().split())\n",
    "    graph[a].append(b)"
   ]
  },
  {
   "cell_type": "code",
   "execution_count": 5,
   "id": "d22aedd5-ac75-4071-8b1a-489ac7e69923",
   "metadata": {},
   "outputs": [],
   "source": [
    "from collections import deque\n",
    "# x에서 시작, 거리가 k가 되면 lis에 append\n",
    "def bfs(start, k, graph, visited):\n",
    "    dist = 0\n",
    "    lis=[]\n",
    "    bfs = deque([start])\n",
    "    visited[start] = 0\n",
    "    while bfs:\n",
    "        # dist +=1\n",
    "        v = bfs.popleft()\n",
    "        # visited[v] = True\n",
    "        #print(bfs, dist)\n",
    "        for i in range(len(graph[v])):\n",
    "            node = graph[v][i]\n",
    "            #print(node)\n",
    "            if visited[node] == -1:\n",
    "                visited[node] = visited[v]+1\n",
    "                bfs.append(node)\n",
    "    return visited"
   ]
  },
  {
   "cell_type": "code",
   "execution_count": 13,
   "id": "9031657b-ab97-4b6b-bd9f-e6240dbf85ed",
   "metadata": {},
   "outputs": [
    {
     "name": "stdout",
     "output_type": "stream",
     "text": [
      "2\n",
      "3\n"
     ]
    }
   ],
   "source": [
    "visited = [-1]*(n+1)\n",
    "result = bfs(x,k,graph,visited)\n",
    "check = False\n",
    "for i in range(len(visited)):\n",
    "    if visited[i] == k:\n",
    "        print(i)\n",
    "        check = True\n",
    "if check == False:\n",
    "    print(-1)"
   ]
  },
  {
   "cell_type": "code",
   "execution_count": 11,
   "id": "1aebabfb-8d97-4262-ae1e-b811a7bb45e6",
   "metadata": {},
   "outputs": [
    {
     "data": {
      "text/plain": [
       "[-1, 0, 1, 1, 2]"
      ]
     },
     "execution_count": 11,
     "metadata": {},
     "output_type": "execute_result"
    }
   ],
   "source": [
    "visited"
   ]
  },
  {
   "cell_type": "code",
   "execution_count": null,
   "id": "0a4ad001-e342-49a8-b33b-5e661ef3173f",
   "metadata": {},
   "outputs": [],
   "source": []
  }
 ],
 "metadata": {
  "kernelspec": {
   "display_name": "Python 3",
   "language": "python",
   "name": "python3"
  },
  "language_info": {
   "codemirror_mode": {
    "name": "ipython",
    "version": 3
   },
   "file_extension": ".py",
   "mimetype": "text/x-python",
   "name": "python",
   "nbconvert_exporter": "python",
   "pygments_lexer": "ipython3",
   "version": "3.9.2"
  }
 },
 "nbformat": 4,
 "nbformat_minor": 5
}
