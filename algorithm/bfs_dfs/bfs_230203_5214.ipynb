{
 "cells": [
  {
   "cell_type": "markdown",
   "id": "f705e4cd-f2a2-4ea5-b09f-f239ca525be1",
   "metadata": {},
   "source": [
    "https://www.acmicpc.net/problem/5214"
   ]
  },
  {
   "cell_type": "markdown",
   "id": "24c78a33-f71b-4dee-9f87-139cc4ca0149",
   "metadata": {},
   "source": [
    "아주 먼 미래에 사람들이 가장 많이 사용하는 대중교통은 하이퍼튜브이다. 하이퍼튜브 하나는 역 K개를 서로 연결한다. 1번역에서 N번역으로 가는데 방문하는 최소 역의 수는 몇 개일까?"
   ]
  },
  {
   "cell_type": "code",
   "execution_count": null,
   "id": "9aaef666-61f1-4c9c-b92a-91ea9f68180d",
   "metadata": {},
   "outputs": [],
   "source": [
    "def bfs"
   ]
  },
  {
   "cell_type": "code",
   "execution_count": null,
   "id": "999faae1-d88d-4897-82a3-6e8b9228a61d",
   "metadata": {},
   "outputs": [],
   "source": [
    "n,k,m = map(int, input().split())\n"
   ]
  }
 ],
 "metadata": {
  "kernelspec": {
   "display_name": "Python 3",
   "language": "python",
   "name": "python3"
  },
  "language_info": {
   "codemirror_mode": {
    "name": "ipython",
    "version": 3
   },
   "file_extension": ".py",
   "mimetype": "text/x-python",
   "name": "python",
   "nbconvert_exporter": "python",
   "pygments_lexer": "ipython3",
   "version": "3.9.2"
  }
 },
 "nbformat": 4,
 "nbformat_minor": 5
}
