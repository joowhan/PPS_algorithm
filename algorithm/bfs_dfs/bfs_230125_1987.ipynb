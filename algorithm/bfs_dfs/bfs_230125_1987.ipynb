{
 "cells": [
  {
   "cell_type": "markdown",
   "id": "83e7fd57-2b89-4aa8-aa89-b277e0651b4d",
   "metadata": {},
   "source": [
    "https://www.acmicpc.net/problem/1987"
   ]
  },
  {
   "cell_type": "markdown",
   "id": "5d779e3a-5ec4-40be-8cb5-7e3bdf79d09f",
   "metadata": {},
   "source": [
    "세로 R칸, 가로 C칸으로 된 표 모양의 보드가 있다. 보드의 각 칸에는 대문자 알파벳이 하나씩 적혀 있고, 좌측 상단 칸 (1행 1열) 에는 말이 놓여 있다.\n",
    "\n",
    "말은 상하좌우로 인접한 네 칸 중의 한 칸으로 이동할 수 있는데, 새로 이동한 칸에 적혀 있는 알파벳은 지금까지 지나온 모든 칸에 적혀 있는 알파벳과는 달라야 한다. 즉, 같은 알파벳이 적힌 칸을 두 번 지날 수 없다.\n",
    "\n",
    "좌측 상단에서 시작해서, 말이 최대한 몇 칸을 지날 수 있는지를 구하는 프로그램을 작성하시오. 말이 지나는 칸은 좌측 상단의 칸도 포함된다."
   ]
  },
  {
   "cell_type": "code",
   "execution_count": 56,
   "id": "85d0b1ba-74c2-4fd6-ba33-73ca53b6ddf5",
   "metadata": {},
   "outputs": [
    {
     "name": "stdin",
     "output_type": "stream",
     "text": [
      " 5 5\n",
      " IEFCJ\n",
      " FHFKC\n",
      " FFALF\n",
      " HFGCF\n",
      " HMCHH\n"
     ]
    }
   ],
   "source": [
    "r,c = map(int,input().split())\n",
    "graph =[[] for _ in range(r)]\n",
    "for i in range(r):\n",
    "    graph[i] = list(input())"
   ]
  },
  {
   "cell_type": "code",
   "execution_count": 60,
   "id": "b35c85b9-4022-4b4f-80e8-c46d975d2586",
   "metadata": {},
   "outputs": [],
   "source": [
    "from collections import deque\n",
    "def bfs(graph, x,y, visited):\n",
    "    #queue에 시작 노드를 넣고 시작한다.\n",
    "    #deque에서 pop을 하면서 해당 노드와 연결된 노드들을 넣는다. \n",
    "    #전부 빌 때까지 하면 된다. \n",
    "    dx = [-1,1,0,0]\n",
    "    dy = [0,0,-1,1]\n",
    "    queue = deque()\n",
    "    queue.append((x,y))\n",
    "    visited.append(graph[x][y])\n",
    "    while queue:\n",
    "        x,y = queue.popleft()\n",
    "        visited.append(graph[x][y]) \n",
    "        for i in range(4):\n",
    "            nx = x + dx[i]\n",
    "            ny = y + dy[i]\n",
    "            if nx < 0 or ny < 0 or nx>=r or ny >= c:\n",
    "                continue\n",
    "            #print(nx,ny, c-1)\n",
    "            if graph[nx][ny] not in visited:\n",
    "                queue.append((nx,ny))\n",
    "                "
   ]
  },
  {
   "cell_type": "code",
   "execution_count": 61,
   "id": "b76ecb97-cbe8-43f4-9d99-7b25823c74b4",
   "metadata": {},
   "outputs": [
    {
     "name": "stdout",
     "output_type": "stream",
     "text": [
      "6\n"
     ]
    }
   ],
   "source": [
    "visited=[]\n",
    "bfs(graph, 0,0,visited)\n",
    "print(len(visited))"
   ]
  },
  {
   "cell_type": "code",
   "execution_count": 1,
   "id": "45055fa9-da91-4874-801d-1c256de1363d",
   "metadata": {},
   "outputs": [],
   "source": [
    "import sys\n",
    "sys.setrecursionlimit(int(1e5))"
   ]
  },
  {
   "cell_type": "code",
   "execution_count": null,
   "id": "aa1971e8-a34d-41c7-ba83-2040ba18f9f7",
   "metadata": {},
   "outputs": [],
   "source": [
    "def dfs(x,y,cost):\n",
    "    "
   ]
  }
 ],
 "metadata": {
  "kernelspec": {
   "display_name": "Python 3",
   "language": "python",
   "name": "python3"
  },
  "language_info": {
   "codemirror_mode": {
    "name": "ipython",
    "version": 3
   },
   "file_extension": ".py",
   "mimetype": "text/x-python",
   "name": "python",
   "nbconvert_exporter": "python",
   "pygments_lexer": "ipython3",
   "version": "3.9.2"
  }
 },
 "nbformat": 4,
 "nbformat_minor": 5
}
