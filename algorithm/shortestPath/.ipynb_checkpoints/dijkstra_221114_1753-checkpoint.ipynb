{
 "cells": [
  {
   "cell_type": "markdown",
   "id": "45256cf8-9ab3-4bc7-a673-4c8a4afaa9f0",
   "metadata": {},
   "source": [
    "https://www.acmicpc.net/problem/1753"
   ]
  },
  {
   "cell_type": "markdown",
   "id": "eb26f956-3114-4d51-8cf1-2a1b8bf699e1",
   "metadata": {},
   "source": [
    "방향그래프가 주어지면 주어진 시작점에서 다른 모든 정점으로의 최단 경로를 구하는 프로그램을 작성하시오. 단, 모든 간선의 가중치는 10 이하의 자연수이다. <br>\n",
    "첫째 줄에 정점의 개수 V와 간선의 개수 E가 주어진다. (1 ≤ V ≤ 20,000, 1 ≤ E ≤ 300,000) 모든 정점에는 1부터 V까지 번호가 매겨져 있다고 가정한다. <br>\n",
    "둘째 줄에는 시작 정점의 번호 K(1 ≤ K ≤ V)가 주어진다. 셋째 줄부터 E개의 줄에 걸쳐 각 간선을 나타내는 세 개의 정수 (u, v, w)가 순서대로 주어진다. <br>\n",
    "이는 u에서 v로 가는 가중치 w인 간선이 존재한다는 뜻이다. u와 v는 서로 다르며 w는 10 이하의 자연수이다. <br>\n",
    "서로 다른 두 정점 사이에 여러 개의 간선이 존재할 수도 있음에 유의한다."
   ]
  },
  {
   "cell_type": "code",
   "execution_count": null,
   "id": "6f4e896e-f870-40f8-9ac9-c007ade2042b",
   "metadata": {},
   "outputs": [],
   "source": [
    "import heapq\n",
    "# import sys\n",
    "# input = sys.stdin.readline\n",
    "inf = int(1e9)\n",
    "\n",
    "v,e = map(int, input().split())\n",
    "start = int(input())\n",
    "graph =[[] for i in range(v+1)]\n",
    "distance = [inf]*(v+1)\n",
    "for _ in range(m):\n",
    "    a,b,c = map(int, input().split())\n",
    "    graph[a].append((b,c))"
   ]
  },
  {
   "cell_type": "code",
   "execution_count": 13,
   "id": "c53065f3-8aec-4df3-b746-5df2c890390f",
   "metadata": {},
   "outputs": [],
   "source": [
    "def dijkstra(start):\n",
    "    q=[]\n",
    "    heapq.heappush(q,(0,start))\n",
    "    distance[start] = 0\n",
    "    while q:\n",
    "        dist, now = heapq.heappop(q)\n",
    "        if distance[now] < dist:\n",
    "            continue\n",
    "        for i in graph[now]:\n",
    "            cost = i[1] + dist\n",
    "            if cost < distance[i[0]]:\n",
    "                distance[i[0]] = cost\n",
    "                heapq.heappush(q,(cost, i[0]))"
   ]
  },
  {
   "cell_type": "code",
   "execution_count": 16,
   "id": "2c3c30ee-7b91-4476-a700-8d5cac2fa027",
   "metadata": {},
   "outputs": [
    {
     "name": "stdout",
     "output_type": "stream",
     "text": [
      "0\n",
      "2\n",
      "3\n",
      "7\n",
      "INF\n"
     ]
    }
   ],
   "source": [
    "dijkstra(start)\n",
    "for i in range(1,n+1):\n",
    "    if distance[i] == inf:\n",
    "        print(\"INF\")\n",
    "    else:\n",
    "        print(distance[i])"
   ]
  },
  {
   "cell_type": "code",
   "execution_count": 12,
   "id": "ee1ca7cf-b132-4230-806c-c3a2c96582de",
   "metadata": {},
   "outputs": [
    {
     "data": {
      "text/plain": [
       "[[], [(2, 2), (3, 3)], [(3, 4), (4, 5)], [(4, 6)], [], [(1, 1)]]"
      ]
     },
     "execution_count": 12,
     "metadata": {},
     "output_type": "execute_result"
    }
   ],
   "source": []
  },
  {
   "cell_type": "code",
   "execution_count": null,
   "id": "004a1d86-1b06-48da-b74c-fafb2a8fd475",
   "metadata": {},
   "outputs": [],
   "source": []
  }
 ],
 "metadata": {
  "kernelspec": {
   "display_name": "Python 3",
   "language": "python",
   "name": "python3"
  },
  "language_info": {
   "codemirror_mode": {
    "name": "ipython",
    "version": 3
   },
   "file_extension": ".py",
   "mimetype": "text/x-python",
   "name": "python",
   "nbconvert_exporter": "python",
   "pygments_lexer": "ipython3",
   "version": "3.9.2"
  }
 },
 "nbformat": 4,
 "nbformat_minor": 5
}
