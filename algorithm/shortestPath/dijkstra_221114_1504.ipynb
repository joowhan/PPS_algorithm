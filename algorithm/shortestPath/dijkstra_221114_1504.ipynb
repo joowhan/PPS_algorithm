{
 "cells": [
  {
   "cell_type": "markdown",
   "id": "63b6db27-a86c-4914-ac64-8761996b5c30",
   "metadata": {},
   "source": [
    "https://www.acmicpc.net/problem/1504"
   ]
  },
  {
   "cell_type": "markdown",
   "id": "52ca8718-5427-45f3-a890-42c0c8853bd3",
   "metadata": {},
   "source": [
    "방향성이 없는 그래프가 주어진다. 세준이는 1번 정점에서 N번 정점으로 최단 거리로 이동하려고 한다. <br>\n",
    "또한 세준이는 두 가지 조건을 만족하면서 이동하는 특정한 최단 경로를 구하고 싶은데, 그것은 바로 임의로 주어진 두 정점은 반드시 통과해야 한다는 것이다.\n",
    "\n",
    "세준이는 한번 이동했던 정점은 물론, 한번 이동했던 간선도 다시 이동할 수 있다. 하지만 반드시 최단 경로로 이동해야 한다는 사실에 주의하라. <br>\n",
    "1번 정점에서 N번 정점으로 이동할 때, 주어진 두 정점을 반드시 거치면서 최단 경로로 이동하는 프로그램을 작성하시오."
   ]
  },
  {
   "cell_type": "markdown",
   "id": "c1facc28-8066-4cf5-9fb5-ebb0719812e2",
   "metadata": {},
   "source": [
    "첫째 줄에 정점의 개수 N과 간선의 개수 E가 주어진다. (2 ≤ N ≤ 800, 0 ≤ E ≤ 200,000) 둘째 줄부터 E개의 줄에 걸쳐서 세 개의 정수 a, b, c가 주어지는데,<br>\n",
    "a번 정점에서 b번 정점까지 양방향 길이 존재하며, 그 거리가 c라는 뜻이다. (1 ≤ c ≤ 1,000) 다음 줄에는 반드시 거쳐야 하는 두 개의 서로 다른 정점 번호 v1과 v2가 주어진다. <br>\n",
    "(v1 ≠ v2, v1 ≠ N, v2 ≠ 1) 임의의 두 정점 u와 v사이에는 간선이 최대 1개 존재한다."
   ]
  },
  {
   "cell_type": "markdown",
   "id": "a596c785-fb51-4421-a1cf-5df80d0c59dd",
   "metadata": {},
   "source": [
    "4 6 \\\n",
    "1 2 3\\\n",
    "2 3 3\\\n",
    "3 4 1\\\n",
    "1 3 5\\\n",
    "2 4 5\\\n",
    "1 4 4\\\n",
    "2 3"
   ]
  },
  {
   "cell_type": "code",
   "execution_count": 71,
   "id": "9363bb6a-21db-48ee-b089-988edb8fc21d",
   "metadata": {},
   "outputs": [
    {
     "name": "stdin",
     "output_type": "stream",
     "text": [
      " 4 6\n"
     ]
    }
   ],
   "source": [
    "import heapq\n",
    "# import sys\n",
    "# input = sys.stdin.readline\n",
    "n,e = map(int, input().split())\n",
    "INF = int(1e9)\n",
    "distance = [INF]*(n+1)\n",
    "graph=[[] for _ in range(n+1)]"
   ]
  },
  {
   "cell_type": "code",
   "execution_count": 83,
   "id": "e4eb2a9c-bd72-40b9-b82d-935f44193015",
   "metadata": {},
   "outputs": [
    {
     "name": "stdin",
     "output_type": "stream",
     "text": [
      " 1 2 3\n",
      " 2 3 3\n",
      " 3 4 1\n",
      " 1 3 5\n",
      " 2 4 5\n",
      " 1 4 4\n"
     ]
    }
   ],
   "source": [
    "for i in range(e):\n",
    "    a, b, c = map(int, input().split())\n",
    "    graph[a].append((b,c))\n",
    "    graph[b].append((a,c))"
   ]
  },
  {
   "cell_type": "code",
   "execution_count": 84,
   "id": "cd3a05e0-04c6-40a3-a72c-7f90960ec305",
   "metadata": {},
   "outputs": [
    {
     "name": "stdin",
     "output_type": "stream",
     "text": [
      " 2 3\n"
     ]
    }
   ],
   "source": [
    "v1, v2 = map(int, input().split())"
   ]
  },
  {
   "cell_type": "code",
   "execution_count": 85,
   "id": "30dea45f-3664-4b87-b1b3-a18912f7f916",
   "metadata": {},
   "outputs": [],
   "source": [
    "def dijkstra(start):\n",
    "    hqueue = []\n",
    "    distance[start] = 0\n",
    "    heapq.heappush(hqueue, (0, start))\n",
    "\n",
    "    while hqueue:\n",
    "        dist, now = heapq.heappop(hqueue)\n",
    "        if distance[now] < dist:\n",
    "            continue\n",
    "        for i in graph[now]:                                                                                                                                                             \n",
    "            cost = i[1] + dist\n",
    "            if cost < distance[i[0]]:\n",
    "                distance[i[0]] = cost\n",
    "                heapq.heappush(hqueue, (cost, i[0]))"
   ]
  },
  {
   "cell_type": "code",
   "execution_count": 86,
   "id": "ae4ba6a2-4d90-4ccf-99b9-e1ef0679bf19",
   "metadata": {},
   "outputs": [],
   "source": [
    "# 1 -> v1\n",
    "dijkstra(1)\n",
    "dist_1tov1 = distance[v1]\n",
    "# 1 -> v2\n",
    "dist_1tov2 = distance[v2]\n",
    "\n",
    "# v1 -> v2, n\n",
    "distance = [INF]*(n+1)\n",
    "dijkstra(v1)\n",
    "dist_v1tov2 = distance[v2]\n",
    "dist_v1ton = distance[n]\n",
    "\n",
    "#v2 -> v1, n\n",
    "distance = [INF]*(n+1)\n",
    "dijkstra(v2)\n",
    "dist_v2tov1 = distance[v1]\n",
    "dist_v2ton = distance[n]"
   ]
  },
  {
   "cell_type": "code",
   "execution_count": 87,
   "id": "55c10e7e-0ce6-4164-8785-a7ff98c1e237",
   "metadata": {},
   "outputs": [],
   "source": [
    "result = min((dist_1tov1+dist_v1tov2+dist_v2ton),(dist_1tov2+dist_v2tov1+dist_v1ton))"
   ]
  },
  {
   "cell_type": "code",
   "execution_count": 88,
   "id": "fbde5d4e-5028-47e9-aa35-f07b4535f48a",
   "metadata": {},
   "outputs": [
    {
     "data": {
      "text/plain": [
       "7"
      ]
     },
     "execution_count": 88,
     "metadata": {},
     "output_type": "execute_result"
    }
   ],
   "source": [
    "result"
   ]
  },
  {
   "cell_type": "code",
   "execution_count": null,
   "id": "47797484-1b4b-4172-aa17-c920706f4dba",
   "metadata": {},
   "outputs": [],
   "source": []
  }
 ],
 "metadata": {
  "kernelspec": {
   "display_name": "Python 3",
   "language": "python",
   "name": "python3"
  },
  "language_info": {
   "codemirror_mode": {
    "name": "ipython",
    "version": 3
   },
   "file_extension": ".py",
   "mimetype": "text/x-python",
   "name": "python",
   "nbconvert_exporter": "python",
   "pygments_lexer": "ipython3",
   "version": "3.9.2"
  }
 },
 "nbformat": 4,
 "nbformat_minor": 5
}
