{
 "cells": [
  {
   "cell_type": "markdown",
   "id": "f6bae03e-28c4-4b18-a637-921c3ab89b0d",
   "metadata": {},
   "source": [
    "https://www.acmicpc.net/problem/1162"
   ]
  },
  {
   "cell_type": "markdown",
   "id": "6919122d-762b-4f9d-9a53-0e2b3e281ebb",
   "metadata": {},
   "source": [
    "준영이는 매일 서울에서 포천까지 출퇴근을 한다. 하지만 잠이 많은 준영이는 늦잠을 자 포천에 늦게 도착하기 일쑤다. <br>\n",
    "돈이 많은 준영이는 고민 끝에 K개의 도로를 포장하여 서울에서 포천까지 가는 시간을 단축하려 한다. <br>\n",
    "\n",
    "문제는 N개의 도시가 주어지고 그 사이 도로와 이 도로를 통과할 때 걸리는 시간이 주어졌을 때 최소 시간이 걸리도록 하는 K개의 이하의 도로를 포장하는 것이다.<br>\n",
    "도로는 이미 있는 도로만 포장할 수 있고, 포장하게 되면 도로를 지나는데 걸리는 시간이 0이 된다. <br>\n",
    "또한 편의상 서울은 1번 도시, 포천은 N번 도시라 하고 1번에서 N번까지 항상 갈 수 있는 데이터만 주어진다."
   ]
  },
  {
   "cell_type": "code",
   "execution_count": 6,
   "id": "dd6f01e1-0118-4c2b-b29d-578eca19943f",
   "metadata": {},
   "outputs": [
    {
     "name": "stdin",
     "output_type": "stream",
     "text": [
      " 4 4 1\n"
     ]
    }
   ],
   "source": [
    "# import sys\n",
    "# input = sys.stdin.readline\n",
    "import heapq\n",
    "INF = int(1e9)\n",
    "n,m,k = map(int, input().split())\n",
    "graph = [[]*(n+1) for _ in range(n+1)]"
   ]
  },
  {
   "cell_type": "code",
   "execution_count": 7,
   "id": "785bf2bd-51fb-4e26-aaba-1021c06ce0f9",
   "metadata": {},
   "outputs": [
    {
     "name": "stdin",
     "output_type": "stream",
     "text": [
      " 1 2 10\n",
      " 2 4 10\n",
      " 1 3 1\n",
      " 3 4 100\n"
     ]
    }
   ],
   "source": [
    "for i in range(1, m+1):\n",
    "    a,b,c = map(int, input().split())\n",
    "    graph[a].append((b,c))"
   ]
  },
  {
   "cell_type": "code",
   "execution_count": 126,
   "id": "024cd2a6-0a98-4b2c-8227-500efdd2c1ba",
   "metadata": {},
   "outputs": [],
   "source": [
    "distance=[[INF] for _ in range(n+1)]"
   ]
  },
  {
   "cell_type": "code",
   "execution_count": 127,
   "id": "4cf8ff85-3b58-46a5-af2b-f3ac6eea33cf",
   "metadata": {},
   "outputs": [],
   "source": [
    "'''\n",
    "모든 경로에 대해서 고려해야 한다. 최소 경로가 포장되었을 때 최소가 아닐 수 있다\n",
    "distance list안에 list로 각 길이를 넣어둔다.\n",
    "기록을 계속 가지고 있는 것이 중요하다. \n",
    "제일 마지막에 마지막 노드에 대해서만 도로 포장을 한 다음 최소값을 출력하면 된다. 그 전까지는 dijkstra 방식을 그대로 하면 된다.\n",
    "마지막 노드인 경우에만 도로 포장을 한 다음 비교하기\n",
    "지금까지 거처오는 node들을 기록하는 것이 중요하다. \n",
    "'''\n",
    "# 시간초과\n",
    "def dijkstra(start):\n",
    "    q=[]\n",
    "    heapq.heappush(q, (0,[0],start))\n",
    "    distance[start][0] = 0\n",
    "    while q:\n",
    "        #dist는 list이다. 그 노드까지 가는데 경로들이 기록되어 있음\n",
    "        dist, record, now = heapq.heappop(q) #처음은 시작노드\n",
    "        \n",
    "        if sum(distance[now]) < dist:\n",
    "            continue\n",
    "        for i in graph[now]:\n",
    "            \n",
    "            if int(1e9) in distance[i[0]]:\n",
    "                distance[i[0]].pop()\n",
    "                distance[i[0]].append(0)\n",
    "            # distance[현재 노드에서 연결된 다른 노드]\n",
    "            temp =[]\n",
    "            temp = distance[i[0]] + record\n",
    "            temp.append(i[1])\n",
    "            #temp와 기존의 list에서 최대값을 0으로 바꾸기\n",
    "            temp.sort(reverse=True)\n",
    "            temp2 = sorted(distance[i[0]],reverse=True)\n",
    "            if len(temp)>2 and len(distance[i[0]]) >2:\n",
    "                if sum(temp[k:]) <= sum(temp2[k:]):\n",
    "                    distance[i[0]] = []\n",
    "                    distance[i[0]] = temp\n",
    "            else:\n",
    "                distance[i[0]] = temp\n",
    "                \n",
    "            heapq.heappush(q,(sum(distance[i[0]]),distance[i[0]],i[0]))\n",
    "                \n",
    "                \n",
    "            "
   ]
  },
  {
   "cell_type": "code",
   "execution_count": 130,
   "id": "c9bc9417-ea5c-47a1-a961-215518a06dc0",
   "metadata": {},
   "outputs": [
    {
     "name": "stdout",
     "output_type": "stream",
     "text": [
      "1\n"
     ]
    }
   ],
   "source": [
    "dijkstra(1)\n",
    "result = distance[-1]\n",
    "print(sum(result[k:]))"
   ]
  },
  {
   "cell_type": "code",
   "execution_count": 132,
   "id": "f7da0380-7de3-4512-a835-414fccdf63b4",
   "metadata": {},
   "outputs": [],
   "source": [
    "#solution\n",
    "def dijkstra_sol(start):\n",
    "    q=[]\n",
    "    heaq.heappush(1,(0,start,0))\n",
    "    distance[start][0] = 0\n",
    "    while q:\n",
    "        dist, now, paved = heapq.heappop(q)\n",
    "        if distance[now][paved] <dist:\n",
    "            continue\n",
    "        for i in graph[now]:\n",
    "            cost = dist+i[1]\n",
    "            if cost < distance[i[0]][paved]:\n",
    "                distance[i[0]][paved] = cost\n",
    "                heapq.heappush(q,(cost, i[0],paved))\n",
    "            if paved <k and dist < distance[i[0]][paved+1]:\n",
    "                distance[i[0]][paved+1] = cost\n",
    "                heapq.heappush(q,(cost, i[0],paved)+1)"
   ]
  },
  {
   "cell_type": "code",
   "execution_count": null,
   "id": "4a371f38-19b0-4586-8adf-8a040f9286de",
   "metadata": {},
   "outputs": [],
   "source": []
  }
 ],
 "metadata": {
  "kernelspec": {
   "display_name": "Python 3",
   "language": "python",
   "name": "python3"
  },
  "language_info": {
   "codemirror_mode": {
    "name": "ipython",
    "version": 3
   },
   "file_extension": ".py",
   "mimetype": "text/x-python",
   "name": "python",
   "nbconvert_exporter": "python",
   "pygments_lexer": "ipython3",
   "version": "3.9.2"
  }
 },
 "nbformat": 4,
 "nbformat_minor": 5
}
