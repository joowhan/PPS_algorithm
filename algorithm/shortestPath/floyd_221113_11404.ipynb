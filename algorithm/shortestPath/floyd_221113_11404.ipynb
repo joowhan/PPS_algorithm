{
 "cells": [
  {
   "cell_type": "markdown",
   "id": "9ef80e54-e24d-4d41-a6aa-2d2672891dcc",
   "metadata": {},
   "source": [
    "https://www.acmicpc.net/problem/11404"
   ]
  },
  {
   "cell_type": "markdown",
   "id": "55d535e2-4414-4e2f-ad03-3f0955231aab",
   "metadata": {},
   "source": [
    "n(2 ≤ n ≤ 100)개의 도시가 있다. 그리고 한 도시에서 출발하여 다른 도시에 도착하는 m(1 ≤ m ≤ 100,000)개의 버스가 있다. 각 버스는 한 번 사용할 때 필요한 비용이 있다.\n",
    "\n",
    "모든 도시의 쌍 (A, B)에 대해서 도시 A에서 B로 가는데 필요한 비용의 최솟값을 구하는 프로그램을 작성하시오."
   ]
  },
  {
   "cell_type": "markdown",
   "id": "c910a951-7419-4ec1-995d-8f8c3fed246c",
   "metadata": {},
   "source": [
    "첫째 줄에 도시의 개수 n이 주어지고 둘째 줄에는 버스의 개수 m이 주어진다. 그리고 셋째 줄부터 m+2줄까지 다음과 같은 버스의 정보가 주어진다. <br> 먼저 처음에는 그 버스의 출발 도시의 번호가 주어진다. 버스의 정보는 버스의 시작 도시 a, 도착 도시 b, 한 번 타는데 필요한 비용 c로 이루어져 있다. 시작 도시와 도착 도시가 같은 경우는 없다. 비용은 100,000보다 작거나 같은 자연수이다.\n",
    "\n",
    "시작 도시와 도착 도시를 연결하는 노선은 하나가 아닐 수 있다."
   ]
  },
  {
   "cell_type": "code",
   "execution_count": 2,
   "id": "5e09add3-b0c6-4e2a-8b61-5eb8a7418c03",
   "metadata": {},
   "outputs": [
    {
     "name": "stdin",
     "output_type": "stream",
     "text": [
      " 5\n",
      " 14\n"
     ]
    }
   ],
   "source": [
    "inf = int(1e9)\n",
    "n = int(input())\n",
    "m = int(input())\n",
    "graph = [[inf]*(n+1) for _ in range(n+1)]"
   ]
  },
  {
   "cell_type": "code",
   "execution_count": 13,
   "id": "41503d4e-aaee-4423-8498-d0b36310208d",
   "metadata": {},
   "outputs": [
    {
     "name": "stdin",
     "output_type": "stream",
     "text": [
      " 1 2 2\n",
      " 1 3 3\n",
      " 1 4 1\n",
      " 1 5 10\n",
      " 2 4 2\n",
      " 3 4 1\n",
      " 3 5 1\n",
      " 4 5 3\n",
      " 3 5 10\n",
      " 3 1 8\n",
      " 1 4 2\n",
      " 5 1 7\n",
      " 3 4 2\n",
      " 5 2 4\n"
     ]
    }
   ],
   "source": [
    "for i in range(1, n+1):\n",
    "    for j in range(1, n+1):\n",
    "        if i == j:\n",
    "            graph[i][j] = 0\n",
    "for _ in range(m):\n",
    "    a,b,c = map(int, input().split())\n",
    "    graph[a][b] = min(graph[a][b], c)  "
   ]
  },
  {
   "cell_type": "code",
   "execution_count": 14,
   "id": "bde70319-e503-4755-926a-78fd9d57a101",
   "metadata": {},
   "outputs": [],
   "source": [
    "# 몇 번 노드를 거쳐가는지?\n",
    "for k in range(1, n+1):\n",
    "    for i in range(1,n+1):\n",
    "        for j in range(1, n+1):\n",
    "            graph[i][j] = min(graph[i][j], graph[i][k]+graph[k][j])"
   ]
  },
  {
   "cell_type": "code",
   "execution_count": 19,
   "id": "e9c501f8-a57c-4fdc-9e25-807091164ba9",
   "metadata": {},
   "outputs": [
    {
     "name": "stdout",
     "output_type": "stream",
     "text": [
      "0 2 3 1 4 \n",
      "12 0 15 2 5 \n",
      "8 5 0 1 1 \n",
      "10 7 13 0 3 \n",
      "7 4 10 6 0 \n"
     ]
    }
   ],
   "source": [
    "for i in range(1, n+1):\n",
    "    for j in range(1, n+1):\n",
    "        if graph[i][j] == 1e9:\n",
    "            print(0, end =' ')\n",
    "        else:\n",
    "            print(graph[i][j], end =' ')\n",
    "    print()"
   ]
  },
  {
   "cell_type": "code",
   "execution_count": null,
   "id": "9f4ad070-a542-4de2-a05c-64f695d0ef86",
   "metadata": {},
   "outputs": [],
   "source": []
  }
 ],
 "metadata": {
  "kernelspec": {
   "display_name": "Python 3",
   "language": "python",
   "name": "python3"
  },
  "language_info": {
   "codemirror_mode": {
    "name": "ipython",
    "version": 3
   },
   "file_extension": ".py",
   "mimetype": "text/x-python",
   "name": "python",
   "nbconvert_exporter": "python",
   "pygments_lexer": "ipython3",
   "version": "3.9.2"
  }
 },
 "nbformat": 4,
 "nbformat_minor": 5
}
