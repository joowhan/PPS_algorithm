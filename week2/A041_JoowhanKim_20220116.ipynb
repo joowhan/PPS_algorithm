{
 "cells": [
  {
   "cell_type": "code",
   "execution_count": 44,
   "id": "5b2b66eb",
   "metadata": {},
   "outputs": [],
   "source": [
    "s = \"3people unFollowed me\"\n",
    "words = s.split()\n",
    "answer= []"
   ]
  },
  {
   "cell_type": "code",
   "execution_count": 45,
   "id": "0d7fe919",
   "metadata": {},
   "outputs": [],
   "source": [
    "for word in words:\n",
    "    word = word.lower()\n",
    "    word = word.replace(word[0], word[0].upper())\n",
    "    answer.append(word)\n",
    "answer = ' '.join(answer)"
   ]
  },
  {
   "cell_type": "code",
   "execution_count": 46,
   "id": "a2c15380",
   "metadata": {},
   "outputs": [
    {
     "data": {
      "text/plain": [
       "'3people Unfollowed Me'"
      ]
     },
     "execution_count": 46,
     "metadata": {},
     "output_type": "execute_result"
    }
   ],
   "source": [
    "answer"
   ]
  },
  {
   "cell_type": "code",
   "execution_count": 47,
   "id": "d5f9b0d5",
   "metadata": {},
   "outputs": [],
   "source": [
    "def solution(s):\n",
    "    s = s.split(\" \")\n",
    "    for i in range(len(s)):\n",
    "        s[i] = s[i][:1].upper() + s[i][1:].lower()\n",
    "    return ' '.join(s)"
   ]
  },
  {
   "cell_type": "code",
   "execution_count": null,
   "id": "271819f1",
   "metadata": {},
   "outputs": [],
   "source": []
  }
 ],
 "metadata": {
  "kernelspec": {
   "display_name": "Python 3",
   "language": "python",
   "name": "python3"
  },
  "language_info": {
   "codemirror_mode": {
    "name": "ipython",
    "version": 3
   },
   "file_extension": ".py",
   "mimetype": "text/x-python",
   "name": "python",
   "nbconvert_exporter": "python",
   "pygments_lexer": "ipython3",
   "version": "3.9.2"
  }
 },
 "nbformat": 4,
 "nbformat_minor": 5
}
