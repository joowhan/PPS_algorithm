{
 "cells": [
  {
   "cell_type": "code",
   "execution_count": 15,
   "id": "07072b66",
   "metadata": {},
   "outputs": [],
   "source": [
    "n = 10\n",
    "count = 0\n",
    "signal =0\n",
    "for num in range(n):\n",
    "    #print(num)\n",
    "    if num ==2:\n",
    "        count +=1\n",
    "    elif num>2:\n",
    "        for j in range(2,num):\n",
    "            if num%j ==0:\n",
    "                signal =1\n",
    "        if signal == 0:\n",
    "            count +=1\n",
    "        else: signal = 0"
   ]
  },
  {
   "cell_type": "code",
   "execution_count": 16,
   "id": "efdcdb0c",
   "metadata": {},
   "outputs": [
    {
     "data": {
      "text/plain": [
       "4"
      ]
     },
     "execution_count": 16,
     "metadata": {},
     "output_type": "execute_result"
    }
   ],
   "source": [
    "count"
   ]
  },
  {
   "cell_type": "code",
   "execution_count": null,
   "id": "01d123a5",
   "metadata": {},
   "outputs": [],
   "source": []
  }
 ],
 "metadata": {
  "kernelspec": {
   "display_name": "Python 3",
   "language": "python",
   "name": "python3"
  },
  "language_info": {
   "codemirror_mode": {
    "name": "ipython",
    "version": 3
   },
   "file_extension": ".py",
   "mimetype": "text/x-python",
   "name": "python",
   "nbconvert_exporter": "python",
   "pygments_lexer": "ipython3",
   "version": "3.9.2"
  }
 },
 "nbformat": 4,
 "nbformat_minor": 5
}
