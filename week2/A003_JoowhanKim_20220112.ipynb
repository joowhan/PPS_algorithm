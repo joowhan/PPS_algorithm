{
 "cells": [
  {
   "cell_type": "code",
   "execution_count": 23,
   "id": "2380ae96",
   "metadata": {},
   "outputs": [],
   "source": [
    "digits = [4,3,2,1]\n",
    "a = int(len(digits))\n",
    "num = 0\n",
    "for i in range(a):\n",
    "    num +=digits[i] * (10**(a-i-1))\n",
    "num = num+1\n",
    "num_str = str(num)\n",
    "result = list(map(int, num_str))"
   ]
  },
  {
   "cell_type": "code",
   "execution_count": 25,
   "id": "7650edd8",
   "metadata": {},
   "outputs": [
    {
     "data": {
      "text/plain": [
       "[4, 3, 2, 2]"
      ]
     },
     "execution_count": 25,
     "metadata": {},
     "output_type": "execute_result"
    }
   ],
   "source": [
    "result"
   ]
  },
  {
   "cell_type": "code",
   "execution_count": null,
   "id": "3ed11dc1",
   "metadata": {},
   "outputs": [],
   "source": []
  }
 ],
 "metadata": {
  "kernelspec": {
   "display_name": "Python 3",
   "language": "python",
   "name": "python3"
  },
  "language_info": {
   "codemirror_mode": {
    "name": "ipython",
    "version": 3
   },
   "file_extension": ".py",
   "mimetype": "text/x-python",
   "name": "python",
   "nbconvert_exporter": "python",
   "pygments_lexer": "ipython3",
   "version": "3.9.2"
  }
 },
 "nbformat": 4,
 "nbformat_minor": 5
}
