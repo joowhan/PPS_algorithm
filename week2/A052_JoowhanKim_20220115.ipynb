{
 "cells": [
  {
   "cell_type": "code",
   "execution_count": null,
   "id": "a4d28147",
   "metadata": {},
   "outputs": [],
   "source": [
    "num = int(input())\n",
    "\n",
    "# n(n+1)/2\n",
    "for _ in range(num):\n",
    "    ox = input()\n",
    "    correct =0\n",
    "    result =0\n",
    "    oh = 0\n",
    "    for i in range(len(ox)):\n",
    "        if ox[i] =='O':\n",
    "            correct +=1\n",
    "            if i == len(ox) -1:\n",
    "                result += correct*(correct+1)/2\n",
    "            #print(correct)\n",
    "        else:\n",
    "            correct = correct*(correct+1)/2\n",
    "            #print(correct)\n",
    "            result += correct\n",
    "            correct =0\n",
    "    print(int(result))\n",
    "        "
   ]
  },
  {
   "cell_type": "code",
   "execution_count": null,
   "id": "f3654e88",
   "metadata": {},
   "outputs": [],
   "source": []
  },
  {
   "cell_type": "code",
   "execution_count": null,
   "id": "17ecd46f",
   "metadata": {},
   "outputs": [],
   "source": []
  }
 ],
 "metadata": {
  "kernelspec": {
   "display_name": "Python 3",
   "language": "python",
   "name": "python3"
  },
  "language_info": {
   "codemirror_mode": {
    "name": "ipython",
    "version": 3
   },
   "file_extension": ".py",
   "mimetype": "text/x-python",
   "name": "python",
   "nbconvert_exporter": "python",
   "pygments_lexer": "ipython3",
   "version": "3.9.2"
  }
 },
 "nbformat": 4,
 "nbformat_minor": 5
}
