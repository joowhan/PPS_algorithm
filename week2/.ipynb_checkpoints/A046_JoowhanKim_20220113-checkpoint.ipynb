{
 "cells": [
  {
   "cell_type": "code",
   "execution_count": 27,
   "id": "6863bf4a",
   "metadata": {},
   "outputs": [
    {
     "name": "stdout",
     "output_type": "stream",
     "text": [
      "10\n",
      "k\n",
      "k\n",
      "k\n",
      "k\n",
      "k\n",
      "a\n",
      "a\n",
      "a\n",
      "a\n",
      "a\n",
      "ak\n"
     ]
    }
   ],
   "source": [
    "num = int(input())\n",
    "result = {}\n",
    "count=0\n",
    "for i in range(num):\n",
    "    sen = input()\n",
    "    if sen[0] not in result.keys():\n",
    "        result[sen[0]] = 1\n",
    "    else:\n",
    "        result[sen[0]] += 1\n",
    "        \n",
    "max_key = max(result, key=result.get)\n",
    "player =''\n",
    "predaja = 0\n",
    "for i in result:\n",
    "    if result[i] >=5:\n",
    "        player += i[0]\n",
    "        predaja = 1\n",
    "if predaja != 1:\n",
    "    print('PREDAJA')\n",
    "else:\n",
    "    #players = sorted(player)\n",
    "    print(''.join(sorted(player)))"
   ]
  },
  {
   "cell_type": "code",
   "execution_count": null,
   "id": "f7ba80fe",
   "metadata": {},
   "outputs": [],
   "source": []
  },
  {
   "cell_type": "code",
   "execution_count": 21,
   "id": "a694a187",
   "metadata": {},
   "outputs": [
    {
     "data": {
      "text/plain": [
       "['a', 'k']"
      ]
     },
     "execution_count": 21,
     "metadata": {},
     "output_type": "execute_result"
    }
   ],
   "source": [
    "sorted(player)"
   ]
  },
  {
   "cell_type": "code",
   "execution_count": 8,
   "id": "04663fe1",
   "metadata": {},
   "outputs": [],
   "source": [
    "max_key = max(result, key=result.get)"
   ]
  },
  {
   "cell_type": "code",
   "execution_count": 18,
   "id": "cefa32d8",
   "metadata": {},
   "outputs": [
    {
     "data": {
      "text/plain": [
       "{'b': 5, 'j': 1, 'w': 1, 's': 1, 'd': 1, 'f': 1}"
      ]
     },
     "execution_count": 18,
     "metadata": {},
     "output_type": "execute_result"
    }
   ],
   "source": [
    "result"
   ]
  },
  {
   "cell_type": "markdown",
   "id": "1b3e655b",
   "metadata": {},
   "source": []
  }
 ],
 "metadata": {
  "kernelspec": {
   "display_name": "Python 3",
   "language": "python",
   "name": "python3"
  },
  "language_info": {
   "codemirror_mode": {
    "name": "ipython",
    "version": 3
   },
   "file_extension": ".py",
   "mimetype": "text/x-python",
   "name": "python",
   "nbconvert_exporter": "python",
   "pygments_lexer": "ipython3",
   "version": "3.9.2"
  }
 },
 "nbformat": 4,
 "nbformat_minor": 5
}
