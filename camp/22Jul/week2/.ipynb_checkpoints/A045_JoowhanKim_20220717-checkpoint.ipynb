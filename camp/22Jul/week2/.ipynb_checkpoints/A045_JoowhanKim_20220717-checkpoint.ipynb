{
 "cells": [
  {
   "cell_type": "code",
   "execution_count": null,
   "id": "629a8a1b-f9d0-4ddb-9f25-45d2f341135c",
   "metadata": {},
   "outputs": [],
   "source": [
    "sen = input()\n",
    "sen = sen.lower()\n",
    "result ={}\n",
    "count = 0\n",
    "for i in range(len(sen)):\n",
    "    #print(sen[i])\n",
    "    if sen[i] not in result.keys():\n",
    "        #print(\"wow\")\n",
    "        result[sen[i]] = 1\n",
    "    else:\n",
    "        result[sen[i]] += 1\n",
    "m = max(result.values())\n",
    "for i in result:\n",
    "    if result[i] == m:\n",
    "        count +=1\n",
    "if count >1:\n",
    "    print('?')\n",
    "else:\n",
    "    max_key = max(result, key=result.get)\n",
    "    print(max_key.upper())"
   ]
  }
 ],
 "metadata": {
  "kernelspec": {
   "display_name": "Python 3",
   "language": "python",
   "name": "python3"
  },
  "language_info": {
   "codemirror_mode": {
    "name": "ipython",
    "version": 3
   },
   "file_extension": ".py",
   "mimetype": "text/x-python",
   "name": "python",
   "nbconvert_exporter": "python",
   "pygments_lexer": "ipython3",
   "version": "3.9.2"
  }
 },
 "nbformat": 4,
 "nbformat_minor": 5
}
