{
 "cells": [
  {
   "cell_type": "code",
   "execution_count": 8,
   "id": "63d58196-76a9-42b2-812c-b7ead215f040",
   "metadata": {},
   "outputs": [
    {
     "name": "stdout",
     "output_type": "stream",
     "text": [
      "False\n"
     ]
    }
   ],
   "source": [
    "vowels = ['a', 'e', 'i', 'o', 'u', 'A', 'E', 'I', 'O', 'U']\n",
    "s= 'textbook'\n",
    "mid = int(len(s)/2)\n",
    "front = s[:mid]\n",
    "back = s[mid:]\n",
    "fcount = 0\n",
    "bcount = 0\n",
    "for i in range(len(front)):\n",
    "    if front[i] in vowels:\n",
    "        fcount +=1\n",
    "for i in range(len(back)):\n",
    "    if back[i] in vowels:\n",
    "        bcount +=1\n",
    "if fcount ==bcount:\n",
    "    print(True)\n",
    "else:\n",
    "    print(False)"
   ]
  },
  {
   "cell_type": "code",
   "execution_count": 6,
   "id": "d89ca3ee-bf36-4bb7-b316-cf93185f3c3c",
   "metadata": {},
   "outputs": [
    {
     "data": {
      "text/plain": [
       "'text'"
      ]
     },
     "execution_count": 6,
     "metadata": {},
     "output_type": "execute_result"
    }
   ],
   "source": [
    "front = s[:mid]"
   ]
  },
  {
   "cell_type": "code",
   "execution_count": 7,
   "id": "a37c0d26-66b9-4ce9-986f-4204b455310d",
   "metadata": {},
   "outputs": [
    {
     "data": {
      "text/plain": [
       "'book'"
      ]
     },
     "execution_count": 7,
     "metadata": {},
     "output_type": "execute_result"
    }
   ],
   "source": [
    "s[mid:]"
   ]
  },
  {
   "cell_type": "code",
   "execution_count": null,
   "id": "a34822da-0e7a-4273-8e80-7975a79a4231",
   "metadata": {},
   "outputs": [],
   "source": []
  }
 ],
 "metadata": {
  "kernelspec": {
   "display_name": "Python 3",
   "language": "python",
   "name": "python3"
  },
  "language_info": {
   "codemirror_mode": {
    "name": "ipython",
    "version": 3
   },
   "file_extension": ".py",
   "mimetype": "text/x-python",
   "name": "python",
   "nbconvert_exporter": "python",
   "pygments_lexer": "ipython3",
   "version": "3.9.2"
  }
 },
 "nbformat": 4,
 "nbformat_minor": 5
}
