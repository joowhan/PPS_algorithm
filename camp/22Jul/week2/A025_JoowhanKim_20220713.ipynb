{
 "cells": [
  {
   "cell_type": "code",
   "execution_count": 2,
   "id": "0f690153-0e34-41ec-88d4-99193274a3c5",
   "metadata": {},
   "outputs": [
    {
     "data": {
      "text/plain": [
       "16"
      ]
     },
     "execution_count": 2,
     "metadata": {},
     "output_type": "execute_result"
    }
   ],
   "source": [
    "pow(4,2)"
   ]
  },
  {
   "cell_type": "code",
   "execution_count": 8,
   "id": "0dea416c-c6fb-4bfb-a6f3-4f1e953d12e5",
   "metadata": {},
   "outputs": [
    {
     "name": "stdout",
     "output_type": "stream",
     "text": [
      "True\n"
     ]
    }
   ],
   "source": [
    "n = 16\n",
    "flag = 0\n",
    "i=0\n",
    "while i<n:\n",
    "    if n == pow(4, i):\n",
    "        flag = 1\n",
    "        break\n",
    "    else:\n",
    "        i +=1\n",
    "if flag ==1:\n",
    "    print(True)\n",
    "else: print(False)"
   ]
  },
  {
   "cell_type": "code",
   "execution_count": 9,
   "id": "ae34fc91-7e02-4caa-ad55-bbc1f287747c",
   "metadata": {},
   "outputs": [],
   "source": [
    "class Solution(object):\n",
    "    def isPowerOfFour(self, n):\n",
    "        \"\"\"\n",
    "        :type n: int\n",
    "        :rtype: bool\n",
    "        \"\"\"\n",
    "        while n>4 :\n",
    "            if n % 4 != 0:\n",
    "                return False\n",
    "\n",
    "            n /= 4\n",
    "\n",
    "        return n in (1, 4)"
   ]
  },
  {
   "cell_type": "code",
   "execution_count": null,
   "id": "35bac2f1-1f4d-4224-9c74-dcd89820060e",
   "metadata": {},
   "outputs": [],
   "source": []
  }
 ],
 "metadata": {
  "kernelspec": {
   "display_name": "Python 3",
   "language": "python",
   "name": "python3"
  },
  "language_info": {
   "codemirror_mode": {
    "name": "ipython",
    "version": 3
   },
   "file_extension": ".py",
   "mimetype": "text/x-python",
   "name": "python",
   "nbconvert_exporter": "python",
   "pygments_lexer": "ipython3",
   "version": "3.9.2"
  }
 },
 "nbformat": 4,
 "nbformat_minor": 5
}
