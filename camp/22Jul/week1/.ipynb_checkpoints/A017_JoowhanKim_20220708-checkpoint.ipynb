{
 "cells": [
  {
   "cell_type": "code",
   "execution_count": 42,
   "id": "3f672291-3275-4dfe-8443-8cc1676e23dd",
   "metadata": {},
   "outputs": [
    {
     "name": "stdin",
     "output_type": "stream",
     "text": [
      " 778877\n"
     ]
    },
    {
     "name": "stdout",
     "output_type": "stream",
     "text": [
      "4\n"
     ]
    }
   ],
   "source": [
    "import math\n",
    "room_num = input()\n",
    "number_set = [0 for _ in range(10)]\n",
    "for i in range(len(room_num)):\n",
    "    num = int(room_num[i])\n",
    "    number_set[num] +=1\n",
    "number_set[6]= math.ceil((number_set[6]+number_set[9])/2)\n",
    "number_set[9] = number_set[6]\n",
    "print(int(max(number_set)))"
   ]
  },
  {
   "cell_type": "code",
   "execution_count": 39,
   "id": "6d835be7-7761-478d-a7b5-6353833f6a07",
   "metadata": {},
   "outputs": [
    {
     "name": "stdin",
     "output_type": "stream",
     "text": [
      " 778877\n"
     ]
    },
    {
     "name": "stdout",
     "output_type": "stream",
     "text": [
      "2\n"
     ]
    }
   ],
   "source": [
    "# Wrong Solution\n",
    "sets=[]\n",
    "sets=[i for i in range(10)]\n",
    "number=input()\n",
    "count=1\n",
    "neednew=0\n",
    "for i in range(len(number)):\n",
    "    num = int(number[i])\n",
    "    if neednew==1:\n",
    "        sets=[i for i in range(10)]\n",
    "    if num == 6:\n",
    "        if num in sets:\n",
    "            sets.remove(num)\n",
    "        elif 9 in sets:\n",
    "            sets.remove(9)\n",
    "        else:\n",
    "            count+=1\n",
    "            neednew=1\n",
    "    elif num == 9:\n",
    "        if num in sets:\n",
    "            sets.remove(num)\n",
    "        elif 6 in sets:\n",
    "            sets.remove(6)\n",
    "        else:\n",
    "            count+=1\n",
    "            neednew=1\n",
    "            \n",
    "    elif num in sets:\n",
    "        sets.remove(num)\n",
    "    else:\n",
    "        neednew=1\n",
    "        count +=1\n",
    "print(count)\n",
    "        "
   ]
  }
 ],
 "metadata": {
  "kernelspec": {
   "display_name": "Python 3",
   "language": "python",
   "name": "python3"
  },
  "language_info": {
   "codemirror_mode": {
    "name": "ipython",
    "version": 3
   },
   "file_extension": ".py",
   "mimetype": "text/x-python",
   "name": "python",
   "nbconvert_exporter": "python",
   "pygments_lexer": "ipython3",
   "version": "3.9.2"
  }
 },
 "nbformat": 4,
 "nbformat_minor": 5
}
