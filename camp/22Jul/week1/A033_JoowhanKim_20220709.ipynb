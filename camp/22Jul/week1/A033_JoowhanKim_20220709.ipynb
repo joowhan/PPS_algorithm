{
 "cells": [
  {
   "cell_type": "code",
   "execution_count": 9,
   "id": "c9beb50c",
   "metadata": {},
   "outputs": [
    {
     "name": "stdout",
     "output_type": "stream",
     "text": [
      "1 1 1 1\n",
      "2 2 2 2\n",
      "3 3 3 3\n",
      "4 4 4 4\n",
      "5 5 5 5\n",
      "5 20\n"
     ]
    }
   ],
   "source": [
    "maxNum = 0\n",
    "winner = 0\n",
    "for i in range(5):\n",
    "    A = list(map(int, input().split()))\n",
    "    \n",
    "    score = sum(A)\n",
    "    if score >maxNum:\n",
    "        maxNum = score\n",
    "        winner = i+1\n",
    "\n",
    "print(winner, maxNum)"
   ]
  },
  {
   "cell_type": "code",
   "execution_count": 6,
   "id": "bb20d3f3",
   "metadata": {},
   "outputs": [
    {
     "data": {
      "text/plain": [
       "1"
      ]
     },
     "execution_count": 6,
     "metadata": {},
     "output_type": "execute_result"
    }
   ],
   "source": [
    "(A[0])"
   ]
  },
  {
   "cell_type": "code",
   "execution_count": null,
   "id": "4dff2c58",
   "metadata": {},
   "outputs": [],
   "source": []
  }
 ],
 "metadata": {
  "kernelspec": {
   "display_name": "Python 3",
   "language": "python",
   "name": "python3"
  },
  "language_info": {
   "codemirror_mode": {
    "name": "ipython",
    "version": 3
   },
   "file_extension": ".py",
   "mimetype": "text/x-python",
   "name": "python",
   "nbconvert_exporter": "python",
   "pygments_lexer": "ipython3",
   "version": "3.9.2"
  }
 },
 "nbformat": 4,
 "nbformat_minor": 5
}
