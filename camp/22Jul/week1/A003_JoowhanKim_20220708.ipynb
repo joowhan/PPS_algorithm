{
 "cells": [
  {
   "cell_type": "code",
   "execution_count": 10,
   "id": "47f0b76b-1874-4b88-a69f-c0739242c18d",
   "metadata": {},
   "outputs": [
    {
     "data": {
      "text/plain": [
       "[1, 2, 4]"
      ]
     },
     "execution_count": 10,
     "metadata": {},
     "output_type": "execute_result"
    }
   ],
   "source": [
    "digits=[1,2,3]\n",
    "num = \"\".join(str(d) for d in digits)\n",
    "temp = int(num)+1\n",
    "result = list(str(temp))\n",
    "[int(ele) for ele in result]"
   ]
  },
  {
   "cell_type": "code",
   "execution_count": 5,
   "id": "c53722c9-15d0-4934-bff2-4c55dd17dd7b",
   "metadata": {},
   "outputs": [
    {
     "data": {
      "text/plain": [
       "['1', '2', '4']"
      ]
     },
     "execution_count": 5,
     "metadata": {},
     "output_type": "execute_result"
    }
   ],
   "source": [
    "result"
   ]
  },
  {
   "cell_type": "code",
   "execution_count": null,
   "id": "caa009fa-802c-4db1-b358-6f6b5b217bbc",
   "metadata": {},
   "outputs": [],
   "source": []
  }
 ],
 "metadata": {
  "kernelspec": {
   "display_name": "Python 3",
   "language": "python",
   "name": "python3"
  },
  "language_info": {
   "codemirror_mode": {
    "name": "ipython",
    "version": 3
   },
   "file_extension": ".py",
   "mimetype": "text/x-python",
   "name": "python",
   "nbconvert_exporter": "python",
   "pygments_lexer": "ipython3",
   "version": "3.9.2"
  }
 },
 "nbformat": 4,
 "nbformat_minor": 5
}
