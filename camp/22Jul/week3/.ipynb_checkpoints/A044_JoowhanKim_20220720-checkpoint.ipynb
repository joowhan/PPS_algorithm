{
 "cells": [
  {
   "cell_type": "code",
   "execution_count": 11,
   "id": "9567b55f-fe1e-4ba7-8457-d1c6faecd3b0",
   "metadata": {},
   "outputs": [],
   "source": [
    "s = \"LALL\"\n",
    "check= 0 \n",
    "if 'LLL' in s:\n",
    "    print(False)\n",
    "for i in range(len(s)):\n",
    "    if s[i] == 'A':\n",
    "        check +=1\n",
    "if check>1:\n",
    "    print(False)"
   ]
  },
  {
   "cell_type": "code",
   "execution_count": 7,
   "id": "5166275f-0df5-494e-a797-ddbf2accaf22",
   "metadata": {},
   "outputs": [
    {
     "data": {
      "text/plain": [
       "False"
      ]
     },
     "execution_count": 7,
     "metadata": {},
     "output_type": "execute_result"
    }
   ],
   "source": [
    "check[1]>2"
   ]
  },
  {
   "cell_type": "code",
   "execution_count": null,
   "id": "41f40b6b-a244-40da-9ded-2b7b7b907e01",
   "metadata": {},
   "outputs": [],
   "source": []
  }
 ],
 "metadata": {
  "kernelspec": {
   "display_name": "Python 3",
   "language": "python",
   "name": "python3"
  },
  "language_info": {
   "codemirror_mode": {
    "name": "ipython",
    "version": 3
   },
   "file_extension": ".py",
   "mimetype": "text/x-python",
   "name": "python",
   "nbconvert_exporter": "python",
   "pygments_lexer": "ipython3",
   "version": "3.9.2"
  }
 },
 "nbformat": 4,
 "nbformat_minor": 5
}
