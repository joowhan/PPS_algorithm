{
 "cells": [
  {
   "cell_type": "code",
   "execution_count": 19,
   "id": "6dc49b6a-a839-4b3f-a991-93930fbeaf09",
   "metadata": {},
   "outputs": [
    {
     "name": "stdout",
     "output_type": "stream",
     "text": [
      "True\n"
     ]
    }
   ],
   "source": [
    "alpha =['c=','c-','dz=','d-','lj','nj','s=','z=']\n",
    "word = 'ljes=njak'\n",
    "if 's=' in word:\n",
    "    print(True)"
   ]
  },
  {
   "cell_type": "code",
   "execution_count": 34,
   "id": "b1a571de-497f-426d-98f2-210d0e0f4542",
   "metadata": {},
   "outputs": [
    {
     "name": "stdin",
     "output_type": "stream",
     "text": [
      " nljj\n"
     ]
    },
    {
     "name": "stdout",
     "output_type": "stream",
     "text": [
      "3\n"
     ]
    }
   ],
   "source": [
    "word = input()\n",
    "alpha =['c=','c-','dz=','d-','lj','nj','s=','z=']\n",
    "for al in alpha:\n",
    "    if al in word:\n",
    "        word = word.replace(al,\"@\")\n",
    "\n",
    "print(len(word))"
   ]
  },
  {
   "cell_type": "code",
   "execution_count": 33,
   "id": "ceea15e8-d1b8-4183-870e-773ec392cd2f",
   "metadata": {},
   "outputs": [
    {
     "data": {
      "text/plain": [
       "'n@j'"
      ]
     },
     "execution_count": 33,
     "metadata": {},
     "output_type": "execute_result"
    }
   ],
   "source": [
    "word"
   ]
  },
  {
   "cell_type": "code",
   "execution_count": null,
   "id": "b8f7d97e-5069-4900-bf37-1b0ef38bb77c",
   "metadata": {},
   "outputs": [],
   "source": []
  }
 ],
 "metadata": {
  "kernelspec": {
   "display_name": "Python 3",
   "language": "python",
   "name": "python3"
  },
  "language_info": {
   "codemirror_mode": {
    "name": "ipython",
    "version": 3
   },
   "file_extension": ".py",
   "mimetype": "text/x-python",
   "name": "python",
   "nbconvert_exporter": "python",
   "pygments_lexer": "ipython3",
   "version": "3.9.2"
  }
 },
 "nbformat": 4,
 "nbformat_minor": 5
}
