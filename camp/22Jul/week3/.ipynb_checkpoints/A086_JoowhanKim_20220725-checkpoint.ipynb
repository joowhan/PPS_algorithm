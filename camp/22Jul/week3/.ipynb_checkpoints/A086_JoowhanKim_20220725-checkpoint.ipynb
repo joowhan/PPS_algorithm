{
 "cells": [
  {
   "cell_type": "code",
   "execution_count": 1,
   "id": "6bbf6c3e-b688-4e8d-9d0d-c7134d7506bf",
   "metadata": {},
   "outputs": [
    {
     "name": "stdin",
     "output_type": "stream",
     "text": [
      " 8 28\n"
     ]
    },
    {
     "name": "stdout",
     "output_type": "stream",
     "text": [
      "8 9 18 15 14 19 11 17 16 13\n",
      "12 10 28 25 24 21 27 26 23 22\n",
      "20 "
     ]
    }
   ],
   "source": [
    "number = {\n",
    "    '1':'one', '2':'two', '3':'three', '4':'four', '5':'five', \n",
    "    '6':'six', '7':'seven', '8':'eight', '9':'nine', '0':'zero'\n",
    "}\n",
    "reverse_number = dict(map(reversed, number.items()))\n",
    "sort_num = {}\n",
    "n,m = map(int,input().split())\n",
    "lis = list(range(n,m+1))\n",
    "en_num = []\n",
    "for i in range(len(lis)):\n",
    "    s_num = str(lis[i])\n",
    "    if len(s_num)>1:\n",
    "        n1 = number[s_num[0]] \n",
    "        n2 = number[s_num[1]] \n",
    "        s_num = n1+' '+n2\n",
    "        en_num.append(s_num)\n",
    "        sort_num[s_num] = int(lis[i])\n",
    "    else:\n",
    "        en_num.append(number[s_num])\n",
    "        sort_num[number[s_num]] = int(lis[i])\n",
    "result = sorted(en_num)\n",
    "sort_num = sorted(sort_num.items())\n",
    "count = 0\n",
    "for num in sort_num:\n",
    "    count +=1\n",
    "    if count ==10:\n",
    "        print(num[1], sep='\\n')\n",
    "        count = 0\n",
    "    else:\n",
    "        print(num[1], end = ' ')"
   ]
  },
  {
   "cell_type": "code",
   "execution_count": null,
   "id": "aa18f177-2e98-4418-9c08-a19a41b89af2",
   "metadata": {},
   "outputs": [],
   "source": []
  }
 ],
 "metadata": {
  "kernelspec": {
   "display_name": "Python 3",
   "language": "python",
   "name": "python3"
  },
  "language_info": {
   "codemirror_mode": {
    "name": "ipython",
    "version": 3
   },
   "file_extension": ".py",
   "mimetype": "text/x-python",
   "name": "python",
   "nbconvert_exporter": "python",
   "pygments_lexer": "ipython3",
   "version": "3.9.2"
  }
 },
 "nbformat": 4,
 "nbformat_minor": 5
}
