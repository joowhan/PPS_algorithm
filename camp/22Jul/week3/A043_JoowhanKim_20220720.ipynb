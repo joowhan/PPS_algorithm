{
 "cells": [
  {
   "cell_type": "code",
   "execution_count": 49,
   "id": "b62adef3-74b4-4b64-a446-9893ce8bfc8e",
   "metadata": {},
   "outputs": [],
   "source": [
    "# strs = [\"flower\",\"flow\",\"flight\"]\n",
    "# strs = [\"dog\",\"racecar\",\"car\"]\n",
    "strs = ['ab', 'a']"
   ]
  },
  {
   "cell_type": "code",
   "execution_count": 50,
   "id": "36968dca-119a-4871-8917-91ff7cfda552",
   "metadata": {},
   "outputs": [
    {
     "name": "stdout",
     "output_type": "stream",
     "text": [
      "a\n",
      "\n"
     ]
    }
   ],
   "source": [
    "minlen = strs[0]\n",
    "result=''\n",
    "if len(strs) <=1:\n",
    "    print(minlen)\n",
    "for st in strs:\n",
    "    if len(st) < len(minlen):\n",
    "        minlen = st\n",
    "ind = strs.index(minlen)\n",
    "strs.pop(ind)\n",
    "if len(minlen) <=1:\n",
    "    for word in strs:\n",
    "        if minlen in word:\n",
    "            print(minlen)\n",
    "for i in range(1, len(minlen)):\n",
    "    count = 0\n",
    "    for word in strs:\n",
    "        if minlen[:i] in word:\n",
    "            count +=1\n",
    "    if count == len(strs):\n",
    "        result = minlen[:i]\n",
    "print(result)"
   ]
  },
  {
   "cell_type": "code",
   "execution_count": 51,
   "id": "5fa13351-c67a-4de0-869b-8f5eb7216a77",
   "metadata": {},
   "outputs": [],
   "source": [
    "##Solution\n",
    "class Solution(object):\n",
    "    def longestCommonPrefix(self, strs):\n",
    "        if len(strs) == 0:\n",
    "            return \"\"\n",
    "        current = strs[0]\n",
    "        for i in range(1,len(strs)):\n",
    "            temp = \"\"\n",
    "            if len(current) == 0:\n",
    "                break\n",
    "            for j in range(len(strs[i])):\n",
    "                if j<len(current) and current[j] == strs[i][j]:\n",
    "                    temp+=current[j]\n",
    "                else:\n",
    "                    break\n",
    "            current = temp\n",
    "        return current"
   ]
  },
  {
   "cell_type": "code",
   "execution_count": null,
   "id": "feb56e40-7f08-408e-a921-0c223f2fa61d",
   "metadata": {},
   "outputs": [],
   "source": []
  }
 ],
 "metadata": {
  "kernelspec": {
   "display_name": "Python 3",
   "language": "python",
   "name": "python3"
  },
  "language_info": {
   "codemirror_mode": {
    "name": "ipython",
    "version": 3
   },
   "file_extension": ".py",
   "mimetype": "text/x-python",
   "name": "python",
   "nbconvert_exporter": "python",
   "pygments_lexer": "ipython3",
   "version": "3.9.2"
  }
 },
 "nbformat": 4,
 "nbformat_minor": 5
}
