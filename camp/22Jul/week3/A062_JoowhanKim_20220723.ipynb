{
 "cells": [
  {
   "cell_type": "code",
   "execution_count": 19,
   "id": "123d63f6-c59b-404f-bc1b-a0682dca25c9",
   "metadata": {},
   "outputs": [],
   "source": [
    "a=2\n",
    "b=1\n",
    "month = [31, 29, 31, 30, 31, 30, 31, 31, 30, 31, 30, 31]\n",
    "days = ['FRI','SAT','SUN','MON','TUE','WED','THU']\n",
    "\n"
   ]
  },
  {
   "cell_type": "code",
   "execution_count": 20,
   "id": "506714b0-a394-4631-a9d2-b089ef57601f",
   "metadata": {},
   "outputs": [
    {
     "data": {
      "text/plain": [
       "'MON'"
      ]
     },
     "execution_count": 20,
     "metadata": {},
     "output_type": "execute_result"
    }
   ],
   "source": [
    "days[(sum(month[:a-1])+b)%7-1]"
   ]
  },
  {
   "cell_type": "code",
   "execution_count": null,
   "id": "f5e874ba-4320-4050-ae64-8acdea069489",
   "metadata": {},
   "outputs": [],
   "source": []
  }
 ],
 "metadata": {
  "kernelspec": {
   "display_name": "Python 3",
   "language": "python",
   "name": "python3"
  },
  "language_info": {
   "codemirror_mode": {
    "name": "ipython",
    "version": 3
   },
   "file_extension": ".py",
   "mimetype": "text/x-python",
   "name": "python",
   "nbconvert_exporter": "python",
   "pygments_lexer": "ipython3",
   "version": "3.9.2"
  }
 },
 "nbformat": 4,
 "nbformat_minor": 5
}
