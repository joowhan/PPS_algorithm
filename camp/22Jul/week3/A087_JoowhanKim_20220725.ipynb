{
 "cells": [
  {
   "cell_type": "code",
   "execution_count": 1,
   "id": "bf1d01b9-07e3-4ddb-96c5-c4bca0e49328",
   "metadata": {},
   "outputs": [],
   "source": [
    "boxTypes = [[5,10],[2,5],[4,7],[3,9]] \n",
    "truckSize = 10"
   ]
  },
  {
   "cell_type": "code",
   "execution_count": 6,
   "id": "bb9447c7-eeb7-42fc-ae6c-014d8ff52b96",
   "metadata": {},
   "outputs": [],
   "source": [
    "boxTypes.sort(key=lambda x:x[1], reverse=True)\n",
    "units=0\n",
    "for box in boxTypes:\n",
    "    if truckSize <=0:\n",
    "        break\n",
    "    if box[0]<=truckSize:\n",
    "        units += box[0]*box[1]\n",
    "    elif box[0] >truckSize:\n",
    "        units += truckSize*box[1]\n",
    "    truckSize -= box[0]\n",
    "    "
   ]
  },
  {
   "cell_type": "code",
   "execution_count": 5,
   "id": "9d2d8631-be24-4209-ac0f-96beb9ba30d2",
   "metadata": {},
   "outputs": [
    {
     "data": {
      "text/plain": [
       "[[5, 10], [3, 9], [4, 7], [2, 5]]"
      ]
     },
     "execution_count": 5,
     "metadata": {},
     "output_type": "execute_result"
    }
   ],
   "source": [
    "boxTypes"
   ]
  },
  {
   "cell_type": "code",
   "execution_count": 7,
   "id": "403250c3-875d-4a08-84f0-feeddb01a5b5",
   "metadata": {},
   "outputs": [
    {
     "data": {
      "text/plain": [
       "91"
      ]
     },
     "execution_count": 7,
     "metadata": {},
     "output_type": "execute_result"
    }
   ],
   "source": [
    "units"
   ]
  },
  {
   "cell_type": "code",
   "execution_count": null,
   "id": "6b7ce00d-c471-4caa-a627-aa3082d5c225",
   "metadata": {},
   "outputs": [],
   "source": []
  }
 ],
 "metadata": {
  "kernelspec": {
   "display_name": "Python 3",
   "language": "python",
   "name": "python3"
  },
  "language_info": {
   "codemirror_mode": {
    "name": "ipython",
    "version": 3
   },
   "file_extension": ".py",
   "mimetype": "text/x-python",
   "name": "python",
   "nbconvert_exporter": "python",
   "pygments_lexer": "ipython3",
   "version": "3.9.2"
  }
 },
 "nbformat": 4,
 "nbformat_minor": 5
}
