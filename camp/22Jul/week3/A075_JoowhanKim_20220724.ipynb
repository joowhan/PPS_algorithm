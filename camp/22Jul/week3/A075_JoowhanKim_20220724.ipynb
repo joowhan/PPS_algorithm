{
 "cells": [
  {
   "cell_type": "code",
   "execution_count": 5,
   "id": "effa393d-b538-40fc-b511-2829b893e4fa",
   "metadata": {},
   "outputs": [],
   "source": [
    "numbers = [3, 30, 34, 5, 9]\n",
    "strNum = list(map(str, numbers))"
   ]
  },
  {
   "cell_type": "code",
   "execution_count": 11,
   "id": "73848900-8eb5-4cba-9615-2a26146ef3f7",
   "metadata": {},
   "outputs": [],
   "source": [
    "temp =''.join(strNum)"
   ]
  },
  {
   "cell_type": "code",
   "execution_count": 15,
   "id": "89fa6a89-b0f4-45fb-b025-30201e499cd2",
   "metadata": {},
   "outputs": [
    {
     "data": {
      "text/plain": [
       "9543330"
      ]
     },
     "execution_count": 15,
     "metadata": {},
     "output_type": "execute_result"
    }
   ],
   "source": [
    "''.join(sorted(list(temp), reverse=True))"
   ]
  },
  {
   "cell_type": "code",
   "execution_count": 16,
   "id": "13b909cf-4fcf-4cb5-9aae-839b62187cc9",
   "metadata": {},
   "outputs": [
    {
     "data": {
      "text/plain": [
       "['9', '5', '4', '3', '3', '3', '0']"
      ]
     },
     "execution_count": 16,
     "metadata": {},
     "output_type": "execute_result"
    }
   ],
   "source": [
    "sorted(list(temp), reverse=True)"
   ]
  },
  {
   "cell_type": "code",
   "execution_count": 30,
   "id": "dd09cd87-67e3-4192-a299-4700ececc3cb",
   "metadata": {},
   "outputs": [
    {
     "data": {
      "text/plain": [
       "True"
      ]
     },
     "execution_count": 30,
     "metadata": {},
     "output_type": "execute_result"
    }
   ],
   "source": [
    "'300'<'9'"
   ]
  },
  {
   "cell_type": "code",
   "execution_count": 25,
   "id": "3c051086-c5f1-4975-aa7d-555c9851da56",
   "metadata": {},
   "outputs": [],
   "source": [
    "numbers = list(map(str, numbers))"
   ]
  },
  {
   "cell_type": "code",
   "execution_count": 37,
   "id": "0961cd88-e931-47a6-b1b3-ad2dafbe33d2",
   "metadata": {},
   "outputs": [],
   "source": [
    "numbers.sort(key=lambda x: x*3, reverse=True)"
   ]
  },
  {
   "cell_type": "code",
   "execution_count": 39,
   "id": "1e0f10e3-add4-4d13-87b2-8e1b9da7fe2a",
   "metadata": {},
   "outputs": [
    {
     "data": {
      "text/plain": [
       "'9534330'"
      ]
     },
     "execution_count": 39,
     "metadata": {},
     "output_type": "execute_result"
    }
   ],
   "source": [
    "''.join(numbers)"
   ]
  },
  {
   "cell_type": "code",
   "execution_count": null,
   "id": "8db0728d-8450-4ecb-962e-90faa858c1a6",
   "metadata": {},
   "outputs": [],
   "source": []
  }
 ],
 "metadata": {
  "kernelspec": {
   "display_name": "Python 3",
   "language": "python",
   "name": "python3"
  },
  "language_info": {
   "codemirror_mode": {
    "name": "ipython",
    "version": 3
   },
   "file_extension": ".py",
   "mimetype": "text/x-python",
   "name": "python",
   "nbconvert_exporter": "python",
   "pygments_lexer": "ipython3",
   "version": "3.9.2"
  }
 },
 "nbformat": 4,
 "nbformat_minor": 5
}
