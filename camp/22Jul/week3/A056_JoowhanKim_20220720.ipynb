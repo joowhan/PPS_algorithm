{
 "cells": [
  {
   "cell_type": "code",
   "execution_count": 6,
   "id": "d7ee1840-d2e1-4aea-ac62-1ccc6cef0047",
   "metadata": {},
   "outputs": [],
   "source": [
    "nums1 = [4,1,2]\n",
    "nums2 = [1,3,4,2]\n",
    "result =[]\n",
    "for num in nums1:\n",
    "    ind = nums2.index(num)\n",
    "    flag = -1\n",
    "    for i in range(ind, len(nums2)):\n",
    "        if nums2[i] > num:\n",
    "            flag = nums2[i]\n",
    "            break\n",
    "    result.append(flag)    "
   ]
  },
  {
   "cell_type": "code",
   "execution_count": 7,
   "id": "bce0462f-e08d-4ed7-984b-7ebad73eb3e5",
   "metadata": {},
   "outputs": [
    {
     "data": {
      "text/plain": [
       "[-1, 3, -1]"
      ]
     },
     "execution_count": 7,
     "metadata": {},
     "output_type": "execute_result"
    }
   ],
   "source": [
    "result"
   ]
  },
  {
   "cell_type": "code",
   "execution_count": null,
   "id": "a4da2714-3fa6-497b-be23-43e8256a0640",
   "metadata": {},
   "outputs": [],
   "source": []
  }
 ],
 "metadata": {
  "kernelspec": {
   "display_name": "Python 3",
   "language": "python",
   "name": "python3"
  },
  "language_info": {
   "codemirror_mode": {
    "name": "ipython",
    "version": 3
   },
   "file_extension": ".py",
   "mimetype": "text/x-python",
   "name": "python",
   "nbconvert_exporter": "python",
   "pygments_lexer": "ipython3",
   "version": "3.9.2"
  }
 },
 "nbformat": 4,
 "nbformat_minor": 5
}
