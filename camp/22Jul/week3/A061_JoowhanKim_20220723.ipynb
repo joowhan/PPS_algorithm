{
 "cells": [
  {
   "cell_type": "code",
   "execution_count": 38,
   "id": "417e8cd9-d2bc-48d7-b2b9-398c0bf9c7b3",
   "metadata": {},
   "outputs": [],
   "source": [
    "columnNumber = 1124"
   ]
  },
  {
   "cell_type": "code",
   "execution_count": 39,
   "id": "bef325d2-70fb-49ff-9cf9-473322957af8",
   "metadata": {},
   "outputs": [
    {
     "data": {
      "text/plain": [
       "'Ҥ'"
      ]
     },
     "execution_count": 39,
     "metadata": {},
     "output_type": "execute_result"
    }
   ],
   "source": [
    "chr(columnNumber+64)"
   ]
  },
  {
   "cell_type": "code",
   "execution_count": 40,
   "id": "1507dc6d-c3fa-4f73-abc1-d85b19adee61",
   "metadata": {},
   "outputs": [],
   "source": [
    "answer = ''\n",
    "while columnNumber != 0:\n",
    "    tmp = chr(ord('A') + (columnNumber - 1) % 26)\n",
    "    columnNumber = (columnNumber - 1) // 26\n",
    "    answer = tmp + answer\n",
    "        "
   ]
  },
  {
   "cell_type": "code",
   "execution_count": 41,
   "id": "5f2ca8fb-19ec-4da5-8db3-0bd1bf0b324a",
   "metadata": {},
   "outputs": [
    {
     "data": {
      "text/plain": [
       "'AQF'"
      ]
     },
     "execution_count": 41,
     "metadata": {},
     "output_type": "execute_result"
    }
   ],
   "source": [
    "answer"
   ]
  },
  {
   "cell_type": "code",
   "execution_count": null,
   "id": "4cc14224-6f9c-4b18-9e3c-c5db2adb0884",
   "metadata": {},
   "outputs": [],
   "source": []
  }
 ],
 "metadata": {
  "kernelspec": {
   "display_name": "Python 3",
   "language": "python",
   "name": "python3"
  },
  "language_info": {
   "codemirror_mode": {
    "name": "ipython",
    "version": 3
   },
   "file_extension": ".py",
   "mimetype": "text/x-python",
   "name": "python",
   "nbconvert_exporter": "python",
   "pygments_lexer": "ipython3",
   "version": "3.9.2"
  }
 },
 "nbformat": 4,
 "nbformat_minor": 5
}
