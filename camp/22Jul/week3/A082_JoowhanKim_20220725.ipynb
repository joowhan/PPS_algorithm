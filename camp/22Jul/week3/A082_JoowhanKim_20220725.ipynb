{
 "cells": [
  {
   "cell_type": "markdown",
   "id": "44a614a7-79b1-4843-8344-c73cadc1985f",
   "metadata": {},
   "source": [
    "\n"
   ]
  },
  {
   "cell_type": "code",
   "execution_count": 1,
   "id": "04438588-65dc-4af5-8ed2-e2bbcd525d24",
   "metadata": {},
   "outputs": [
    {
     "name": "stdin",
     "output_type": "stream",
     "text": [
      " 3\n"
     ]
    }
   ],
   "source": [
    "N = int(input())"
   ]
  },
  {
   "cell_type": "code",
   "execution_count": 21,
   "id": "80840d6f-fc1a-46f4-82b8-e22c08129e97",
   "metadata": {},
   "outputs": [
    {
     "name": "stdin",
     "output_type": "stream",
     "text": [
      " 24 joo\n",
      " 23 kim\n",
      " 23 nkd\n"
     ]
    },
    {
     "name": "stdout",
     "output_type": "stream",
     "text": [
      "23   kim\n",
      "23   nkd\n",
      "24   joo\n"
     ]
    }
   ],
   "source": [
    "ages=[]\n",
    "names=[]\n",
    "result =[]\n",
    "for _ in range(N):\n",
    "    result.append(list(input().split()))\n",
    "result.sort(key= lambda x: x[0])\n",
    "for i in range(len(result)):\n",
    "    print(result[i][0],' ',result[i][1])"
   ]
  }
 ],
 "metadata": {
  "kernelspec": {
   "display_name": "Python 3",
   "language": "python",
   "name": "python3"
  },
  "language_info": {
   "codemirror_mode": {
    "name": "ipython",
    "version": 3
   },
   "file_extension": ".py",
   "mimetype": "text/x-python",
   "name": "python",
   "nbconvert_exporter": "python",
   "pygments_lexer": "ipython3",
   "version": "3.9.2"
  }
 },
 "nbformat": 4,
 "nbformat_minor": 5
}
