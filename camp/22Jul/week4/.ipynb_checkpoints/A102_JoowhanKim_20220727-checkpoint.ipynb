{
 "cells": [
  {
   "cell_type": "code",
   "execution_count": 2,
   "id": "6dfa3147-0626-4c56-a32e-5f7fac998e78",
   "metadata": {},
   "outputs": [],
   "source": [
    "matrix = [[1,2,3],[4,5,6],[7,8,9]]\n",
    "import numpy as np"
   ]
  },
  {
   "cell_type": "code",
   "execution_count": 5,
   "id": "7eddb35c-34dd-4e51-90a6-7d133332e9ce",
   "metadata": {},
   "outputs": [
    {
     "data": {
      "text/plain": [
       "(3, 3)"
      ]
     },
     "execution_count": 5,
     "metadata": {},
     "output_type": "execute_result"
    }
   ],
   "source": [
    "np.shape(matrix)"
   ]
  },
  {
   "cell_type": "code",
   "execution_count": 8,
   "id": "3d44343a-7045-4f59-934a-2703063b0282",
   "metadata": {},
   "outputs": [],
   "source": [
    " temp = np.transpose(matrix)"
   ]
  },
  {
   "cell_type": "code",
   "execution_count": 10,
   "id": "65455853-8343-44af-ab4a-14c026b217e0",
   "metadata": {},
   "outputs": [
    {
     "name": "stdout",
     "output_type": "stream",
     "text": [
      "[[1 4 7]\n",
      " [2 5 8]\n",
      " [3 6 9]]\n"
     ]
    }
   ],
   "source": [
    "print(temp)"
   ]
  },
  {
   "cell_type": "code",
   "execution_count": 11,
   "id": "2cd2eee6-f926-43d4-a486-f45d4af9fa8e",
   "metadata": {},
   "outputs": [],
   "source": [
    "row = len(matrix)"
   ]
  },
  {
   "cell_type": "code",
   "execution_count": 12,
   "id": "1269647d-a7cc-4280-834b-0a4f670a7b4e",
   "metadata": {},
   "outputs": [],
   "source": [
    "column = len(matrix[0])"
   ]
  },
  {
   "cell_type": "code",
   "execution_count": 22,
   "id": "9c818035-6b42-48e0-ac61-84e675871874",
   "metadata": {},
   "outputs": [],
   "source": [
    "row = len(matrix)\n",
    "column = len(matrix[0])\n",
    "result = [[0]*row for i in range(column)]\n",
    "\n",
    "for i in range(len(matrix)):\n",
    "    for j in range(len(matrix[i])):\n",
    "        result[j][i] = matrix[i][j]\n",
    "        "
   ]
  },
  {
   "cell_type": "code",
   "execution_count": 20,
   "id": "81cb91ff-9c30-42a3-9643-7c97c6f16473",
   "metadata": {},
   "outputs": [],
   "source": [
    "result = [[0]*row for i in range(column)]"
   ]
  },
  {
   "cell_type": "code",
   "execution_count": 23,
   "id": "ca48f8a2-9dd7-4281-ac91-a1cd7599eec3",
   "metadata": {},
   "outputs": [
    {
     "data": {
      "text/plain": [
       "[[1, 4, 7], [2, 5, 8], [3, 6, 9]]"
      ]
     },
     "execution_count": 23,
     "metadata": {},
     "output_type": "execute_result"
    }
   ],
   "source": [
    "result"
   ]
  },
  {
   "cell_type": "code",
   "execution_count": null,
   "id": "322ba572-eaa8-4051-bb2d-127616f0b738",
   "metadata": {},
   "outputs": [],
   "source": []
  }
 ],
 "metadata": {
  "kernelspec": {
   "display_name": "Python 3",
   "language": "python",
   "name": "python3"
  },
  "language_info": {
   "codemirror_mode": {
    "name": "ipython",
    "version": 3
   },
   "file_extension": ".py",
   "mimetype": "text/x-python",
   "name": "python",
   "nbconvert_exporter": "python",
   "pygments_lexer": "ipython3",
   "version": "3.9.2"
  }
 },
 "nbformat": 4,
 "nbformat_minor": 5
}
