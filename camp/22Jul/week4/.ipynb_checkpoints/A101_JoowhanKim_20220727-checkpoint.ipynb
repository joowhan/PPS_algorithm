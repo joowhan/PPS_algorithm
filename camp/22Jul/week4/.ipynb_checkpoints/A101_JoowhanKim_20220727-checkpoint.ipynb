{
 "cells": [
  {
   "cell_type": "code",
   "execution_count": null,
   "id": "ffdbce00-7d9e-4612-ba0d-a2a36ed71024",
   "metadata": {},
   "outputs": [],
   "source": [
    "aliceSizes = [1,2,3]\n",
    "bobSizes = [2,2]"
   ]
  },
  {
   "cell_type": "code",
   "execution_count": 21,
   "id": "d8c41702-c223-424c-8df4-58394254d51a",
   "metadata": {},
   "outputs": [
    {
     "name": "stdout",
     "output_type": "stream",
     "text": [
      "[2, 1]\n"
     ]
    }
   ],
   "source": [
    "avg = (sum(aliceSizes)-sum(bobSizes))//2\n",
    "bob = set(bobSizes)\n",
    "for alice in aliceSizes:\n",
    "    if avg+alice in bob:\n",
    "        print([avg+alice, alice])"
   ]
  },
  {
   "cell_type": "code",
   "execution_count": null,
   "id": "baac84c0-988b-4f01-8dcf-5270c9263a5c",
   "metadata": {},
   "outputs": [],
   "source": []
  }
 ],
 "metadata": {
  "kernelspec": {
   "display_name": "Python 3",
   "language": "python",
   "name": "python3"
  },
  "language_info": {
   "codemirror_mode": {
    "name": "ipython",
    "version": 3
   },
   "file_extension": ".py",
   "mimetype": "text/x-python",
   "name": "python",
   "nbconvert_exporter": "python",
   "pygments_lexer": "ipython3",
   "version": "3.9.2"
  }
 },
 "nbformat": 4,
 "nbformat_minor": 5
}
