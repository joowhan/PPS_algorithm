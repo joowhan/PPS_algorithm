{
 "cells": [
  {
   "cell_type": "code",
   "execution_count": 1,
   "id": "92492906-038b-4746-8fc0-da2f07fe25f5",
   "metadata": {},
   "outputs": [],
   "source": [
    "class Solution(object):\n",
    "    def rotateString(self, s, goal):\n",
    "        \"\"\"\n",
    "        :type s: str\n",
    "        :type goal: str\n",
    "        :rtype: bool\n",
    "        \"\"\"\n",
    "        from collections import deque\n",
    "        item = deque(list(s))\n",
    "        for i in range(len(s)):\n",
    "            if ''.join(item) == goal:\n",
    "                return True\n",
    "            else:\n",
    "                item.rotate(1)\n",
    "        return False"
   ]
  },
  {
   "cell_type": "code",
   "execution_count": null,
   "id": "2aae69cf-5c77-4dec-92b2-0d59bcc3cc03",
   "metadata": {},
   "outputs": [],
   "source": []
  }
 ],
 "metadata": {
  "kernelspec": {
   "display_name": "Python 3",
   "language": "python",
   "name": "python3"
  },
  "language_info": {
   "codemirror_mode": {
    "name": "ipython",
    "version": 3
   },
   "file_extension": ".py",
   "mimetype": "text/x-python",
   "name": "python",
   "nbconvert_exporter": "python",
   "pygments_lexer": "ipython3",
   "version": "3.9.2"
  }
 },
 "nbformat": 4,
 "nbformat_minor": 5
}
