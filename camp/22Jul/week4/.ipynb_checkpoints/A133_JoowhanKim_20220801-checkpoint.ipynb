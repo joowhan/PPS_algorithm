{
 "cells": [
  {
   "cell_type": "code",
   "execution_count": 1,
   "id": "7e73a1e6-1809-46a6-bb51-03cc054973f0",
   "metadata": {},
   "outputs": [
    {
     "data": {
      "text/plain": [
       "'Capitalize The Title'"
      ]
     },
     "execution_count": 1,
     "metadata": {},
     "output_type": "execute_result"
    }
   ],
   "source": [
    "title = \"capiTalIze tHe titLe\"\n",
    "title = title.lower()\n",
    "lis = title.split()\n",
    "result =[]\n",
    "for word in lis:\n",
    "    result.append(word[0].upper()+word[1:])\n",
    "    #result.append(word)\n",
    "' '.join(result)"
   ]
  },
  {
   "cell_type": "code",
   "execution_count": null,
   "id": "4b4b5c08-c11c-4403-b492-6e2e955eb9e9",
   "metadata": {},
   "outputs": [],
   "source": []
  }
 ],
 "metadata": {
  "kernelspec": {
   "display_name": "Python 3",
   "language": "python",
   "name": "python3"
  },
  "language_info": {
   "codemirror_mode": {
    "name": "ipython",
    "version": 3
   },
   "file_extension": ".py",
   "mimetype": "text/x-python",
   "name": "python",
   "nbconvert_exporter": "python",
   "pygments_lexer": "ipython3",
   "version": "3.9.2"
  }
 },
 "nbformat": 4,
 "nbformat_minor": 5
}
