{
 "cells": [
  {
   "cell_type": "code",
   "execution_count": 4,
   "id": "cf545b25-e73c-4c7b-84c9-0a3c701f1ed3",
   "metadata": {},
   "outputs": [
    {
     "name": "stdin",
     "output_type": "stream",
     "text": [
      " 10\n"
     ]
    }
   ],
   "source": [
    "num = int(input())"
   ]
  },
  {
   "cell_type": "code",
   "execution_count": 5,
   "id": "91df3727-cca7-41e5-bd7e-69dd48ce2498",
   "metadata": {},
   "outputs": [],
   "source": [
    "count=0\n",
    "while num !=1:\n",
    "    if num%3==0:\n",
    "        count +=1\n",
    "        num = num/3\n",
    "    elif num%2==0:\n",
    "        count +=1\n",
    "        num = num/2\n",
    "    else:\n",
    "        count +=1\n",
    "        num -=1"
   ]
  },
  {
   "cell_type": "code",
   "execution_count": 6,
   "id": "0ecbe41f-97f1-4060-bf12-7a5e19c836da",
   "metadata": {},
   "outputs": [
    {
     "data": {
      "text/plain": [
       "4"
      ]
     },
     "execution_count": 6,
     "metadata": {},
     "output_type": "execute_result"
    }
   ],
   "source": [
    "count"
   ]
  },
  {
   "cell_type": "code",
   "execution_count": 7,
   "id": "65743909-e630-4d85-ba82-19e8aa54372a",
   "metadata": {},
   "outputs": [
    {
     "name": "stdin",
     "output_type": "stream",
     "text": [
      " 10\n"
     ]
    },
    {
     "name": "stdout",
     "output_type": "stream",
     "text": [
      "3\n"
     ]
    }
   ],
   "source": [
    "n = int(input())\n",
    "\n",
    "dp = [0 for _ in range(n+1)]\n",
    "\n",
    "for i in range(2, n+1):\n",
    "    dp[i] = dp[i-1] + 1  \n",
    "\n",
    "    if i%2 == 0 and dp[i] > dp[i//2] + 1 :\n",
    "        dp[i] = dp[i//2]+1\n",
    "        \n",
    "    if i%3 == 0 and dp[i] > dp[i//3] + 1 :\n",
    "        dp[i] = dp[i//3] + 1\n",
    "        \n",
    "print(dp[n])"
   ]
  },
  {
   "cell_type": "code",
   "execution_count": null,
   "id": "56d7bc2c-1380-4134-9a7f-111f326dd7c0",
   "metadata": {},
   "outputs": [],
   "source": []
  }
 ],
 "metadata": {
  "kernelspec": {
   "display_name": "Python 3",
   "language": "python",
   "name": "python3"
  },
  "language_info": {
   "codemirror_mode": {
    "name": "ipython",
    "version": 3
   },
   "file_extension": ".py",
   "mimetype": "text/x-python",
   "name": "python",
   "nbconvert_exporter": "python",
   "pygments_lexer": "ipython3",
   "version": "3.9.2"
  }
 },
 "nbformat": 4,
 "nbformat_minor": 5
}
