{
 "cells": [
  {
   "cell_type": "code",
   "execution_count": 5,
   "id": "0f624dff-7d3b-4f0e-9317-dfc8a25ffd73",
   "metadata": {},
   "outputs": [],
   "source": [
    "n = 16\n",
    "binary = bin(n)"
   ]
  },
  {
   "cell_type": "code",
   "execution_count": 6,
   "id": "f65364b4-70b7-4fe4-9c92-6b0405867454",
   "metadata": {},
   "outputs": [],
   "source": [
    "binary = binary[2:]"
   ]
  },
  {
   "cell_type": "code",
   "execution_count": 7,
   "id": "01ba1527-a137-4704-8780-5ef8c3055a07",
   "metadata": {},
   "outputs": [
    {
     "data": {
      "text/plain": [
       "'10000'"
      ]
     },
     "execution_count": 7,
     "metadata": {},
     "output_type": "execute_result"
    }
   ],
   "source": [
    "binary"
   ]
  },
  {
   "cell_type": "code",
   "execution_count": 8,
   "id": "207d4a81-3590-4e39-90e5-3550014063df",
   "metadata": {},
   "outputs": [
    {
     "data": {
      "text/plain": [
       "1"
      ]
     },
     "execution_count": 8,
     "metadata": {},
     "output_type": "execute_result"
    }
   ],
   "source": [
    "binary.count('1')"
   ]
  },
  {
   "cell_type": "code",
   "execution_count": null,
   "id": "23fa70a3-2b9f-4e73-8700-7b5c0f6b73ca",
   "metadata": {},
   "outputs": [],
   "source": []
  }
 ],
 "metadata": {
  "kernelspec": {
   "display_name": "Python 3",
   "language": "python",
   "name": "python3"
  },
  "language_info": {
   "codemirror_mode": {
    "name": "ipython",
    "version": 3
   },
   "file_extension": ".py",
   "mimetype": "text/x-python",
   "name": "python",
   "nbconvert_exporter": "python",
   "pygments_lexer": "ipython3",
   "version": "3.9.2"
  }
 },
 "nbformat": 4,
 "nbformat_minor": 5
}
