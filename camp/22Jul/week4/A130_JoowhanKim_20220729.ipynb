{
 "cells": [
  {
   "cell_type": "code",
   "execution_count": 10,
   "id": "50cbe2c9-d562-49fd-a042-3b702f27fed5",
   "metadata": {},
   "outputs": [
    {
     "name": "stdin",
     "output_type": "stream",
     "text": [
      " 10\n"
     ]
    }
   ],
   "source": [
    "N = int(input())"
   ]
  },
  {
   "cell_type": "code",
   "execution_count": 9,
   "id": "3295ab32-6721-4215-a0d0-1f3504633884",
   "metadata": {},
   "outputs": [
    {
     "name": "stdin",
     "output_type": "stream",
     "text": [
      " 3\n",
      " 0\n",
      " 4\n",
      " 0\n"
     ]
    },
    {
     "data": {
      "text/plain": [
       "0"
      ]
     },
     "execution_count": 9,
     "metadata": {},
     "output_type": "execute_result"
    }
   ],
   "source": [
    "N = int(input())\n",
    "res =[]\n",
    "for _ in range(N):\n",
    "    num = int(input())\n",
    "    if num ==0:\n",
    "        res.pop(-1)\n",
    "    else:\n",
    "        res.append(num)\n",
    "print(sum(res))   "
   ]
  },
  {
   "cell_type": "code",
   "execution_count": 4,
   "id": "3aad3e91-f8dc-4933-a944-015fac9c3606",
   "metadata": {},
   "outputs": [
    {
     "data": {
      "text/plain": [
       "[]"
      ]
     },
     "execution_count": 4,
     "metadata": {},
     "output_type": "execute_result"
    }
   ],
   "source": [
    "res"
   ]
  },
  {
   "cell_type": "code",
   "execution_count": 5,
   "id": "8b918c3d-e013-490e-aa3c-6bcf9a257a73",
   "metadata": {},
   "outputs": [],
   "source": [
    "res.append(3)"
   ]
  },
  {
   "cell_type": "code",
   "execution_count": 6,
   "id": "378f2745-3bd5-48fd-8d7f-ca5eb4e077ad",
   "metadata": {},
   "outputs": [
    {
     "data": {
      "text/plain": [
       "[3]"
      ]
     },
     "execution_count": 6,
     "metadata": {},
     "output_type": "execute_result"
    }
   ],
   "source": [
    "res"
   ]
  },
  {
   "cell_type": "code",
   "execution_count": null,
   "id": "764d83cd-906e-40e6-9365-a20442c4e23c",
   "metadata": {},
   "outputs": [],
   "source": []
  }
 ],
 "metadata": {
  "kernelspec": {
   "display_name": "Python 3",
   "language": "python",
   "name": "python3"
  },
  "language_info": {
   "codemirror_mode": {
    "name": "ipython",
    "version": 3
   },
   "file_extension": ".py",
   "mimetype": "text/x-python",
   "name": "python",
   "nbconvert_exporter": "python",
   "pygments_lexer": "ipython3",
   "version": "3.9.2"
  }
 },
 "nbformat": 4,
 "nbformat_minor": 5
}
