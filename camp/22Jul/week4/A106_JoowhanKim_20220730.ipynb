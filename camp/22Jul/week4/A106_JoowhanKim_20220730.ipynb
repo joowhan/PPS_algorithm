{
 "cells": [
  {
   "cell_type": "code",
   "execution_count": 1,
   "id": "2940f13c-e724-43f6-a280-c065a60997e9",
   "metadata": {},
   "outputs": [
    {
     "name": "stdin",
     "output_type": "stream",
     "text": [
      " 3\n"
     ]
    },
    {
     "name": "stdout",
     "output_type": "stream",
     "text": [
      "2/1\n"
     ]
    }
   ],
   "source": [
    "n = int(input())\n",
    "element = 0\n",
    "line =0\n",
    "while n > element:\n",
    "    line +=1\n",
    "    element += line\n",
    "diff = element - n\n",
    "if line%2 == 0:\n",
    "    top = line - diff\n",
    "    bottom = diff + 1\n",
    "else:\n",
    "    top = diff + 1\n",
    "    bottom = line - diff\n",
    "\n",
    "print(\"%d/%d\"%(top,bottom))"
   ]
  },
  {
   "cell_type": "code",
   "execution_count": null,
   "id": "b008e747-c92e-4e88-9240-a52824b7f0d8",
   "metadata": {},
   "outputs": [],
   "source": []
  }
 ],
 "metadata": {
  "kernelspec": {
   "display_name": "Python 3",
   "language": "python",
   "name": "python3"
  },
  "language_info": {
   "codemirror_mode": {
    "name": "ipython",
    "version": 3
   },
   "file_extension": ".py",
   "mimetype": "text/x-python",
   "name": "python",
   "nbconvert_exporter": "python",
   "pygments_lexer": "ipython3",
   "version": "3.9.2"
  }
 },
 "nbformat": 4,
 "nbformat_minor": 5
}
