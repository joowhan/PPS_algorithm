{
 "cells": [
  {
   "cell_type": "code",
   "execution_count": 1,
   "id": "e74d8306-da35-4b99-bac3-61d65ca97ab6",
   "metadata": {},
   "outputs": [],
   "source": [
    "class Solution(object):\n",
    "    def guessNumber(self, n):\n",
    "        \"\"\"\n",
    "        :type n: int\n",
    "        :rtype: int\n",
    "        \"\"\"\n",
    "        n = n//2\n",
    "        while True: \n",
    "            isCorrect = guess(n)\n",
    "            if isCorrect ==0:\n",
    "                return n\n",
    "            if isCorrect ==1:\n",
    "                n +=1\n",
    "            elif isCorrect ==-1:\n",
    "                n -= 1"
   ]
  },
  {
   "cell_type": "code",
   "execution_count": null,
   "id": "a92f0837-fff9-4b72-a630-7ff2cea899f6",
   "metadata": {},
   "outputs": [],
   "source": []
  }
 ],
 "metadata": {
  "kernelspec": {
   "display_name": "Python 3",
   "language": "python",
   "name": "python3"
  },
  "language_info": {
   "codemirror_mode": {
    "name": "ipython",
    "version": 3
   },
   "file_extension": ".py",
   "mimetype": "text/x-python",
   "name": "python",
   "nbconvert_exporter": "python",
   "pygments_lexer": "ipython3",
   "version": "3.9.2"
  }
 },
 "nbformat": 4,
 "nbformat_minor": 5
}
