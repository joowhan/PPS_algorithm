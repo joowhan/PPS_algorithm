{
 "cells": [
  {
   "cell_type": "code",
   "execution_count": 1,
   "id": "9e21c4fb-c73b-4c06-a457-0b61a26bc2f3",
   "metadata": {},
   "outputs": [
    {
     "name": "stdin",
     "output_type": "stream",
     "text": [
      " ([ (([( [ ] ) ( ) (( ))] )) ]).\n"
     ]
    },
    {
     "name": "stdout",
     "output_type": "stream",
     "text": [
      "yes\n"
     ]
    },
    {
     "name": "stdin",
     "output_type": "stream",
     "text": [
      " .\n"
     ]
    },
    {
     "name": "stdout",
     "output_type": "stream",
     "text": [
      "yes\n"
     ]
    }
   ],
   "source": [
    "from collections import deque\n",
    "while 1:\n",
    "    flag = 0\n",
    "    s = input()\n",
    "    deq = deque()\n",
    "    if s =='.':\n",
    "        print('yes')\n",
    "        break\n",
    "    for i in range(len(s)):\n",
    "        if s[i] == '(' or s[i] == '[':\n",
    "            deq.append(s[i])\n",
    "        elif s[i] == ')':\n",
    "            if len(deq) == 0:\n",
    "                flag = 1\n",
    "                break\n",
    "            elif deq[-1] =='(':\n",
    "                deq.pop()\n",
    "            else:\n",
    "                flag = 1\n",
    "                break\n",
    "        elif s[i] == ']':\n",
    "            if len(deq) == 0:\n",
    "                flag = 1\n",
    "                break\n",
    "            elif deq[-1] =='[':\n",
    "                deq.pop()\n",
    "            \n",
    "            else:\n",
    "                flag = 1\n",
    "                break\n",
    "    if flag == 1:\n",
    "        print('no')\n",
    "    else:\n",
    "        print('yes')"
   ]
  },
  {
   "cell_type": "code",
   "execution_count": null,
   "id": "fc3ea75c-c3f4-42ad-b9d2-850d9208e472",
   "metadata": {},
   "outputs": [],
   "source": []
  }
 ],
 "metadata": {
  "kernelspec": {
   "display_name": "Python 3",
   "language": "python",
   "name": "python3"
  },
  "language_info": {
   "codemirror_mode": {
    "name": "ipython",
    "version": 3
   },
   "file_extension": ".py",
   "mimetype": "text/x-python",
   "name": "python",
   "nbconvert_exporter": "python",
   "pygments_lexer": "ipython3",
   "version": "3.9.2"
  }
 },
 "nbformat": 4,
 "nbformat_minor": 5
}
