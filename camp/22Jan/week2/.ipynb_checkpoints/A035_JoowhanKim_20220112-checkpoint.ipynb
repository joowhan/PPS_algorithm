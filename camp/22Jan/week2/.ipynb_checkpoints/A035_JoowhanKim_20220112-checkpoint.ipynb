{
 "cells": [
  {
   "cell_type": "code",
   "execution_count": null,
   "id": "f41e409a",
   "metadata": {},
   "outputs": [],
   "source": [
    "# @ : *3, %: +5, #: -7\n",
    "T = int(input())\n",
    "result =0\n",
    "for _ in range(T):\n",
    "    a = list(map(str, input().split()))\n",
    "    result = float(a[0])\n",
    "    for i in range(1, len(a)):\n",
    "        if a[i] == '@':\n",
    "            result *= 3\n",
    "        elif a[i] == '%':\n",
    "            result +=5\n",
    "        elif a[i] == '#':\n",
    "            result -= 7\n",
    "    print(\"%0.2f\" %result)\n",
    "    result = 0"
   ]
  },
  {
   "cell_type": "code",
   "execution_count": 4,
   "id": "2686199d",
   "metadata": {},
   "outputs": [
    {
     "data": {
      "text/plain": [
       "['#', '#', '$']"
      ]
     },
     "execution_count": 4,
     "metadata": {},
     "output_type": "execute_result"
    }
   ],
   "source": [
    "a"
   ]
  },
  {
   "cell_type": "code",
   "execution_count": null,
   "id": "e11c78c0",
   "metadata": {},
   "outputs": [],
   "source": []
  }
 ],
 "metadata": {
  "kernelspec": {
   "display_name": "Python 3",
   "language": "python",
   "name": "python3"
  },
  "language_info": {
   "codemirror_mode": {
    "name": "ipython",
    "version": 3
   },
   "file_extension": ".py",
   "mimetype": "text/x-python",
   "name": "python",
   "nbconvert_exporter": "python",
   "pygments_lexer": "ipython3",
   "version": "3.9.2"
  }
 },
 "nbformat": 4,
 "nbformat_minor": 5
}
