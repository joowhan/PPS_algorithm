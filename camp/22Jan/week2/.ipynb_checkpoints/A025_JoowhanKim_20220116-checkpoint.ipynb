{
 "cells": [
  {
   "cell_type": "code",
   "execution_count": 22,
   "id": "bf8c84d5",
   "metadata": {},
   "outputs": [
    {
     "data": {
      "text/plain": [
       "22.627416997969522"
      ]
     },
     "execution_count": 22,
     "metadata": {},
     "output_type": "execute_result"
    }
   ],
   "source": [
    "import math\n",
    "n = 512\n",
    "math.sqrt(n)"
   ]
  },
  {
   "cell_type": "code",
   "execution_count": 23,
   "id": "24439972",
   "metadata": {},
   "outputs": [
    {
     "name": "stdout",
     "output_type": "stream",
     "text": [
      "False\n"
     ]
    }
   ],
   "source": [
    "while 1:\n",
    "    n = abs(n)\n",
    "    if math.sqrt(n) == 4:\n",
    "        #return True\n",
    "        print(True)\n",
    "        break\n",
    "    elif n%4 ==0:\n",
    "        n = n/4\n",
    "    else:\n",
    "        if n ==1:\n",
    "            #return True\n",
    "            print(True)\n",
    "        else:\n",
    "            #return False\n",
    "            print(False)\n",
    "        break"
   ]
  },
  {
   "cell_type": "code",
   "execution_count": 24,
   "id": "cc605413",
   "metadata": {},
   "outputs": [],
   "source": [
    "class Solution(object):\n",
    "    def isPowerOfFour(self, n):\n",
    "        \"\"\"\n",
    "        :type n: int\n",
    "        :rtype: bool\n",
    "        \"\"\"\n",
    "        if n <0: return False\n",
    "        else: \n",
    "            while n%4==0:\n",
    "                n = n/4\n",
    "            if n ==1:\n",
    "                ans =  True\n",
    "            else:\n",
    "                ans = False\n",
    "            return ans\n",
    "            "
   ]
  },
  {
   "cell_type": "code",
   "execution_count": 25,
   "id": "26a307df",
   "metadata": {},
   "outputs": [],
   "source": [
    "class Solution1(object):\n",
    "    def isPowerOfFour(self, n):\n",
    "        \"\"\"\n",
    "        :type n: int\n",
    "        :rtype: bool\n",
    "        \"\"\"\n",
    "        while n>4 :\n",
    "            if n % 4 != 0:\n",
    "                return False\n",
    "\n",
    "            n /= 4\n",
    "\n",
    "        return n in (1, 4)\n",
    "            "
   ]
  },
  {
   "cell_type": "code",
   "execution_count": null,
   "id": "0dc97766",
   "metadata": {},
   "outputs": [],
   "source": []
  }
 ],
 "metadata": {
  "kernelspec": {
   "display_name": "Python 3",
   "language": "python",
   "name": "python3"
  },
  "language_info": {
   "codemirror_mode": {
    "name": "ipython",
    "version": 3
   },
   "file_extension": ".py",
   "mimetype": "text/x-python",
   "name": "python",
   "nbconvert_exporter": "python",
   "pygments_lexer": "ipython3",
   "version": "3.9.2"
  }
 },
 "nbformat": 4,
 "nbformat_minor": 5
}
