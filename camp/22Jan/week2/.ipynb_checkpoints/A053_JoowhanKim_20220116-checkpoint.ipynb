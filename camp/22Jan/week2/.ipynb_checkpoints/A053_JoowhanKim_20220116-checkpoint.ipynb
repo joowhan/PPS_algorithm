{
 "cells": [
  {
   "cell_type": "code",
   "execution_count": 11,
   "id": "53bc5495",
   "metadata": {},
   "outputs": [
    {
     "name": "stdout",
     "output_type": "stream",
     "text": [
      "5\n",
      "push 1\n",
      "push 2\n",
      "top\n",
      "2\n",
      "empty\n",
      "0\n",
      "size\n",
      "2\n"
     ]
    }
   ],
   "source": [
    "import sys\n",
    "num = int(input())\n",
    "stack = []\n",
    "for _ in range(num):\n",
    "    cmd = sys.stdin.readline().split()\n",
    "    leng = len(stack)\n",
    "    if cmd[0] =='push':\n",
    "        stack.append(cmd[1])\n",
    "    elif cmd[0] =='pop':\n",
    "        if leng ==0:\n",
    "            print(-1)\n",
    "        else:\n",
    "            print(stack[leng-1])\n",
    "            stack.pop(leng-1)\n",
    "    elif cmd[0] =='size':\n",
    "        print(len(stack))\n",
    "    elif cmd[0] =='empty':\n",
    "        if leng ==0:\n",
    "            print(1)\n",
    "        else: print(0)\n",
    "    elif cmd[0] == 'top':\n",
    "        if leng ==0:\n",
    "            print(-1)\n",
    "        else:\n",
    "            print(stack[-1])"
   ]
  },
  {
   "cell_type": "code",
   "execution_count": 4,
   "id": "3d88e18a",
   "metadata": {},
   "outputs": [
    {
     "ename": "AttributeError",
     "evalue": "'list' object has no attribute 'split'",
     "output_type": "error",
     "traceback": [
      "\u001b[0;31m---------------------------------------------------------------------------\u001b[0m",
      "\u001b[0;31mAttributeError\u001b[0m                            Traceback (most recent call last)",
      "\u001b[0;32m<ipython-input-4-8885d3cb15e4>\u001b[0m in \u001b[0;36m<module>\u001b[0;34m\u001b[0m\n\u001b[0;32m----> 1\u001b[0;31m \u001b[0mcmd\u001b[0m\u001b[0;34m.\u001b[0m\u001b[0msplit\u001b[0m\u001b[0;34m(\u001b[0m\u001b[0;34m)\u001b[0m\u001b[0;34m\u001b[0m\u001b[0;34m\u001b[0m\u001b[0m\n\u001b[0m",
      "\u001b[0;31mAttributeError\u001b[0m: 'list' object has no attribute 'split'"
     ]
    }
   ],
   "source": [
    "cmd.split()"
   ]
  },
  {
   "cell_type": "code",
   "execution_count": 7,
   "id": "e9435958",
   "metadata": {},
   "outputs": [
    {
     "data": {
      "text/plain": [
       "['1', '2']"
      ]
     },
     "execution_count": 7,
     "metadata": {},
     "output_type": "execute_result"
    }
   ],
   "source": [
    "stack"
   ]
  },
  {
   "cell_type": "code",
   "execution_count": null,
   "id": "896edcc8",
   "metadata": {},
   "outputs": [],
   "source": []
  }
 ],
 "metadata": {
  "kernelspec": {
   "display_name": "Python 3",
   "language": "python",
   "name": "python3"
  },
  "language_info": {
   "codemirror_mode": {
    "name": "ipython",
    "version": 3
   },
   "file_extension": ".py",
   "mimetype": "text/x-python",
   "name": "python",
   "nbconvert_exporter": "python",
   "pygments_lexer": "ipython3",
   "version": "3.9.2"
  }
 },
 "nbformat": 4,
 "nbformat_minor": 5
}
