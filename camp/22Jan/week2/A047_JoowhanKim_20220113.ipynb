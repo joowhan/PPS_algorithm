{
 "cells": [
  {
   "cell_type": "code",
   "execution_count": 12,
   "id": "604091f5",
   "metadata": {},
   "outputs": [
    {
     "name": "stdout",
     "output_type": "stream",
     "text": [
      "BaekjoonOn\n",
      "lineJudge\n"
     ]
    }
   ],
   "source": [
    "sen = input()\n",
    "result = ''\n",
    "for i in range(len(sen)):\n",
    "    if (i+1)%10 ==0 or  i == len(sen)-1:\n",
    "        print(result+sen[i])\n",
    "        result =''\n",
    "    else:\n",
    "        result +=sen[i]\n"
   ]
  },
  {
   "cell_type": "code",
   "execution_count": 6,
   "id": "4c892c98",
   "metadata": {},
   "outputs": [
    {
     "data": {
      "text/plain": [
       "19"
      ]
     },
     "execution_count": 6,
     "metadata": {},
     "output_type": "execute_result"
    }
   ],
   "source": [
    "len(sen)"
   ]
  },
  {
   "cell_type": "code",
   "execution_count": 11,
   "id": "53cba513",
   "metadata": {},
   "outputs": [
    {
     "data": {
      "text/plain": [
       "'BaekjoonOnlineJudge'"
      ]
     },
     "execution_count": 11,
     "metadata": {},
     "output_type": "execute_result"
    }
   ],
   "source": [
    "result"
   ]
  },
  {
   "cell_type": "code",
   "execution_count": null,
   "id": "e97ce399",
   "metadata": {},
   "outputs": [],
   "source": []
  }
 ],
 "metadata": {
  "kernelspec": {
   "display_name": "Python 3",
   "language": "python",
   "name": "python3"
  },
  "language_info": {
   "codemirror_mode": {
    "name": "ipython",
    "version": 3
   },
   "file_extension": ".py",
   "mimetype": "text/x-python",
   "name": "python",
   "nbconvert_exporter": "python",
   "pygments_lexer": "ipython3",
   "version": "3.9.2"
  }
 },
 "nbformat": 4,
 "nbformat_minor": 5
}
