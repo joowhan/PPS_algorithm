{
 "cells": [
  {
   "cell_type": "code",
   "execution_count": 1,
   "id": "c93b7bd1",
   "metadata": {},
   "outputs": [
    {
     "name": "stdout",
     "output_type": "stream",
     "text": [
      "2\n",
      "ABCDEFGHIJKLMNOPQRSTUVW\n",
      "267\n",
      "A\n",
      "1950\n"
     ]
    }
   ],
   "source": [
    "\n",
    "n = int(input())\n",
    "for _ in range(n):\n",
    "    total = 2015\n",
    "    s = input()\n",
    "    for i in range(len(s)):\n",
    "        total-=ord(s[i])\n",
    "    print(total)"
   ]
  },
  {
   "cell_type": "code",
   "execution_count": 4,
   "id": "9c1a7759",
   "metadata": {},
   "outputs": [
    {
     "name": "stdout",
     "output_type": "stream",
     "text": [
      "2\n",
      "A\n",
      "1950\n",
      "ABC\n",
      "1817\n"
     ]
    }
   ],
   "source": [
    "t = int(input())\n",
    "\n",
    "for _ in range(t) :\n",
    "    data = [0] * 27\n",
    "    value = input()\n",
    "    for i in range(len(value)) :\n",
    "        data[int(ord(value[i]))-65] += 1\n",
    "\n",
    "    result = 0\n",
    "    for i in range(26) :\n",
    "        if data[i] == 0 :\n",
    "            result += i + 65\n",
    "\n",
    "    print(result)\n"
   ]
  },
  {
   "cell_type": "code",
   "execution_count": null,
   "id": "d08e9a75",
   "metadata": {},
   "outputs": [],
   "source": []
  },
  {
   "cell_type": "code",
   "execution_count": null,
   "id": "b5cc6210",
   "metadata": {},
   "outputs": [],
   "source": [
    "2"
   ]
  }
 ],
 "metadata": {
  "kernelspec": {
   "display_name": "Python 3",
   "language": "python",
   "name": "python3"
  },
  "language_info": {
   "codemirror_mode": {
    "name": "ipython",
    "version": 3
   },
   "file_extension": ".py",
   "mimetype": "text/x-python",
   "name": "python",
   "nbconvert_exporter": "python",
   "pygments_lexer": "ipython3",
   "version": "3.9.2"
  }
 },
 "nbformat": 4,
 "nbformat_minor": 5
}
