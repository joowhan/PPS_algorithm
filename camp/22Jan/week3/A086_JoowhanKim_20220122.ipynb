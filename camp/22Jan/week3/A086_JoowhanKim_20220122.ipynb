{
 "cells": [
  {
   "cell_type": "code",
   "execution_count": 71,
   "id": "5bc17981",
   "metadata": {},
   "outputs": [
    {
     "name": "stdout",
     "output_type": "stream",
     "text": [
      "8 28\n",
      "8 9 18 15 14 19 11 17 16 13\n",
      "12 10 28 25 24 21 27 26 23 22\n",
      "20 "
     ]
    }
   ],
   "source": [
    "number = {\n",
    "    '1':'one', '2':'two', '3':'three', '4':'four', '5':'five', \n",
    "    '6':'six', '7':'seven', '8':'eight', '9':'nine', '0':'zero'\n",
    "}\n",
    "reverse_number = dict(map(reversed, number.items()))\n",
    "sort_num = {}\n",
    "n,m = map(int,input().split())\n",
    "lis = list(range(n,m+1))\n",
    "en_num = []\n",
    "for i in range(len(lis)):\n",
    "    s_num = str(lis[i])\n",
    "    if len(s_num)>1:\n",
    "        n1 = number[s_num[0]] \n",
    "        n2 = number[s_num[1]] \n",
    "        s_num = n1+' '+n2\n",
    "        en_num.append(s_num)\n",
    "        sort_num[s_num] = int(lis[i])\n",
    "    else:\n",
    "        en_num.append(number[s_num])\n",
    "        sort_num[number[s_num]] = int(lis[i])\n",
    "result = sorted(en_num)\n",
    "sort_num = sorted(sort_num.items())\n",
    "count = 0\n",
    "for num in sort_num:\n",
    "    count +=1\n",
    "    if count ==10:\n",
    "        print(num[1], sep='\\n')\n",
    "        count = 0\n",
    "    else:\n",
    "        print(num[1], end = ' ')\n",
    "    #count +=1"
   ]
  },
  {
   "cell_type": "code",
   "execution_count": 65,
   "id": "abd86271",
   "metadata": {},
   "outputs": [
    {
     "name": "stdout",
     "output_type": "stream",
     "text": [
      "8\n",
      "5\n",
      "4\n",
      "9\n",
      "1\n"
     ]
    },
    {
     "ename": "KeyError",
     "evalue": "'one one'",
     "output_type": "error",
     "traceback": [
      "\u001b[0;31m---------------------------------------------------------------------------\u001b[0m",
      "\u001b[0;31mKeyError\u001b[0m                                  Traceback (most recent call last)",
      "\u001b[0;32m<ipython-input-65-1b447e23c6ee>\u001b[0m in \u001b[0;36m<module>\u001b[0;34m\u001b[0m\n\u001b[1;32m      1\u001b[0m \u001b[0;32mfor\u001b[0m \u001b[0mi\u001b[0m \u001b[0;32min\u001b[0m \u001b[0mrange\u001b[0m\u001b[0;34m(\u001b[0m\u001b[0mlen\u001b[0m\u001b[0;34m(\u001b[0m\u001b[0mresult\u001b[0m\u001b[0;34m)\u001b[0m\u001b[0;34m)\u001b[0m\u001b[0;34m:\u001b[0m\u001b[0;34m\u001b[0m\u001b[0;34m\u001b[0m\u001b[0m\n\u001b[0;32m----> 2\u001b[0;31m     \u001b[0mprint\u001b[0m\u001b[0;34m(\u001b[0m\u001b[0mreverse_number\u001b[0m\u001b[0;34m[\u001b[0m\u001b[0mresult\u001b[0m\u001b[0;34m[\u001b[0m\u001b[0mi\u001b[0m\u001b[0;34m]\u001b[0m\u001b[0;34m]\u001b[0m\u001b[0;34m)\u001b[0m\u001b[0;34m\u001b[0m\u001b[0;34m\u001b[0m\u001b[0m\n\u001b[0m",
      "\u001b[0;31mKeyError\u001b[0m: 'one one'"
     ]
    }
   ],
   "source": []
  },
  {
   "cell_type": "code",
   "execution_count": 27,
   "id": "fbfdaede",
   "metadata": {},
   "outputs": [
    {
     "name": "stdout",
     "output_type": "stream",
     "text": [
      "eight\n",
      "five\n",
      "four\n",
      "nine\n",
      "one\n",
      "one one\n",
      "one two\n",
      "one zero\n",
      "seven\n",
      "six\n",
      "three\n",
      "two\n"
     ]
    }
   ],
   "source": [
    "result = sorted(en_num)\n",
    "for num in result:\n",
    "    if num.find(' '):\n",
    "        print(num)"
   ]
  },
  {
   "cell_type": "code",
   "execution_count": 18,
   "id": "56319cc6",
   "metadata": {},
   "outputs": [
    {
     "data": {
      "text/plain": [
       "['one',\n",
       " 'two',\n",
       " 'three',\n",
       " 'four',\n",
       " 'five',\n",
       " 'six',\n",
       " 'seven',\n",
       " 'eight',\n",
       " 'nine',\n",
       " 'one zero',\n",
       " 'one one',\n",
       " 'one two']"
      ]
     },
     "execution_count": 18,
     "metadata": {},
     "output_type": "execute_result"
    }
   ],
   "source": [
    "en_num"
   ]
  },
  {
   "cell_type": "code",
   "execution_count": null,
   "id": "0b723ccd",
   "metadata": {},
   "outputs": [],
   "source": []
  }
 ],
 "metadata": {
  "kernelspec": {
   "display_name": "Python 3",
   "language": "python",
   "name": "python3"
  },
  "language_info": {
   "codemirror_mode": {
    "name": "ipython",
    "version": 3
   },
   "file_extension": ".py",
   "mimetype": "text/x-python",
   "name": "python",
   "nbconvert_exporter": "python",
   "pygments_lexer": "ipython3",
   "version": "3.9.2"
  }
 },
 "nbformat": 4,
 "nbformat_minor": 5
}
