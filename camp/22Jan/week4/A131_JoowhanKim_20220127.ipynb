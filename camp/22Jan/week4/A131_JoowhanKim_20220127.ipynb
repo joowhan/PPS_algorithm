{
 "cells": [
  {
   "cell_type": "code",
   "execution_count": 86,
   "id": "384f925c",
   "metadata": {},
   "outputs": [
    {
     "name": "stdout",
     "output_type": "stream",
     "text": [
      "5\n",
      "-1\n",
      "-2\n",
      "-3\n",
      "-1\n",
      "-2\n",
      "-2\n",
      "-2\n",
      "-1\n",
      "2\n"
     ]
    }
   ],
   "source": [
    "n = int(input())\n",
    "lis ={}\n",
    "for _ in range(n):\n",
    "    num = int(input())\n",
    "    if num not in lis.keys():\n",
    "        lis[num] = 1\n",
    "    else:\n",
    "        lis[num]+=1\n",
    "aver = sum(lis.keys())/len(lis.keys())\n",
    "print(round(aver))\n",
    "m = sorted(lis.keys())\n",
    "median = m[int(len(m)/2+1)-1]\n",
    "print(median)\n",
    "max_freq = max(lis.values())\n",
    "freq = []\n",
    "for i in lis:\n",
    "    if lis[i] == max_freq:\n",
    "        freq.append(i)\n",
    "freq.sort()\n",
    "if len(freq) >1:\n",
    "    print(freq[1])\n",
    "else:\n",
    "    print(freq[0])\n",
    "length = max(m)-min(m)\n",
    "print(length)"
   ]
  },
  {
   "cell_type": "code",
   "execution_count": null,
   "id": "f84123e2",
   "metadata": {},
   "outputs": [],
   "source": [
    "median = m[int(len(m)/2+1)-1]"
   ]
  },
  {
   "cell_type": "code",
   "execution_count": null,
   "id": "d7dca90f",
   "metadata": {},
   "outputs": [],
   "source": [
    "n = int(input())\n",
    "\n",
    "nums = []\n",
    "for _ in range(n) :\n",
    "\tnums.append(int(input()))\n",
    "\n",
    "# 산술평균\n",
    "print(round(sum(nums)/n))\n",
    "\n",
    "# 중앙값\n",
    "nums.sort()\n",
    "print(nums[int((n-1)/2)])\n",
    "\n",
    "# 최빈값\n",
    "counts = dict()\n",
    "for i in range(1,n+1) :\n",
    "\tcounts[i] = []\n",
    "\n",
    "maxCount = 1\n",
    "count = 1\n",
    "for j in range(1,n) :\n",
    "\tif nums[j] == nums[j-1] :\n",
    "\t\tcount += 1\n",
    "\telse :\n",
    "\t\tcounts[count].append(nums[j-1])\n",
    "\t\tif maxCount < count : maxCount = count\n",
    "\t\tcount = 1\n",
    "\tif j == n-1 : \n",
    "\t\tcounts[count].append(nums[j])\n",
    "\t\tif maxCount < count : maxCount = count\n",
    "\n",
    "if n == 1 :\n",
    "\tcounts[1].append(nums[0])\n",
    "\n",
    "counts[maxCount].sort()\n",
    "if len(counts[maxCount]) == 1 :\n",
    "\tprint(counts[maxCount][0])\n",
    "else :\n",
    "\tprint(counts[maxCount][1])\n",
    "\n",
    "# 범위\n",
    "print(nums[-1]-nums[0])"
   ]
  },
  {
   "cell_type": "code",
   "execution_count": null,
   "id": "34cbea56",
   "metadata": {},
   "outputs": [],
   "source": [
    "#correct answer\n",
    "import sys\n",
    "from collections import Counter\n",
    "n = int(sys.stdin.readline())\n",
    "nums = []\n",
    "for i in range(n):\n",
    "    nums.append(int(sys.stdin.readline()))\n",
    "nums.sort()\n",
    "nums_s = Counter(nums).most_common()\n",
    "print(round(sum(nums) / n))\n",
    "print(nums[n // 2])\n",
    "if len(nums_s) > 1:\n",
    "    if nums_s[0][1] == nums_s[1][1]:\n",
    "        print(nums_s[1][0])\n",
    "    else:\n",
    "        print(nums_s[0][0])\n",
    "else:\n",
    "    print(nums_s[0][0])\n",
    "print(nums[-1] - nums[0])"
   ]
  }
 ],
 "metadata": {
  "kernelspec": {
   "display_name": "Python 3",
   "language": "python",
   "name": "python3"
  },
  "language_info": {
   "codemirror_mode": {
    "name": "ipython",
    "version": 3
   },
   "file_extension": ".py",
   "mimetype": "text/x-python",
   "name": "python",
   "nbconvert_exporter": "python",
   "pygments_lexer": "ipython3",
   "version": "3.9.2"
  }
 },
 "nbformat": 4,
 "nbformat_minor": 5
}
