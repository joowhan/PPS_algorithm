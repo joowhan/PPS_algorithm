{
 "cells": [
  {
   "cell_type": "code",
   "execution_count": 6,
   "id": "a7cdff84-1c0b-435d-80e7-d317585449cf",
   "metadata": {},
   "outputs": [],
   "source": [
    "s = \"3people unFollowed me\"\n",
    "words = s.split()"
   ]
  },
  {
   "cell_type": "code",
   "execution_count": 17,
   "id": "f7b9255d-403b-4466-b1c5-08e5b125db37",
   "metadata": {},
   "outputs": [
    {
     "data": {
      "text/plain": [
       "'3people Unfollowed Me'"
      ]
     },
     "execution_count": 17,
     "metadata": {},
     "output_type": "execute_result"
    }
   ],
   "source": [
    "lis=[]\n",
    "for word in words:\n",
    "    newWord = word.lower()\n",
    "    newWord = newWord[0].upper() + newWord[1:]\n",
    "    lis.append(newWord)\n",
    "' '.join(lis)"
   ]
  }
 ],
 "metadata": {
  "kernelspec": {
   "display_name": "Python 3",
   "language": "python",
   "name": "python3"
  },
  "language_info": {
   "codemirror_mode": {
    "name": "ipython",
    "version": 3
   },
   "file_extension": ".py",
   "mimetype": "text/x-python",
   "name": "python",
   "nbconvert_exporter": "python",
   "pygments_lexer": "ipython3",
   "version": "3.9.2"
  }
 },
 "nbformat": 4,
 "nbformat_minor": 5
}
