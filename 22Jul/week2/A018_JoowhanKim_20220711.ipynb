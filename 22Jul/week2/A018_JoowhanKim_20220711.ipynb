{
 "cells": [
  {
   "cell_type": "code",
   "execution_count": 89,
   "id": "e2af38f3-a44b-435e-941f-2254b1ac0f38",
   "metadata": {},
   "outputs": [
    {
     "name": "stdin",
     "output_type": "stream",
     "text": [
      " 9\n",
      " 5 15 100 31 39 0 0 3 26\n",
      " 11 12 13 2 3 4 5 9 1\n"
     ]
    }
   ],
   "source": [
    "N = int(input())\n",
    "A = list(map(int, input().split()))\n",
    "B = list(map(int, input().split()))"
   ]
  },
  {
   "cell_type": "code",
   "execution_count": 90,
   "id": "676e80bb-de28-425f-9de8-442875006c07",
   "metadata": {},
   "outputs": [],
   "source": [
    "temp_B=B.copy()\n",
    "temp_B = sorted(temp_B, reverse=True)\n",
    "temp_A = A.copy()\n",
    "temp_A = sorted(temp_A)"
   ]
  },
  {
   "cell_type": "code",
   "execution_count": 92,
   "id": "4dff1145-d628-4045-b8d2-57ad30c50c26",
   "metadata": {},
   "outputs": [
    {
     "name": "stdout",
     "output_type": "stream",
     "text": [
      "528\n"
     ]
    }
   ],
   "source": [
    "for i in range(N):\n",
    "    ind = B.index(temp_B[i])\n",
    "    A[ind] = temp_A[i]\n",
    "    \n",
    "result=0\n",
    "for i in range(len(A)):\n",
    "    result += A[i]*B[i]\n",
    "    \n",
    "print(result)"
   ]
  },
  {
   "cell_type": "code",
   "execution_count": 93,
   "id": "802a3237-ee31-474a-81a4-1e0d165412f0",
   "metadata": {},
   "outputs": [
    {
     "name": "stdin",
     "output_type": "stream",
     "text": [
      " 9\n",
      "  5 15 100 31 39 0 0 3 26\n",
      " 11 12 13 2 3 4 5 9 1\n"
     ]
    },
    {
     "name": "stdout",
     "output_type": "stream",
     "text": [
      "528\n"
     ]
    }
   ],
   "source": [
    "N = int(input())\n",
    "a = list(map(int, input().split()))\n",
    "b = list(map(int, input().split()))\n",
    "# 가장 작은 수와 가장 큰 수로 정렬 후 곱한다. \n",
    "a.sort()\n",
    "result =0\n",
    "for i in range(N):\n",
    "    max_ind = b.index(max(b))\n",
    "    result += b[max_ind] *a[i]\n",
    "    b.pop(max_ind)\n",
    "print(result)"
   ]
  },
  {
   "cell_type": "code",
   "execution_count": null,
   "id": "1924bcad-7ad3-4585-8595-1c7f3da7248f",
   "metadata": {},
   "outputs": [],
   "source": []
  }
 ],
 "metadata": {
  "kernelspec": {
   "display_name": "Python 3",
   "language": "python",
   "name": "python3"
  },
  "language_info": {
   "codemirror_mode": {
    "name": "ipython",
    "version": 3
   },
   "file_extension": ".py",
   "mimetype": "text/x-python",
   "name": "python",
   "nbconvert_exporter": "python",
   "pygments_lexer": "ipython3",
   "version": "3.9.2"
  }
 },
 "nbformat": 4,
 "nbformat_minor": 5
}
