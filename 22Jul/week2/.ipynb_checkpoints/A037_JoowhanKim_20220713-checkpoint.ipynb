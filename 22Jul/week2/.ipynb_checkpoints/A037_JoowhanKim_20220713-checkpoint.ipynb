{
 "cells": [
  {
   "cell_type": "code",
   "execution_count": 5,
   "id": "58a0f4dc-d516-4846-a8e3-9d7bef69b57b",
   "metadata": {},
   "outputs": [],
   "source": [
    "left = 1\n",
    "right = 22\n",
    "result =[]\n",
    "for num in range(left, right+1):\n",
    "    s = str(num)\n",
    "    res = 0\n",
    "    count =0\n",
    "    isSdn = False\n",
    "    for i in range(len(s)):\n",
    "        sdn = int(s[i])\n",
    "        if sdn>0 and num%sdn == 0:\n",
    "            count +=1\n",
    "    if count == len(s):\n",
    "        result.append(num)"
   ]
  },
  {
   "cell_type": "code",
   "execution_count": 6,
   "id": "4a04080a-510a-4537-8ff1-2c79ac270dab",
   "metadata": {},
   "outputs": [
    {
     "data": {
      "text/plain": [
       "[1, 2, 3, 4, 5, 6, 7, 8, 9, 11, 12, 15, 22]"
      ]
     },
     "execution_count": 6,
     "metadata": {},
     "output_type": "execute_result"
    }
   ],
   "source": [
    "result"
   ]
  },
  {
   "cell_type": "code",
   "execution_count": null,
   "id": "fae9e132-7bf6-46f7-b082-0825b703c5f9",
   "metadata": {},
   "outputs": [],
   "source": [
    "## previous solution\n",
    "\n",
    "class Solution(object):\n",
    "    def selfDividingNumbers(self, left, right):\n",
    "        \"\"\"\n",
    "        :type left: int\n",
    "        :type right: int\n",
    "        :rtype: List[int]\n",
    "        \"\"\"\n",
    "        ans = []\n",
    "        for n in range(left, right + 1):\n",
    "            if self.isDividing(n):\n",
    "                ans.append(n)\n",
    "        return ans\n",
    "        \n",
    "    def isDividing(self, num):\n",
    "        temp = num\n",
    "        while temp:\n",
    "            div = temp % 10\n",
    "            if not div or num % div != 0:\n",
    "                return False\n",
    "            temp //= 10\n",
    "        return True"
   ]
  }
 ],
 "metadata": {
  "kernelspec": {
   "display_name": "Python 3",
   "language": "python",
   "name": "python3"
  },
  "language_info": {
   "codemirror_mode": {
    "name": "ipython",
    "version": 3
   },
   "file_extension": ".py",
   "mimetype": "text/x-python",
   "name": "python",
   "nbconvert_exporter": "python",
   "pygments_lexer": "ipython3",
   "version": "3.9.2"
  }
 },
 "nbformat": 4,
 "nbformat_minor": 5
}
