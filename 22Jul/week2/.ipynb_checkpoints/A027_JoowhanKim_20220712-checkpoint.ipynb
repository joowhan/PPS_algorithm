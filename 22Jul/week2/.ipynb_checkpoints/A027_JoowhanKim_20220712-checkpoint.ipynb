{
 "cells": [
  {
   "cell_type": "code",
   "execution_count": 7,
   "id": "4d8f90a4-614b-4233-a8a2-8086f7b7e9f8",
   "metadata": {},
   "outputs": [
    {
     "name": "stdout",
     "output_type": "stream",
     "text": [
      "K= 4 i= 4 ['4']\n",
      "K= 4 i= 1 ['4', '1']\n",
      "K= 2 i= 7 ['7']\n",
      "K= 2 i= 7 ['7', '7']\n",
      "K= 2 i= 2 ['7', '7', '2']\n",
      "K= 1 i= 5 ['7', '7', '5']\n",
      "K= 1 i= 2 ['7', '7', '5', '2']\n",
      "K= 0 i= 8 ['7', '7', '5', '8']\n",
      "K= 0 i= 4 ['7', '7', '5', '8', '4']\n",
      "K= 0 i= 1 ['7', '7', '5', '8', '4', '1']\n"
     ]
    },
    {
     "data": {
      "text/plain": [
       "'775841'"
      ]
     },
     "execution_count": 7,
     "metadata": {},
     "output_type": "execute_result"
    }
   ],
   "source": [
    "#숫자 하나씩 stack에 넣으면서, 넣는 숫자가 기존에 있는 숫자들보다 크다면 기존의 숫자를 뺀다.\n",
    "number = \"4177252841\"\n",
    "k = 4\n",
    "stk = []\n",
    "for i in number:\n",
    "    while stk and stk[-1] < i and k>0:\n",
    "        k-=1\n",
    "        stk.pop()\n",
    "    stk.append(i)\n",
    "    print(\"K=\",k,\"i=\" , i, stk)\n",
    "\"\".join(stk[:len(stk)-k])"
   ]
  },
  {
   "cell_type": "code",
   "execution_count": null,
   "id": "b98f4d40-cce3-4d6a-aafb-cd20a2354add",
   "metadata": {},
   "outputs": [],
   "source": []
  }
 ],
 "metadata": {
  "kernelspec": {
   "display_name": "Python 3",
   "language": "python",
   "name": "python3"
  },
  "language_info": {
   "codemirror_mode": {
    "name": "ipython",
    "version": 3
   },
   "file_extension": ".py",
   "mimetype": "text/x-python",
   "name": "python",
   "nbconvert_exporter": "python",
   "pygments_lexer": "ipython3",
   "version": "3.9.2"
  }
 },
 "nbformat": 4,
 "nbformat_minor": 5
}
