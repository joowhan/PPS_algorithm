{
 "cells": [
  {
   "cell_type": "code",
   "execution_count": 9,
   "id": "6f1bddf8-c2ac-4dd2-bc0b-aaa8f353b378",
   "metadata": {},
   "outputs": [
    {
     "name": "stdout",
     "output_type": "stream",
     "text": [
      "[4, 0, 0]\n",
      "[1, 0, 0]\n",
      "False\n",
      "True\n"
     ]
    }
   ],
   "source": [
    "balance = [0 for _ in range(3)]\n",
    "bills = [5,5,5,5,20,20,5,5,5,5]\n",
    "for i in range(len(bills)):\n",
    "    if bills[i] ==5:\n",
    "        balance[0] +=1\n",
    "    elif bills[i] ==10:\n",
    "        if balance[0] <=0:\n",
    "            print(False)\n",
    "        balance[1] += 1\n",
    "        balance[0] -= 1\n",
    "    elif bills[i] == 20:\n",
    "        print(balance)\n",
    "        if (balance[0] *5 + balance[1]*10) < 15:\n",
    "            print(False)\n",
    "        if balance[1]>0:\n",
    "            balance[1] -= 1\n",
    "            balance[0] -= 1\n",
    "        else:\n",
    "            balance[0] -= 3\n",
    "for i in range(len(balance)):\n",
    "    if balance[i] <0:\n",
    "        print(False)\n",
    "print(True)"
   ]
  },
  {
   "cell_type": "code",
   "execution_count": null,
   "id": "63e6394c-e669-48b1-b650-9badf704cf5b",
   "metadata": {},
   "outputs": [],
   "source": [
    "bills = [5,5,5,10,20]\n",
    "for i in range(len(bills)):\n",
    "    if bills[i] ==5:\n",
    "        balance[0] +=1\n",
    "    elif bills[i] ==10:\n",
    "        if balance[0] <=0:\n",
    "            return False\n",
    "        balance[1] += 1\n",
    "        balance[0] -= 1\n",
    "    elif bills[i] == 20:\n",
    "        if (balance[0] *5 + balance[1]*10) < 15:\n",
    "            return False\n",
    "        if balance[1]>0:\n",
    "            balance[1] -= 1\n",
    "            balance[0] -= 1\n",
    "        else:\n",
    "            balance[0] -= 3\n",
    "for i in range(len(balance)):\n",
    "    if balance[i] <0:\n",
    "        return False\n",
    "return True"
   ]
  }
 ],
 "metadata": {
  "kernelspec": {
   "display_name": "Python 3",
   "language": "python",
   "name": "python3"
  },
  "language_info": {
   "codemirror_mode": {
    "name": "ipython",
    "version": 3
   },
   "file_extension": ".py",
   "mimetype": "text/x-python",
   "name": "python",
   "nbconvert_exporter": "python",
   "pygments_lexer": "ipython3",
   "version": "3.9.2"
  }
 },
 "nbformat": 4,
 "nbformat_minor": 5
}
