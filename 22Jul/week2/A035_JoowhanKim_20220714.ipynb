{
 "cells": [
  {
   "cell_type": "code",
   "execution_count": 13,
   "id": "8b501a4a-f345-465e-8efd-aa282a1048e4",
   "metadata": {},
   "outputs": [
    {
     "name": "stdin",
     "output_type": "stream",
     "text": [
      " 3\n",
      " 3 @ %\n"
     ]
    },
    {
     "name": "stdout",
     "output_type": "stream",
     "text": [
      "14.00\n"
     ]
    },
    {
     "name": "stdin",
     "output_type": "stream",
     "text": [
      " 10.4 # % @\n"
     ]
    },
    {
     "name": "stdout",
     "output_type": "stream",
     "text": [
      "25.20\n"
     ]
    },
    {
     "name": "stdin",
     "output_type": "stream",
     "text": [
      " 8 #\n"
     ]
    },
    {
     "name": "stdout",
     "output_type": "stream",
     "text": [
      "1.00\n"
     ]
    }
   ],
   "source": [
    "N = int(input())\n",
    "for _ in range(N):\n",
    "    mars = list(input().split())\n",
    "    num = float(mars[0])\n",
    "    res = num\n",
    "    for i in range(1, len(mars)):\n",
    "        if mars[i] == '@':\n",
    "            res *=3\n",
    "        elif mars[i] == '%':\n",
    "            res +=5\n",
    "        elif mars[i] == '#':\n",
    "            res -=7\n",
    "    print('{:.2f}'.format(res))"
   ]
  },
  {
   "cell_type": "code",
   "execution_count": 4,
   "id": "8b2deca7-1f77-492a-9f95-984b2fbb47ff",
   "metadata": {},
   "outputs": [
    {
     "name": "stdin",
     "output_type": "stream",
     "text": [
      " 3 @ %\n"
     ]
    },
    {
     "data": {
      "text/plain": [
       "['3', '@', '%']"
      ]
     },
     "execution_count": 4,
     "metadata": {},
     "output_type": "execute_result"
    }
   ],
   "source": [
    "list(input().split())"
   ]
  },
  {
   "cell_type": "code",
   "execution_count": 12,
   "id": "0b3f3a92-b36b-4581-adff-9501fe32f85b",
   "metadata": {},
   "outputs": [
    {
     "name": "stdout",
     "output_type": "stream",
     "text": [
      "14.00\n"
     ]
    }
   ],
   "source": [
    "n = 14\n",
    "print('{:.2f}'.format(n))"
   ]
  },
  {
   "cell_type": "code",
   "execution_count": null,
   "id": "3b1590ed-6789-4772-957d-35829948c496",
   "metadata": {},
   "outputs": [],
   "source": []
  }
 ],
 "metadata": {
  "kernelspec": {
   "display_name": "Python 3",
   "language": "python",
   "name": "python3"
  },
  "language_info": {
   "codemirror_mode": {
    "name": "ipython",
    "version": 3
   },
   "file_extension": ".py",
   "mimetype": "text/x-python",
   "name": "python",
   "nbconvert_exporter": "python",
   "pygments_lexer": "ipython3",
   "version": "3.9.2"
  }
 },
 "nbformat": 4,
 "nbformat_minor": 5
}
