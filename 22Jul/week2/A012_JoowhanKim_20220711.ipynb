{
 "cells": [
  {
   "cell_type": "code",
   "execution_count": 17,
   "id": "a46accff-bbe3-42e7-ba4c-3abd6a3d9d7b",
   "metadata": {},
   "outputs": [],
   "source": [
    "n = 3\n",
    "def is_prime_num(n):\n",
    "    for i in range(2, int(math.sqrt(n))+1):\n",
    "        if n % i == 0:\n",
    "            return False\n",
    "\n",
    "    return True"
   ]
  },
  {
   "cell_type": "code",
   "execution_count": 20,
   "id": "d0f57551-fc61-4718-b86c-79394beb4907",
   "metadata": {},
   "outputs": [],
   "source": [
    "import math\n",
    "count=0\n",
    "if n>2:\n",
    "    for i in range(2,n):\n",
    "        flag=0\n",
    "        for j in range(2,int(math.sqrt(i))+1):\n",
    "            if i%j==0:\n",
    "                flag = 1\n",
    "        if flag !=1:\n",
    "            count +=1"
   ]
  },
  {
   "cell_type": "code",
   "execution_count": 21,
   "id": "81aa1c13-12f9-4aee-b747-260d60c2a6ea",
   "metadata": {},
   "outputs": [
    {
     "data": {
      "text/plain": [
       "1"
      ]
     },
     "execution_count": 21,
     "metadata": {},
     "output_type": "execute_result"
    }
   ],
   "source": [
    "count"
   ]
  },
  {
   "cell_type": "code",
   "execution_count": null,
   "id": "5647b84c-c834-4460-94f9-81ac90e8488f",
   "metadata": {},
   "outputs": [],
   "source": []
  }
 ],
 "metadata": {
  "kernelspec": {
   "display_name": "Python 3",
   "language": "python",
   "name": "python3"
  },
  "language_info": {
   "codemirror_mode": {
    "name": "ipython",
    "version": 3
   },
   "file_extension": ".py",
   "mimetype": "text/x-python",
   "name": "python",
   "nbconvert_exporter": "python",
   "pygments_lexer": "ipython3",
   "version": "3.9.2"
  }
 },
 "nbformat": 4,
 "nbformat_minor": 5
}
