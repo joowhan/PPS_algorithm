{
 "cells": [
  {
   "cell_type": "code",
   "execution_count": 15,
   "id": "5de05484",
   "metadata": {},
   "outputs": [
    {
     "name": "stdout",
     "output_type": "stream",
     "text": [
      "1\n",
      "z\n"
     ]
    }
   ],
   "source": [
    "n = int(input())\n",
    "dic ={}\n",
    "wrong = 0\n",
    "count = 0\n",
    "for _ in range(n):\n",
    "    word = input()\n",
    "    for i in range(len(word)):\n",
    "        if word[i] not in dic.keys():\n",
    "            dic[word[i]] = 1\n",
    "        #있다면\n",
    "        else:\n",
    "            if word[i-1] != word[i]:\n",
    "                #print(\"ww\")\n",
    "                wrong =1\n",
    "    if wrong ==0:\n",
    "        count +=1\n",
    "    wrong = 0\n",
    "    dic.clear()\n",
    "\n",
    "print(count)"
   ]
  },
  {
   "cell_type": "code",
   "execution_count": 16,
   "id": "26e862ce",
   "metadata": {},
   "outputs": [
    {
     "data": {
      "text/plain": [
       "1"
      ]
     },
     "execution_count": 16,
     "metadata": {},
     "output_type": "execute_result"
    }
   ],
   "source": [
    "count"
   ]
  },
  {
   "cell_type": "code",
   "execution_count": null,
   "id": "6f64fc73",
   "metadata": {},
   "outputs": [],
   "source": []
  }
 ],
 "metadata": {
  "kernelspec": {
   "display_name": "Python 3",
   "language": "python",
   "name": "python3"
  },
  "language_info": {
   "codemirror_mode": {
    "name": "ipython",
    "version": 3
   },
   "file_extension": ".py",
   "mimetype": "text/x-python",
   "name": "python",
   "nbconvert_exporter": "python",
   "pygments_lexer": "ipython3",
   "version": "3.9.2"
  }
 },
 "nbformat": 4,
 "nbformat_minor": 5
}
