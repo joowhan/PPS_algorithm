{
 "cells": [
  {
   "cell_type": "code",
   "execution_count": null,
   "id": "772a017b-6dc3-4ae5-9a0d-b73a2b082190",
   "metadata": {},
   "outputs": [],
   "source": [
    "#A010\n",
    "#자르는 길이는 점차 늘어난다. 최대로 자르는 길이는? 최대 길이의 절반까지 가능\n",
    "# 소수는 자를 수 없다. 소수를 제외시킨다.\n",
    "# 그 다음, 자르는 길이에 따라서 길이를 정하게 된다.\n",
    "#특정 길이만큼 자른다 -> 모든 char를 자른다음 순차적으로 비교한다. ab ab 같으면 앞의 것을 자르고 count+1된 숫자를 붙인다."
   ]
  },
  {
   "cell_type": "code",
   "execution_count": 1,
   "id": "f4371e69-8b0b-46df-977a-0015524c8734",
   "metadata": {},
   "outputs": [],
   "source": [
    "import math\n",
    "\n",
    "def is_prime_num(n):\n",
    "    for i in range(2, int(math.sqrt(n))+1):\n",
    "        if n % i == 0:\n",
    "            return False\n",
    "\n",
    "    return True"
   ]
  },
  {
   "cell_type": "code",
   "execution_count": 2,
   "id": "eac1ead1-6990-4e80-ae77-26ef9b93bd76",
   "metadata": {},
   "outputs": [],
   "source": [
    "def solution(s):\n",
    "    answer = len(s)\n",
    "    if is_prime_num(answer) ==False:\n",
    "        return answer\n",
    "    max_cut = len(s)/2\n",
    "    for length in range(1,max_cut):\n",
    "        count =1\n",
    "        new_lis = [s[i:i+length] for i in range(0, len(s), length)]\n",
    "        j=0\n",
    "        while j < len(new_lis):\n",
    "            while k<len(j, new_lis):\n",
    "                \n",
    "                \n",
    "    return answer"
   ]
  },
  {
   "cell_type": "code",
   "execution_count": 5,
   "id": "4156631c-4b36-4f9a-ba17-19041a00ee09",
   "metadata": {},
   "outputs": [
    {
     "data": {
      "text/plain": [
       "16"
      ]
     },
     "execution_count": 5,
     "metadata": {},
     "output_type": "execute_result"
    }
   ],
   "source": [
    "s='ababcdcdababcdcd'\n",
    "solution(s)"
   ]
  },
  {
   "cell_type": "code",
   "execution_count": 6,
   "id": "e8f9d465-d974-4a75-8d78-a6a34e19f2a3",
   "metadata": {},
   "outputs": [],
   "source": [
    "length =2\n",
    "new_lis = [s[i:i+length] for i in range(0, len(s), length)]"
   ]
  },
  {
   "cell_type": "code",
   "execution_count": 8,
   "id": "3510e5c6-3b1a-41bb-8a8c-38f089f43697",
   "metadata": {},
   "outputs": [
    {
     "data": {
      "text/plain": [
       "8"
      ]
     },
     "execution_count": 8,
     "metadata": {},
     "output_type": "execute_result"
    }
   ],
   "source": [
    "len(new_lis)"
   ]
  },
  {
   "cell_type": "code",
   "execution_count": 16,
   "id": "b64e96d3-d092-4a6b-9157-e7a883e4e5a5",
   "metadata": {},
   "outputs": [
    {
     "name": "stdout",
     "output_type": "stream",
     "text": [
      "0 ab ab\n",
      "1 ab cd\n",
      "2 cd cd\n",
      "3 cd ab\n",
      "4 ab ab\n",
      "5 ab cd\n",
      "6 cd cd\n"
     ]
    }
   ],
   "source": [
    "for i in range(len(new_lis)-1):\n",
    "    print(i, new_lis[i], new_lis[i+1])\n"
   ]
  },
  {
   "cell_type": "code",
   "execution_count": 14,
   "id": "d3ae3189-aa43-469d-8a0c-3f8acf338d0e",
   "metadata": {},
   "outputs": [
    {
     "data": {
      "text/plain": [
       "['ab', 'ab', 'cd', 'cd', 'ab', 'ab', 'cd', 'cd']"
      ]
     },
     "execution_count": 14,
     "metadata": {},
     "output_type": "execute_result"
    }
   ],
   "source": [
    "new_lis"
   ]
  },
  {
   "cell_type": "code",
   "execution_count": 17,
   "id": "c2b6a577-b4d4-406d-b43f-600cda2559d2",
   "metadata": {},
   "outputs": [
    {
     "ename": "NameError",
     "evalue": "name 'j' is not defined",
     "output_type": "error",
     "traceback": [
      "\u001b[0;31m---------------------------------------------------------------------------\u001b[0m",
      "\u001b[0;31mNameError\u001b[0m                                 Traceback (most recent call last)",
      "\u001b[0;32m<ipython-input-17-59e4361391bc>\u001b[0m in \u001b[0;36m<module>\u001b[0;34m\u001b[0m\n\u001b[0;32m----> 1\u001b[0;31m \u001b[0;32mwhile\u001b[0m \u001b[0mj\u001b[0m\u001b[0;34m<\u001b[0m \u001b[0mlen\u001b[0m\u001b[0;34m(\u001b[0m\u001b[0mnew_lis\u001b[0m\u001b[0;34m)\u001b[0m\u001b[0;34m:\u001b[0m\u001b[0;34m\u001b[0m\u001b[0;34m\u001b[0m\u001b[0m\n\u001b[0m\u001b[1;32m      2\u001b[0m     \u001b[0mj\u001b[0m\u001b[0;34m=\u001b[0m\u001b[0;36m0\u001b[0m\u001b[0;34m\u001b[0m\u001b[0;34m\u001b[0m\u001b[0m\n\u001b[1;32m      3\u001b[0m     \u001b[0;32mif\u001b[0m \u001b[0mj\u001b[0m\u001b[0;34m!=\u001b[0m\u001b[0;36m4\u001b[0m\u001b[0;34m:\u001b[0m\u001b[0;34m\u001b[0m\u001b[0;34m\u001b[0m\u001b[0m\n\u001b[1;32m      4\u001b[0m         \u001b[0mj\u001b[0m \u001b[0;34m+=\u001b[0m\u001b[0;36m1\u001b[0m\u001b[0;34m\u001b[0m\u001b[0;34m\u001b[0m\u001b[0m\n\u001b[1;32m      5\u001b[0m     \u001b[0;32melse\u001b[0m\u001b[0;34m:\u001b[0m\u001b[0;34m\u001b[0m\u001b[0;34m\u001b[0m\u001b[0m\n",
      "\u001b[0;31mNameError\u001b[0m: name 'j' is not defined"
     ]
    }
   ],
   "source": [
    "while j< len(new_lis):\n",
    "    j=0\n",
    "    if j!=4:\n",
    "        j +=1\n",
    "    else:\n",
    "        j+=2"
   ]
  },
  {
   "cell_type": "code",
   "execution_count": null,
   "id": "4d657b99-582f-4de4-bba7-2fd13f7f9946",
   "metadata": {},
   "outputs": [],
   "source": []
  }
 ],
 "metadata": {
  "kernelspec": {
   "display_name": "Python 3",
   "language": "python",
   "name": "python3"
  },
  "language_info": {
   "codemirror_mode": {
    "name": "ipython",
    "version": 3
   },
   "file_extension": ".py",
   "mimetype": "text/x-python",
   "name": "python",
   "nbconvert_exporter": "python",
   "pygments_lexer": "ipython3",
   "version": "3.9.2"
  }
 },
 "nbformat": 4,
 "nbformat_minor": 5
}
