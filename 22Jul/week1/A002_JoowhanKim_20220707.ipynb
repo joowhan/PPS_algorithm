{
 "cells": [
  {
   "cell_type": "code",
   "execution_count": null,
   "id": "bd909751-8084-4e70-a356-b2506dc7ed30",
   "metadata": {},
   "outputs": [],
   "source": []
  },
  {
   "cell_type": "code",
   "execution_count": null,
   "id": "54051492-dcbc-4c73-bd26-b9b299856e11",
   "metadata": {},
   "outputs": [],
   "source": [
    "class Solution(object):\n",
    "    def generate(self, numRows):\n",
    "        \"\"\"\n",
    "        :type numRows: int\n",
    "        :rtype: List[List[int]]\n",
    "        \"\"\"\n",
    "        triangle = []\n",
    "        for k in range(5):\n",
    "            lis=[]\n",
    "            lis.append(1)\n",
    "            triangle.append(lis)\n",
    "            if k-1>=1:\n",
    "                # lis[triangle[k-1][i]+triangle[k-1][i+1] for i in range(len(triangle[k-1])-1)]\n",
    "                for i in range(len(triangle[k-1])-1):\n",
    "                    lis.append(triangle[k-1][i]+triangle[k-1][i+1])\n",
    "                print(lis)"
   ]
  },
  {
   "cell_type": "code",
   "execution_count": null,
   "id": "3f9eb9bb-5f9a-447c-bf1e-74aa73a4c368",
   "metadata": {},
   "outputs": [],
   "source": [
    "Solution.generate(5)"
   ]
  },
  {
   "cell_type": "code",
   "execution_count": null,
   "id": "93d8bd90-31db-4f09-b760-2f23b2c3de9b",
   "metadata": {},
   "outputs": [],
   "source": [
    "triangle = []\n",
    "for k in range(5):\n",
    "    lis=[]\n",
    "    lis.append(1)\n",
    "    triangle.append(lis)\n",
    "    if k-1>=1:\n",
    "        # lis[triangle[k-1][i]+triangle[k-1][i+1] for i in range(len(triangle[k-1])-1)]\n",
    "        for i in range(len(triangle[k-1])-1):\n",
    "            lis.append(triangle[k-1][i]+triangle[k-1][i+1])\n",
    "        print(lis)\n",
    "    triangle.append(lis.append(1))"
   ]
  }
 ],
 "metadata": {
  "kernelspec": {
   "display_name": "Python 3",
   "language": "python",
   "name": "python3"
  },
  "language_info": {
   "codemirror_mode": {
    "name": "ipython",
    "version": 3
   },
   "file_extension": ".py",
   "mimetype": "text/x-python",
   "name": "python",
   "nbconvert_exporter": "python",
   "pygments_lexer": "ipython3",
   "version": "3.9.2"
  }
 },
 "nbformat": 4,
 "nbformat_minor": 5
}
