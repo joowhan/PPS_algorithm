{
 "cells": [
  {
   "cell_type": "code",
   "execution_count": 1,
   "id": "c91660db-e48f-4bd8-a44f-f6d2574d2c7b",
   "metadata": {},
   "outputs": [],
   "source": [
    "skill = 'CBD'\n",
    "skill_trees = [\"BACDE\", \"CBADF\", \"AECB\", \"BDA\"]"
   ]
  },
  {
   "cell_type": "code",
   "execution_count": 10,
   "id": "2f7f6689-3d40-4e7b-aea1-e99fab5de580",
   "metadata": {},
   "outputs": [
    {
     "name": "stdout",
     "output_type": "stream",
     "text": [
      "3\n",
      "3\n",
      "2\n",
      "2\n"
     ]
    }
   ],
   "source": [
    "#잘못된 접근\n",
    "count=0\n",
    "for tree in skill_trees:\n",
    "    i=0\n",
    "    lis=[]\n",
    "    for i in range(len(skill)):\n",
    "        if skill[i] in tree:\n",
    "            lis.append(tree.index(skill[i]))\n",
    "    print(len(lis))\n",
    "    is_sorted = (sorted(lis)==lis)\n",
    "    if (is_sorted ==True):\n",
    "        count +=1\n",
    "            \n",
    "        "
   ]
  },
  {
   "cell_type": "code",
   "execution_count": 14,
   "id": "708d7cf0-17c3-4919-b748-e87a532f2323",
   "metadata": {},
   "outputs": [
    {
     "data": {
      "text/plain": [
       "'ACDE'"
      ]
     },
     "execution_count": 14,
     "metadata": {},
     "output_type": "execute_result"
    }
   ],
   "source": [
    "skill_trees[0][1:]"
   ]
  },
  {
   "cell_type": "code",
   "execution_count": 21,
   "id": "c3086c57-6978-4035-9ed1-8fc67b1cc4e6",
   "metadata": {},
   "outputs": [
    {
     "name": "stdout",
     "output_type": "stream",
     "text": [
      "CBADF 3 0 0\n",
      "AECB 2 0 1\n",
      "2\n"
     ]
    }
   ],
   "source": [
    "count=0\n",
    "for tree in skill_trees:\n",
    "    j=0\n",
    "    wrong= 0\n",
    "    suc = 0\n",
    "    for i in range(len(skill)):\n",
    "        if skill[i] in tree[j:]:\n",
    "            j= tree.index(skill[i])\n",
    "            suc +=1\n",
    "        elif skill[i] in tree[:j]:\n",
    "            wrong+=1\n",
    "        else:\n",
    "            break\n",
    "    if suc != 0 and wrong<1:\n",
    "        print(tree, suc, wrong, count)\n",
    "        count+=1\n",
    "print(count)"
   ]
  },
  {
   "cell_type": "code",
   "execution_count": 22,
   "id": "e124996a-f8fc-4a4b-b282-c4554dac6437",
   "metadata": {},
   "outputs": [],
   "source": [
    "def solution(skill, skill_trees):\n",
    "    answer = 0\n",
    "\n",
    "    for skills in skill_trees:\n",
    "        skill_list = list(skill)\n",
    "\n",
    "        for s in skills:\n",
    "            if s in skill:\n",
    "                if s != skill_list.pop(0):\n",
    "                    break\n",
    "        else:\n",
    "            answer += 1\n",
    "\n",
    "    return answer"
   ]
  },
  {
   "cell_type": "code",
   "execution_count": null,
   "id": "30cc3ff9-835a-474f-8f1f-d2ab82187c02",
   "metadata": {},
   "outputs": [],
   "source": []
  }
 ],
 "metadata": {
  "kernelspec": {
   "display_name": "Python 3",
   "language": "python",
   "name": "python3"
  },
  "language_info": {
   "codemirror_mode": {
    "name": "ipython",
    "version": 3
   },
   "file_extension": ".py",
   "mimetype": "text/x-python",
   "name": "python",
   "nbconvert_exporter": "python",
   "pygments_lexer": "ipython3",
   "version": "3.9.2"
  }
 },
 "nbformat": 4,
 "nbformat_minor": 5
}
