{
 "cells": [
  {
   "cell_type": "code",
   "execution_count": 1,
   "id": "772a017b-6dc3-4ae5-9a0d-b73a2b082190",
   "metadata": {},
   "outputs": [],
   "source": [
    "#A010\n",
    "#자르는 길이는 점차 늘어난다. 최대로 자르는 길이는? 최대 길이의 절반까지 가능\n",
    "# 소수는 자를 수 없다. 소수를 제외시킨다.\n",
    "# 그 다음, 자르는 길이에 따라서 길이를 정하게 된다.\n",
    "#특정 길이만큼 자른다 -> 모든 char를 자른다음 순차적으로 비교한다. ab ab 같으면 앞의 것을 자르고 count+1된 숫자를 붙인다."
   ]
  },
  {
   "cell_type": "code",
   "execution_count": 2,
   "id": "f4371e69-8b0b-46df-977a-0015524c8734",
   "metadata": {},
   "outputs": [],
   "source": [
    "import math\n",
    "\n",
    "def is_prime_num(n):\n",
    "    for i in range(2, int(math.sqrt(n))+1):\n",
    "        if n % i == 0:\n",
    "            return False\n",
    "\n",
    "    return True"
   ]
  },
  {
   "cell_type": "code",
   "execution_count": 26,
   "id": "eac1ead1-6990-4e80-ae77-26ef9b93bd76",
   "metadata": {},
   "outputs": [],
   "source": [
    "def solution(s):\n",
    "    answer = int(len(s))\n",
    "    if is_prime_num(answer) ==True:\n",
    "        return answer\n",
    "    max_cut = int(len(s)/2)\n",
    "    for length in range(1,max_cut):\n",
    "        print(length)\n",
    "        if len(s)%length != 0:\n",
    "            continue\n",
    "        \n",
    "        count =1\n",
    "        lis=[]\n",
    "        j=0\n",
    "        t = 0\n",
    "        new_lis=[]\n",
    "        \n",
    "        lis = [s[i:i+length] for i in range(0, len(s), length)]\n",
    "        #j는 현재 위치를 가리킨다.\n",
    "        #print(lis)\n",
    "        while j<len(lis)-1:\n",
    "            count=1\n",
    "\n",
    "            #현재 위치 다음부터 끝까지 탐색 j와 같은 것이 있는지 확인\n",
    "            for k in range(j+1, len(lis)):\n",
    "                # 다르면 break j를 현재 k위치로 옮기고, j의 기존 위치는 t가 기억\n",
    "                if lis[j] !=lis[k]:\n",
    "                    t = j\n",
    "                    j=k\n",
    "                    break\n",
    "                else:\n",
    "                    count+=1\n",
    "                    \n",
    "            if j+1==len(lis)-1:\n",
    "                j+=1       \n",
    "            if count>1:\n",
    "                new_lis.append(str(count))\n",
    "                new_lis.append(lis[t])\n",
    "            else:\n",
    "                new_lis.append(lis[t])\n",
    "                print('alone: ', new_lis)\n",
    "            print(new_lis)\n",
    "        new_lis.append(lis[-1])\n",
    "    return answer"
   ]
  },
  {
   "cell_type": "code",
   "execution_count": 27,
   "id": "4156631c-4b36-4f9a-ba17-19041a00ee09",
   "metadata": {},
   "outputs": [
    {
     "name": "stdout",
     "output_type": "stream",
     "text": [
      "1\n",
      "alone:  ['a']\n",
      "['a']\n",
      "alone:  ['a', 'b']\n",
      "['a', 'b']\n",
      "alone:  ['a', 'b', 'a']\n",
      "['a', 'b', 'a']\n",
      "alone:  ['a', 'b', 'a', 'b']\n",
      "['a', 'b', 'a', 'b']\n",
      "alone:  ['a', 'b', 'a', 'b', 'c']\n",
      "['a', 'b', 'a', 'b', 'c']\n",
      "alone:  ['a', 'b', 'a', 'b', 'c', 'd']\n",
      "['a', 'b', 'a', 'b', 'c', 'd']\n",
      "alone:  ['a', 'b', 'a', 'b', 'c', 'd', 'c']\n",
      "['a', 'b', 'a', 'b', 'c', 'd', 'c']\n",
      "alone:  ['a', 'b', 'a', 'b', 'c', 'd', 'c', 'd']\n",
      "['a', 'b', 'a', 'b', 'c', 'd', 'c', 'd']\n",
      "alone:  ['a', 'b', 'a', 'b', 'c', 'd', 'c', 'd', 'a']\n",
      "['a', 'b', 'a', 'b', 'c', 'd', 'c', 'd', 'a']\n",
      "alone:  ['a', 'b', 'a', 'b', 'c', 'd', 'c', 'd', 'a', 'b']\n",
      "['a', 'b', 'a', 'b', 'c', 'd', 'c', 'd', 'a', 'b']\n",
      "alone:  ['a', 'b', 'a', 'b', 'c', 'd', 'c', 'd', 'a', 'b', 'a']\n",
      "['a', 'b', 'a', 'b', 'c', 'd', 'c', 'd', 'a', 'b', 'a']\n",
      "alone:  ['a', 'b', 'a', 'b', 'c', 'd', 'c', 'd', 'a', 'b', 'a', 'b']\n",
      "['a', 'b', 'a', 'b', 'c', 'd', 'c', 'd', 'a', 'b', 'a', 'b']\n",
      "alone:  ['a', 'b', 'a', 'b', 'c', 'd', 'c', 'd', 'a', 'b', 'a', 'b', 'c']\n",
      "['a', 'b', 'a', 'b', 'c', 'd', 'c', 'd', 'a', 'b', 'a', 'b', 'c']\n",
      "alone:  ['a', 'b', 'a', 'b', 'c', 'd', 'c', 'd', 'a', 'b', 'a', 'b', 'c', 'd']\n",
      "['a', 'b', 'a', 'b', 'c', 'd', 'c', 'd', 'a', 'b', 'a', 'b', 'c', 'd']\n",
      "2\n",
      "['2', 'ab']\n",
      "['2', 'ab', '2', 'cd']\n",
      "['2', 'ab', '2', 'cd', '2', 'ab']\n",
      "3\n",
      "4\n",
      "alone:  ['abab']\n",
      "['abab']\n",
      "alone:  ['abab', 'cdcd']\n",
      "['abab', 'cdcd']\n",
      "5\n",
      "6\n",
      "7\n"
     ]
    },
    {
     "data": {
      "text/plain": [
       "16"
      ]
     },
     "execution_count": 27,
     "metadata": {},
     "output_type": "execute_result"
    }
   ],
   "source": [
    "s='ababcdcdababcdcd'\n",
    "solution(s)"
   ]
  },
  {
   "cell_type": "code",
   "execution_count": 13,
   "id": "e8f9d465-d974-4a75-8d78-a6a34e19f2a3",
   "metadata": {},
   "outputs": [],
   "source": [
    "length =2\n",
    "lis = [s[i:i+length] for i in range(0, len(s), length)]"
   ]
  },
  {
   "cell_type": "code",
   "execution_count": 4,
   "id": "3510e5c6-3b1a-41bb-8a8c-38f089f43697",
   "metadata": {},
   "outputs": [
    {
     "data": {
      "text/plain": [
       "8"
      ]
     },
     "execution_count": 4,
     "metadata": {},
     "output_type": "execute_result"
    }
   ],
   "source": [
    "len(new_lis)"
   ]
  },
  {
   "cell_type": "code",
   "execution_count": 5,
   "id": "b64e96d3-d092-4a6b-9157-e7a883e4e5a5",
   "metadata": {},
   "outputs": [
    {
     "name": "stdout",
     "output_type": "stream",
     "text": [
      "0 ab ab\n",
      "1 ab cd\n",
      "2 cd cd\n",
      "3 cd ab\n",
      "4 ab ab\n",
      "5 ab cd\n",
      "6 cd cd\n"
     ]
    }
   ],
   "source": [
    "for i in range(len(new_lis)-1):\n",
    "    print(i, new_lis[i], new_lis[i+1])\n"
   ]
  },
  {
   "cell_type": "code",
   "execution_count": 6,
   "id": "d3ae3189-aa43-469d-8a0c-3f8acf338d0e",
   "metadata": {},
   "outputs": [
    {
     "data": {
      "text/plain": [
       "['ab', 'ab', 'cd', 'cd', 'ab', 'ab', 'cd', 'cd']"
      ]
     },
     "execution_count": 6,
     "metadata": {},
     "output_type": "execute_result"
    }
   ],
   "source": [
    "new_lis"
   ]
  },
  {
   "cell_type": "code",
   "execution_count": 42,
   "id": "c2b6a577-b4d4-406d-b43f-600cda2559d2",
   "metadata": {},
   "outputs": [
    {
     "ename": "KeyboardInterrupt",
     "evalue": "",
     "output_type": "error",
     "traceback": [
      "\u001b[0;31m---------------------------------------------------------------------------\u001b[0m",
      "\u001b[0;31mKeyboardInterrupt\u001b[0m                         Traceback (most recent call last)",
      "\u001b[0;32m<ipython-input-42-1ab08b714fc8>\u001b[0m in \u001b[0;36m<module>\u001b[0;34m\u001b[0m\n\u001b[1;32m     20\u001b[0m     \u001b[0;32melse\u001b[0m\u001b[0;34m:\u001b[0m\u001b[0;34m\u001b[0m\u001b[0;34m\u001b[0m\u001b[0m\n\u001b[1;32m     21\u001b[0m         \u001b[0mnew_lis\u001b[0m\u001b[0;34m.\u001b[0m\u001b[0mappend\u001b[0m\u001b[0;34m(\u001b[0m\u001b[0mlis\u001b[0m\u001b[0;34m[\u001b[0m\u001b[0mt\u001b[0m\u001b[0;34m]\u001b[0m\u001b[0;34m)\u001b[0m\u001b[0;34m\u001b[0m\u001b[0;34m\u001b[0m\u001b[0m\n\u001b[0;32m---> 22\u001b[0;31m     \u001b[0misMin\u001b[0m \u001b[0;34m=\u001b[0m \u001b[0;34m''\u001b[0m\u001b[0;34m.\u001b[0m\u001b[0mjoin\u001b[0m\u001b[0;34m(\u001b[0m\u001b[0mnew_lis\u001b[0m\u001b[0;34m)\u001b[0m\u001b[0;34m\u001b[0m\u001b[0;34m\u001b[0m\u001b[0m\n\u001b[0m",
      "\u001b[0;31mKeyboardInterrupt\u001b[0m: "
     ]
    }
   ],
   "source": [
    "j=0\n",
    "t = 0\n",
    "new_lis=[]\n",
    "while j<len(lis)-1:\n",
    "    count=1\n",
    "    \n",
    "    for k in range(j+1, len(lis)):\n",
    "        if lis[j] !=lis[k]:\n",
    "            t = j\n",
    "            j=k\n",
    "            break\n",
    "        else:\n",
    "            count+=1\n",
    "            if j+1==len(lis):\n",
    "                break\n",
    "        #print(lis[j], lis[k])\n",
    "    if count>1:\n",
    "        new_lis.append(str(count))\n",
    "        new_lis.append(lis[t])\n",
    "    else:\n",
    "        new_lis.append(lis[t])\n",
    "    isMin = ''.join(new_lis)"
   ]
  },
  {
   "cell_type": "code",
   "execution_count": 17,
   "id": "4d657b99-582f-4de4-bba7-2fd13f7f9946",
   "metadata": {},
   "outputs": [
    {
     "data": {
      "text/plain": [
       "0"
      ]
     },
     "execution_count": 17,
     "metadata": {},
     "output_type": "execute_result"
    }
   ],
   "source": [
    "s='ababcdcdababcdcd'\n",
    "len(s)%2"
   ]
  },
  {
   "cell_type": "code",
   "execution_count": 25,
   "id": "953d0946-12a2-4174-8812-634695da094d",
   "metadata": {},
   "outputs": [
    {
     "name": "stdout",
     "output_type": "stream",
     "text": [
      "['2', 'ab']\n",
      "['2', 'ab', '2', 'cd']\n",
      "['2', 'ab', '2', 'cd', '2', 'ab']\n"
     ]
    }
   ],
   "source": [
    "lis=['ab', 'ab', 'cd', 'cd', 'ab', 'ab', 'cd', 'cd']\n",
    "j=0\n",
    "t = 0\n",
    "new_lis=[]\n",
    "while j<len(lis)-1:\n",
    "    count=1\n",
    "    for k in range(j+1, len(lis)):\n",
    "        # diff\n",
    "        if lis[j] !=lis[k]:\n",
    "            t = j\n",
    "            j=k\n",
    "            break\n",
    "        # same\n",
    "        else:\n",
    "            count+=1\n",
    "\n",
    "    if count>1:\n",
    "        new_lis.append(str(count))\n",
    "        new_lis.append(lis[t])\n",
    "        print(new_lis)\n",
    "    else:\n",
    "        new_lis.append(lis[t])\n",
    "        print(new_lis)\n",
    "    if j+1==len(lis)-1:\n",
    "        break"
   ]
  },
  {
   "cell_type": "code",
   "execution_count": null,
   "id": "14014ae6-1333-4ca3-b35c-db1815c75ae2",
   "metadata": {},
   "outputs": [],
   "source": [
    "new_lis"
   ]
  },
  {
   "cell_type": "code",
   "execution_count": null,
   "id": "7336daa5-b13c-4bd3-9b73-4e98fae4e022",
   "metadata": {},
   "outputs": [],
   "source": []
  }
 ],
 "metadata": {
  "kernelspec": {
   "display_name": "Python 3",
   "language": "python",
   "name": "python3"
  },
  "language_info": {
   "codemirror_mode": {
    "name": "ipython",
    "version": 3
   },
   "file_extension": ".py",
   "mimetype": "text/x-python",
   "name": "python",
   "nbconvert_exporter": "python",
   "pygments_lexer": "ipython3",
   "version": "3.9.2"
  }
 },
 "nbformat": 4,
 "nbformat_minor": 5
}
