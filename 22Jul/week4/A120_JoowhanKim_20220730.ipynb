{
 "cells": [
  {
   "cell_type": "code",
   "execution_count": 1,
   "id": "04a0d0a9-e1dd-44fa-876a-b63f7977964e",
   "metadata": {},
   "outputs": [],
   "source": [
    "s = \"abcd\"\n",
    "t = \"abcde\""
   ]
  },
  {
   "cell_type": "code",
   "execution_count": 2,
   "id": "d16d52e1-2642-4fad-b1c1-4624238cf286",
   "metadata": {},
   "outputs": [],
   "source": [
    "slis = list(s)\n",
    "tlis = list(t)\n",
    "for i in range(len(s)):\n",
    "    if slis[i] in tlis:\n",
    "        tlis.remove(slis[i])"
   ]
  },
  {
   "cell_type": "code",
   "execution_count": null,
   "id": "449e3db5-50ef-4af9-88d8-3f950dd5f0fe",
   "metadata": {},
   "outputs": [],
   "source": []
  }
 ],
 "metadata": {
  "kernelspec": {
   "display_name": "Python 3",
   "language": "python",
   "name": "python3"
  },
  "language_info": {
   "codemirror_mode": {
    "name": "ipython",
    "version": 3
   },
   "file_extension": ".py",
   "mimetype": "text/x-python",
   "name": "python",
   "nbconvert_exporter": "python",
   "pygments_lexer": "ipython3",
   "version": "3.9.2"
  }
 },
 "nbformat": 4,
 "nbformat_minor": 5
}
