{
 "cells": [
  {
   "cell_type": "code",
   "execution_count": 1,
   "id": "10e29f76-7ffc-4b68-a354-3dfdd30eee39",
   "metadata": {},
   "outputs": [
    {
     "name": "stdin",
     "output_type": "stream",
     "text": [
      " 3\n"
     ]
    },
    {
     "name": "stdout",
     "output_type": "stream",
     "text": [
      "3\n"
     ]
    }
   ],
   "source": [
    "num= int(input())\n",
    "factor = 2\n",
    "while num !=1:\n",
    "    if num%factor ==0:\n",
    "        num /=factor\n",
    "        print(factor)\n",
    "    else:\n",
    "        factor+=1"
   ]
  },
  {
   "cell_type": "code",
   "execution_count": null,
   "id": "493234bf-bbcc-48b7-938b-bb87d85ffc5e",
   "metadata": {},
   "outputs": [],
   "source": []
  }
 ],
 "metadata": {
  "kernelspec": {
   "display_name": "Python 3",
   "language": "python",
   "name": "python3"
  },
  "language_info": {
   "codemirror_mode": {
    "name": "ipython",
    "version": 3
   },
   "file_extension": ".py",
   "mimetype": "text/x-python",
   "name": "python",
   "nbconvert_exporter": "python",
   "pygments_lexer": "ipython3",
   "version": "3.9.2"
  }
 },
 "nbformat": 4,
 "nbformat_minor": 5
}
