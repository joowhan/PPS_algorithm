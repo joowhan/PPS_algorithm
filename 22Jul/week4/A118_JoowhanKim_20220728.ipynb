{
 "cells": [
  {
   "cell_type": "code",
   "execution_count": 27,
   "id": "e4b8a22c-2963-41b7-96bf-7a0664f2b749",
   "metadata": {},
   "outputs": [],
   "source": [
    "nums = [0,1,0,3,12]"
   ]
  },
  {
   "cell_type": "code",
   "execution_count": null,
   "id": "9049a919-613f-49f9-a750-8caa97b8c55a",
   "metadata": {},
   "outputs": [],
   "source": [
    "for num in nums:\n",
    "    if num == 0:\n",
    "        count +=1\n",
    "        nums.pop(0)"
   ]
  },
  {
   "cell_type": "code",
   "execution_count": 10,
   "id": "4f82e795-645b-4370-a145-de23cff2c044",
   "metadata": {},
   "outputs": [
    {
     "data": {
      "text/plain": [
       "0"
      ]
     },
     "execution_count": 10,
     "metadata": {},
     "output_type": "execute_result"
    }
   ],
   "source": [
    "nums.pop(nums.index(0))"
   ]
  },
  {
   "cell_type": "code",
   "execution_count": 28,
   "id": "0564d764-1d67-4388-9767-0fe3db5cd4b1",
   "metadata": {},
   "outputs": [],
   "source": [
    "nums = [0,1,0,3,12]\n",
    "count =0\n",
    "while 0 in nums:\n",
    "    nums.pop(nums.index(0))\n",
    "    count +=1\n",
    "for _ in range(count):\n",
    "    nums.append(0)"
   ]
  },
  {
   "cell_type": "code",
   "execution_count": 29,
   "id": "a573f270-c5f6-4190-940c-a365508bc8d9",
   "metadata": {},
   "outputs": [
    {
     "data": {
      "text/plain": [
       "[1, 3, 12, 0, 0]"
      ]
     },
     "execution_count": 29,
     "metadata": {},
     "output_type": "execute_result"
    }
   ],
   "source": [
    "nums"
   ]
  },
  {
   "cell_type": "code",
   "execution_count": 21,
   "id": "ffed6416-2241-460c-be82-98f169393265",
   "metadata": {},
   "outputs": [],
   "source": [
    "nums.append(0)"
   ]
  },
  {
   "cell_type": "code",
   "execution_count": null,
   "id": "997333f1-a05a-4600-9a54-054fc1d433bc",
   "metadata": {},
   "outputs": [],
   "source": []
  },
  {
   "cell_type": "code",
   "execution_count": null,
   "id": "aeacc262-b2cd-4527-a94e-deae95448678",
   "metadata": {},
   "outputs": [],
   "source": []
  }
 ],
 "metadata": {
  "kernelspec": {
   "display_name": "Python 3",
   "language": "python",
   "name": "python3"
  },
  "language_info": {
   "codemirror_mode": {
    "name": "ipython",
    "version": 3
   },
   "file_extension": ".py",
   "mimetype": "text/x-python",
   "name": "python",
   "nbconvert_exporter": "python",
   "pygments_lexer": "ipython3",
   "version": "3.9.2"
  }
 },
 "nbformat": 4,
 "nbformat_minor": 5
}
