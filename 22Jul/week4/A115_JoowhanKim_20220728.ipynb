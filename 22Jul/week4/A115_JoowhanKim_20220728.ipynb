{
 "cells": [
  {
   "cell_type": "code",
   "execution_count": 57,
   "id": "f8160e45-321b-48db-b883-06ea55dd8a54",
   "metadata": {},
   "outputs": [],
   "source": [
    "balloon = \"balloon\"\n",
    "balloon = list(\"balloon\")"
   ]
  },
  {
   "cell_type": "code",
   "execution_count": 58,
   "id": "b2414a2b-b551-475c-b5b8-a784ea3474ff",
   "metadata": {},
   "outputs": [
    {
     "data": {
      "text/plain": [
       "['b', 'a', 'l', 'l', 'o', 'o', 'n']"
      ]
     },
     "execution_count": 58,
     "metadata": {},
     "output_type": "execute_result"
    }
   ],
   "source": [
    "balloon"
   ]
  },
  {
   "cell_type": "code",
   "execution_count": 27,
   "id": "3f43bf5e-fff2-4b77-8e32-593f1aac0997",
   "metadata": {},
   "outputs": [],
   "source": [
    "text = \"krhizmmgmcrecekgyljqkldocicziihtgpqwbticmvuyznragqoyrukzopfmjhjjxemsxmrsxuqmnkrzhgvtgdgtykhcglurvppvcwhrhrjoislonvvglhdciilduvuiebmffaagxerjeewmtcwmhmtwlxtvlbocczlrppmpjbpnifqtlninyzjtmazxdbzwxthpvrfulvrspycqcghuopjirzoeuqhetnbrcdakilzmklxwudxxhwilasbjjhhfgghogqoofsufysmcqeilaivtmfziumjloewbkjvaahsaaggteppqyuoylgpbdwqubaalfwcqrjeycjbbpifjbpigjdnnswocusuprydgrtxuaojeriigwumlovafxnpibjopjfqzrwemoinmptxddgcszmfprdrichjeqcvikynzigleaajcysusqasqadjemgnyvmzmbcfrttrzonwafrnedglhpudovigwvpimttiketopkvqw\"\n",
    "count =0\n",
    "temp=[]\n",
    "result =''\n",
    "for i in range(len(text)):\n",
    "    \n",
    "    if text[i] in balloon:\n",
    "        ind = balloon.index(text[i])\n",
    "        result +=text[i]\n",
    "        balloon.pop(ind)\n",
    "    if len(balloon) ==0:\n",
    "        count +=1\n",
    "        temp.append(result)\n",
    "        result=''\n",
    "        balloon = list(\"balloon\")"
   ]
  },
  {
   "cell_type": "code",
   "execution_count": 54,
   "id": "25077fc0-f2ad-442c-a9c5-8c3130c26cd0",
   "metadata": {},
   "outputs": [],
   "source": [
    "from collections import Counter"
   ]
  },
  {
   "cell_type": "code",
   "execution_count": 60,
   "id": "a48a299c-c859-4e1e-8006-da005bc5ed2d",
   "metadata": {},
   "outputs": [
    {
     "data": {
      "text/plain": [
       "10"
      ]
     },
     "execution_count": 60,
     "metadata": {},
     "output_type": "execute_result"
    }
   ],
   "source": [
    "count_alpha = Counter(text)\n",
    "balloon = ['b', 'a', 'l', 'o', 'n']\n",
    "for word in balloon:\n",
    "    if word not in count_alpha:\n",
    "        print(0)\n",
    "min(count_alpha['b'], count_alpha['a'], count_alpha['l']//2, count_alpha['o']//2, count_alpha['n'])"
   ]
  },
  {
   "cell_type": "code",
   "execution_count": null,
   "id": "9d029c26-0359-403d-b4ab-862241edbc31",
   "metadata": {},
   "outputs": [],
   "source": []
  }
 ],
 "metadata": {
  "kernelspec": {
   "display_name": "Python 3",
   "language": "python",
   "name": "python3"
  },
  "language_info": {
   "codemirror_mode": {
    "name": "ipython",
    "version": 3
   },
   "file_extension": ".py",
   "mimetype": "text/x-python",
   "name": "python",
   "nbconvert_exporter": "python",
   "pygments_lexer": "ipython3",
   "version": "3.9.2"
  }
 },
 "nbformat": 4,
 "nbformat_minor": 5
}
