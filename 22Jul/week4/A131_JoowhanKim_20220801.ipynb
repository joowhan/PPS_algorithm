{
 "cells": [
  {
   "cell_type": "code",
   "execution_count": null,
   "id": "914557d8-3d10-445e-a7ea-206557087aec",
   "metadata": {},
   "outputs": [
    {
     "name": "stdin",
     "output_type": "stream",
     "text": [
      " 5\n"
     ]
    }
   ],
   "source": [
    "n = int(input())\n",
    "lis ={}\n",
    "for _ in range(n):\n",
    "    num = int(input())\n",
    "    if num not in lis.keys():\n",
    "        lis[num] = 1\n",
    "    else:\n",
    "        lis[num]+=1\n",
    "aver = sum(lis.keys())/len(lis.keys())\n",
    "print(round(aver))\n",
    "m = sorted(lis.keys())\n",
    "median = m[int(len(m)/2+1)-1]\n",
    "print(median)\n",
    "max_freq = max(lis.values())\n",
    "freq = []\n",
    "for i in lis:\n",
    "    if lis[i] == max_freq:\n",
    "        freq.append(i)\n",
    "freq.sort()\n",
    "if len(freq) >1:\n",
    "    print(freq[1])\n",
    "else:\n",
    "    print(freq[0])\n",
    "length = max(m)-min(m)\n",
    "print(length)"
   ]
  },
  {
   "cell_type": "code",
   "execution_count": null,
   "id": "08e43b0d-7c35-4d6d-8155-89e77a998cda",
   "metadata": {},
   "outputs": [],
   "source": []
  }
 ],
 "metadata": {
  "kernelspec": {
   "display_name": "Python 3",
   "language": "python",
   "name": "python3"
  },
  "language_info": {
   "codemirror_mode": {
    "name": "ipython",
    "version": 3
   },
   "file_extension": ".py",
   "mimetype": "text/x-python",
   "name": "python",
   "nbconvert_exporter": "python",
   "pygments_lexer": "ipython3",
   "version": "3.9.2"
  }
 },
 "nbformat": 4,
 "nbformat_minor": 5
}
