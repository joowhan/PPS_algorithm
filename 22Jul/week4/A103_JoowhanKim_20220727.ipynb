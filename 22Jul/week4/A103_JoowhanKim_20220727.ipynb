{
 "cells": [
  {
   "cell_type": "code",
   "execution_count": 1,
   "id": "df5efbf9-00ab-4c66-8ce3-686cda807036",
   "metadata": {},
   "outputs": [],
   "source": [
    "mos = [\".-\",\"-...\",\"-.-.\",\"-..\",\".\",\"..-.\",\"--.\",\"....\",\"..\",\".---\",\"-.-\",\".-..\",\"--\",\"-.\",\"---\",\".--.\",\"--.-\",\".-.\",\"...\",\"-\",\"..-\",\"...-\",\".--\",\"-..-\",\"-.--\",\"--..\"]"
   ]
  },
  {
   "cell_type": "code",
   "execution_count": 2,
   "id": "2f248b69-0c14-4f59-b583-c290661a60ff",
   "metadata": {},
   "outputs": [],
   "source": [
    "words = [\"gin\",\"zen\",\"gig\",\"msg\"]"
   ]
  },
  {
   "cell_type": "code",
   "execution_count": 6,
   "id": "8bcdc111-755e-4aa4-95cc-62ab65e0ae4e",
   "metadata": {},
   "outputs": [
    {
     "data": {
      "text/plain": [
       "6"
      ]
     },
     "execution_count": 6,
     "metadata": {},
     "output_type": "execute_result"
    }
   ],
   "source": [
    "ord('g')-97"
   ]
  },
  {
   "cell_type": "code",
   "execution_count": 10,
   "id": "aa5b9fd0-e128-443e-97ed-fbb72742e822",
   "metadata": {},
   "outputs": [],
   "source": [
    "lis = []\n",
    "for word in words:\n",
    "    converted=''\n",
    "    for i in range(len(word)):\n",
    "        ind = ord(word[i])-97\n",
    "        converted +=mos[ind]\n",
    "    lis.append(converted)\n",
    "lis = set(lis)"
   ]
  },
  {
   "cell_type": "code",
   "execution_count": 12,
   "id": "788cc512-063e-40ae-8845-a5aa335d3c30",
   "metadata": {},
   "outputs": [
    {
     "data": {
      "text/plain": [
       "2"
      ]
     },
     "execution_count": 12,
     "metadata": {},
     "output_type": "execute_result"
    }
   ],
   "source": [
    "len(lis)"
   ]
  },
  {
   "cell_type": "code",
   "execution_count": null,
   "id": "3c2586f3-c3e8-4670-ba65-356c6b7c8928",
   "metadata": {},
   "outputs": [],
   "source": []
  },
  {
   "cell_type": "code",
   "execution_count": null,
   "id": "836d1f69-7195-4e7a-9cd8-06935af538c1",
   "metadata": {},
   "outputs": [],
   "source": []
  }
 ],
 "metadata": {
  "kernelspec": {
   "display_name": "Python 3",
   "language": "python",
   "name": "python3"
  },
  "language_info": {
   "codemirror_mode": {
    "name": "ipython",
    "version": 3
   },
   "file_extension": ".py",
   "mimetype": "text/x-python",
   "name": "python",
   "nbconvert_exporter": "python",
   "pygments_lexer": "ipython3",
   "version": "3.9.2"
  }
 },
 "nbformat": 4,
 "nbformat_minor": 5
}
