{
 "cells": [
  {
   "cell_type": "code",
   "execution_count": 1,
   "id": "4911d291-caad-4d6c-b003-e14cdc5083b0",
   "metadata": {},
   "outputs": [],
   "source": [
    "class ListNode(object):\n",
    "    def __init__(self, val=0, next=None):\n",
    "        self.val = val\n",
    "        self.next = next"
   ]
  },
  {
   "cell_type": "code",
   "execution_count": 11,
   "id": "2ad59b28-19d2-41de-8572-893f3d8a1419",
   "metadata": {},
   "outputs": [],
   "source": [
    "#make head Linked list\n",
    "head = ListNode(1)    \n",
    "curr_node = head\n",
    "for i in range(2,6):\n",
    "    new_node = ListNode(i)\n",
    "    curr_node.next  = new_node\n",
    "    curr_node = curr_node.next"
   ]
  },
  {
   "cell_type": "code",
   "execution_count": 3,
   "id": "d8660bfe-11c2-4a79-bceb-49405fec966b",
   "metadata": {},
   "outputs": [],
   "source": [
    "def reverseList(head):\n",
    "    def reverse(node, prev= None ):\n",
    "        if not node:\n",
    "            return prev\n",
    "\n",
    "        next, node.next = node.next, prev\n",
    "        return reverse(next, node) \n",
    "    return reverse(head)"
   ]
  },
  {
   "cell_type": "code",
   "execution_count": 13,
   "id": "25ae788f-acc5-497f-bbb5-083e0c775d26",
   "metadata": {},
   "outputs": [],
   "source": [
    "reversed = reverseList(head)"
   ]
  },
  {
   "cell_type": "code",
   "execution_count": 15,
   "id": "627360ee-d345-4127-ab56-322e5ce10a13",
   "metadata": {},
   "outputs": [
    {
     "name": "stdout",
     "output_type": "stream",
     "text": [
      "5\n",
      "4\n",
      "3\n",
      "2\n",
      "1\n"
     ]
    }
   ],
   "source": [
    "node = reversed\n",
    "while node:\n",
    "    print(node.val)\n",
    "    node = node.next"
   ]
  },
  {
   "cell_type": "code",
   "execution_count": 12,
   "id": "a04ae279-771e-43f8-b7ec-adb64df6a7b2",
   "metadata": {},
   "outputs": [
    {
     "data": {
      "text/plain": [
       "2"
      ]
     },
     "execution_count": 12,
     "metadata": {},
     "output_type": "execute_result"
    }
   ],
   "source": [
    "head.next.val"
   ]
  },
  {
   "cell_type": "code",
   "execution_count": 14,
   "id": "323a1dd8-6d01-4c5a-bca7-fb202bd737c4",
   "metadata": {},
   "outputs": [
    {
     "data": {
      "text/plain": [
       "5"
      ]
     },
     "execution_count": 14,
     "metadata": {},
     "output_type": "execute_result"
    }
   ],
   "source": [
    "reversed.val"
   ]
  },
  {
   "cell_type": "code",
   "execution_count": null,
   "id": "dc1ee220-b62e-44b1-9458-d9700b94ab7a",
   "metadata": {},
   "outputs": [],
   "source": []
  }
 ],
 "metadata": {
  "kernelspec": {
   "display_name": "Python 3",
   "language": "python",
   "name": "python3"
  },
  "language_info": {
   "codemirror_mode": {
    "name": "ipython",
    "version": 3
   },
   "file_extension": ".py",
   "mimetype": "text/x-python",
   "name": "python",
   "nbconvert_exporter": "python",
   "pygments_lexer": "ipython3",
   "version": "3.9.2"
  }
 },
 "nbformat": 4,
 "nbformat_minor": 5
}
