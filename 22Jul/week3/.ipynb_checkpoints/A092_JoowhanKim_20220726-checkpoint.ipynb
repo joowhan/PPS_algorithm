{
 "cells": [
  {
   "cell_type": "code",
   "execution_count": 1,
   "id": "fd52c17d-8e02-4048-ae7c-facf2a492ad6",
   "metadata": {},
   "outputs": [],
   "source": [
    "nums = [4,2,5,7]"
   ]
  },
  {
   "cell_type": "code",
   "execution_count": 8,
   "id": "49b12af6-db98-4540-ba2f-819a08a8362d",
   "metadata": {},
   "outputs": [
    {
     "name": "stdout",
     "output_type": "stream",
     "text": [
      "[2, 7, 4, 5]\n"
     ]
    }
   ],
   "source": [
    "odd=[]\n",
    "even=[]\n",
    "result=[]\n",
    "for num in nums:\n",
    "    if num%2==0:\n",
    "        even.append(num)\n",
    "    else:\n",
    "        odd.append(num)\n",
    "for i in range(len(nums)):\n",
    "    if i%2==0:\n",
    "        result.append(even[-1])\n",
    "        even.pop()\n",
    "    else:\n",
    "        result.append(odd[-1])\n",
    "        odd.pop()\n",
    "print(result)\n",
    "        "
   ]
  },
  {
   "cell_type": "code",
   "execution_count": 3,
   "id": "42ef5997-9956-4063-9e28-3cc5c0ca156f",
   "metadata": {},
   "outputs": [
    {
     "data": {
      "text/plain": [
       "[5, 7]"
      ]
     },
     "execution_count": 3,
     "metadata": {},
     "output_type": "execute_result"
    }
   ],
   "source": [
    "odd"
   ]
  },
  {
   "cell_type": "code",
   "execution_count": 5,
   "id": "910571f8-c318-4637-9d5d-9b49e9e7ecdc",
   "metadata": {},
   "outputs": [
    {
     "data": {
      "text/plain": [
       "2"
      ]
     },
     "execution_count": 5,
     "metadata": {},
     "output_type": "execute_result"
    }
   ],
   "source": [
    "even.pop()"
   ]
  },
  {
   "cell_type": "code",
   "execution_count": 7,
   "id": "795a0992-ebcf-4d95-b2a7-6aa91167a9c7",
   "metadata": {},
   "outputs": [
    {
     "data": {
      "text/plain": [
       "4"
      ]
     },
     "execution_count": 7,
     "metadata": {},
     "output_type": "execute_result"
    }
   ],
   "source": [
    "even[-1]"
   ]
  },
  {
   "cell_type": "code",
   "execution_count": null,
   "id": "fbac77e9-38cf-4985-8ca5-b4495a8ce65a",
   "metadata": {},
   "outputs": [],
   "source": []
  }
 ],
 "metadata": {
  "kernelspec": {
   "display_name": "Python 3",
   "language": "python",
   "name": "python3"
  },
  "language_info": {
   "codemirror_mode": {
    "name": "ipython",
    "version": 3
   },
   "file_extension": ".py",
   "mimetype": "text/x-python",
   "name": "python",
   "nbconvert_exporter": "python",
   "pygments_lexer": "ipython3",
   "version": "3.9.2"
  }
 },
 "nbformat": 4,
 "nbformat_minor": 5
}
