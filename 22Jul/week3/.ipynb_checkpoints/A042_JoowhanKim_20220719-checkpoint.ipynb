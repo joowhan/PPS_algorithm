{
 "cells": [
  {
   "cell_type": "code",
   "execution_count": 64,
   "id": "a0a73ea9-c5c2-408c-b561-b635b8f68bce",
   "metadata": {},
   "outputs": [
    {
     "ename": "KeyboardInterrupt",
     "evalue": "",
     "output_type": "error",
     "traceback": [
      "\u001b[0;31m---------------------------------------------------------------------------\u001b[0m",
      "\u001b[0;31mKeyboardInterrupt\u001b[0m                         Traceback (most recent call last)",
      "\u001b[0;32m<ipython-input-64-0cee42b6c521>\u001b[0m in \u001b[0;36m<module>\u001b[0;34m\u001b[0m\n\u001b[1;32m      9\u001b[0m         \u001b[0;32mbreak\u001b[0m\u001b[0;34m\u001b[0m\u001b[0;34m\u001b[0m\u001b[0m\n\u001b[1;32m     10\u001b[0m     \u001b[0mind\u001b[0m \u001b[0;34m=\u001b[0m \u001b[0ms\u001b[0m\u001b[0;34m.\u001b[0m\u001b[0mindex\u001b[0m\u001b[0;34m(\u001b[0m\u001b[0;34m'#'\u001b[0m\u001b[0;34m)\u001b[0m\u001b[0;34m\u001b[0m\u001b[0;34m\u001b[0m\u001b[0m\n\u001b[0;32m---> 11\u001b[0;31m     \u001b[0ms\u001b[0m \u001b[0;34m=\u001b[0m \u001b[0ms\u001b[0m\u001b[0;34m[\u001b[0m\u001b[0;34m:\u001b[0m\u001b[0mind\u001b[0m\u001b[0;34m-\u001b[0m\u001b[0;36m1\u001b[0m\u001b[0;34m]\u001b[0m\u001b[0;34m+\u001b[0m\u001b[0ms\u001b[0m\u001b[0;34m[\u001b[0m\u001b[0mind\u001b[0m\u001b[0;34m+\u001b[0m\u001b[0;36m1\u001b[0m\u001b[0;34m:\u001b[0m\u001b[0;34m]\u001b[0m\u001b[0;34m\u001b[0m\u001b[0;34m\u001b[0m\u001b[0m\n\u001b[0m\u001b[1;32m     12\u001b[0m \u001b[0;34m\u001b[0m\u001b[0m\n\u001b[1;32m     13\u001b[0m \u001b[0;32mwhile\u001b[0m \u001b[0;32mTrue\u001b[0m\u001b[0;34m:\u001b[0m\u001b[0;34m\u001b[0m\u001b[0;34m\u001b[0m\u001b[0m\n",
      "\u001b[0;31mKeyboardInterrupt\u001b[0m: "
     ]
    }
   ],
   "source": [
    "##Ver1. Failed\n",
    "s = \"a##c\"\n",
    "t = \"#a#c\"\n",
    "\n",
    "while True:\n",
    "    if '#' not in s:\n",
    "        break\n",
    "    ind = s.index('#')\n",
    "    s = s[:ind-1]+s[ind+1:]\n",
    "\n",
    "while True:\n",
    "    if '#' not in t:\n",
    "        break\n",
    "    ind = t.index('#')\n",
    "    t = t[:ind-1]+t[ind+1:]\n",
    "    \n",
    "if s == t:\n",
    "    print(True)\n",
    "else:\n",
    "    print(False)"
   ]
  },
  {
   "cell_type": "code",
   "execution_count": 18,
   "id": "12aa58dc-28d8-4008-912b-63e92ebd56ba",
   "metadata": {},
   "outputs": [
    {
     "name": "stdout",
     "output_type": "stream",
     "text": [
      "True\n"
     ]
    }
   ],
   "source": [
    "##Ver2. Failed\n",
    "s = \"a##c\"\n",
    "t = \"#a#c\"\n",
    "for i in range(len(s)):\n",
    "    if s[i] == '#':\n",
    "        if i==0:\n",
    "            continue\n",
    "        elif s[i-1] == '#' or s[i-1] =='@':\n",
    "            continue\n",
    "        else:\n",
    "            s = s[:i]+'@'+s[i+1:]\n",
    "for i in range(len(t)):\n",
    "    if t[i] == '#':\n",
    "        if i==0:\n",
    "            continue\n",
    "        elif t[i-1] == '#' or t[i-1] =='@':\n",
    "            continue\n",
    "        else:\n",
    "            t = t[:i]+'@'+t[i+1:]        \n",
    "        \n",
    "while True:\n",
    "    if '@' not in s and '@' not in t:\n",
    "        break\n",
    "    if '@' in s:\n",
    "        ind = s.index('@')\n",
    "        s = s[:ind-1]+ s[ind+1:]\n",
    "    if '@' in t:\n",
    "        ind = t.index('@')\n",
    "        t = t[:ind-1]+ t[ind+1:]\n",
    "if s == t:\n",
    "    print(True)\n",
    "else:\n",
    "    print(False)"
   ]
  },
  {
   "cell_type": "code",
   "execution_count": 34,
   "id": "84e565a6-b9eb-4bfd-97e5-b725d3a2b7e9",
   "metadata": {},
   "outputs": [
    {
     "name": "stdout",
     "output_type": "stream",
     "text": [
      "1 a##c a\n",
      "2 a@#c @\n"
     ]
    }
   ],
   "source": [
    "##Ver3. Failed\n",
    "s = \"a##c\"\n",
    "t = \"#a#c\"\n",
    "i=0\n",
    "res_s=[]\n",
    "for i in range(len(s)):\n",
    "    if s[i] == '#':\n",
    "        print(i, s, s[i-1])\n",
    "        if i==0 or s[i-1]=='#':\n",
    "            print(i)\n",
    "            continue\n",
    "        elif s[i-1]=='@':\n",
    "            if i-3 >= 0 or s[i-3] !='#':\n",
    "                \n",
    "        else:\n",
    "            s = s[:i]+'@'+s[i+1:]\n",
    "            \n"
   ]
  },
  {
   "cell_type": "code",
   "execution_count": 41,
   "id": "9ae58d21-b0a8-43e5-bad8-86dafe9b06a2",
   "metadata": {},
   "outputs": [
    {
     "name": "stdout",
     "output_type": "stream",
     "text": [
      "[]\n",
      "['a']\n",
      "[]\n",
      "[]\n",
      "[]\n",
      "[]\n",
      "['a']\n",
      "[]\n"
     ]
    }
   ],
   "source": [
    "##Ver4. \n",
    "s = \"a##c\"\n",
    "t = \"#a#c\"\n",
    "res_s =[]\n",
    "for ch in s:\n",
    "    if ch =='#' and res_s:\n",
    "        res_s.pop()\n",
    "        continue\n",
    "    if ch !='#':\n",
    "        res_s.append(ch)\n",
    "res_t=[]        \n",
    "for ch in t:\n",
    "    if ch =='#' and res_t:\n",
    "        res_t.pop()\n",
    "        continue\n",
    "    if ch !='#':\n",
    "        res_t.append(ch)\n"
   ]
  }
 ],
 "metadata": {
  "kernelspec": {
   "display_name": "Python 3",
   "language": "python",
   "name": "python3"
  },
  "language_info": {
   "codemirror_mode": {
    "name": "ipython",
    "version": 3
   },
   "file_extension": ".py",
   "mimetype": "text/x-python",
   "name": "python",
   "nbconvert_exporter": "python",
   "pygments_lexer": "ipython3",
   "version": "3.9.2"
  }
 },
 "nbformat": 4,
 "nbformat_minor": 5
}
