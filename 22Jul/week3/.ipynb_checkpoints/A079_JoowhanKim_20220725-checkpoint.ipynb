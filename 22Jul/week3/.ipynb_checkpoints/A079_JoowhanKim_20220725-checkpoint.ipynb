{
 "cells": [
  {
   "cell_type": "code",
   "execution_count": 1,
   "id": "37bf3007-8907-4dda-8e7a-56bbcf758540",
   "metadata": {},
   "outputs": [
    {
     "data": {
      "text/plain": [
       "3"
      ]
     },
     "execution_count": 1,
     "metadata": {},
     "output_type": "execute_result"
    }
   ],
   "source": [
    "array = [1, 5, 2, 6, 3, 7, 4]\n",
    "commands = [[2, 5, 3], [4, 4, 1], [1, 7, 3]]\n",
    "len(commands)"
   ]
  },
  {
   "cell_type": "code",
   "execution_count": 10,
   "id": "ed5fe331-f42b-4f29-b5fc-ce68c06f9bcc",
   "metadata": {},
   "outputs": [],
   "source": [
    "result=[]\n",
    "for command in commands:\n",
    "    cut =  array[command[0]-1: command[1]]\n",
    "    cut.sort()\n",
    "    #print(cut[command[2]-1])\n",
    "    result.append(cut[command[2]-1])"
   ]
  },
  {
   "cell_type": "code",
   "execution_count": 11,
   "id": "c58fa99d-0028-47ff-901a-cf96900ee55b",
   "metadata": {},
   "outputs": [
    {
     "data": {
      "text/plain": [
       "[5, 6, 3]"
      ]
     },
     "execution_count": 11,
     "metadata": {},
     "output_type": "execute_result"
    }
   ],
   "source": [
    "result"
   ]
  },
  {
   "cell_type": "code",
   "execution_count": null,
   "id": "08c0fb98-414a-4e16-a9a9-467a66ef9cd6",
   "metadata": {},
   "outputs": [],
   "source": []
  }
 ],
 "metadata": {
  "kernelspec": {
   "display_name": "Python 3",
   "language": "python",
   "name": "python3"
  },
  "language_info": {
   "codemirror_mode": {
    "name": "ipython",
    "version": 3
   },
   "file_extension": ".py",
   "mimetype": "text/x-python",
   "name": "python",
   "nbconvert_exporter": "python",
   "pygments_lexer": "ipython3",
   "version": "3.9.2"
  }
 },
 "nbformat": 4,
 "nbformat_minor": 5
}
