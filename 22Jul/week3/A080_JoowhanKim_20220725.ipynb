{
 "cells": [
  {
   "cell_type": "code",
   "execution_count": 14,
   "id": "edf1c601-9fb4-42fc-9bef-6da474f4ed78",
   "metadata": {},
   "outputs": [],
   "source": [
    "nums = [3,3,4]"
   ]
  },
  {
   "cell_type": "code",
   "execution_count": 8,
   "id": "1f80064c-4dab-45ed-b1cc-d59b5f73151e",
   "metadata": {},
   "outputs": [
    {
     "data": {
      "text/plain": [
       "3"
      ]
     },
     "execution_count": 8,
     "metadata": {},
     "output_type": "execute_result"
    }
   ],
   "source": [
    "max(nums, key=nums.count)"
   ]
  },
  {
   "cell_type": "code",
   "execution_count": 21,
   "id": "b9873d5d-f4e9-4e9f-8e6c-70b4b538d62c",
   "metadata": {},
   "outputs": [],
   "source": [
    "maxnum=0\n",
    "freq = 0\n",
    "for num in nums:\n",
    "    ismax= nums.count(num)\n",
    "    #print(maxnum, ismax)\n",
    "    if maxnum < ismax:\n",
    "        freq = num\n",
    "        maxnum = ismax"
   ]
  },
  {
   "cell_type": "code",
   "execution_count": 20,
   "id": "ac4ca454-7725-4017-8811-0732fe59b081",
   "metadata": {},
   "outputs": [
    {
     "data": {
      "text/plain": [
       "3"
      ]
     },
     "execution_count": 20,
     "metadata": {},
     "output_type": "execute_result"
    }
   ],
   "source": [
    "freq"
   ]
  },
  {
   "cell_type": "code",
   "execution_count": null,
   "id": "9cbb2cdb-108f-43d7-abf7-96be4d47e7fa",
   "metadata": {},
   "outputs": [],
   "source": []
  }
 ],
 "metadata": {
  "kernelspec": {
   "display_name": "Python 3",
   "language": "python",
   "name": "python3"
  },
  "language_info": {
   "codemirror_mode": {
    "name": "ipython",
    "version": 3
   },
   "file_extension": ".py",
   "mimetype": "text/x-python",
   "name": "python",
   "nbconvert_exporter": "python",
   "pygments_lexer": "ipython3",
   "version": "3.9.2"
  }
 },
 "nbformat": 4,
 "nbformat_minor": 5
}
