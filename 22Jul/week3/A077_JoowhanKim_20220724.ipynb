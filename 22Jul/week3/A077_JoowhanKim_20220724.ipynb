{
 "cells": [
  {
   "cell_type": "code",
   "execution_count": 8,
   "id": "0ef2b55c-a114-46e8-b810-61a16b54d218",
   "metadata": {},
   "outputs": [
    {
     "name": "stdin",
     "output_type": "stream",
     "text": [
      " 20\n",
      " 30\n",
      " 50\n",
      " 48\n",
      " 33\n",
      " 66\n",
      " 0\n",
      " 64\n"
     ]
    }
   ],
   "source": [
    "score = [int(input()) for _ in range(8)]"
   ]
  },
  {
   "cell_type": "code",
   "execution_count": 11,
   "id": "22dd8e41-e54e-41d6-ab37-8cfe52389c31",
   "metadata": {},
   "outputs": [
    {
     "data": {
      "text/plain": [
       "[20, 30, 50, 48, 33, 66, 0, 64]"
      ]
     },
     "execution_count": 11,
     "metadata": {},
     "output_type": "execute_result"
    }
   ],
   "source": [
    "score"
   ]
  },
  {
   "cell_type": "code",
   "execution_count": 5,
   "id": "e60c15e0-d435-4c11-b508-13cce2d8db3c",
   "metadata": {},
   "outputs": [],
   "source": [
    "score.sort(reverse=True)"
   ]
  },
  {
   "cell_type": "code",
   "execution_count": 12,
   "id": "ff7cae69-15d7-4adf-b294-5f7627a382db",
   "metadata": {},
   "outputs": [],
   "source": [
    "temp = sorted(score, reverse=True)"
   ]
  },
  {
   "cell_type": "code",
   "execution_count": 7,
   "id": "fdad6e4f-de23-4fcb-a481-eda62fffebc8",
   "metadata": {},
   "outputs": [
    {
     "data": {
      "text/plain": [
       "0"
      ]
     },
     "execution_count": 7,
     "metadata": {},
     "output_type": "execute_result"
    }
   ],
   "source": [
    "score.index(66)"
   ]
  },
  {
   "cell_type": "code",
   "execution_count": 13,
   "id": "254b2791-83c9-4150-b9da-6b468078a49b",
   "metadata": {},
   "outputs": [
    {
     "data": {
      "text/plain": [
       "[66, 64, 50, 48, 33, 30, 20, 0]"
      ]
     },
     "execution_count": 13,
     "metadata": {},
     "output_type": "execute_result"
    }
   ],
   "source": [
    "temp"
   ]
  },
  {
   "cell_type": "code",
   "execution_count": 14,
   "id": "79536156-2f27-49ed-a979-7e8e1dbe3301",
   "metadata": {},
   "outputs": [
    {
     "data": {
      "text/plain": [
       "5"
      ]
     },
     "execution_count": 14,
     "metadata": {},
     "output_type": "execute_result"
    }
   ],
   "source": [
    "score.index(66)"
   ]
  },
  {
   "cell_type": "code",
   "execution_count": 18,
   "id": "1ecf04f4-1b90-4728-aecf-865ec7ce6bd6",
   "metadata": {},
   "outputs": [],
   "source": [
    "location = [score.index(temp[i])+1 for i in range(5)]"
   ]
  },
  {
   "cell_type": "code",
   "execution_count": 25,
   "id": "5ac852a5-9244-4bb3-83cf-c0e4888400f8",
   "metadata": {},
   "outputs": [],
   "source": [
    "string = ' '.join(sorted(list(map(str,location))))"
   ]
  },
  {
   "cell_type": "code",
   "execution_count": 32,
   "id": "f7ab6b7a-665c-49f4-b66c-a7be1f0ca106",
   "metadata": {},
   "outputs": [],
   "source": [
    "location.sort()"
   ]
  },
  {
   "cell_type": "code",
   "execution_count": 33,
   "id": "8c8b31af-6bad-453f-9871-154e24211b27",
   "metadata": {},
   "outputs": [],
   "source": [
    "total = sum(temp[:5])"
   ]
  },
  {
   "cell_type": "code",
   "execution_count": 34,
   "id": "f204f27a-a465-4b3b-a901-cf59be1f6230",
   "metadata": {},
   "outputs": [
    {
     "name": "stdout",
     "output_type": "stream",
     "text": [
      "3 4 5 6 8 "
     ]
    }
   ],
   "source": [
    "for loc in location:\n",
    "    print(loc, end= ' ')"
   ]
  },
  {
   "cell_type": "code",
   "execution_count": null,
   "id": "cac96897-ad25-4fe9-8387-df4f15af5cfa",
   "metadata": {},
   "outputs": [],
   "source": [
    "## Total Code\n",
    "score = [int(input()) for _ in range(8)]\n",
    "temp = sorted(score, reverse=True)\n",
    "location = [score.index(temp[i])+1 for i in range(5)]\n",
    "location.sort()\n",
    "print(sum(temp[:5]))\n",
    "for loc in location:\n",
    "    print(loc, end= ' ')"
   ]
  }
 ],
 "metadata": {
  "kernelspec": {
   "display_name": "Python 3",
   "language": "python",
   "name": "python3"
  },
  "language_info": {
   "codemirror_mode": {
    "name": "ipython",
    "version": 3
   },
   "file_extension": ".py",
   "mimetype": "text/x-python",
   "name": "python",
   "nbconvert_exporter": "python",
   "pygments_lexer": "ipython3",
   "version": "3.9.2"
  }
 },
 "nbformat": 4,
 "nbformat_minor": 5
}
