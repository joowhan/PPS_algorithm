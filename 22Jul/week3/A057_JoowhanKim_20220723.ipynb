{
 "cells": [
  {
   "cell_type": "code",
   "execution_count": 1,
   "id": "b23bcc7d-f63d-4e20-bcb1-a5ddcf126f78",
   "metadata": {},
   "outputs": [
    {
     "data": {
      "text/plain": [
       "7"
      ]
     },
     "execution_count": 1,
     "metadata": {},
     "output_type": "execute_result"
    }
   ],
   "source": [
    "cookie=[1,1,2,3]\n",
    "son1=[]\n",
    "son2=[]\n",
    "sum(cookie)"
   ]
  },
  {
   "cell_type": "code",
   "execution_count": 5,
   "id": "33407d48-3140-4fdf-8e14-b011eb0f2008",
   "metadata": {},
   "outputs": [],
   "source": [
    "## Other's Solution\n",
    "def solution(cookie):\n",
    "    answer = 0\n",
    "    n = len(cookie)\n",
    "\n",
    "    for i in range(n - 1):\n",
    "        left_sum, left_idx = cookie[i], i\n",
    "        right_sum, right_idx = cookie[i + 1], i + 1\n",
    "\n",
    "        while True:\n",
    "            if left_sum == right_sum:\n",
    "                answer = max(answer, left_sum)\n",
    "                # answer = max(answer, right_sum)\n",
    "                \n",
    "            if left_idx > 0 and left_sum <= right_sum:\n",
    "                left_idx -= 1\n",
    "                left_sum += cookie[left_idx]\n",
    "            elif right_idx < n - 1 and right_sum <= left_sum:\n",
    "                right_idx += 1\n",
    "                right_sum += cookie[right_idx]\n",
    "            else:\n",
    "                break\n",
    "\n",
    "    return answer"
   ]
  },
  {
   "cell_type": "code",
   "execution_count": null,
   "id": "7d73d6ff-795b-4657-823c-6dc995be4afd",
   "metadata": {},
   "outputs": [],
   "source": []
  }
 ],
 "metadata": {
  "kernelspec": {
   "display_name": "Python 3",
   "language": "python",
   "name": "python3"
  },
  "language_info": {
   "codemirror_mode": {
    "name": "ipython",
    "version": 3
   },
   "file_extension": ".py",
   "mimetype": "text/x-python",
   "name": "python",
   "nbconvert_exporter": "python",
   "pygments_lexer": "ipython3",
   "version": "3.9.2"
  }
 },
 "nbformat": 4,
 "nbformat_minor": 5
}
