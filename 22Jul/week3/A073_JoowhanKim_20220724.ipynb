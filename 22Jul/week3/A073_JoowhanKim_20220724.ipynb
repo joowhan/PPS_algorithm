{
 "cells": [
  {
   "cell_type": "code",
   "execution_count": 5,
   "id": "9a720dc2-a95f-459c-9af6-cee51c8f2bf6",
   "metadata": {},
   "outputs": [],
   "source": [
    "n=15\n",
    "result =[]\n",
    "for i in range(1,n+1):\n",
    "    if i%3 ==0 and i%5 == 0:\n",
    "        result.append(\"FizzBuzz\")\n",
    "    elif i%3 ==0:\n",
    "        result.append(\"Fizz\")\n",
    "    elif i%5 ==0:\n",
    "        result.append(\"Buzz\")\n",
    "    else:\n",
    "        result.append(str(i))"
   ]
  },
  {
   "cell_type": "code",
   "execution_count": 6,
   "id": "651aebf2-fd04-4de4-ae3d-0226482a9982",
   "metadata": {},
   "outputs": [
    {
     "data": {
      "text/plain": [
       "['1',\n",
       " '2',\n",
       " 'Fizz',\n",
       " '4',\n",
       " 'Buzz',\n",
       " 'Fizz',\n",
       " '7',\n",
       " '8',\n",
       " 'Fizz',\n",
       " 'Buzz',\n",
       " '11',\n",
       " 'Fizz',\n",
       " '13',\n",
       " '14',\n",
       " 'FizzBuzz']"
      ]
     },
     "execution_count": 6,
     "metadata": {},
     "output_type": "execute_result"
    }
   ],
   "source": [
    "result"
   ]
  },
  {
   "cell_type": "code",
   "execution_count": null,
   "id": "859cfaee-b271-47ce-993c-967a96138f9a",
   "metadata": {},
   "outputs": [],
   "source": []
  }
 ],
 "metadata": {
  "kernelspec": {
   "display_name": "Python 3",
   "language": "python",
   "name": "python3"
  },
  "language_info": {
   "codemirror_mode": {
    "name": "ipython",
    "version": 3
   },
   "file_extension": ".py",
   "mimetype": "text/x-python",
   "name": "python",
   "nbconvert_exporter": "python",
   "pygments_lexer": "ipython3",
   "version": "3.9.2"
  }
 },
 "nbformat": 4,
 "nbformat_minor": 5
}
