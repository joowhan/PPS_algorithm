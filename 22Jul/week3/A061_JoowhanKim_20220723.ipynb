{
 "cells": [
  {
   "cell_type": "code",
   "execution_count": 8,
   "id": "417e8cd9-d2bc-48d7-b2b9-398c0bf9c7b3",
   "metadata": {},
   "outputs": [],
   "source": [
    "columnNumber = 24"
   ]
  },
  {
   "cell_type": "code",
   "execution_count": 9,
   "id": "bef325d2-70fb-49ff-9cf9-473322957af8",
   "metadata": {},
   "outputs": [
    {
     "data": {
      "text/plain": [
       "'X'"
      ]
     },
     "execution_count": 9,
     "metadata": {},
     "output_type": "execute_result"
    }
   ],
   "source": [
    "chr(columnNumber+64)"
   ]
  },
  {
   "cell_type": "code",
   "execution_count": 10,
   "id": "1507dc6d-c3fa-4f73-abc1-d85b19adee61",
   "metadata": {},
   "outputs": [],
   "source": [
    "if columnNumber <=26:\n",
    "    result = chr(columnNumber+64)\n",
    "else:\n",
    "    while columnNumber >26:\n",
    "        "
   ]
  },
  {
   "cell_type": "code",
   "execution_count": 11,
   "id": "949b2d5a-5c5b-4c89-93cd-0db5f013402e",
   "metadata": {},
   "outputs": [
    {
     "data": {
      "text/plain": [
       "'X'"
      ]
     },
     "execution_count": 11,
     "metadata": {},
     "output_type": "execute_result"
    }
   ],
   "source": [
    "result"
   ]
  },
  {
   "cell_type": "code",
   "execution_count": 12,
   "id": "c80c7cf6-be05-4c44-adff-1c41ec217156",
   "metadata": {},
   "outputs": [
    {
     "data": {
      "text/plain": [
       "78"
      ]
     },
     "execution_count": 12,
     "metadata": {},
     "output_type": "execute_result"
    }
   ],
   "source": [
    "26*3"
   ]
  },
  {
   "cell_type": "code",
   "execution_count": 13,
   "id": "7851537b-5f83-49e8-8796-558a33b46826",
   "metadata": {},
   "outputs": [
    {
     "data": {
      "text/plain": [
       "3"
      ]
     },
     "execution_count": 13,
     "metadata": {},
     "output_type": "execute_result"
    }
   ],
   "source": [
    "80//26"
   ]
  },
  {
   "cell_type": "code",
   "execution_count": 21,
   "id": "75e27316-cede-493c-83ee-06326a0bdffb",
   "metadata": {},
   "outputs": [
    {
     "data": {
      "text/plain": [
       "27"
      ]
     },
     "execution_count": 21,
     "metadata": {},
     "output_type": "execute_result"
    }
   ],
   "source": [
    "702//26"
   ]
  },
  {
   "cell_type": "code",
   "execution_count": 22,
   "id": "c5a2c880-e0e4-43ee-bf83-c42b2f6fa5a3",
   "metadata": {},
   "outputs": [
    {
     "data": {
      "text/plain": [
       "0"
      ]
     },
     "execution_count": 22,
     "metadata": {},
     "output_type": "execute_result"
    }
   ],
   "source": [
    "702%26"
   ]
  },
  {
   "cell_type": "code",
   "execution_count": 16,
   "id": "9937ebfb-febd-45b3-95fa-161ad626691d",
   "metadata": {},
   "outputs": [
    {
     "data": {
      "text/plain": [
       "39"
      ]
     },
     "execution_count": 16,
     "metadata": {},
     "output_type": "execute_result"
    }
   ],
   "source": [
    "1024//26"
   ]
  },
  {
   "cell_type": "code",
   "execution_count": 33,
   "id": "7994c0c9-8188-4d6c-a5a6-582642b91de8",
   "metadata": {},
   "outputs": [],
   "source": [
    "num = 28\n",
    "count = 0\n",
    "while num >52:\n",
    "    count +=1\n",
    "    num = num//26\n",
    "    print(num)"
   ]
  },
  {
   "cell_type": "code",
   "execution_count": 34,
   "id": "df0a8aa9-2f51-400d-9c74-bf60bed82687",
   "metadata": {},
   "outputs": [
    {
     "data": {
      "text/plain": [
       "2"
      ]
     },
     "execution_count": 34,
     "metadata": {},
     "output_type": "execute_result"
    }
   ],
   "source": [
    "num%26"
   ]
  },
  {
   "cell_type": "code",
   "execution_count": 35,
   "id": "d1c24f4d-61ce-40e9-85ce-788cb5782888",
   "metadata": {},
   "outputs": [
    {
     "data": {
      "text/plain": [
       "1"
      ]
     },
     "execution_count": 35,
     "metadata": {},
     "output_type": "execute_result"
    }
   ],
   "source": [
    "num//26"
   ]
  },
  {
   "cell_type": "code",
   "execution_count": 29,
   "id": "5c46ab23-395f-45e6-a13b-0dafce0b0cea",
   "metadata": {},
   "outputs": [
    {
     "data": {
      "text/plain": [
       "1406"
      ]
     },
     "execution_count": 29,
     "metadata": {},
     "output_type": "execute_result"
    }
   ],
   "source": [
    "703*2"
   ]
  },
  {
   "cell_type": "code",
   "execution_count": null,
   "id": "179ebbd8-bfb0-48df-a2e5-a0952bc570ef",
   "metadata": {},
   "outputs": [],
   "source": []
  }
 ],
 "metadata": {
  "kernelspec": {
   "display_name": "Python 3",
   "language": "python",
   "name": "python3"
  },
  "language_info": {
   "codemirror_mode": {
    "name": "ipython",
    "version": 3
   },
   "file_extension": ".py",
   "mimetype": "text/x-python",
   "name": "python",
   "nbconvert_exporter": "python",
   "pygments_lexer": "ipython3",
   "version": "3.9.2"
  }
 },
 "nbformat": 4,
 "nbformat_minor": 5
}
