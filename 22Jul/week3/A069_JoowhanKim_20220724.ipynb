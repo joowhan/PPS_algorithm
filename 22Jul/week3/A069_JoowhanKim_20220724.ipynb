{
 "cells": [
  {
   "cell_type": "markdown",
   "id": "5681874d-9502-4cbb-b5f2-162da9ed6138",
   "metadata": {},
   "source": [
    "## My Solution"
   ]
  },
  {
   "cell_type": "code",
   "execution_count": null,
   "id": "a934bf6c-95af-46e8-a7fa-638a8c874573",
   "metadata": {},
   "outputs": [
    {
     "name": "stdin",
     "output_type": "stream",
     "text": [
      " 7 3\n"
     ]
    },
    {
     "name": "stdout",
     "output_type": "stream",
     "text": [
      "<3, 6, 2, 7, 5, 1, 4>\n"
     ]
    }
   ],
   "source": [
    "## My Solution\n",
    "N,K = input().split()\n",
    "N = int(N)\n",
    "K = int(K)\n",
    "\n",
    "lis = [str(i) for i in range(1,N+1)]\n",
    "\n",
    "j=0\n",
    "result=[]\n",
    "while lis:\n",
    "    if j ==len(lis):\n",
    "        j =0\n",
    "    for _ in range(K-1):\n",
    "\n",
    "        j+=1\n",
    "        if j >=len(lis):\n",
    "            j=0\n",
    "    result.append(lis[j])\n",
    "    lis.pop(j)\n",
    "print(\"<\",\", \".join(result),\">\", sep='')"
   ]
  },
  {
   "cell_type": "markdown",
   "id": "b0a2ab86-8035-44cc-85a7-b3268cef88c1",
   "metadata": {},
   "source": [
    "## Using Linked List"
   ]
  },
  {
   "cell_type": "code",
   "execution_count": 41,
   "id": "4985f641-fdbe-43a6-bf39-e043c643dc20",
   "metadata": {},
   "outputs": [],
   "source": [
    "class ListNode:\n",
    "    def __init__(self, val=0, next=None):\n",
    "        self.val = val\n",
    "        self.next = next"
   ]
  },
  {
   "cell_type": "code",
   "execution_count": 42,
   "id": "2907de4c-43f4-4a8b-a591-6cf068700f5e",
   "metadata": {},
   "outputs": [
    {
     "name": "stdin",
     "output_type": "stream",
     "text": [
      " 7 3\n"
     ]
    }
   ],
   "source": [
    "N,K = input().split()\n",
    "N = int(N)\n",
    "K = int(K)"
   ]
  },
  {
   "cell_type": "code",
   "execution_count": 43,
   "id": "1cbe324f-7eaf-48f1-858c-e7928c5493c5",
   "metadata": {},
   "outputs": [],
   "source": [
    "head = ListNode(1)    \n",
    "curr_node = head\n",
    "for i in range(2, N+1):\n",
    "    new_node = ListNode(i)\n",
    "    curr_node.next  = new_node\n",
    "    curr_node = curr_node.next"
   ]
  },
  {
   "cell_type": "code",
   "execution_count": 44,
   "id": "96f72fa0-012d-4904-a55e-d2a527d230a0",
   "metadata": {},
   "outputs": [],
   "source": [
    "curr_node.next = head"
   ]
  },
  {
   "cell_type": "code",
   "execution_count": null,
   "id": "2d7e610c-a0ac-49d6-9a0a-30ebd20e128c",
   "metadata": {},
   "outputs": [],
   "source": [
    "# node = head\n",
    "# while node:\n",
    "#     print(node.val)\n",
    "#     node = node.next"
   ]
  },
  {
   "cell_type": "code",
   "execution_count": null,
   "id": "f52fc175-7604-48d3-9276-ca5762d43233",
   "metadata": {},
   "outputs": [],
   "source": [
    "node = head\n",
    "while node.next !=:\n",
    "    for _ in range(K-1):\n",
    "        target_node = node\n",
    "        node = node.next\n",
    "        print(target_node.val)\n",
    "    next_node = target_node.next.next\n",
    "    target_node.next = next_node "
   ]
  },
  {
   "cell_type": "code",
   "execution_count": null,
   "id": "ee8e73d9-c442-43fa-9f1a-67887da3c31d",
   "metadata": {},
   "outputs": [],
   "source": [
    "node = head\n",
    "for _ in range(K-1):\n",
    "    target_node = node\n",
    "    node = node.next\n",
    "    print(target_node.val)\n",
    "next_node = target_node.next.next\n",
    "target_node.next = next_node    \n",
    "    "
   ]
  },
  {
   "cell_type": "code",
   "execution_count": null,
   "id": "78fcb877-dde8-4322-af68-f14c87905170",
   "metadata": {},
   "outputs": [],
   "source": [
    "target_node.val"
   ]
  },
  {
   "cell_type": "code",
   "execution_count": 85,
   "id": "17d59beb-6a6c-43bc-b3b6-2b64ba04947a",
   "metadata": {},
   "outputs": [],
   "source": [
    "lis = [i for i in range(1,N+1)]"
   ]
  },
  {
   "cell_type": "code",
   "execution_count": 86,
   "id": "c79472a8-cbb2-40ed-a326-4e2dc871df8b",
   "metadata": {},
   "outputs": [
    {
     "name": "stdout",
     "output_type": "stream",
     "text": [
      "2\n",
      "4\n",
      "1\n",
      "3\n",
      "2\n",
      "0\n",
      "0\n"
     ]
    }
   ],
   "source": [
    "j=0\n",
    "result=[]\n",
    "while lis:\n",
    "    if j ==len(lis):\n",
    "        j =0\n",
    "    for _ in range(K-1):\n",
    "\n",
    "        j+=1\n",
    "        if j >=len(lis):\n",
    "            j=0\n",
    "    result.append(lis[j])\n",
    "    lis.pop(j)"
   ]
  },
  {
   "cell_type": "code",
   "execution_count": 47,
   "id": "585d7157-a559-4c4c-bd49-361f7669954b",
   "metadata": {},
   "outputs": [],
   "source": [
    "def pop(node, prev):\n",
    "    prev.next = node.next"
   ]
  },
  {
   "cell_type": "code",
   "execution_count": null,
   "id": "870d05bf-8ea0-4091-968f-d0540b0431a4",
   "metadata": {},
   "outputs": [],
   "source": [
    "prev = head\n",
    "node = head.next"
   ]
  },
  {
   "cell_type": "code",
   "execution_count": 56,
   "id": "d5d94189-86cd-47d5-9eba-0925bcc878c0",
   "metadata": {},
   "outputs": [
    {
     "data": {
      "text/plain": [
       "[]"
      ]
     },
     "execution_count": 56,
     "metadata": {},
     "output_type": "execute_result"
    }
   ],
   "source": [
    "lis"
   ]
  },
  {
   "cell_type": "code",
   "execution_count": 87,
   "id": "25229352-a26c-44de-bc03-0e1fc18418d2",
   "metadata": {},
   "outputs": [
    {
     "data": {
      "text/plain": [
       "[3, 6, 2, 7, 5, 1, 4]"
      ]
     },
     "execution_count": 87,
     "metadata": {},
     "output_type": "execute_result"
    }
   ],
   "source": [
    "result"
   ]
  },
  {
   "cell_type": "code",
   "execution_count": null,
   "id": "0e543a4b-51dd-4f03-8cf9-8834af431c07",
   "metadata": {},
   "outputs": [
    {
     "name": "stdout",
     "output_type": "stream",
     "text": [
      "<3, 6, 2, 7, 5, 1, 4>\n"
     ]
    }
   ],
   "source": [
    "print(\"<\",\", \".join(result),\">\", sep='')"
   ]
  },
  {
   "cell_type": "code",
   "execution_count": null,
   "id": "1ef97e4c-cf0a-41a7-8191-5c0622e535c7",
   "metadata": {},
   "outputs": [
    {
     "ename": "TypeError",
     "evalue": "sequence item 0: expected str instance, int found",
     "output_type": "error",
     "traceback": [
      "\u001b[0;31m---------------------------------------------------------------------------\u001b[0m",
      "\u001b[0;31mTypeError\u001b[0m                                 Traceback (most recent call last)",
      "\u001b[0;32m<ipython-input-92-1869f1113e01>\u001b[0m in \u001b[0;36m<module>\u001b[0;34m\u001b[0m\n\u001b[0;32m----> 1\u001b[0;31m \u001b[0;34m\", \"\u001b[0m\u001b[0;34m.\u001b[0m\u001b[0mjoin\u001b[0m\u001b[0;34m(\u001b[0m\u001b[0mresult\u001b[0m\u001b[0;34m)\u001b[0m\u001b[0;34m\u001b[0m\u001b[0;34m\u001b[0m\u001b[0m\n\u001b[0m",
      "\u001b[0;31mTypeError\u001b[0m: sequence item 0: expected str instance, int found"
     ]
    }
   ],
   "source": [
    "\", \".join(result)"
   ]
  },
  {
   "cell_type": "code",
   "execution_count": null,
   "id": "cd1b77a3-471d-42dd-8d50-be5549fff26b",
   "metadata": {},
   "outputs": [],
   "source": []
  }
 ],
 "metadata": {
  "kernelspec": {
   "display_name": "Python 3",
   "language": "python",
   "name": "python3"
  },
  "language_info": {
   "codemirror_mode": {
    "name": "ipython",
    "version": 3
   },
   "file_extension": ".py",
   "mimetype": "text/x-python",
   "name": "python",
   "nbconvert_exporter": "python",
   "pygments_lexer": "ipython3",
   "version": "3.9.2"
  }
 },
 "nbformat": 4,
 "nbformat_minor": 5
}
