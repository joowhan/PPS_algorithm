{
 "cells": [
  {
   "cell_type": "markdown",
   "id": "061819ff-1272-49df-bf69-7ce0f7700d88",
   "metadata": {},
   "source": [
    "### Program Note\n",
    "3번 이상 인용된 논문이 3개 이상 && 나머지는 3번 이하 <br>\n",
    "0번 이상 인용된 논문이 0개 이상 <br>\n",
    "6번 이상 인용된 논문이 6개 이상 x<br>\n",
    "1번 이상 인용된 논문이 1개 이상<br>\n"
   ]
  },
  {
   "cell_type": "code",
   "execution_count": 17,
   "id": "2e069d2a-09d6-4a1e-81ed-faaf02e78ea4",
   "metadata": {},
   "outputs": [
    {
     "name": "stdout",
     "output_type": "stream",
     "text": [
      "3\n"
     ]
    }
   ],
   "source": [
    "citations = [3,0,6,1,5]\n",
    "hindex = 0\n",
    "for thesis in citations:\n",
    "    count = 0\n",
    "    others = 0\n",
    "    for i in range(len(citations)):\n",
    "        if citations[i] >=thesis:\n",
    "            count +=1\n",
    "        else:\n",
    "            others +=1\n",
    "    #print(count, others)\n",
    "    if thesis <= count and thesis >=others:\n",
    "        if hindex < thesis:\n",
    "            hindex = thesis\n",
    "            #print(\"H-index \", hindex)\n",
    "print(hindex)"
   ]
  },
  {
   "cell_type": "code",
   "execution_count": 3,
   "id": "b20b23a8-137e-445e-bcf4-5c27c2464701",
   "metadata": {},
   "outputs": [
    {
     "data": {
      "text/plain": [
       "1"
      ]
     },
     "execution_count": 3,
     "metadata": {},
     "output_type": "execute_result"
    }
   ],
   "source": [
    "citations = [3,0,6,1,5]\n",
    "citations.count(3)"
   ]
  },
  {
   "cell_type": "code",
   "execution_count": 14,
   "id": "163b9907-3290-42eb-8609-b807fb6dbe43",
   "metadata": {},
   "outputs": [
    {
     "name": "stdout",
     "output_type": "stream",
     "text": [
      "3\n",
      "4\n",
      "5\n"
     ]
    }
   ],
   "source": [
    "citations.sort(reverse=True)\n",
    "for idx , citation in enumerate(citations):\n",
    "    if idx >= citation:\n",
    "        print(idx)\n",
    "print(len(citations))"
   ]
  },
  {
   "cell_type": "code",
   "execution_count": 15,
   "id": "ac302457-5e12-4b97-b052-355e8bbd2997",
   "metadata": {},
   "outputs": [
    {
     "name": "stdout",
     "output_type": "stream",
     "text": [
      "0 6\n",
      "1 5\n",
      "2 3\n",
      "3 1\n",
      "4 0\n"
     ]
    }
   ],
   "source": [
    "for idx , citation in enumerate(citations):\n",
    "    print(idx, citation)"
   ]
  },
  {
   "cell_type": "code",
   "execution_count": null,
   "id": "857bccb2-9a67-435f-9ccd-22a5eabb56f6",
   "metadata": {},
   "outputs": [],
   "source": []
  }
 ],
 "metadata": {
  "kernelspec": {
   "display_name": "Python 3",
   "language": "python",
   "name": "python3"
  },
  "language_info": {
   "codemirror_mode": {
    "name": "ipython",
    "version": 3
   },
   "file_extension": ".py",
   "mimetype": "text/x-python",
   "name": "python",
   "nbconvert_exporter": "python",
   "pygments_lexer": "ipython3",
   "version": "3.9.2"
  }
 },
 "nbformat": 4,
 "nbformat_minor": 5
}
