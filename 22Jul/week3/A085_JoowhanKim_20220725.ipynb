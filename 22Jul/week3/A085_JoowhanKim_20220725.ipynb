{
 "cells": [
  {
   "cell_type": "code",
   "execution_count": 1,
   "id": "353ac0dc-7b85-43d9-932c-f2cf4d475cf9",
   "metadata": {},
   "outputs": [
    {
     "name": "stdin",
     "output_type": "stream",
     "text": [
      " 5\n"
     ]
    }
   ],
   "source": [
    "N = int(input())"
   ]
  },
  {
   "cell_type": "code",
   "execution_count": 2,
   "id": "1c8558b6-90f7-4208-946e-de9072a07f18",
   "metadata": {},
   "outputs": [
    {
     "name": "stdin",
     "output_type": "stream",
     "text": [
      " ABCD\n",
      " 145C\n",
      " A\n",
      " A910\n",
      " Z321\n"
     ]
    }
   ],
   "source": [
    "serial =[]\n",
    "for _ in range(N):\n",
    "    serial.append(input())"
   ]
  },
  {
   "cell_type": "code",
   "execution_count": 17,
   "id": "13e87c8b-c367-4644-8e62-737e2c98a67c",
   "metadata": {},
   "outputs": [],
   "source": [
    "def sum_num(inputs):\n",
    "    result = 0\n",
    "    for i in inputs:\n",
    "        if i.isdigit():\n",
    "            result+=int(i)\n",
    "    return result"
   ]
  },
  {
   "cell_type": "code",
   "execution_count": 21,
   "id": "8e7ff008-c806-4874-8cbe-ecafa3cce633",
   "metadata": {},
   "outputs": [
    {
     "name": "stdout",
     "output_type": "stream",
     "text": [
      "['A', 'ABCD', 'Z321', '145C', 'A910']\n"
     ]
    }
   ],
   "source": [
    "print(sorted(serial,key=lambda x:(len(x),sum_num(x),x)))"
   ]
  },
  {
   "cell_type": "code",
   "execution_count": 20,
   "id": "b7407910-45d3-44fc-b7a6-9f2d37579767",
   "metadata": {},
   "outputs": [
    {
     "data": {
      "text/plain": [
       "['A', 'ABCD', 'Z321', '145C', 'A910']"
      ]
     },
     "execution_count": 20,
     "metadata": {},
     "output_type": "execute_result"
    }
   ],
   "source": [
    "temp"
   ]
  },
  {
   "cell_type": "code",
   "execution_count": null,
   "id": "739fc246-213c-43c3-a976-5138f6240235",
   "metadata": {},
   "outputs": [],
   "source": [
    "N = int(input())\n",
    "serial =[]\n",
    "for _ in range(N):\n",
    "    serial.append(input())\n",
    "    \n",
    "def sum_num(inputs):\n",
    "    result = 0\n",
    "    for i in inputs:\n",
    "        if i.isdigit():\n",
    "            result+=int(i)\n",
    "    return result\n",
    "temp = sorted(serial,key=lambda x:(len(x),sum_num(x),x))\n",
    "for i in temp:\n",
    "    print(i)"
   ]
  }
 ],
 "metadata": {
  "kernelspec": {
   "display_name": "Python 3",
   "language": "python",
   "name": "python3"
  },
  "language_info": {
   "codemirror_mode": {
    "name": "ipython",
    "version": 3
   },
   "file_extension": ".py",
   "mimetype": "text/x-python",
   "name": "python",
   "nbconvert_exporter": "python",
   "pygments_lexer": "ipython3",
   "version": "3.9.2"
  }
 },
 "nbformat": 4,
 "nbformat_minor": 5
}
