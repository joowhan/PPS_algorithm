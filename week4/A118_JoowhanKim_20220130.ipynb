{
 "cells": [
  {
   "cell_type": "code",
   "execution_count": 10,
   "id": "cf2ba5ad",
   "metadata": {},
   "outputs": [],
   "source": [
    "nums = [0,1,0,3,12]\n",
    "origin_len = len(nums)\n",
    "result =[]\n",
    "for i in range(len(nums)):\n",
    "    if nums[i] !=0:\n",
    "        result.append(nums[i])\n",
    "for i in range(len(nums)):\n",
    "    if i+1>len(result):\n",
    "        result.append(0)"
   ]
  },
  {
   "cell_type": "code",
   "execution_count": 11,
   "id": "5c610c4a",
   "metadata": {},
   "outputs": [
    {
     "data": {
      "text/plain": [
       "5"
      ]
     },
     "execution_count": 11,
     "metadata": {},
     "output_type": "execute_result"
    }
   ],
   "source": [
    "origin_len"
   ]
  },
  {
   "cell_type": "code",
   "execution_count": 12,
   "id": "5956244c",
   "metadata": {},
   "outputs": [
    {
     "data": {
      "text/plain": [
       "[1, 3, 12, 0, 0]"
      ]
     },
     "execution_count": 12,
     "metadata": {},
     "output_type": "execute_result"
    }
   ],
   "source": [
    "class Solution(object):\n",
    "    def moveZeroes(self, nums):\n",
    "        \"\"\"\n",
    "        :type nums: List[int]\n",
    "        :rtype: None Do not return anything, modify nums in-place instead.\n",
    "        \"\"\"\n",
    "        cnt = 0\n",
    "        for i, x in enumerate(nums):\n",
    "            if x != 0:\n",
    "                nums.pop(i)\n",
    "                nums.insert(cnt, x)\n",
    "                cnt += 1"
   ]
  },
  {
   "cell_type": "code",
   "execution_count": null,
   "id": "1dfcbddc",
   "metadata": {},
   "outputs": [],
   "source": []
  }
 ],
 "metadata": {
  "kernelspec": {
   "display_name": "Python 3",
   "language": "python",
   "name": "python3"
  },
  "language_info": {
   "codemirror_mode": {
    "name": "ipython",
    "version": 3
   },
   "file_extension": ".py",
   "mimetype": "text/x-python",
   "name": "python",
   "nbconvert_exporter": "python",
   "pygments_lexer": "ipython3",
   "version": "3.9.2"
  }
 },
 "nbformat": 4,
 "nbformat_minor": 5
}
