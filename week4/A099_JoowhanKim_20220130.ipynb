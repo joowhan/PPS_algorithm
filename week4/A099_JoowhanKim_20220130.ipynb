{
 "cells": [
  {
   "cell_type": "code",
   "execution_count": 14,
   "id": "bc58483d",
   "metadata": {},
   "outputs": [
    {
     "ename": "SyntaxError",
     "evalue": "'return' outside function (<ipython-input-14-45eb9850ab1b>, line 12)",
     "output_type": "error",
     "traceback": [
      "\u001b[0;36m  File \u001b[0;32m\"<ipython-input-14-45eb9850ab1b>\"\u001b[0;36m, line \u001b[0;32m12\u001b[0m\n\u001b[0;31m    return False\u001b[0m\n\u001b[0m    ^\u001b[0m\n\u001b[0;31mSyntaxError\u001b[0m\u001b[0;31m:\u001b[0m 'return' outside function\n"
     ]
    }
   ],
   "source": [
    "s=\"([)]\"\n",
    "lis = []\n",
    "flag=0\n",
    "only=0\n",
    "for i in range(len(s)):\n",
    "    if s[i]=='(' or s[i]=='[' or s[i]=='{':\n",
    "        lis.append(s[i])\n",
    "        print(lis)\n",
    "        only = 1\n",
    "    elif s[i]==')':\n",
    "        if len(s)<1:\n",
    "            return False\n",
    "        elif lis[-1] != '(':\n",
    "            flag =1\n",
    "        else:\n",
    "            lis.pop()\n",
    "            only = 0\n",
    "    elif s[i]==']':\n",
    "        if len(s)<1:\n",
    "            return False\n",
    "        elif lis[-1] != '[':\n",
    "            flag =1\n",
    "        else:\n",
    "            lis.pop()\n",
    "            only = 0\n",
    "    elif len(lis)<1 or s[i]=='}':\n",
    "        if len(s)<1:\n",
    "            return False\n",
    "        elif lis[-1] != '{':\n",
    "            flag =1\n",
    "        else:\n",
    "            lis.pop()\n",
    "            only = 0\n",
    "if flag ==1 or only ==1:\n",
    "    return False\n",
    "    #print(False)\n",
    "else:\n",
    "    return True\n",
    "    #print(True)\n",
    "    "
   ]
  },
  {
   "cell_type": "code",
   "execution_count": 11,
   "id": "fa767375",
   "metadata": {},
   "outputs": [
    {
     "data": {
      "text/plain": [
       "1"
      ]
     },
     "execution_count": 11,
     "metadata": {},
     "output_type": "execute_result"
    }
   ],
   "source": [
    "flag"
   ]
  },
  {
   "cell_type": "code",
   "execution_count": 1,
   "id": "69f9a4a7",
   "metadata": {},
   "outputs": [
    {
     "ename": "IndentationError",
     "evalue": "expected an indented block (<ipython-input-1-470e2df80d28>, line 7)",
     "output_type": "error",
     "traceback": [
      "\u001b[0;36m  File \u001b[0;32m\"<ipython-input-1-470e2df80d28>\"\u001b[0;36m, line \u001b[0;32m7\u001b[0m\n\u001b[0;31m    if s[i]=='[':\u001b[0m\n\u001b[0m                 ^\u001b[0m\n\u001b[0;31mIndentationError\u001b[0m\u001b[0;31m:\u001b[0m expected an indented block\n"
     ]
    }
   ],
   "source": [
    "f1=0\n",
    "f2=0\n",
    "f3=0\n",
    "for i in range(len(s)):\n",
    "    if s[i]=='(':\n",
    "        f1 = 1\n",
    "    if s[i]=='[':\n",
    "        f2 = 1\n",
    "    if s[i]=='{':\n",
    "        f3 = 1\n",
    "    if s[i]==')':\n",
    "        f1 -= 1\n",
    "    if s[i]==']':\n",
    "        f2 -= 1\n",
    "    if s[i]=='}':\n",
    "        f3 -= 1\n",
    "if f1==0 and f2==0 and f3==0:\n",
    "    return True\n",
    "else:\n",
    "    return False\n",
    "    "
   ]
  },
  {
   "cell_type": "code",
   "execution_count": 15,
   "id": "99d5179a",
   "metadata": {},
   "outputs": [],
   "source": [
    "class Solution(object):\n",
    "    def isValid(self, s):\n",
    "        \"\"\"\n",
    "        :type s: str\n",
    "        :rtype: bool\n",
    "        \"\"\"\n",
    "\n",
    "        stack=[]\n",
    "        brackets={'}':'{',')':'(',']':'['}\n",
    "        for bracket in s:\n",
    "            if bracket in brackets.values(): #Opening bracket \n",
    "                stack.append(bracket)\n",
    "            else:# Closing bracket\n",
    "                if stack and brackets[bracket]==stack[-1] :  \n",
    "                    stack.pop()\n",
    "                else: \n",
    "                    return False\n",
    "        \n",
    "        if stack:\n",
    "            return False\n",
    "        return True"
   ]
  },
  {
   "cell_type": "code",
   "execution_count": null,
   "id": "8ef370ae",
   "metadata": {},
   "outputs": [],
   "source": []
  }
 ],
 "metadata": {
  "kernelspec": {
   "display_name": "Python 3",
   "language": "python",
   "name": "python3"
  },
  "language_info": {
   "codemirror_mode": {
    "name": "ipython",
    "version": 3
   },
   "file_extension": ".py",
   "mimetype": "text/x-python",
   "name": "python",
   "nbconvert_exporter": "python",
   "pygments_lexer": "ipython3",
   "version": "3.9.2"
  }
 },
 "nbformat": 4,
 "nbformat_minor": 5
}
