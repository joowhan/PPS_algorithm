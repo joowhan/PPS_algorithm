{
 "cells": [
  {
   "cell_type": "code",
   "execution_count": 17,
   "id": "a758153d",
   "metadata": {},
   "outputs": [
    {
     "name": "stdout",
     "output_type": "stream",
     "text": [
      "[5]\n",
      "[5, -2]\n",
      "[5, -2, 4]\n",
      "[5, -2]\n",
      "[5, -2, -4]\n",
      "[5, -2, -4, 9]\n",
      "[5, -2, -4, 9, 5]\n",
      "[5, -2, -4, 9, 5, 14]\n",
      "27\n"
     ]
    }
   ],
   "source": [
    "ops =[\"5\",\"-2\",\"4\",\"C\",\"D\",\"9\",\"+\",\"+\"]\n",
    "n =[]\n",
    "for i in range(len(ops)):\n",
    "#     if ops[i].isdigit():\n",
    "#         n.append(int(ops[i]))\n",
    "#         print(n)\n",
    "    if ops[i] =='D':\n",
    "        n.append(n[-1]*2)\n",
    "        print(n)\n",
    "    elif ops[i] =='+':\n",
    "        n.append(n[-1]+n[-2])\n",
    "        print(n)\n",
    "    elif ops[i] =='C':\n",
    "        n.pop()\n",
    "        print(n)\n",
    "    else:\n",
    "        n.append(int(ops[i]))\n",
    "        print(n)\n",
    "print(sum(n))"
   ]
  },
  {
   "cell_type": "code",
   "execution_count": 18,
   "id": "3b632fb4",
   "metadata": {},
   "outputs": [],
   "source": [
    "class Solution(object):\n",
    "    def calPoints(self, ops):\n",
    "        \"\"\"\n",
    "        :type ops: List[str]\n",
    "        :rtype: int\n",
    "        \"\"\"\n",
    "        n =[]\n",
    "        for i in range(len(ops)):\n",
    "            if ops[i] =='D':\n",
    "                n.append(n[-1]*2)\n",
    "                #print(n)\n",
    "            elif ops[i] =='+':\n",
    "                n.append(n[-1]+n[-2])\n",
    "                #print(n)\n",
    "            elif ops[i] =='C':\n",
    "                n.pop()\n",
    "                #print(n)\n",
    "            else:\n",
    "                n.append(int(ops[i]))\n",
    "                #print(n)\n",
    "        return sum(n)"
   ]
  },
  {
   "cell_type": "code",
   "execution_count": null,
   "id": "009d7239",
   "metadata": {},
   "outputs": [],
   "source": []
  }
 ],
 "metadata": {
  "kernelspec": {
   "display_name": "Python 3",
   "language": "python",
   "name": "python3"
  },
  "language_info": {
   "codemirror_mode": {
    "name": "ipython",
    "version": 3
   },
   "file_extension": ".py",
   "mimetype": "text/x-python",
   "name": "python",
   "nbconvert_exporter": "python",
   "pygments_lexer": "ipython3",
   "version": "3.9.2"
  }
 },
 "nbformat": 4,
 "nbformat_minor": 5
}
