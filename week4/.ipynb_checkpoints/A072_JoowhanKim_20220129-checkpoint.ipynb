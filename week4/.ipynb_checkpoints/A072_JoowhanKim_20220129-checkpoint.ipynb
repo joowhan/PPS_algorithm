{
 "cells": [
  {
   "cell_type": "code",
   "execution_count": 7,
   "id": "349f2449",
   "metadata": {},
   "outputs": [],
   "source": [
    "date = \"2019-11-09\"\n",
    "days = [31, 28, 31, 30, 31, 30, 31, 31, 30, 31, 30, 31]\n",
    "year, month, day = int(date.split('-')[0]), int(date.split('-')[1]), int(date.split('-')[2])\n",
    "answer = sum(days[:month-1])+day\n",
    "if ((year % 4 == 0 and year % 100 != 0) or year % 400 == 0) and month > 2:\n",
    "    answer +=1\n",
    "return answer"
   ]
  },
  {
   "cell_type": "code",
   "execution_count": null,
   "id": "156e00ef",
   "metadata": {},
   "outputs": [],
   "source": []
  },
  {
   "cell_type": "code",
   "execution_count": 8,
   "id": "bd79ed15",
   "metadata": {},
   "outputs": [
    {
     "data": {
      "text/plain": [
       "[31, 28, 31, 30, 31, 30, 31, 31, 30, 31]"
      ]
     },
     "execution_count": 8,
     "metadata": {},
     "output_type": "execute_result"
    }
   ],
   "source": [
    "days[:month-1]"
   ]
  },
  {
   "cell_type": "code",
   "execution_count": null,
   "id": "d7e804e6",
   "metadata": {},
   "outputs": [],
   "source": []
  }
 ],
 "metadata": {
  "kernelspec": {
   "display_name": "Python 3",
   "language": "python",
   "name": "python3"
  },
  "language_info": {
   "codemirror_mode": {
    "name": "ipython",
    "version": 3
   },
   "file_extension": ".py",
   "mimetype": "text/x-python",
   "name": "python",
   "nbconvert_exporter": "python",
   "pygments_lexer": "ipython3",
   "version": "3.9.2"
  }
 },
 "nbformat": 4,
 "nbformat_minor": 5
}
