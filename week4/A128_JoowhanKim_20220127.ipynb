{
 "cells": [
  {
   "cell_type": "code",
   "execution_count": 6,
   "id": "7bacd78f",
   "metadata": {},
   "outputs": [
    {
     "name": "stdout",
     "output_type": "stream",
     "text": [
      "Help( I[m being held prisoner in a fortune cookie factory)].\n",
      "yes\n"
     ]
    },
    {
     "ename": "KeyboardInterrupt",
     "evalue": "Interrupted by user",
     "output_type": "error",
     "traceback": [
      "\u001b[0;31m---------------------------------------------------------------------------\u001b[0m",
      "\u001b[0;31mKeyboardInterrupt\u001b[0m                         Traceback (most recent call last)",
      "\u001b[0;32m<ipython-input-6-e4f79b2c190b>\u001b[0m in \u001b[0;36m<module>\u001b[0;34m\u001b[0m\n\u001b[1;32m      1\u001b[0m \u001b[0;32mwhile\u001b[0m \u001b[0;36m1\u001b[0m\u001b[0;34m:\u001b[0m\u001b[0;34m\u001b[0m\u001b[0;34m\u001b[0m\u001b[0m\n\u001b[0;32m----> 2\u001b[0;31m     \u001b[0ms\u001b[0m \u001b[0;34m=\u001b[0m \u001b[0minput\u001b[0m\u001b[0;34m(\u001b[0m\u001b[0;34m)\u001b[0m\u001b[0;34m\u001b[0m\u001b[0;34m\u001b[0m\u001b[0m\n\u001b[0m\u001b[1;32m      3\u001b[0m     \u001b[0;32mif\u001b[0m \u001b[0ms\u001b[0m \u001b[0;34m==\u001b[0m\u001b[0;34m'.'\u001b[0m\u001b[0;34m:\u001b[0m\u001b[0;32mbreak\u001b[0m\u001b[0;34m\u001b[0m\u001b[0;34m\u001b[0m\u001b[0m\n\u001b[1;32m      4\u001b[0m     \u001b[0msl\u001b[0m\u001b[0;34m=\u001b[0m\u001b[0;36m0\u001b[0m\u001b[0;34m\u001b[0m\u001b[0;34m\u001b[0m\u001b[0m\n\u001b[1;32m      5\u001b[0m     \u001b[0mll\u001b[0m\u001b[0;34m=\u001b[0m\u001b[0;36m0\u001b[0m\u001b[0;34m\u001b[0m\u001b[0;34m\u001b[0m\u001b[0m\n",
      "\u001b[0;32m~/.local/lib/python3.9/site-packages/ipykernel/kernelbase.py\u001b[0m in \u001b[0;36mraw_input\u001b[0;34m(self, prompt)\u001b[0m\n\u001b[1;32m    846\u001b[0m                 \u001b[0;34m\"raw_input was called, but this frontend does not support input requests.\"\u001b[0m\u001b[0;34m\u001b[0m\u001b[0;34m\u001b[0m\u001b[0m\n\u001b[1;32m    847\u001b[0m             )\n\u001b[0;32m--> 848\u001b[0;31m         return self._input_request(str(prompt),\n\u001b[0m\u001b[1;32m    849\u001b[0m             \u001b[0mself\u001b[0m\u001b[0;34m.\u001b[0m\u001b[0m_parent_ident\u001b[0m\u001b[0;34m,\u001b[0m\u001b[0;34m\u001b[0m\u001b[0;34m\u001b[0m\u001b[0m\n\u001b[1;32m    850\u001b[0m             \u001b[0mself\u001b[0m\u001b[0;34m.\u001b[0m\u001b[0m_parent_header\u001b[0m\u001b[0;34m,\u001b[0m\u001b[0;34m\u001b[0m\u001b[0;34m\u001b[0m\u001b[0m\n",
      "\u001b[0;32m~/.local/lib/python3.9/site-packages/ipykernel/kernelbase.py\u001b[0m in \u001b[0;36m_input_request\u001b[0;34m(self, prompt, ident, parent, password)\u001b[0m\n\u001b[1;32m    890\u001b[0m             \u001b[0;32mexcept\u001b[0m \u001b[0mKeyboardInterrupt\u001b[0m\u001b[0;34m:\u001b[0m\u001b[0;34m\u001b[0m\u001b[0;34m\u001b[0m\u001b[0m\n\u001b[1;32m    891\u001b[0m                 \u001b[0;31m# re-raise KeyboardInterrupt, to truncate traceback\u001b[0m\u001b[0;34m\u001b[0m\u001b[0;34m\u001b[0m\u001b[0;34m\u001b[0m\u001b[0m\n\u001b[0;32m--> 892\u001b[0;31m                 \u001b[0;32mraise\u001b[0m \u001b[0mKeyboardInterrupt\u001b[0m\u001b[0;34m(\u001b[0m\u001b[0;34m\"Interrupted by user\"\u001b[0m\u001b[0;34m)\u001b[0m \u001b[0;32mfrom\u001b[0m \u001b[0;32mNone\u001b[0m\u001b[0;34m\u001b[0m\u001b[0;34m\u001b[0m\u001b[0m\n\u001b[0m\u001b[1;32m    893\u001b[0m             \u001b[0;32mexcept\u001b[0m \u001b[0mException\u001b[0m \u001b[0;32mas\u001b[0m \u001b[0me\u001b[0m\u001b[0;34m:\u001b[0m\u001b[0;34m\u001b[0m\u001b[0;34m\u001b[0m\u001b[0m\n\u001b[1;32m    894\u001b[0m                 \u001b[0mself\u001b[0m\u001b[0;34m.\u001b[0m\u001b[0mlog\u001b[0m\u001b[0;34m.\u001b[0m\u001b[0mwarning\u001b[0m\u001b[0;34m(\u001b[0m\u001b[0;34m\"Invalid Message:\"\u001b[0m\u001b[0;34m,\u001b[0m \u001b[0mexc_info\u001b[0m\u001b[0;34m=\u001b[0m\u001b[0;32mTrue\u001b[0m\u001b[0;34m)\u001b[0m\u001b[0;34m\u001b[0m\u001b[0;34m\u001b[0m\u001b[0m\n",
      "\u001b[0;31mKeyboardInterrupt\u001b[0m: Interrupted by user"
     ]
    }
   ],
   "source": [
    "while 1:\n",
    "    s = input()\n",
    "    if s =='.':break\n",
    "    sl=0\n",
    "    ll=0\n",
    "    s_flag = 0\n",
    "    l_flag = 0\n",
    "    for i in range(len(s)):\n",
    "        if s[i] =='.':\n",
    "            break\n",
    "        elif s[i] =='(':\n",
    "            sl+=1\n",
    "            s_flag += 1\n",
    "        elif s[i] ==')':\n",
    "            sl-=1\n",
    "            s_flag -= 1\n",
    "            if s_flag <0:\n",
    "                #print('no')\n",
    "                break\n",
    "        elif s[i] =='[':\n",
    "            ll+=1\n",
    "            l_flag +=1\n",
    "        elif s[i] ==']':\n",
    "            ll-=1\n",
    "            l_flag -=1\n",
    "            if l_flag <0:\n",
    "                #print('no')\n",
    "                break\n",
    "    if (sl == 0) and (ll == 0) and (l_flag>=0 and s_flag>=0):\n",
    "        print('yes')\n",
    "    else:\n",
    "        print('no')"
   ]
  },
  {
   "cell_type": "code",
   "execution_count": null,
   "id": "c5a7e1ee",
   "metadata": {},
   "outputs": [],
   "source": []
  },
  {
   "cell_type": "code",
   "execution_count": 17,
   "id": "f4569ec6",
   "metadata": {},
   "outputs": [
    {
     "name": "stdout",
     "output_type": "stream",
     "text": [
      "([ (([( [ ] ) ( ) (( ))] )) ]).\n",
      "yes\n",
      "Help( I[m being held prisoner in a fortune cookie factory)].\n",
      "no\n",
      "A rope may form )( a trail in a maze.\n",
      "no\n",
      "Half Moon tonight (At least it is better than no Moon at all].\n",
      "no\n",
      "[ first in ] ( first out ).\n",
      "yes\n",
      "So when I die (the [first] I will see in (heaven) is a score list).\n",
      "yes\n",
      ".\n",
      "yes\n"
     ]
    }
   ],
   "source": [
    "from collections import deque\n",
    "while 1:\n",
    "    flag = 0\n",
    "    s = input()\n",
    "    deq = deque()\n",
    "    if s =='.':\n",
    "        print('yes')\n",
    "        break\n",
    "    for i in range(len(s)):\n",
    "        if s[i] == '(' or s[i] == '[':\n",
    "            deq.append(s[i])\n",
    "        elif s[i] == ')':\n",
    "            if len(deq) == 0:\n",
    "                flag = 1\n",
    "                break\n",
    "            elif deq[-1] =='(':\n",
    "                deq.pop()\n",
    "            else:\n",
    "                flag = 1\n",
    "                break\n",
    "        elif s[i] == ']':\n",
    "            if len(deq) == 0:\n",
    "                flag = 1\n",
    "                break\n",
    "            elif deq[-1] =='[':\n",
    "                deq.pop()\n",
    "            \n",
    "            else:\n",
    "                flag = 1\n",
    "                break\n",
    "    if flag == 1:\n",
    "        print('no')\n",
    "    else:\n",
    "        print('yes')"
   ]
  },
  {
   "cell_type": "code",
   "execution_count": 18,
   "id": "3db2384c",
   "metadata": {},
   "outputs": [
    {
     "data": {
      "text/plain": [
       "0"
      ]
     },
     "execution_count": 18,
     "metadata": {},
     "output_type": "execute_result"
    }
   ],
   "source": [
    "len(deq)"
   ]
  },
  {
   "cell_type": "code",
   "execution_count": null,
   "id": "bf2c4f60",
   "metadata": {},
   "outputs": [],
   "source": [
    "while True :\n",
    "    a = input()\n",
    "    stack = []\n",
    "\n",
    "    if a == \".\" :\n",
    "        break\n",
    "\n",
    "    for i in a :\n",
    "        if i == '[' or i == '(' :\n",
    "            stack.append(i)\n",
    "        elif i == ']' :\n",
    "            if len(stack) != 0 and stack[-1] == '[' :\n",
    "                stack.pop()\n",
    "            else : \n",
    "                stack.append(']')\n",
    "                break\n",
    "        elif i == ')' :\n",
    "            if len(stack) != 0 and stack[-1] == '(' :\n",
    "                stack.pop()\n",
    "            else :\n",
    "                stack.append(')')\n",
    "                break\n",
    "    if len(stack) == 0 :\n",
    "        print('yes')\n",
    "    else :\n",
    "        print('no')"
   ]
  }
 ],
 "metadata": {
  "kernelspec": {
   "display_name": "Python 3",
   "language": "python",
   "name": "python3"
  },
  "language_info": {
   "codemirror_mode": {
    "name": "ipython",
    "version": 3
   },
   "file_extension": ".py",
   "mimetype": "text/x-python",
   "name": "python",
   "nbconvert_exporter": "python",
   "pygments_lexer": "ipython3",
   "version": "3.9.2"
  }
 },
 "nbformat": 4,
 "nbformat_minor": 5
}
