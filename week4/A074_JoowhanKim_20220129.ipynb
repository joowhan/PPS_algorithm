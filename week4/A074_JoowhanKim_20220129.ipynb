{
 "cells": [
  {
   "cell_type": "code",
   "execution_count": 47,
   "id": "40177341",
   "metadata": {},
   "outputs": [],
   "source": [
    "s = \"0P\""
   ]
  },
  {
   "cell_type": "code",
   "execution_count": 51,
   "id": "f636e4ca",
   "metadata": {},
   "outputs": [
    {
     "name": "stdout",
     "output_type": "stream",
     "text": [
      "False\n"
     ]
    }
   ],
   "source": [
    "s = s.replace(' ', '')\n",
    "s= s.lower()\n",
    "lis = []\n",
    "for i in range(len(s)):\n",
    "    if s[i].isalpha() or s[i].isdigit():\n",
    "        lis.append(s[i])\n",
    "if lis == list(reversed(lis)):\n",
    "    print('True')\n",
    "else:\n",
    "    print('False')"
   ]
  },
  {
   "cell_type": "code",
   "execution_count": 52,
   "id": "34f167f8",
   "metadata": {},
   "outputs": [
    {
     "name": "stdout",
     "output_type": "stream",
     "text": [
      "False\n"
     ]
    }
   ],
   "source": [
    "s2 = reversed(lis)\n",
    "print(s==s2)"
   ]
  },
  {
   "cell_type": "code",
   "execution_count": 53,
   "id": "1dcf434d",
   "metadata": {},
   "outputs": [
    {
     "name": "stdout",
     "output_type": "stream",
     "text": [
      "['p', '0']\n"
     ]
    }
   ],
   "source": [
    "print(list(s2))"
   ]
  },
  {
   "cell_type": "code",
   "execution_count": 41,
   "id": "fdf34ebc",
   "metadata": {},
   "outputs": [],
   "source": [
    "lis.reverse()"
   ]
  },
  {
   "cell_type": "code",
   "execution_count": null,
   "id": "a64192cb",
   "metadata": {},
   "outputs": [],
   "source": []
  }
 ],
 "metadata": {
  "kernelspec": {
   "display_name": "Python 3",
   "language": "python",
   "name": "python3"
  },
  "language_info": {
   "codemirror_mode": {
    "name": "ipython",
    "version": 3
   },
   "file_extension": ".py",
   "mimetype": "text/x-python",
   "name": "python",
   "nbconvert_exporter": "python",
   "pygments_lexer": "ipython3",
   "version": "3.9.2"
  }
 },
 "nbformat": 4,
 "nbformat_minor": 5
}
