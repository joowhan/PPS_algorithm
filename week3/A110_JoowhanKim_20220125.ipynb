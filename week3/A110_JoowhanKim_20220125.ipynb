{
 "cells": [
  {
   "cell_type": "code",
   "execution_count": 1,
   "id": "11ff10d0",
   "metadata": {},
   "outputs": [
    {
     "name": "stdout",
     "output_type": "stream",
     "text": [
      "380\n"
     ]
    }
   ],
   "source": [
    "#Time Limited\n",
    "payment = int(input())\n",
    "charge = 1000- payment\n",
    "count = 0\n",
    "while charge>0:\n",
    "    if charge >=500:\n",
    "        charge -= 500\n",
    "        count+=1\n",
    "    elif charge >=100:\n",
    "        charge-=100\n",
    "        count+=1\n",
    "    elif charge >=50:\n",
    "        charge-=50\n",
    "        count+=1\n",
    "    elif charge >=10:\n",
    "        charge-=10\n",
    "        count+=1\n",
    "    elif charge >=5:\n",
    "        charge-=5\n",
    "        count+=1\n",
    "    elif charge ==1:\n",
    "        charge-=\n",
    "        count+=1\n",
    "        \n",
    "print(count)"
   ]
  },
  {
   "cell_type": "code",
   "execution_count": 2,
   "id": "9de60733",
   "metadata": {},
   "outputs": [
    {
     "data": {
      "text/plain": [
       "4"
      ]
     },
     "execution_count": 2,
     "metadata": {},
     "output_type": "execute_result"
    }
   ],
   "source": [
    "count"
   ]
  },
  {
   "cell_type": "code",
   "execution_count": 31,
   "id": "73d1471f",
   "metadata": {},
   "outputs": [
    {
     "name": "stdout",
     "output_type": "stream",
     "text": [
      "620\n",
      "7\n"
     ]
    }
   ],
   "source": [
    "money = [500, 100, 50, 10, 5, 1]\n",
    "count = 0\n",
    "charge =1000 -int(input())\n",
    "for yen in money:\n",
    "    pos = int(charge/yen)\n",
    "    if charge ==0:\n",
    "        break\n",
    "    if charge>yen and pos>0:\n",
    "        count += pos\n",
    "        charge -= yen*pos\n",
    "print(count)"
   ]
  },
  {
   "cell_type": "code",
   "execution_count": 32,
   "id": "fab2478d",
   "metadata": {},
   "outputs": [
    {
     "name": "stdout",
     "output_type": "stream",
     "text": [
      "380\n",
      "4\n"
     ]
    }
   ],
   "source": [
    "a = 1000 - int(input())\n",
    "b = [500, 100, 50, 10, 5, 1]\n",
    "count = 0\n",
    "for i in b:\n",
    "    count += a // i\n",
    "    a %= i\n",
    "print(count)"
   ]
  },
  {
   "cell_type": "code",
   "execution_count": 37,
   "id": "bd313f98",
   "metadata": {},
   "outputs": [
    {
     "data": {
      "text/plain": [
       "3"
      ]
     },
     "execution_count": 37,
     "metadata": {},
     "output_type": "execute_result"
    }
   ],
   "source": [
    "33%10"
   ]
  },
  {
   "cell_type": "code",
   "execution_count": null,
   "id": "2767da7d",
   "metadata": {},
   "outputs": [],
   "source": []
  }
 ],
 "metadata": {
  "kernelspec": {
   "display_name": "Python 3",
   "language": "python",
   "name": "python3"
  },
  "language_info": {
   "codemirror_mode": {
    "name": "ipython",
    "version": 3
   },
   "file_extension": ".py",
   "mimetype": "text/x-python",
   "name": "python",
   "nbconvert_exporter": "python",
   "pygments_lexer": "ipython3",
   "version": "3.9.2"
  }
 },
 "nbformat": 4,
 "nbformat_minor": 5
}
