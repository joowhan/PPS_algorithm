{
 "cells": [
  {
   "cell_type": "code",
   "execution_count": 10,
   "id": "49f2d6b5",
   "metadata": {},
   "outputs": [
    {
     "name": "stdout",
     "output_type": "stream",
     "text": [
      "7\n",
      "3\n"
     ]
    },
    {
     "ename": "KeyboardInterrupt",
     "evalue": "",
     "output_type": "error",
     "traceback": [
      "\u001b[0;31m---------------------------------------------------------------------------\u001b[0m",
      "\u001b[0;31mKeyboardInterrupt\u001b[0m                         Traceback (most recent call last)",
      "\u001b[0;32m<ipython-input-10-ebe698354748>\u001b[0m in \u001b[0;36m<module>\u001b[0;34m\u001b[0m\n\u001b[1;32m     13\u001b[0m         \u001b[0;32mif\u001b[0m \u001b[0mi\u001b[0m \u001b[0;34m==\u001b[0m \u001b[0mcount\u001b[0m\u001b[0;34m:\u001b[0m\u001b[0;34m\u001b[0m\u001b[0;34m\u001b[0m\u001b[0m\n\u001b[1;32m     14\u001b[0m             \u001b[0mspoint\u001b[0m \u001b[0;34m=\u001b[0m \u001b[0mi\u001b[0m\u001b[0;34m\u001b[0m\u001b[0;34m\u001b[0m\u001b[0m\n\u001b[0;32m---> 15\u001b[0;31m             \u001b[0mresult\u001b[0m\u001b[0;34m.\u001b[0m\u001b[0mappend\u001b[0m\u001b[0;34m(\u001b[0m\u001b[0mlis\u001b[0m\u001b[0;34m[\u001b[0m\u001b[0mi\u001b[0m\u001b[0;34m]\u001b[0m\u001b[0;34m)\u001b[0m\u001b[0;34m\u001b[0m\u001b[0;34m\u001b[0m\u001b[0m\n\u001b[0m\u001b[1;32m     16\u001b[0m             \u001b[0;32mbreak\u001b[0m\u001b[0;34m\u001b[0m\u001b[0;34m\u001b[0m\u001b[0m\n\u001b[1;32m     17\u001b[0m \u001b[0;34m\u001b[0m\u001b[0m\n",
      "\u001b[0;31mKeyboardInterrupt\u001b[0m: "
     ]
    }
   ],
   "source": [
    "n = int(input())\n",
    "k = int(input())\n",
    "count =0\n",
    "i=0\n",
    "lis = list(range(1,n+1))\n",
    "#k번째 사람이면 pop\n",
    "#그 다음부터 다시 count\n",
    "#만약 list의 맨 끝이면 다시 처음으로 돌아간다. \n",
    "spoint =0\n",
    "result =[]\n",
    "while 1:\n",
    "    for i in range(spoint, n):\n",
    "        if i == k-1: #3번째 i==2\n",
    "            result.append(lis[i])\n",
    "            spoint = i\n",
    "            count =0\n",
    "            break\n",
    "        elif i == n-1: #마지막이라면\n",
    "            spoint = 0\n",
    "            count +=1\n",
    "        elif count>0 and i == \n",
    "            \n",
    "        "
   ]
  },
  {
   "cell_type": "code",
   "execution_count": 19,
   "id": "eb0d7692",
   "metadata": {},
   "outputs": [
    {
     "name": "stdout",
     "output_type": "stream",
     "text": [
      "7 3\n",
      "<3, 6, 2, 7, 5, 1, 4>\n"
     ]
    }
   ],
   "source": [
    "N,K = map(int,input().split())\n",
    "arr = [i for i in range(1,N+1)]  \n",
    "\n",
    "answer = []   \n",
    "num = 0 \n",
    "\n",
    "for t in range(N):\n",
    "    num += K-1  \n",
    "    if num >= len(arr):   \n",
    "        num = num%len(arr)\n",
    " \n",
    "    answer.append(str(arr.pop(num)))\n",
    "print(\"<\",\", \".join(answer)[:],\">\", sep='')"
   ]
  },
  {
   "cell_type": "code",
   "execution_count": null,
   "id": "c5aba0e6",
   "metadata": {},
   "outputs": [],
   "source": [
    "#1 2 4 5 7\n",
    "print(result)"
   ]
  },
  {
   "cell_type": "code",
   "execution_count": null,
   "id": "63796e89",
   "metadata": {},
   "outputs": [],
   "source": []
  }
 ],
 "metadata": {
  "kernelspec": {
   "display_name": "Python 3",
   "language": "python",
   "name": "python3"
  },
  "language_info": {
   "codemirror_mode": {
    "name": "ipython",
    "version": 3
   },
   "file_extension": ".py",
   "mimetype": "text/x-python",
   "name": "python",
   "nbconvert_exporter": "python",
   "pygments_lexer": "ipython3",
   "version": "3.9.2"
  }
 },
 "nbformat": 4,
 "nbformat_minor": 5
}
