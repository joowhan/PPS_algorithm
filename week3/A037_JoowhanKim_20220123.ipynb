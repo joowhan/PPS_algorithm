{
 "cells": [
  {
   "cell_type": "code",
   "execution_count": 1,
   "id": "5c469422",
   "metadata": {},
   "outputs": [
    {
     "data": {
      "text/plain": [
       "[1, 2, 3, 4, 5, 6, 7, 8, 9, 10, 11, 12, 13, 14, 15, 16, 17, 18, 19, 20, 21, 22]"
      ]
     },
     "execution_count": 1,
     "metadata": {},
     "output_type": "execute_result"
    }
   ],
   "source": [
    "left = 1\n",
    "right =22\n",
    "lis = list(range(left, right+1))\n",
    "for i in range(left, right+1):\n",
    "    "
   ]
  },
  {
   "cell_type": "code",
   "execution_count": null,
   "id": "60a9adac",
   "metadata": {},
   "outputs": [],
   "source": [
    "        ans = []\n",
    "        for n in range(left, right + 1):\n",
    "            if self.isDividing(n):\n",
    "                ans.append(n)\n",
    "        return ans\n",
    "        \n",
    "    def isDividing(self, num):\n",
    "        temp = num\n",
    "        while temp:\n",
    "            div = temp % 10\n",
    "            if not div or num % div != 0:\n",
    "                return False\n",
    "            temp //= 10\n",
    "        return True"
   ]
  }
 ],
 "metadata": {
  "kernelspec": {
   "display_name": "Python 3",
   "language": "python",
   "name": "python3"
  },
  "language_info": {
   "codemirror_mode": {
    "name": "ipython",
    "version": 3
   },
   "file_extension": ".py",
   "mimetype": "text/x-python",
   "name": "python",
   "nbconvert_exporter": "python",
   "pygments_lexer": "ipython3",
   "version": "3.9.2"
  }
 },
 "nbformat": 4,
 "nbformat_minor": 5
}
