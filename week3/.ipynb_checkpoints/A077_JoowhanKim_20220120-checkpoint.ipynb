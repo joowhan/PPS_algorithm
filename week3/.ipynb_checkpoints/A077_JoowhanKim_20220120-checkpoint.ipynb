{
 "cells": [
  {
   "cell_type": "code",
   "execution_count": 35,
   "id": "17b7dc4e",
   "metadata": {},
   "outputs": [
    {
     "name": "stdout",
     "output_type": "stream",
     "text": [
      "20\n",
      "30\n",
      "50\n",
      "80\n",
      "110\n",
      "11\n",
      "0\n",
      "85\n",
      "355\n",
      "2 3 4 5 8 "
     ]
    }
   ],
   "source": [
    "#error\n",
    "high = {}\n",
    "for i in range(8):\n",
    "    score = int(input())\n",
    "    if len(high) == 5:\n",
    "        min_num = min(high.keys())\n",
    "        del high[min_num] \n",
    "        #high.pop(high.index(min_n))\n",
    "        high[score] = i+1\n",
    "    else:\n",
    "        high[score] = i+1\n",
    "result = sorted(high.values())\n",
    "total = sum(high.keys())\n",
    "print(total)\n",
    "for i in range(len(result)):\n",
    "    print(int(result[i]), end= ' ')"
   ]
  },
  {
   "cell_type": "code",
   "execution_count": 36,
   "id": "f27fbc9b",
   "metadata": {},
   "outputs": [
    {
     "data": {
      "text/plain": [
       "{30: 2, 50: 3, 80: 4, 110: 5, 85: 8}"
      ]
     },
     "execution_count": 36,
     "metadata": {},
     "output_type": "execute_result"
    }
   ],
   "source": [
    "high"
   ]
  },
  {
   "cell_type": "code",
   "execution_count": null,
   "id": "448b732e",
   "metadata": {},
   "outputs": [],
   "source": [
    "score = []\n",
    "for i in range(8):\n",
    "    score.append(int(input()))\n",
    "score_sort = sorted(score, reverse=True)\n",
    "big = []\n",
    "for i in range(5):\n",
    "    big.append(score_sort[i])\n",
    "sum = 0\n",
    "tmp = []\n",
    "for i in big:\n",
    "    sum += i\n",
    "    tmp.append(score.index(i))\n",
    "print(sum)\n",
    "tmp_s = sorted(tmp)\n",
    "for i in tmp_s:\n",
    "    print(i + 1, end=' ')"
   ]
  },
  {
   "cell_type": "code",
   "execution_count": 16,
   "id": "292077d9",
   "metadata": {},
   "outputs": [
    {
     "data": {
      "text/plain": [
       "{40: 4, 50: 5, 60: 6, 70: 7, 80: 8}"
      ]
     },
     "execution_count": 16,
     "metadata": {},
     "output_type": "execute_result"
    }
   ],
   "source": [
    "score"
   ]
  },
  {
   "cell_type": "code",
   "execution_count": null,
   "id": "13ebd73a",
   "metadata": {},
   "outputs": [],
   "source": []
  }
 ],
 "metadata": {
  "kernelspec": {
   "display_name": "Python 3",
   "language": "python",
   "name": "python3"
  },
  "language_info": {
   "codemirror_mode": {
    "name": "ipython",
    "version": 3
   },
   "file_extension": ".py",
   "mimetype": "text/x-python",
   "name": "python",
   "nbconvert_exporter": "python",
   "pygments_lexer": "ipython3",
   "version": "3.9.2"
  }
 },
 "nbformat": 4,
 "nbformat_minor": 5
}
