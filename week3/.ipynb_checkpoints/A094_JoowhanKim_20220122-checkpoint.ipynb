{
 "cells": [
  {
   "cell_type": "code",
   "execution_count": 35,
   "id": "53f1dcca",
   "metadata": {},
   "outputs": [
    {
     "name": "stdout",
     "output_type": "stream",
     "text": [
      "nljj\n",
      "2\n"
     ]
    }
   ],
   "source": [
    "## Error code\n",
    "s= input()\n",
    "count =0\n",
    "if 'c=' in s:\n",
    "    count+=1\n",
    "    s= s.replace('c=', '')\n",
    "if 'c-' in s:\n",
    "    count +=1\n",
    "    s= s.replace('c-', '')\n",
    "if 'dz=' in s:\n",
    "    count +=1\n",
    "    s= s.replace('dz=', '')\n",
    "if 'd-' in s:\n",
    "    count +=1\n",
    "    s= s.replace('d-', '')\n",
    "if 'lj' in s:\n",
    "    s= s.replace('lj', '')\n",
    "    count +=1\n",
    "if 'nj' in s:\n",
    "    count +=1\n",
    "    s= s.replace('nj', '')\n",
    "if 's=' in s:\n",
    "    count+=1\n",
    "    s= s.replace('s=', '')\n",
    "if 'z=' in s:\n",
    "    count +=1\n",
    "    s= s.replace('z=', '')\n",
    "result = count+len(s)\n",
    "print(result)"
   ]
  },
  {
   "cell_type": "code",
   "execution_count": null,
   "id": "3f19bfff",
   "metadata": {},
   "outputs": [],
   "source": [
    "croatia = ['c=', 'c-', 'dz=', 'd-', 'lj', 'nj', 's=', 'z=']\n",
    "word = input()\n",
    "\n",
    "for i in croatia :\n",
    "    word = word.replace(i, '*') \n",
    "print(len(word))"
   ]
  },
  {
   "cell_type": "code",
   "execution_count": null,
   "id": "e5f33868",
   "metadata": {},
   "outputs": [],
   "source": []
  },
  {
   "cell_type": "code",
   "execution_count": 37,
   "id": "8068aa51",
   "metadata": {},
   "outputs": [
    {
     "data": {
      "text/plain": [
       "''"
      ]
     },
     "execution_count": 37,
     "metadata": {},
     "output_type": "execute_result"
    }
   ],
   "source": [
    "s"
   ]
  },
  {
   "cell_type": "code",
   "execution_count": null,
   "id": "ae289475",
   "metadata": {},
   "outputs": [],
   "source": []
  }
 ],
 "metadata": {
  "kernelspec": {
   "display_name": "Python 3",
   "language": "python",
   "name": "python3"
  },
  "language_info": {
   "codemirror_mode": {
    "name": "ipython",
    "version": 3
   },
   "file_extension": ".py",
   "mimetype": "text/x-python",
   "name": "python",
   "nbconvert_exporter": "python",
   "pygments_lexer": "ipython3",
   "version": "3.9.2"
  }
 },
 "nbformat": 4,
 "nbformat_minor": 5
}
