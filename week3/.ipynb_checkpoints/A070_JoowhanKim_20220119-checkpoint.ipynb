{
 "cells": [
  {
   "cell_type": "code",
   "execution_count": 28,
   "id": "7b64985f",
   "metadata": {},
   "outputs": [
    {
     "name": "stdout",
     "output_type": "stream",
     "text": [
      "6\n"
     ]
    }
   ],
   "source": [
    "from collections import deque\n",
    "num = int(input())\n",
    "deq = deque(range(1,num+1))"
   ]
  },
  {
   "cell_type": "code",
   "execution_count": 29,
   "id": "d3ba2f13",
   "metadata": {},
   "outputs": [
    {
     "name": "stdout",
     "output_type": "stream",
     "text": [
      "4\n"
     ]
    }
   ],
   "source": [
    "for i in range(len(deq)):\n",
    "    if len(deq) ==1:\n",
    "        break\n",
    "    deq.popleft()\n",
    "    deq.rotate(-1)\n",
    "print(deq[0])"
   ]
  },
  {
   "cell_type": "code",
   "execution_count": 26,
   "id": "9ebb0d72",
   "metadata": {},
   "outputs": [],
   "source": [
    "deq.rotate(-1)"
   ]
  },
  {
   "cell_type": "code",
   "execution_count": 27,
   "id": "903a4fa8",
   "metadata": {},
   "outputs": [
    {
     "data": {
      "text/plain": [
       "deque([2, 3, 4, 5, 1])"
      ]
     },
     "execution_count": 27,
     "metadata": {},
     "output_type": "execute_result"
    }
   ],
   "source": [
    "deq"
   ]
  },
  {
   "cell_type": "code",
   "execution_count": 16,
   "id": "8f46506c",
   "metadata": {},
   "outputs": [
    {
     "data": {
      "text/plain": [
       "4"
      ]
     },
     "execution_count": 16,
     "metadata": {},
     "output_type": "execute_result"
    }
   ],
   "source": [
    "len(deq)"
   ]
  },
  {
   "cell_type": "code",
   "execution_count": null,
   "id": "43826e2a",
   "metadata": {},
   "outputs": [],
   "source": []
  }
 ],
 "metadata": {
  "kernelspec": {
   "display_name": "Python 3",
   "language": "python",
   "name": "python3"
  },
  "language_info": {
   "codemirror_mode": {
    "name": "ipython",
    "version": 3
   },
   "file_extension": ".py",
   "mimetype": "text/x-python",
   "name": "python",
   "nbconvert_exporter": "python",
   "pygments_lexer": "ipython3",
   "version": "3.9.2"
  }
 },
 "nbformat": 4,
 "nbformat_minor": 5
}
