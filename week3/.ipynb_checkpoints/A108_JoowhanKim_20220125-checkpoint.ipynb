{
 "cells": [
  {
   "cell_type": "code",
   "execution_count": 26,
   "id": "ca75adcb",
   "metadata": {},
   "outputs": [
    {
     "name": "stdout",
     "output_type": "stream",
     "text": [
      "4\n",
      "13\n",
      "YES\n",
      "58\n",
      "NO\n",
      "120\n",
      "YES\n",
      "5056\n",
      "NO\n"
     ]
    }
   ],
   "source": [
    "n = int(input())\n",
    "for _ in range(n):\n",
    "    num = int(input())\n",
    "    rev_num = int(str(num)[::-1])\n",
    "    num = num+rev_num\n",
    "    s = str(num)\n",
    "    flag =0\n",
    "    length = len(s)\n",
    "    for i in range(int(length/2)):\n",
    "        if s[i] != s[length-i-1]:\n",
    "            flag = 1\n",
    "            break\n",
    "    if flag ==1:\n",
    "        print('NO')\n",
    "    else:\n",
    "        print('YES')"
   ]
  },
  {
   "cell_type": "code",
   "execution_count": 25,
   "id": "c1814856",
   "metadata": {},
   "outputs": [
    {
     "data": {
      "text/plain": [
       "44"
      ]
     },
     "execution_count": 25,
     "metadata": {},
     "output_type": "execute_result"
    }
   ],
   "source": [
    "num"
   ]
  },
  {
   "cell_type": "code",
   "execution_count": null,
   "id": "dacc8931",
   "metadata": {},
   "outputs": [],
   "source": []
  }
 ],
 "metadata": {
  "kernelspec": {
   "display_name": "Python 3",
   "language": "python",
   "name": "python3"
  },
  "language_info": {
   "codemirror_mode": {
    "name": "ipython",
    "version": 3
   },
   "file_extension": ".py",
   "mimetype": "text/x-python",
   "name": "python",
   "nbconvert_exporter": "python",
   "pygments_lexer": "ipython3",
   "version": "3.9.2"
  }
 },
 "nbformat": 4,
 "nbformat_minor": 5
}
