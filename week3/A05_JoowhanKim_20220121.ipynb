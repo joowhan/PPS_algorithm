{
 "cells": [
  {
   "cell_type": "code",
   "execution_count": 74,
   "id": "cf06b093",
   "metadata": {},
   "outputs": [],
   "source": [
    "board =[\n",
    "    [0,0,0,0,0],\n",
    "    [0,0,1,0,3],\n",
    "    [0,2,5,0,1],\n",
    "    [4,2,4,4,2],\n",
    "    [3,5,1,3,1]\n",
    "]\n",
    "moves = [1,5,3,5,1,2,1,4]\n",
    "# 4 3 1 1 3 2 (0) 4"
   ]
  },
  {
   "cell_type": "code",
   "execution_count": 75,
   "id": "dfda32bc",
   "metadata": {},
   "outputs": [],
   "source": [
    "answer = 0\n",
    "doll=[]\n",
    "for i in moves:\n",
    "    #ind = moves[i]-1\n",
    "    for j in range(len(board)):\n",
    "        #print(board[ind][j])\n",
    "        if board[j][i-1] != 0:\n",
    "            doll.append(board[j][i-1])\n",
    "            board[j][i-1] = 0\n",
    "            \n",
    "            if len(doll) >1:\n",
    "                if doll[-1] == doll [-2]:\n",
    "                    doll.pop(-1)\n",
    "                    doll.pop(-1)\n",
    "                    answer +=2 \n",
    "            break\n",
    "                \n",
    "        else: continue"
   ]
  },
  {
   "cell_type": "code",
   "execution_count": 76,
   "id": "306941ad",
   "metadata": {},
   "outputs": [
    {
     "data": {
      "text/plain": [
       "4"
      ]
     },
     "execution_count": 76,
     "metadata": {},
     "output_type": "execute_result"
    }
   ],
   "source": [
    "answer"
   ]
  },
  {
   "cell_type": "code",
   "execution_count": 59,
   "id": "2180d692",
   "metadata": {},
   "outputs": [
    {
     "data": {
      "text/plain": [
       "1"
      ]
     },
     "execution_count": 59,
     "metadata": {},
     "output_type": "execute_result"
    }
   ],
   "source": [
    "doll.count(doll[1])"
   ]
  },
  {
   "cell_type": "code",
   "execution_count": 46,
   "id": "469d0409",
   "metadata": {},
   "outputs": [
    {
     "data": {
      "text/plain": [
       "[4, 1, 1, 3, 4]"
      ]
     },
     "execution_count": 46,
     "metadata": {},
     "output_type": "execute_result"
    }
   ],
   "source": [
    "doll"
   ]
  },
  {
   "cell_type": "code",
   "execution_count": null,
   "id": "b82902aa",
   "metadata": {},
   "outputs": [],
   "source": []
  }
 ],
 "metadata": {
  "kernelspec": {
   "display_name": "Python 3",
   "language": "python",
   "name": "python3"
  },
  "language_info": {
   "codemirror_mode": {
    "name": "ipython",
    "version": 3
   },
   "file_extension": ".py",
   "mimetype": "text/x-python",
   "name": "python",
   "nbconvert_exporter": "python",
   "pygments_lexer": "ipython3",
   "version": "3.9.2"
  }
 },
 "nbformat": 4,
 "nbformat_minor": 5
}
