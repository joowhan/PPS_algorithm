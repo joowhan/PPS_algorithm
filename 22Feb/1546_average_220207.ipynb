{
 "cells": [
  {
   "cell_type": "code",
   "execution_count": 11,
   "id": "c98eff25",
   "metadata": {},
   "outputs": [
    {
     "name": "stdout",
     "output_type": "stream",
     "text": [
      "3\n",
      "40 80 60\n"
     ]
    }
   ],
   "source": [
    "n = int(input())\n",
    "score = list(map(int, input().split()))\n",
    "m= max(score)\n",
    "result=[]\n",
    "for num in score:\n",
    "    num = num/70*100\n",
    "    result.append(num)\n",
    "average = sum(result)/len(result)"
   ]
  },
  {
   "cell_type": "code",
   "execution_count": 12,
   "id": "c8c64f31",
   "metadata": {},
   "outputs": [
    {
     "data": {
      "text/plain": [
       "[40, 80, 60]"
      ]
     },
     "execution_count": 12,
     "metadata": {},
     "output_type": "execute_result"
    }
   ],
   "source": [
    "score"
   ]
  },
  {
   "cell_type": "code",
   "execution_count": 13,
   "id": "dab15ed3",
   "metadata": {},
   "outputs": [
    {
     "data": {
      "text/plain": [
       "85.71428571428571"
      ]
     },
     "execution_count": 13,
     "metadata": {},
     "output_type": "execute_result"
    }
   ],
   "source": [
    "average"
   ]
  },
  {
   "cell_type": "code",
   "execution_count": 22,
   "id": "c9b9302c",
   "metadata": {},
   "outputs": [
    {
     "data": {
      "text/plain": [
       "[57.14285714285714, 114.28571428571428, 85.71428571428571]"
      ]
     },
     "execution_count": 22,
     "metadata": {},
     "output_type": "execute_result"
    }
   ],
   "source": [
    "result"
   ]
  },
  {
   "cell_type": "code",
   "execution_count": 21,
   "id": "5e151e0c",
   "metadata": {},
   "outputs": [
    {
     "data": {
      "text/plain": [
       "257.1428571428571"
      ]
     },
     "execution_count": 21,
     "metadata": {},
     "output_type": "execute_result"
    }
   ],
   "source": [
    "sum(result)"
   ]
  },
  {
   "cell_type": "code",
   "execution_count": 18,
   "id": "091a8338",
   "metadata": {},
   "outputs": [
    {
     "data": {
      "text/plain": [
       "231"
      ]
     },
     "execution_count": 18,
     "metadata": {},
     "output_type": "execute_result"
    }
   ],
   "source": [
    "57+114+60"
   ]
  },
  {
   "cell_type": "code",
   "execution_count": 19,
   "id": "0c91a5cc",
   "metadata": {},
   "outputs": [
    {
     "data": {
      "text/plain": [
       "77.0"
      ]
     },
     "execution_count": 19,
     "metadata": {},
     "output_type": "execute_result"
    }
   ],
   "source": [
    "231/3"
   ]
  },
  {
   "cell_type": "code",
   "execution_count": null,
   "id": "39fe8b68",
   "metadata": {},
   "outputs": [],
   "source": []
  }
 ],
 "metadata": {
  "kernelspec": {
   "display_name": "Python 3",
   "language": "python",
   "name": "python3"
  },
  "language_info": {
   "codemirror_mode": {
    "name": "ipython",
    "version": 3
   },
   "file_extension": ".py",
   "mimetype": "text/x-python",
   "name": "python",
   "nbconvert_exporter": "python",
   "pygments_lexer": "ipython3",
   "version": "3.9.2"
  }
 },
 "nbformat": 4,
 "nbformat_minor": 5
}
