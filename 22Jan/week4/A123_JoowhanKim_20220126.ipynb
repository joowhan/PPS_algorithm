{
 "cells": [
  {
   "cell_type": "code",
   "execution_count": 6,
   "id": "e3294e05",
   "metadata": {},
   "outputs": [],
   "source": [
    "#3으로 나눈 나머지가 1이면 1을 빼고 3으로 나누고 "
   ]
  },
  {
   "cell_type": "code",
   "execution_count": 8,
   "id": "ccc3cab8",
   "metadata": {},
   "outputs": [
    {
     "data": {
      "text/plain": [
       "2"
      ]
     },
     "execution_count": 8,
     "metadata": {},
     "output_type": "execute_result"
    }
   ],
   "source": [
    "n = int(input())\n",
    "\n",
    "dp = [0 for _ in range(n+1)]\n",
    "\n",
    "for i in range(2, n+1):\n",
    "    dp[i] = dp[i-1] + 1  \n",
    "\n",
    "    if i%2 == 0 and dp[i] > dp[i//2] + 1 :\n",
    "        dp[i] = dp[i//2]+1\n",
    "        \n",
    "    if i%3 == 0 and dp[i] > dp[i//3] + 1 :\n",
    "        dp[i] = dp[i//3] + 1\n",
    "        \n",
    "print(dp[n])"
   ]
  },
  {
   "cell_type": "code",
   "execution_count": 19,
   "id": "7bb97485",
   "metadata": {},
   "outputs": [
    {
     "name": "stdout",
     "output_type": "stream",
     "text": [
      "20\n"
     ]
    }
   ],
   "source": [
    "num = int(input())\n",
    "count = 0\n",
    "while num >1:\n",
    "    if num ==2:\n",
    "        num -=1\n",
    "        count +=1\n",
    "    elif num%3 ==1:\n",
    "        num-=1\n",
    "        count +=1\n",
    "    elif num%3 ==2: \n",
    "        num-=2\n",
    "        count +=2\n",
    "    else:\n",
    "        num = num/3\n",
    "        count+=1"
   ]
  },
  {
   "cell_type": "code",
   "execution_count": 20,
   "id": "920f0df4",
   "metadata": {},
   "outputs": [
    {
     "data": {
      "text/plain": [
       "5"
      ]
     },
     "execution_count": 20,
     "metadata": {},
     "output_type": "execute_result"
    }
   ],
   "source": [
    "count"
   ]
  },
  {
   "cell_type": "code",
   "execution_count": null,
   "id": "38269c2e",
   "metadata": {},
   "outputs": [],
   "source": [
    "20 10 9 3 1"
   ]
  }
 ],
 "metadata": {
  "kernelspec": {
   "display_name": "Python 3",
   "language": "python",
   "name": "python3"
  },
  "language_info": {
   "codemirror_mode": {
    "name": "ipython",
    "version": 3
   },
   "file_extension": ".py",
   "mimetype": "text/x-python",
   "name": "python",
   "nbconvert_exporter": "python",
   "pygments_lexer": "ipython3",
   "version": "3.9.2"
  }
 },
 "nbformat": 4,
 "nbformat_minor": 5
}
