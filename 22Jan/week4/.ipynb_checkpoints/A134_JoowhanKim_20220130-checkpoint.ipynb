{
 "cells": [
  {
   "cell_type": "code",
   "execution_count": 15,
   "id": "76395846",
   "metadata": {},
   "outputs": [
    {
     "name": "stdout",
     "output_type": "stream",
     "text": [
      "abcd\n"
     ]
    },
    {
     "data": {
      "text/plain": [
       "'abcd'"
      ]
     },
     "execution_count": 15,
     "metadata": {},
     "output_type": "execute_result"
    }
   ],
   "source": [
    "word = \"abcd\"\n",
    "ch = \"z\"\n",
    "end = 0\n",
    "for i in range(len(word)):\n",
    "    if word[i]==ch:\n",
    "        end = i+1\n",
    "        break\n",
    "if end<1:\n",
    "    result = word\n",
    "    return result\n",
    "target = word[:end]\n",
    "target = list(target)\n",
    "re_target = list(reversed(target))\n",
    "result = ''.join(re_target)\n",
    "return result+word[end:]"
   ]
  },
  {
   "cell_type": "code",
   "execution_count": 16,
   "id": "8fc27484",
   "metadata": {},
   "outputs": [],
   "source": [
    "class Solution(object):\n",
    "    def reversePrefix(self, word, ch):\n",
    "        \"\"\"\n",
    "        :type word: str\n",
    "        :type ch: str\n",
    "        :rtype: str\n",
    "        \"\"\"\n",
    "        end = 0\n",
    "        for i in range(len(word)):\n",
    "            if word[i]==ch:\n",
    "                end = i+1\n",
    "                break\n",
    "        if end<1:\n",
    "            result = word\n",
    "            return result\n",
    "        target = word[:end]\n",
    "        target = list(target)\n",
    "        re_target = list(reversed(target))\n",
    "        result = ''.join(re_target)\n",
    "        return result+word[end:]"
   ]
  },
  {
   "cell_type": "code",
   "execution_count": 8,
   "id": "936ba939",
   "metadata": {},
   "outputs": [
    {
     "data": {
      "text/plain": [
       "['d', 'c', 'b', 'a']"
      ]
     },
     "execution_count": 8,
     "metadata": {},
     "output_type": "execute_result"
    }
   ],
   "source": [
    "re_target"
   ]
  },
  {
   "cell_type": "code",
   "execution_count": null,
   "id": "9f0ca8f5",
   "metadata": {},
   "outputs": [],
   "source": []
  }
 ],
 "metadata": {
  "kernelspec": {
   "display_name": "Python 3",
   "language": "python",
   "name": "python3"
  },
  "language_info": {
   "codemirror_mode": {
    "name": "ipython",
    "version": 3
   },
   "file_extension": ".py",
   "mimetype": "text/x-python",
   "name": "python",
   "nbconvert_exporter": "python",
   "pygments_lexer": "ipython3",
   "version": "3.9.2"
  }
 },
 "nbformat": 4,
 "nbformat_minor": 5
}
