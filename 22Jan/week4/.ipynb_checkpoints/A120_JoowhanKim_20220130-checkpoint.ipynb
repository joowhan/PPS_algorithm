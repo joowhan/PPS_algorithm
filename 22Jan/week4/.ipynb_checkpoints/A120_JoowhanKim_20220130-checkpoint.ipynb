{
 "cells": [
  {
   "cell_type": "code",
   "execution_count": 21,
   "id": "5a9894e1",
   "metadata": {},
   "outputs": [],
   "source": [
    "s = \"abcd\"\n",
    "t = \"abcde\"\n",
    "slis = list(s)\n",
    "tlis = list(t)\n",
    "for i in range(len(s)):\n",
    "    if slis[i] in tlis:\n",
    "        tlis.remove(slis[i])\n",
    "        \n",
    "#return ''.join(tlis)"
   ]
  },
  {
   "cell_type": "code",
   "execution_count": 20,
   "id": "60703482",
   "metadata": {},
   "outputs": [
    {
     "data": {
      "text/plain": [
       "['e']"
      ]
     },
     "execution_count": 20,
     "metadata": {},
     "output_type": "execute_result"
    }
   ],
   "source": [
    "tlis"
   ]
  },
  {
   "cell_type": "code",
   "execution_count": null,
   "id": "4db2626d",
   "metadata": {},
   "outputs": [],
   "source": []
  }
 ],
 "metadata": {
  "kernelspec": {
   "display_name": "Python 3",
   "language": "python",
   "name": "python3"
  },
  "language_info": {
   "codemirror_mode": {
    "name": "ipython",
    "version": 3
   },
   "file_extension": ".py",
   "mimetype": "text/x-python",
   "name": "python",
   "nbconvert_exporter": "python",
   "pygments_lexer": "ipython3",
   "version": "3.9.2"
  }
 },
 "nbformat": 4,
 "nbformat_minor": 5
}
