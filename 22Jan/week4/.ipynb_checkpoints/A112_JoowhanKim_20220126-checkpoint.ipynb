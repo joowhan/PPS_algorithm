{
 "cells": [
  {
   "cell_type": "code",
   "execution_count": 5,
   "id": "8acbdb4c",
   "metadata": {},
   "outputs": [
    {
     "name": "stdout",
     "output_type": "stream",
     "text": [
      "10 3\n",
      "20 8\n",
      "40 7\n",
      "60 4\n"
     ]
    },
    {
     "data": {
      "text/plain": [
       "20"
      ]
     },
     "execution_count": 5,
     "metadata": {},
     "output_type": "execute_result"
    }
   ],
   "source": [
    "#wrong\n",
    "guitar, brand = map(int, input().split())\n",
    "min_price = []\n",
    "sets_line = []\n",
    "indi_line = []\n",
    "for i in range(brand):\n",
    "    sets, line = map(int, input().split())\n",
    "    \n",
    "    indi = line*guitar\n",
    "    if sets>indi:\n",
    "        min_price.append(indi)\n",
    "    else:\n",
    "        min_price.append(sets)\n",
    "min(min_price)"
   ]
  },
  {
   "cell_type": "code",
   "execution_count": 18,
   "id": "e366ce41",
   "metadata": {},
   "outputs": [
    {
     "name": "stdout",
     "output_type": "stream",
     "text": [
      "9 3\n",
      "15 8\n",
      "3 9\n",
      "9 16\n",
      "6\n"
     ]
    }
   ],
   "source": [
    "#wrong\n",
    "guitar, brand = map(int, input().split())\n",
    "sets_line = []\n",
    "indi_line = []\n",
    "price = 0\n",
    "for i in range(brand):\n",
    "    sets, line = map(int, input().split())\n",
    "    sets_line.append(sets)\n",
    "    indi_line.append(line)\n",
    "while guitar >0:\n",
    "    #print(guitar)\n",
    "    if guitar >=6 and (6*min(indi_line)) > min(sets_line):\n",
    "        guitar -=6\n",
    "        price += min(sets_line)\n",
    "        #print(price)\n",
    "    elif (guitar*min(indi_line)) > min(sets_line):\n",
    "        guitar -=6\n",
    "        price += min(sets_line)\n",
    "    else:\n",
    "        price += (min(indi_line) * guitar)\n",
    "        guitar = 0\n",
    "print(price)"
   ]
  },
  {
   "cell_type": "code",
   "execution_count": 16,
   "id": "f00cc952",
   "metadata": {},
   "outputs": [
    {
     "data": {
      "text/plain": [
       "2"
      ]
     },
     "execution_count": 16,
     "metadata": {},
     "output_type": "execute_result"
    }
   ],
   "source": [
    "import sys, math\n",
    "input = sys.stdin.readline\n",
    "\n",
    "INF = float('inf')\n",
    "n,m = map(int,input().split())\n",
    "bundle,unit = INF,INF\n",
    "for _ in range(m):\n",
    "    a,b = map(int,input().split())\n",
    "    bundle = min(bundle,a)\n",
    "    unit = min(unit, b)\n",
    "    \n",
    "if bundle > unit*6:\n",
    "    print(unit*n)\n",
    "elif bundle < n%6*unit:\n",
    "    print(bundle*math.ceil(n/6))\n",
    "else:\n",
    "    print(bundle*(n//6)+unit*(n%6))"
   ]
  },
  {
   "cell_type": "code",
   "execution_count": 14,
   "id": "6c59c23a",
   "metadata": {},
   "outputs": [
    {
     "data": {
      "text/plain": [
       "36"
      ]
     },
     "execution_count": 14,
     "metadata": {},
     "output_type": "execute_result"
    }
   ],
   "source": [
    "price"
   ]
  },
  {
   "cell_type": "code",
   "execution_count": null,
   "id": "e7334a0d",
   "metadata": {},
   "outputs": [],
   "source": [
    "7 2\n",
    "10 3\n",
    "12 2"
   ]
  }
 ],
 "metadata": {
  "kernelspec": {
   "display_name": "Python 3",
   "language": "python",
   "name": "python3"
  },
  "language_info": {
   "codemirror_mode": {
    "name": "ipython",
    "version": 3
   },
   "file_extension": ".py",
   "mimetype": "text/x-python",
   "name": "python",
   "nbconvert_exporter": "python",
   "pygments_lexer": "ipython3",
   "version": "3.9.2"
  }
 },
 "nbformat": 4,
 "nbformat_minor": 5
}
