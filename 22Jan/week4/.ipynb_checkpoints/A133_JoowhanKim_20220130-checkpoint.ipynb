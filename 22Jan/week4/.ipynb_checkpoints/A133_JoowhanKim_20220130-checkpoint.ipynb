{
 "cells": [
  {
   "cell_type": "code",
   "execution_count": 27,
   "id": "c6c1239d",
   "metadata": {},
   "outputs": [
    {
     "data": {
      "text/plain": [
       "'Capitalize The Title'"
      ]
     },
     "execution_count": 27,
     "metadata": {},
     "output_type": "execute_result"
    }
   ],
   "source": [
    "title = \"capiTalIze tHe titLe\"\n",
    "title = title.lower()\n",
    "lis = title.split()\n",
    "result =[]\n",
    "for word in lis:\n",
    "    result.append(word[0].upper()+word[1:])\n",
    "    #result.append(word)\n",
    "' '.join(result)"
   ]
  },
  {
   "cell_type": "code",
   "execution_count": 28,
   "id": "efa22fa8",
   "metadata": {},
   "outputs": [],
   "source": [
    "class Solution(object):\n",
    "    def capitalizeTitle(self, title):\n",
    "        \"\"\"\n",
    "        :type title: str\n",
    "        :rtype: str\n",
    "        \"\"\"\n",
    "        title = title.lower()\n",
    "        lis = title.split()\n",
    "        result =[]\n",
    "        for word in lis:\n",
    "            if len(word)>2:\n",
    "                result.append(word[0].upper()+word[1:])\n",
    "            else:\n",
    "                result.append(word)\n",
    "        return ' '.join(result)"
   ]
  },
  {
   "cell_type": "code",
   "execution_count": null,
   "id": "c1d42590",
   "metadata": {},
   "outputs": [],
   "source": []
  }
 ],
 "metadata": {
  "kernelspec": {
   "display_name": "Python 3",
   "language": "python",
   "name": "python3"
  },
  "language_info": {
   "codemirror_mode": {
    "name": "ipython",
    "version": 3
   },
   "file_extension": ".py",
   "mimetype": "text/x-python",
   "name": "python",
   "nbconvert_exporter": "python",
   "pygments_lexer": "ipython3",
   "version": "3.9.2"
  }
 },
 "nbformat": 4,
 "nbformat_minor": 5
}
