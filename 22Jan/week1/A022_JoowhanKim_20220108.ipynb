{
 "cells": [
  {
   "cell_type": "code",
   "execution_count": 2,
   "id": "1e3fa38c",
   "metadata": {},
   "outputs": [
    {
     "name": "stdout",
     "output_type": "stream",
     "text": [
      "3\n",
      "40 40 40\n",
      "M 45\n"
     ]
    }
   ],
   "source": [
    "import sys\n",
    "n = int(input())\n",
    "time = list(map(int, input().split()))\n",
    "y =0\n",
    "m =0\n",
    "for i in time:\n",
    "    y += (i//30+1)*10\n",
    "    m += (i//60+1)*15\n",
    "\n",
    "if m==y:\n",
    "    print(\"Y M\",m)\n",
    "elif m >y:\n",
    "    print(\"Y\", y)\n",
    "else:\n",
    "    print(\"M\", m)"
   ]
  },
  {
   "cell_type": "code",
   "execution_count": null,
   "id": "17c633d1",
   "metadata": {},
   "outputs": [],
   "source": []
  }
 ],
 "metadata": {
  "kernelspec": {
   "display_name": "Python 3",
   "language": "python",
   "name": "python3"
  },
  "language_info": {
   "codemirror_mode": {
    "name": "ipython",
    "version": 3
   },
   "file_extension": ".py",
   "mimetype": "text/x-python",
   "name": "python",
   "nbconvert_exporter": "python",
   "pygments_lexer": "ipython3",
   "version": "3.9.2"
  }
 },
 "nbformat": 4,
 "nbformat_minor": 5
}
