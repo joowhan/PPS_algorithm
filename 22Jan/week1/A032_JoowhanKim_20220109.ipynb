{
 "cells": [
  {
   "cell_type": "code",
   "execution_count": 2,
   "id": "adc0aff6",
   "metadata": {},
   "outputs": [
    {
     "name": "stdout",
     "output_type": "stream",
     "text": [
      "2\n",
      "1\n",
      "3\n",
      "6\n",
      "2\n",
      "10\n",
      "220\n"
     ]
    }
   ],
   "source": [
    "T = int(input())\n",
    "for _ in range(T):\n",
    "    floor = int(input())\n",
    "    room = int(input())\n",
    "    floor0 = [x for x in range(1, room+1)]\n",
    "    for k in range(floor):  \n",
    "        for i in range(1, room):  \n",
    "            floor0[i] += floor0[i-1] \n",
    "    print(floor0[-1])  "
   ]
  },
  {
   "cell_type": "code",
   "execution_count": null,
   "id": "6515fe9a",
   "metadata": {},
   "outputs": [],
   "source": []
  }
 ],
 "metadata": {
  "kernelspec": {
   "display_name": "Python 3",
   "language": "python",
   "name": "python3"
  },
  "language_info": {
   "codemirror_mode": {
    "name": "ipython",
    "version": 3
   },
   "file_extension": ".py",
   "mimetype": "text/x-python",
   "name": "python",
   "nbconvert_exporter": "python",
   "pygments_lexer": "ipython3",
   "version": "3.9.2"
  }
 },
 "nbformat": 4,
 "nbformat_minor": 5
}
