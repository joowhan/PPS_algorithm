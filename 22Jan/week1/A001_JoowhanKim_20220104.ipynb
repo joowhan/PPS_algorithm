{
 "cells": [
  {
   "cell_type": "code",
   "execution_count": 1,
   "id": "17a79daa",
   "metadata": {},
   "outputs": [],
   "source": [
    "class Solution(object):\n",
    "    def findContentChildren(self, g, s):\n",
    "        \"\"\"\n",
    "        :type g: List[int]\n",
    "        :type s: List[int]\n",
    "        :rtype: int\n",
    "        \"\"\"\n",
    "        #g = 아이가 가질 수 있는 쿠키의 최소 사이즈\n",
    "        #s = 각각의 쿠키는 s[j] 만큼의 size\n",
    "        #sort를 하지 않으면 error 왜??\n",
    "        g.sort(reverse=True)\n",
    "        s.sort(reverse=True)\n",
    "        a = 0 \n",
    "        last_ind = 0\n",
    "        for i in range(len(g)):\n",
    "            \n",
    "            #if a == len(s): break\n",
    "                \n",
    "            for j in range(last_ind, len(s)):\n",
    "                if g[i] <= s[j]:\n",
    "                    a = a+1\n",
    "                    del s[j]\n",
    "                    break\n",
    "        return a"
   ]
  },
  {
   "cell_type": "code",
   "execution_count": 7,
   "id": "2c63f075",
   "metadata": {},
   "outputs": [
    {
     "data": {
      "text/plain": [
       "1"
      ]
     },
     "execution_count": 7,
     "metadata": {},
     "output_type": "execute_result"
    }
   ],
   "source": [
    "assign = Solution()\n",
    "g = [1,2,3]\n",
    "s = [3]\n",
    "assign.findContentChildren(g,s)"
   ]
  },
  {
   "cell_type": "code",
   "execution_count": null,
   "id": "4c72b923",
   "metadata": {},
   "outputs": [],
   "source": []
  }
 ],
 "metadata": {
  "kernelspec": {
   "display_name": "Python 3",
   "language": "python",
   "name": "python3"
  },
  "language_info": {
   "codemirror_mode": {
    "name": "ipython",
    "version": 3
   },
   "file_extension": ".py",
   "mimetype": "text/x-python",
   "name": "python",
   "nbconvert_exporter": "python",
   "pygments_lexer": "ipython3",
   "version": "3.9.2"
  }
 },
 "nbformat": 4,
 "nbformat_minor": 5
}
