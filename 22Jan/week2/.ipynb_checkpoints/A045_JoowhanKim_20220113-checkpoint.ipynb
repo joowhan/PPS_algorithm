{
 "cells": [
  {
   "cell_type": "code",
   "execution_count": 4,
   "id": "13c54163",
   "metadata": {},
   "outputs": [
    {
     "name": "stdout",
     "output_type": "stream",
     "text": [
      "HELLO\n"
     ]
    }
   ],
   "source": [
    "sen = input()\n",
    "sen = sen.lower()"
   ]
  },
  {
   "cell_type": "code",
   "execution_count": 20,
   "id": "716d4a64",
   "metadata": {},
   "outputs": [],
   "source": [
    "#첫번째가 key 안에 있는지 보고 없다면 key와 value를 추가\n",
    "result ={}\n",
    "count = 0\n",
    "for i in range(len(sen)):\n",
    "    #print(sen[i])\n",
    "    if sen[i] not in result.keys():\n",
    "        #print(\"wow\")\n",
    "        result[sen[i]] = 1\n",
    "    else:\n",
    "        result[sen[i]] += 1"
   ]
  },
  {
   "cell_type": "code",
   "execution_count": 21,
   "id": "0a0320d8",
   "metadata": {},
   "outputs": [
    {
     "name": "stdout",
     "output_type": "stream",
     "text": [
      "L\n"
     ]
    }
   ],
   "source": [
    "m = max(result.values())\n",
    "for i in result:\n",
    "    if result[i] == m:\n",
    "        count +=1\n",
    "if count >1:\n",
    "    print('?')\n",
    "#max_key = max(a_dictionary, key=a_dictionary.get)\n",
    "else:\n",
    "    max_key = max(result, key=result.get)\n",
    "    print(max_key.upper())"
   ]
  },
  {
   "cell_type": "code",
   "execution_count": null,
   "id": "5dc52568",
   "metadata": {},
   "outputs": [],
   "source": []
  }
 ],
 "metadata": {
  "kernelspec": {
   "display_name": "Python 3",
   "language": "python",
   "name": "python3"
  },
  "language_info": {
   "codemirror_mode": {
    "name": "ipython",
    "version": 3
   },
   "file_extension": ".py",
   "mimetype": "text/x-python",
   "name": "python",
   "nbconvert_exporter": "python",
   "pygments_lexer": "ipython3",
   "version": "3.9.2"
  }
 },
 "nbformat": 4,
 "nbformat_minor": 5
}
