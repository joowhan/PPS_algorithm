{
 "cells": [
  {
   "cell_type": "code",
   "execution_count": 27,
   "id": "a6e95443",
   "metadata": {},
   "outputs": [
    {
     "data": {
      "text/plain": [
       "90"
      ]
     },
     "execution_count": 27,
     "metadata": {},
     "output_type": "execute_result"
    }
   ],
   "source": [
    "chr(ord('Z'))\n",
    "ord('C')+23"
   ]
  },
  {
   "cell_type": "code",
   "execution_count": 29,
   "id": "245b2b20",
   "metadata": {},
   "outputs": [
    {
     "name": "stdout",
     "output_type": "stream",
     "text": [
      "FURDWLD\n",
      "CROATIA\n"
     ]
    }
   ],
   "source": [
    "sen = input()\n",
    "result =''\n",
    "for i in range(len(sen)):\n",
    "    temp = chr(ord(sen[i])-3)\n",
    "    if ord(sen[i]) <= 67:\n",
    "        temp = chr(ord(sen[i])+23)\n",
    "    result += temp\n",
    "    temp = ''\n",
    "print(result)"
   ]
  },
  {
   "cell_type": "code",
   "execution_count": null,
   "id": "6e7456f5",
   "metadata": {},
   "outputs": [],
   "source": []
  }
 ],
 "metadata": {
  "kernelspec": {
   "display_name": "Python 3",
   "language": "python",
   "name": "python3"
  },
  "language_info": {
   "codemirror_mode": {
    "name": "ipython",
    "version": 3
   },
   "file_extension": ".py",
   "mimetype": "text/x-python",
   "name": "python",
   "nbconvert_exporter": "python",
   "pygments_lexer": "ipython3",
   "version": "3.9.2"
  }
 },
 "nbformat": 4,
 "nbformat_minor": 5
}
