{
 "cells": [
  {
   "cell_type": "code",
   "execution_count": 2,
   "id": "2cc6fe41",
   "metadata": {},
   "outputs": [
    {
     "name": "stdout",
     "output_type": "stream",
     "text": [
      "1\n"
     ]
    }
   ],
   "source": [
    "nums = [2,2,1]\n",
    "dic = {}\n",
    "for n in nums:\n",
    "    if n in dic.keys():\n",
    "        dic[n] +=1\n",
    "    else:\n",
    "        dic[n] = 1\n",
    "for key, value in dic.items():\n",
    "    if value ==1:\n",
    "        print(key)"
   ]
  },
  {
   "cell_type": "code",
   "execution_count": 3,
   "id": "657a0c80",
   "metadata": {},
   "outputs": [],
   "source": [
    "class Solution(object):\n",
    "    def singleNumber(self, nums):\n",
    "        \"\"\"\n",
    "        :type nums: List[int]\n",
    "        :rtype: int\n",
    "        \"\"\"\n",
    "        dic = {}\n",
    "        for n in nums:\n",
    "            if n in dic.keys():\n",
    "                dic[n] +=1\n",
    "            else:\n",
    "                dic[n] = 1\n",
    "        for key, value in dic.items():\n",
    "            if value ==1:\n",
    "                return key"
   ]
  },
  {
   "cell_type": "code",
   "execution_count": null,
   "id": "da03b06c",
   "metadata": {},
   "outputs": [],
   "source": []
  }
 ],
 "metadata": {
  "kernelspec": {
   "display_name": "Python 3",
   "language": "python",
   "name": "python3"
  },
  "language_info": {
   "codemirror_mode": {
    "name": "ipython",
    "version": 3
   },
   "file_extension": ".py",
   "mimetype": "text/x-python",
   "name": "python",
   "nbconvert_exporter": "python",
   "pygments_lexer": "ipython3",
   "version": "3.9.2"
  }
 },
 "nbformat": 4,
 "nbformat_minor": 5
}
