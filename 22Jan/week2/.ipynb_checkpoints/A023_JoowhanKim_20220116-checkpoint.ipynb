{
 "cells": [
  {
   "cell_type": "code",
   "execution_count": 22,
   "id": "354bf977",
   "metadata": {},
   "outputs": [
    {
     "name": "stdout",
     "output_type": "stream",
     "text": [
      "2\n"
     ]
    }
   ],
   "source": [
    "num = 38\n",
    "result =0\n",
    "temp =0\n",
    "while 1:\n",
    "    str_num = str(num)\n",
    "    for i in range(len(str_num)):\n",
    "        #print(str_num[i])\n",
    "        temp+=int(str_num[i])\n",
    "        #print(temp)\n",
    "    #11\n",
    "    result +=temp\n",
    "    #print(result)\n",
    "    num = temp\n",
    "    if temp <10: break\n",
    "    temp = 0\n",
    "print(num)"
   ]
  },
  {
   "cell_type": "code",
   "execution_count": 7,
   "id": "17c38bd6",
   "metadata": {},
   "outputs": [],
   "source": [
    "n = str(38)"
   ]
  },
  {
   "cell_type": "code",
   "execution_count": null,
   "id": "3c5b2aaa",
   "metadata": {},
   "outputs": [],
   "source": []
  },
  {
   "cell_type": "code",
   "execution_count": null,
   "id": "044b2ac2",
   "metadata": {},
   "outputs": [],
   "source": []
  }
 ],
 "metadata": {
  "kernelspec": {
   "display_name": "Python 3",
   "language": "python",
   "name": "python3"
  },
  "language_info": {
   "codemirror_mode": {
    "name": "ipython",
    "version": 3
   },
   "file_extension": ".py",
   "mimetype": "text/x-python",
   "name": "python",
   "nbconvert_exporter": "python",
   "pygments_lexer": "ipython3",
   "version": "3.9.2"
  }
 },
 "nbformat": 4,
 "nbformat_minor": 5
}
