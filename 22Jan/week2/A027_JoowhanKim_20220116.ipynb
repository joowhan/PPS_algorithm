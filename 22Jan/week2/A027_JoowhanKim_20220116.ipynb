{
 "cells": [
  {
   "cell_type": "code",
   "execution_count": 32,
   "id": "14d95e9b",
   "metadata": {},
   "outputs": [],
   "source": [
    "##Failed Version\n",
    "number = 4177252841\n",
    "k =4\n",
    "number = list(str(number))\n",
    "number_s = sorted(number)\n",
    "for i in range(k):\n",
    "    number.remove(number_s[i])\n",
    "answer = int(''.join(number))\n",
    "print(answer)"
   ]
  },
  {
   "cell_type": "code",
   "execution_count": 36,
   "id": "b194376b",
   "metadata": {},
   "outputs": [],
   "source": [
    "##Greedy Solution\n",
    "def solution(number, k):\n",
    "    answer = ''\n",
    "    stk = []\n",
    "    for i in number:\n",
    "        while stk and stk[-1] < i and k>0:\n",
    "            k-=1\n",
    "            stk.pop()\n",
    "        stk.append(i)\n",
    "    return \"\".join(stk[:len(stk)-k])"
   ]
  },
  {
   "cell_type": "code",
   "execution_count": null,
   "id": "6fb3e8c3",
   "metadata": {},
   "outputs": [],
   "source": []
  }
 ],
 "metadata": {
  "kernelspec": {
   "display_name": "Python 3",
   "language": "python",
   "name": "python3"
  },
  "language_info": {
   "codemirror_mode": {
    "name": "ipython",
    "version": 3
   },
   "file_extension": ".py",
   "mimetype": "text/x-python",
   "name": "python",
   "nbconvert_exporter": "python",
   "pygments_lexer": "ipython3",
   "version": "3.9.2"
  }
 },
 "nbformat": 4,
 "nbformat_minor": 5
}
