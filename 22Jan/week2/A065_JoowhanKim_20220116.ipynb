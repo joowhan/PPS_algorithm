{
 "cells": [
  {
   "cell_type": "code",
   "execution_count": 22,
   "id": "b8be8c98",
   "metadata": {},
   "outputs": [
    {
     "name": "stdout",
     "output_type": "stream",
     "text": [
      "3\n",
      "1 2\n",
      "3 4\n",
      "3 1\n",
      "1 2\n",
      "3 1\n",
      "3 4\n"
     ]
    }
   ],
   "source": [
    "import sys\n",
    "num = int(input())\n",
    "xylist =[]\n",
    "\n",
    "for i in range(num):\n",
    "    [x,y] = map(int, input().split())\n",
    "    xylist.append([x,y])\n",
    "    \n",
    "xylist.sort()\n",
    "for i in range(num):\n",
    "    print(xylist[i][0],xylist[i][1])"
   ]
  },
  {
   "cell_type": "code",
   "execution_count": 16,
   "id": "1e14db22",
   "metadata": {},
   "outputs": [
    {
     "data": {
      "text/plain": [
       "[[1, 2], [3, 1], [3, 4]]"
      ]
     },
     "execution_count": 16,
     "metadata": {},
     "output_type": "execute_result"
    }
   ],
   "source": [
    "xylist"
   ]
  },
  {
   "cell_type": "code",
   "execution_count": null,
   "id": "fb45820f",
   "metadata": {},
   "outputs": [],
   "source": []
  }
 ],
 "metadata": {
  "kernelspec": {
   "display_name": "Python 3",
   "language": "python",
   "name": "python3"
  },
  "language_info": {
   "codemirror_mode": {
    "name": "ipython",
    "version": 3
   },
   "file_extension": ".py",
   "mimetype": "text/x-python",
   "name": "python",
   "nbconvert_exporter": "python",
   "pygments_lexer": "ipython3",
   "version": "3.9.2"
  }
 },
 "nbformat": 4,
 "nbformat_minor": 5
}
