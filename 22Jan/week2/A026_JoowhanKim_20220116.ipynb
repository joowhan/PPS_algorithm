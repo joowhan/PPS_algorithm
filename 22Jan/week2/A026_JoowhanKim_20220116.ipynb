{
 "cells": [
  {
   "cell_type": "code",
   "execution_count": 6,
   "id": "2ff181cf",
   "metadata": {},
   "outputs": [
    {
     "name": "stdout",
     "output_type": "stream",
     "text": [
      "3\n"
     ]
    }
   ],
   "source": [
    "x = 12\n",
    "answer = True\n",
    "str_num = str(x)\n",
    "s =0\n",
    "for i in range(len(str_num)):\n",
    "    s += int(str_num[i])\n",
    "print(s)\n",
    "if x%s ==0:\n",
    "    answer = True\n",
    "else:\n",
    "    answer = False\n",
    "#return answer"
   ]
  },
  {
   "cell_type": "code",
   "execution_count": 7,
   "id": "fb27eb78",
   "metadata": {},
   "outputs": [
    {
     "data": {
      "text/plain": [
       "True"
      ]
     },
     "execution_count": 7,
     "metadata": {},
     "output_type": "execute_result"
    }
   ],
   "source": [
    "answer"
   ]
  },
  {
   "cell_type": "code",
   "execution_count": null,
   "id": "b8799a1a",
   "metadata": {},
   "outputs": [],
   "source": []
  }
 ],
 "metadata": {
  "kernelspec": {
   "display_name": "Python 3",
   "language": "python",
   "name": "python3"
  },
  "language_info": {
   "codemirror_mode": {
    "name": "ipython",
    "version": 3
   },
   "file_extension": ".py",
   "mimetype": "text/x-python",
   "name": "python",
   "nbconvert_exporter": "python",
   "pygments_lexer": "ipython3",
   "version": "3.9.2"
  }
 },
 "nbformat": 4,
 "nbformat_minor": 5
}
