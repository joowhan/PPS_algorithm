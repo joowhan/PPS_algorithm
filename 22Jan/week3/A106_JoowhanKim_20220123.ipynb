{
 "cells": [
  {
   "cell_type": "code",
   "execution_count": 7,
   "id": "059cd8dc",
   "metadata": {},
   "outputs": [
    {
     "name": "stdout",
     "output_type": "stream",
     "text": [
      "5\n",
      "2/2\n"
     ]
    }
   ],
   "source": [
    "n = int(input())\n",
    "element = 0\n",
    "line =0\n",
    "while n > element:\n",
    "    line +=1\n",
    "    element += line\n",
    "diff = element - n\n",
    "if line%2 == 0:\n",
    "    top = line - diff\n",
    "    bottom = diff + 1\n",
    "else:\n",
    "    top = diff + 1\n",
    "    bottom = line - diff\n",
    "\n",
    "print(\"%d/%d\"%(top,bottom))"
   ]
  },
  {
   "cell_type": "code",
   "execution_count": 5,
   "id": "d636efb6",
   "metadata": {},
   "outputs": [
    {
     "data": {
      "text/plain": [
       "6"
      ]
     },
     "execution_count": 5,
     "metadata": {},
     "output_type": "execute_result"
    }
   ],
   "source": [
    "element"
   ]
  },
  {
   "cell_type": "code",
   "execution_count": 6,
   "id": "1b9850b7",
   "metadata": {},
   "outputs": [
    {
     "data": {
      "text/plain": [
       "3"
      ]
     },
     "execution_count": 6,
     "metadata": {},
     "output_type": "execute_result"
    }
   ],
   "source": [
    "line"
   ]
  },
  {
   "cell_type": "code",
   "execution_count": null,
   "id": "a89f4f93",
   "metadata": {},
   "outputs": [],
   "source": []
  }
 ],
 "metadata": {
  "kernelspec": {
   "display_name": "Python 3",
   "language": "python",
   "name": "python3"
  },
  "language_info": {
   "codemirror_mode": {
    "name": "ipython",
    "version": 3
   },
   "file_extension": ".py",
   "mimetype": "text/x-python",
   "name": "python",
   "nbconvert_exporter": "python",
   "pygments_lexer": "ipython3",
   "version": "3.9.2"
  }
 },
 "nbformat": 4,
 "nbformat_minor": 5
}
