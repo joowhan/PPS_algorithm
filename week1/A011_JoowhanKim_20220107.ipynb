{
 "cells": [
  {
   "cell_type": "code",
   "execution_count": 1,
   "id": "734c8985",
   "metadata": {},
   "outputs": [],
   "source": [
    "def solution(N, stages):\n",
    "    # N : stages\n",
    "    # stages : 사용자가 멈춰있는 stage들\n",
    "    #len(stages) = 총 사용자\n",
    "    '''\n",
    "    먼저 같은 숫자가 몇 개 인지 파악한 후 list에 저장\n",
    "    1번을 보고 그 수를 num[0] 에 저장하는 것\n",
    "    '''\n",
    "    answer = []\n",
    "    fail ={}\n",
    "    users = len(stages)\n",
    "    for stage in range(1, N+1):\n",
    "        if users != 0:\n",
    "            count = stages.count(stage)\n",
    "            fail[stage] = count/users\n",
    "            users -= count\n",
    "        else:\n",
    "            fail[stage] =0\n",
    "    answer = sorted(fail, key = lambda x: fail[x], reverse = True)\n",
    "    return answer"
   ]
  },
  {
   "cell_type": "code",
   "execution_count": 25,
   "id": "d093c587",
   "metadata": {},
   "outputs": [
    {
     "data": {
      "text/plain": [
       "0.125"
      ]
     },
     "execution_count": 25,
     "metadata": {},
     "output_type": "execute_result"
    }
   ],
   "source": [
    "stages.count(stages[1])/users"
   ]
  },
  {
   "cell_type": "code",
   "execution_count": 21,
   "id": "38315adc",
   "metadata": {},
   "outputs": [
    {
     "data": {
      "text/plain": [
       "[(0, 0.375),\n",
       " (2, 0.375),\n",
       " (4, 0.375),\n",
       " (6, 0.25),\n",
       " (7, 0.25),\n",
       " (1, 0.125),\n",
       " (3, 0.125),\n",
       " (5, 0.125)]"
      ]
     },
     "execution_count": 21,
     "metadata": {},
     "output_type": "execute_result"
    }
   ],
   "source": [
    "sorted_dict"
   ]
  },
  {
   "cell_type": "code",
   "execution_count": null,
   "id": "1aab0782",
   "metadata": {},
   "outputs": [],
   "source": []
  }
 ],
 "metadata": {
  "kernelspec": {
   "display_name": "Python 3",
   "language": "python",
   "name": "python3"
  },
  "language_info": {
   "codemirror_mode": {
    "name": "ipython",
    "version": 3
   },
   "file_extension": ".py",
   "mimetype": "text/x-python",
   "name": "python",
   "nbconvert_exporter": "python",
   "pygments_lexer": "ipython3",
   "version": "3.9.2"
  }
 },
 "nbformat": 4,
 "nbformat_minor": 5
}
