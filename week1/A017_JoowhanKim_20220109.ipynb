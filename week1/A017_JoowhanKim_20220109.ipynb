{
 "cells": [
  {
   "cell_type": "code",
   "execution_count": 180,
   "id": "1b12ebdb",
   "metadata": {},
   "outputs": [
    {
     "name": "stdout",
     "output_type": "stream",
     "text": [
      "9999\n",
      "2\n"
     ]
    }
   ],
   "source": [
    "import math\n",
    "room_num = input()\n",
    "room = [0 for _ in range(10)]\n",
    "for i in range(len(room_num)):\n",
    "    a = int(room_num[i])\n",
    "    room[a] = room[a] + 1\n",
    "room[6] = math.ceil((room[6] + room[9])/2)\n",
    "room[9] = room[6]\n",
    "print(max(room))"
   ]
  },
  {
   "cell_type": "code",
   "execution_count": 138,
   "id": "2536ea70",
   "metadata": {},
   "outputs": [],
   "source": [
    "room_num = input()\n",
    "result = 1\n",
    "a = [0,1,2,3,4,5,6,7,8,9]\n",
    "for i in range(len(room_num)):\n",
    "    if (room_num[i] =='9') or (room_num[i] == '6'):\n",
    "        print(room_num[i])\n",
    "        if room_num[i] in a:\n",
    "            a.remove(room_num[i])\n",
    "        elif 9 in a:\n",
    "            a.remove(9)\n",
    "        elif 6 in a:\n",
    "            a.remove(6)    \n",
    "        else:\n",
    "            result = result +1\n",
    "\n",
    "    elif room_num[i] in a:\n",
    "        a.remove(room_num[i])\n",
    "    else:\n",
    "        result = result+1\n"
   ]
  }
 ],
 "metadata": {
  "kernelspec": {
   "display_name": "Python 3",
   "language": "python",
   "name": "python3"
  },
  "language_info": {
   "codemirror_mode": {
    "name": "ipython",
    "version": 3
   },
   "file_extension": ".py",
   "mimetype": "text/x-python",
   "name": "python",
   "nbconvert_exporter": "python",
   "pygments_lexer": "ipython3",
   "version": "3.9.2"
  }
 },
 "nbformat": 4,
 "nbformat_minor": 5
}
